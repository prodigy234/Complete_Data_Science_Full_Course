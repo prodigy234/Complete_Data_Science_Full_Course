{
 "cells": [
  {
   "cell_type": "markdown",
   "id": "c4e2aa63",
   "metadata": {},
   "source": [
    "Python Match\n",
    "\n",
    "The match statement is used to perform different actions based on different conditions."
   ]
  },
  {
   "cell_type": "markdown",
   "id": "a44381fa",
   "metadata": {},
   "source": [
    "The Python Match Statement\n",
    "\n",
    "Instead of writing many if..else statements, you can use the match statement.\n",
    "\n",
    "The match statement selects one of many code blocks to be executed."
   ]
  },
  {
   "cell_type": "markdown",
   "id": "5578bb32",
   "metadata": {},
   "source": [
    "Python Syntax\n",
    "\n",
    "match expression:\n",
    "  case x:\n",
    "    code block\n",
    "  case y:\n",
    "    code block\n",
    "  case z:\n",
    "    code block"
   ]
  },
  {
   "cell_type": "markdown",
   "id": "168ae2b1",
   "metadata": {},
   "source": [
    "This is how it works:\n",
    "\n",
    "*   The match expression is evaluated once.\n",
    "*   The value of the expression is compared with the values of each case.\n",
    "*   If there is a match, the associated block of code is executed."
   ]
  },
  {
   "cell_type": "code",
   "execution_count": 3,
   "id": "9fd389fd",
   "metadata": {},
   "outputs": [
    {
     "name": "stdout",
     "output_type": "stream",
     "text": [
      "Tuesday\n"
     ]
    }
   ],
   "source": [
    "# The example below uses the weekday number to print the weekday name:\n",
    "\n",
    "day = 2\n",
    "\n",
    "match day:\n",
    "  case 1:\n",
    "    print(\"Monday\")\n",
    "  case 2:\n",
    "    print(\"Tuesday\")\n",
    "  case 3:\n",
    "    print(\"Wednesday\")\n",
    "  case 4:\n",
    "    print(\"Thursday\")\n",
    "  case 5:\n",
    "    print(\"Friday\")\n",
    "  case 6:\n",
    "    print(\"Saturday\")\n",
    "  case 7:\n",
    "    print(\"Sunday\")"
   ]
  },
  {
   "cell_type": "markdown",
   "id": "442318f9",
   "metadata": {},
   "source": [
    "Default Value\n",
    "\n",
    "Use the underscore character _ as the last case value if you want a code block to execute when there are not other matches:"
   ]
  },
  {
   "cell_type": "code",
   "execution_count": null,
   "id": "34e557c6",
   "metadata": {},
   "outputs": [
    {
     "name": "stdout",
     "output_type": "stream",
     "text": [
      "Looking forward to the Weekend\n"
     ]
    }
   ],
   "source": [
    "day = 4\n",
    "\n",
    "match day:\n",
    "  case 6:\n",
    "    print(\"Today is Saturday\")\n",
    "  case 7:\n",
    "    print(\"Today is Sunday\")\n",
    "  case _:\n",
    "    print(\"Looking forward to the Weekend\")\n",
    "\n",
    "# The value _ will always match, so it is important to place it as the last case to make it beahave as a default case."
   ]
  },
  {
   "cell_type": "markdown",
   "id": "eea74af0",
   "metadata": {},
   "source": [
    "Combine Values\n",
    "\n",
    "Use the pipe character | as an or operator in the case evaluation to check for more than one value match in one case:"
   ]
  },
  {
   "cell_type": "code",
   "execution_count": 4,
   "id": "7bb025ba",
   "metadata": {},
   "outputs": [
    {
     "name": "stdout",
     "output_type": "stream",
     "text": [
      "I love weekends!\n"
     ]
    }
   ],
   "source": [
    "day = 7\n",
    "match day:\n",
    "  case 1 | 2 | 3 | 4 | 5:\n",
    "    print(\"Today is a weekday\")\n",
    "  case 6 | 7:\n",
    "    print(\"I love weekends!\")"
   ]
  },
  {
   "cell_type": "markdown",
   "id": "bab4ceef",
   "metadata": {},
   "source": [
    "If Statements as Guards\n",
    "\n",
    "You can add if statements in the case evaluation as an extra condition-check:"
   ]
  },
  {
   "cell_type": "code",
   "execution_count": 3,
   "id": "fd511ac1",
   "metadata": {},
   "outputs": [
    {
     "name": "stdout",
     "output_type": "stream",
     "text": [
      "A weekday in May\n"
     ]
    }
   ],
   "source": [
    "month = 5\n",
    "day = 4\n",
    "match day:\n",
    "  case 1 | 2 | 3 | 4 | 5 if month == 4:\n",
    "    print(\"A weekday in April\")\n",
    "  case 1 | 2 | 3 | 4 | 5 if month == 5:\n",
    "    print(\"A weekday in May\")\n",
    "  case _:\n",
    "    print(\"No match\")"
   ]
  }
 ],
 "metadata": {
  "kernelspec": {
   "display_name": "Python 3",
   "language": "python",
   "name": "python3"
  },
  "language_info": {
   "codemirror_mode": {
    "name": "ipython",
    "version": 3
   },
   "file_extension": ".py",
   "mimetype": "text/x-python",
   "name": "python",
   "nbconvert_exporter": "python",
   "pygments_lexer": "ipython3",
   "version": "3.12.7"
  }
 },
 "nbformat": 4,
 "nbformat_minor": 5
}
