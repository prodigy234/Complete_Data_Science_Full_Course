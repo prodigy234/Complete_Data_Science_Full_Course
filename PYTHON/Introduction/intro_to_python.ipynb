{
 "cells": [
  {
   "cell_type": "markdown",
   "id": "fed216f0",
   "metadata": {},
   "source": [
    "PYTHON FUNCTIONS "
   ]
  },
  {
   "cell_type": "markdown",
   "id": "ed0155d0",
   "metadata": {},
   "source": [
    "## print statement\n",
    "It is used output the result in a variable"
   ]
  },
  {
   "cell_type": "code",
   "execution_count": 3,
   "id": "c1e5da4e",
   "metadata": {},
   "outputs": [
    {
     "name": "stdout",
     "output_type": "stream",
     "text": [
      "Hello, World!\n"
     ]
    }
   ],
   "source": [
    "print(\"Hello, World!\")"
   ]
  },
  {
   "cell_type": "markdown",
   "id": "baf8ea8e",
   "metadata": {},
   "source": [
    "## Variables\n",
    "These are where values are stored"
   ]
  },
  {
   "cell_type": "code",
   "execution_count": 5,
   "id": "4e526dfc",
   "metadata": {},
   "outputs": [
    {
     "name": "stdout",
     "output_type": "stream",
     "text": [
      "70\n"
     ]
    }
   ],
   "source": [
    "a = 10\n",
    "b = 7\n",
    "f = a * b\n",
    "print(f)"
   ]
  },
  {
   "cell_type": "markdown",
   "id": "a8fdde00",
   "metadata": {},
   "source": [
    "# Python Indentation\n",
    "\n",
    "Indentation refers to the spaces at the beginning of a code line.\n",
    "\n",
    "Where in other programming languages the indentation in code is for readability only, the indentation in Python is very important.\n",
    "\n",
    "Python uses indentation to indicate a block of code."
   ]
  },
  {
   "cell_type": "code",
   "execution_count": 9,
   "id": "980e2e8a",
   "metadata": {},
   "outputs": [
    {
     "name": "stdout",
     "output_type": "stream",
     "text": [
      "Five is greater than two!\n"
     ]
    }
   ],
   "source": [
    "# Example\n",
    "if 5 > 2:\n",
    "  print(\"Five is greater than two!\")"
   ]
  },
  {
   "cell_type": "markdown",
   "id": "08a6c261",
   "metadata": {},
   "source": [
    "## Comments\n",
    "\n",
    "Python has commenting capability for the purpose of in-code documentation.\n",
    "\n",
    "Comments start with a #, and Python will render the rest of the line as a comment:"
   ]
  },
  {
   "cell_type": "code",
   "execution_count": null,
   "id": "f4e32781",
   "metadata": {},
   "outputs": [
    {
     "name": "stdout",
     "output_type": "stream",
     "text": [
      "70\n",
      "560\n"
     ]
    }
   ],
   "source": [
    "# what each values stands for\n",
    "a = 10\n",
    "b = 7\n",
    "c = 5\n",
    "d = 8\n",
    "\n",
    "\"\"\"\n",
    "cccccccccccccccccccccccccccc\n",
    "vvvvvvvvvvvvvvvvvvvvvvvvvvvv\n",
    "bbbbbbbbbbbbbbbbbbbbbbbbbbb\n",
    "qqqqqqqqqqqqqqqqqqqqqqqqqqq\n",
    "\"\"\"\n",
    "\n",
    "\n",
    "# The mathematical calculations\n",
    "f = a * b\n",
    "g = a * b * d\n",
    "\n",
    "# To get the output\n",
    "print(f)\n",
    "print(g)"
   ]
  },
  {
   "cell_type": "markdown",
   "id": "e5d4c20d",
   "metadata": {},
   "source": [
    "# Creating Vaiables"
   ]
  },
  {
   "cell_type": "code",
   "execution_count": 13,
   "id": "51b54a89",
   "metadata": {},
   "outputs": [
    {
     "name": "stdout",
     "output_type": "stream",
     "text": [
      "6\n",
      "Seun\n"
     ]
    }
   ],
   "source": [
    "x = 6\n",
    "y = 'Seun'\n",
    "print(x)\n",
    "print(y)"
   ]
  },
  {
   "cell_type": "markdown",
   "id": "60de7e63",
   "metadata": {},
   "source": [
    "# Variable Names\n",
    "\n",
    "A variable can have a short name (like x and y) or a more descriptive name (age, carname, total_volume).\n",
    "\n",
    "Rules for Python variables:\n",
    "\n",
    "- A variable name must start with a letter or the underscore character\n",
    "\n",
    "- A variable name cannot start with a number\n",
    "\n",
    "- A variable name can only contain alpha-numeric characters and underscores (A-z, 0-9, and _ )\n",
    "\n",
    "- Variable names are case-sensitive (age, Age and AGE are three different variables)\n",
    "\n",
    "- A variable name cannot be any of the Python keywords."
   ]
  },
  {
   "cell_type": "code",
   "execution_count": null,
   "id": "302978e0",
   "metadata": {},
   "outputs": [],
   "source": [
    "# Example\n",
    "\n",
    "# Legal variable names:\n",
    "\n",
    "myvar = \"John\"\n",
    "my_var = \"John\"\n",
    "_my_var = \"John\"\n",
    "myVar = \"John\"\n",
    "MYVAR = \"John\"\n",
    "myvar2 = \"John\""
   ]
  },
  {
   "cell_type": "code",
   "execution_count": null,
   "id": "bfd6229f",
   "metadata": {},
   "outputs": [],
   "source": [
    "# Example\n",
    "\n",
    "# Illegal variable names:\n",
    "\n",
    "2myvar = \"John\"\n",
    "my-var = \"John\"\n",
    "my var = \"John\""
   ]
  },
  {
   "cell_type": "markdown",
   "id": "bbdeef5a",
   "metadata": {},
   "source": [
    "## Multi Words Variable Names\n",
    "\n",
    "Variable names with more than one word can be difficult to read.\n",
    "\n",
    "There are several techniques you can use to make them more readable:\n",
    "\n",
    "`Camel Case`\n",
    "\n",
    "Each word, except the first, starts with a capital letter:\n",
    "\n",
    "myVariableName = \"John\"\n",
    "\n",
    "`Pascal Case`\n",
    "\n",
    "Each word starts with a capital letter:\n",
    "\n",
    "MyVariableName = \"John\"\n",
    "\n",
    "`Snake Case`\n",
    "\n",
    "Each word is separated by an underscore character:\n",
    "\n",
    "my_variable_name = \"John\"\n"
   ]
  },
  {
   "cell_type": "markdown",
   "id": "110b902c",
   "metadata": {},
   "source": [
    "- Remember that variable names are case-sensitive"
   ]
  },
  {
   "cell_type": "markdown",
   "id": "f5a6f46a",
   "metadata": {},
   "source": [
    "## Python Variables - Assign Multiple Values\n",
    "\n",
    "Many Values to Multiple Variables\n",
    "\n",
    "Python allows you to assign values to multiple variables in one line:"
   ]
  },
  {
   "cell_type": "code",
   "execution_count": 14,
   "id": "808c2527",
   "metadata": {},
   "outputs": [
    {
     "name": "stdout",
     "output_type": "stream",
     "text": [
      "Orange\n",
      "Banana\n",
      "Cherry\n"
     ]
    }
   ],
   "source": [
    "# Example\n",
    "x, y, z = \"Orange\", \"Banana\", \"Cherry\"\n",
    "print(x)\n",
    "print(y)\n",
    "print(z)"
   ]
  },
  {
   "cell_type": "markdown",
   "id": "507e522e",
   "metadata": {},
   "source": [
    "- Note: Make sure the number of variables matches the number of values, or else you will get an error."
   ]
  },
  {
   "cell_type": "markdown",
   "id": "ed6d25d6",
   "metadata": {},
   "source": [
    "## One Value to Multiple Variables\n",
    "\n",
    "And you can assign the same value to multiple variables in one line:"
   ]
  },
  {
   "cell_type": "code",
   "execution_count": 15,
   "id": "6074ebf2",
   "metadata": {},
   "outputs": [
    {
     "name": "stdout",
     "output_type": "stream",
     "text": [
      "Orange\n",
      "Orange\n",
      "Orange\n"
     ]
    }
   ],
   "source": [
    "# Example\n",
    "x = y = z = \"Orange\"\n",
    "\n",
    "print(x)\n",
    "print(y)\n",
    "print(z)"
   ]
  },
  {
   "cell_type": "markdown",
   "id": "1abb3616",
   "metadata": {},
   "source": [
    "## Unpack a Collection\n",
    "\n",
    "If you have a collection of values in a list, tuple etc. Python allows you to extract the values into variables. This is called unpacking."
   ]
  },
  {
   "cell_type": "code",
   "execution_count": null,
   "id": "39446e26",
   "metadata": {},
   "outputs": [
    {
     "name": "stdout",
     "output_type": "stream",
     "text": [
      "banana\n",
      "apple\n",
      "cherry\n"
     ]
    }
   ],
   "source": [
    "# Example\n",
    "# Unpack a list:\n",
    "\n",
    "fruits = [\"apple\", \"banana\", \"cherry\"]\n",
    "x, y, z = fruits\n",
    "print(x)\n",
    "print(y)\n",
    "print(z)\n"
   ]
  },
  {
   "cell_type": "markdown",
   "id": "12e0384b",
   "metadata": {},
   "source": [
    "## Python - Output Variables\n",
    "\n",
    "Output Variables\n",
    "\n",
    "- The Python print() function is often used to output variables."
   ]
  },
  {
   "cell_type": "code",
   "execution_count": 17,
   "id": "45a27f0d",
   "metadata": {},
   "outputs": [
    {
     "name": "stdout",
     "output_type": "stream",
     "text": [
      "Python is awesome\n"
     ]
    }
   ],
   "source": [
    "# Example\n",
    "x = \"Python is awesome\"\n",
    "print(x)"
   ]
  },
  {
   "cell_type": "markdown",
   "id": "a7709c6f",
   "metadata": {},
   "source": [
    "- In the print() function, you output multiple variables, separated by a comma:"
   ]
  },
  {
   "cell_type": "code",
   "execution_count": 19,
   "id": "898e54c2",
   "metadata": {},
   "outputs": [
    {
     "name": "stdout",
     "output_type": "stream",
     "text": [
      "Python is awesome\n"
     ]
    }
   ],
   "source": [
    "# Example\n",
    "x = \"Python\"\n",
    "y = \"is\"\n",
    "z = \"awesome\"\n",
    "print(x, y, z)"
   ]
  },
  {
   "cell_type": "markdown",
   "id": "55d175b4",
   "metadata": {},
   "source": [
    "You can also use the + operator to output multiple variables:"
   ]
  },
  {
   "cell_type": "code",
   "execution_count": 22,
   "id": "9e33cd7f",
   "metadata": {},
   "outputs": [
    {
     "name": "stdout",
     "output_type": "stream",
     "text": [
      "Python is awesome\n"
     ]
    }
   ],
   "source": [
    "# Example\n",
    "x = \"Python \"\n",
    "y = \"is \"\n",
    "z = \"awesome\"\n",
    "print(x + y + z)"
   ]
  },
  {
   "cell_type": "markdown",
   "id": "4c6c900e",
   "metadata": {},
   "source": [
    "- Notice the space character after \"Python \" and \"is \", without them the result would be \"Pythonisawesome\"."
   ]
  },
  {
   "cell_type": "markdown",
   "id": "cb0e8ba4",
   "metadata": {},
   "source": [
    "## Python Data Types\n",
    "\n",
    "Built-in Data Types\n",
    "\n",
    "In programming, data type is an important concept.\n",
    "\n",
    "Variables can store data of different types, and different types can do different things.\n",
    "\n",
    "Python has the following data types built-in by default, in these categories:\n",
    "\n",
    "**Text Type:\tstr**\n",
    "\n",
    "**Numeric Types:\tint, float, complex**\n",
    "\n",
    "**Sequence Types:\tlist, tuple, range**\n",
    "\n",
    "**Mapping Type:\tdict**\n",
    "\n",
    "**Set Types:\tset, frozenset**\n",
    "\n",
    "**Boolean Type:\tbool**\n",
    "\n",
    "**Binary Types:\tbytes, bytearray, memoryview**\n",
    "\n",
    "**None Type:\tNoneType**"
   ]
  },
  {
   "cell_type": "markdown",
   "id": "95484773",
   "metadata": {},
   "source": [
    "### Getting the Data Type\n",
    "\n",
    "You can get the data type of any object by using the type() function:"
   ]
  },
  {
   "cell_type": "code",
   "execution_count": 37,
   "id": "332040b4",
   "metadata": {},
   "outputs": [
    {
     "name": "stdout",
     "output_type": "stream",
     "text": [
      "<class 'int'>\n",
      "<class 'float'>\n",
      "<class 'str'>\n",
      "<class 'bool'>\n"
     ]
    }
   ],
   "source": [
    "# Example\n",
    "\n",
    "# Print the data type of the variable x:\n",
    "\n",
    "a = 4\n",
    "b = 5.86\n",
    "c = 'John'\n",
    "d = True\n",
    "print(type(a))\n",
    "print(type(b))\n",
    "print(type(c))\n",
    "print(type(d))\n"
   ]
  },
  {
   "cell_type": "code",
   "execution_count": 1,
   "id": "0a693368",
   "metadata": {},
   "outputs": [
    {
     "name": "stdout",
     "output_type": "stream",
     "text": [
      "<class 'list'>\n"
     ]
    }
   ],
   "source": [
    "fam = [1.73, 1.68, 1.71, 1.89]\n",
    "print(type(fam))"
   ]
  },
  {
   "cell_type": "code",
   "execution_count": 2,
   "id": "71f2fe7e",
   "metadata": {},
   "outputs": [
    {
     "name": "stdout",
     "output_type": "stream",
     "text": [
      "1.89\n"
     ]
    }
   ],
   "source": [
    "fam = [1.73, 1.68, 1.71, 1.89]\n",
    "print(max(fam))"
   ]
  },
  {
   "cell_type": "code",
   "execution_count": 3,
   "id": "7ab6d652",
   "metadata": {},
   "outputs": [
    {
     "name": "stdout",
     "output_type": "stream",
     "text": [
      "1.68\n"
     ]
    }
   ],
   "source": [
    "fam = [1.73, 1.68, 1.71, 1.89]\n",
    "print(min(fam))"
   ]
  },
  {
   "cell_type": "code",
   "execution_count": 4,
   "id": "47453992",
   "metadata": {},
   "outputs": [
    {
     "name": "stdout",
     "output_type": "stream",
     "text": [
      "4\n"
     ]
    }
   ],
   "source": [
    "fam = [1.73, 1.68, 1.71, 1.89]\n",
    "print(len(fam))"
   ]
  },
  {
   "cell_type": "code",
   "execution_count": 5,
   "id": "522c9518",
   "metadata": {},
   "outputs": [
    {
     "name": "stdout",
     "output_type": "stream",
     "text": [
      "7.01\n"
     ]
    }
   ],
   "source": [
    "fam = [1.73, 1.68, 1.71, 1.89]\n",
    "print(sum(fam))"
   ]
  },
  {
   "cell_type": "code",
   "execution_count": 13,
   "id": "d49d36a9",
   "metadata": {},
   "outputs": [
    {
     "name": "stdout",
     "output_type": "stream",
     "text": [
      "7.0\n"
     ]
    }
   ],
   "source": [
    "fam = [1.73, 1.68, 1.71, 1.89]           \n",
    "print(round(sum(fam), 1))"
   ]
  },
  {
   "cell_type": "code",
   "execution_count": 23,
   "id": "cb58bb48",
   "metadata": {},
   "outputs": [],
   "source": [
    "Ranges_from_1_to_12 = list(range(1, 12, 3))"
   ]
  },
  {
   "cell_type": "code",
   "execution_count": 31,
   "id": "803869f5",
   "metadata": {},
   "outputs": [],
   "source": [
    "list(range(10))\n",
    "range_me = range(10, 101, 2)"
   ]
  },
  {
   "cell_type": "code",
   "execution_count": 32,
   "id": "704f3863",
   "metadata": {},
   "outputs": [
    {
     "name": "stdout",
     "output_type": "stream",
     "text": [
      "[5, 15, 25, 35, 45, 55, 65, 75, 85, 95]\n"
     ]
    }
   ],
   "source": [
    "range_example = range(5, 100, 10)\n",
    "print(list(range_example))\n"
   ]
  },
  {
   "cell_type": "code",
   "execution_count": 37,
   "id": "3357d77e",
   "metadata": {},
   "outputs": [
    {
     "name": "stdout",
     "output_type": "stream",
     "text": [
      "Help on class type in module builtins:\n",
      "\n",
      "class type(object)\n",
      " |  type(object_or_name, bases, dict)\n",
      " |  type(object) -> the object's type\n",
      " |  type(name, bases, dict) -> a new type\n",
      " |  \n",
      " |  Methods defined here:\n",
      " |  \n",
      " |  __call__(self, /, *args, **kwargs)\n",
      " |      Call self as a function.\n",
      " |  \n",
      " |  __delattr__(self, name, /)\n",
      " |      Implement delattr(self, name).\n",
      " |  \n",
      " |  __dir__(self, /)\n",
      " |      Specialized __dir__ implementation for types.\n",
      " |  \n",
      " |  __getattribute__(self, name, /)\n",
      " |      Return getattr(self, name).\n",
      " |  \n",
      " |  __init__(self, /, *args, **kwargs)\n",
      " |      Initialize self.  See help(type(self)) for accurate signature.\n",
      " |  \n",
      " |  __instancecheck__(self, instance, /)\n",
      " |      Check if an object is an instance.\n",
      " |  \n",
      " |  __repr__(self, /)\n",
      " |      Return repr(self).\n",
      " |  \n",
      " |  __setattr__(self, name, value, /)\n",
      " |      Implement setattr(self, name, value).\n",
      " |  \n",
      " |  __sizeof__(self, /)\n",
      " |      Return memory consumption of the type object.\n",
      " |  \n",
      " |  __subclasscheck__(self, subclass, /)\n",
      " |      Check if a class is a subclass.\n",
      " |  \n",
      " |  __subclasses__(self, /)\n",
      " |      Return a list of immediate subclasses.\n",
      " |  \n",
      " |  mro(self, /)\n",
      " |      Return a type's method resolution order.\n",
      " |  \n",
      " |  ----------------------------------------------------------------------\n",
      " |  Class methods defined here:\n",
      " |  \n",
      " |  __prepare__(...)\n",
      " |      __prepare__() -> dict\n",
      " |      used to create the namespace for the class statement\n",
      " |  \n",
      " |  ----------------------------------------------------------------------\n",
      " |  Static methods defined here:\n",
      " |  \n",
      " |  __new__(*args, **kwargs)\n",
      " |      Create and return a new object.  See help(type) for accurate signature.\n",
      " |  \n",
      " |  ----------------------------------------------------------------------\n",
      " |  Data descriptors defined here:\n",
      " |  \n",
      " |  __abstractmethods__\n",
      " |  \n",
      " |  __dict__\n",
      " |  \n",
      " |  __text_signature__\n",
      " |  \n",
      " |  ----------------------------------------------------------------------\n",
      " |  Data and other attributes defined here:\n",
      " |  \n",
      " |  __base__ = <class 'object'>\n",
      " |      The base class of the class hierarchy.\n",
      " |      \n",
      " |      When called, it accepts no arguments and returns a new featureless\n",
      " |      instance that has no instance attributes and cannot be given any.\n",
      " |  \n",
      " |  __bases__ = (<class 'object'>,)\n",
      " |  \n",
      " |  __basicsize__ = 880\n",
      " |  \n",
      " |  __dictoffset__ = 264\n",
      " |  \n",
      " |  __flags__ = 2148291584\n",
      " |  \n",
      " |  __itemsize__ = 40\n",
      " |  \n",
      " |  __mro__ = (<class 'type'>, <class 'object'>)\n",
      " |  \n",
      " |  __weakrefoffset__ = 368\n",
      "\n"
     ]
    }
   ],
   "source": [
    "help(type)"
   ]
  },
  {
   "cell_type": "markdown",
   "id": "8aa2754b",
   "metadata": {},
   "source": [
    "METHODS"
   ]
  },
  {
   "cell_type": "code",
   "execution_count": 48,
   "id": "166a9001",
   "metadata": {},
   "outputs": [
    {
     "name": "stdout",
     "output_type": "stream",
     "text": [
      "HELLO WORLD\n",
      "HELLO WORLD\n"
     ]
    }
   ],
   "source": [
    "# First Method\n",
    "text = \"hello world\"\n",
    "print(text.upper())\n",
    "\n",
    "\n",
    "# Second Method\n",
    "text = \"hello world\"\n",
    "uppercase_text = text.upper()\n",
    "print(uppercase_text)\n",
    "\n"
   ]
  },
  {
   "cell_type": "code",
   "execution_count": 45,
   "id": "96836927",
   "metadata": {},
   "outputs": [
    {
     "name": "stdout",
     "output_type": "stream",
     "text": [
      "Hello world\n"
     ]
    }
   ],
   "source": [
    "text = \"hello WORLD\"\n",
    "capitalized_text = text.capitalize()\n",
    "print(capitalized_text)\n"
   ]
  },
  {
   "cell_type": "code",
   "execution_count": null,
   "id": "30298da0",
   "metadata": {},
   "outputs": [
    {
     "name": "stdout",
     "output_type": "stream",
     "text": [
      "4\n",
      "3\n"
     ]
    }
   ],
   "source": [
    "fam = ['liz', 1.73,'emma', 1.68,'mom', 1.71,'dad', 1.89, 1.68, 1.68]\n",
    "print(fam.index(\"mom\"))\n",
    "\n"
   ]
  },
  {
   "cell_type": "code",
   "execution_count": 55,
   "id": "d83aff1c",
   "metadata": {},
   "outputs": [
    {
     "data": {
      "text/plain": [
       "3"
      ]
     },
     "execution_count": 55,
     "metadata": {},
     "output_type": "execute_result"
    }
   ],
   "source": [
    "fam = ['liz', 1.73,'emma', 1.68,'mom', 1.71,'dad', 1.89, 1.68, 1.68]\n",
    "(fam.count(1.68))"
   ]
  },
  {
   "cell_type": "code",
   "execution_count": 54,
   "id": "15c307b4",
   "metadata": {},
   "outputs": [
    {
     "data": {
      "text/plain": [
       "'Lisa'"
      ]
     },
     "execution_count": 54,
     "metadata": {},
     "output_type": "execute_result"
    }
   ],
   "source": [
    "sister = 'Liz'\n",
    "sister.replace(\"z\", \"sa\")"
   ]
  },
  {
   "cell_type": "code",
   "execution_count": 68,
   "id": "eed49670",
   "metadata": {},
   "outputs": [
    {
     "name": "stdout",
     "output_type": "stream",
     "text": [
      "['liz', 1.73, 'emma', 1.68, 'mom', 1.71, 'dad', 1.89, 1.68, 1.68, 'me']\n"
     ]
    }
   ],
   "source": [
    "fam = ['liz', 1.73,'emma', 1.68,'mom', 1.71,'dad', 1.89, 1.68, 1.68]\n",
    "fam.append(\"me\")\n",
    "print(fam)"
   ]
  },
  {
   "cell_type": "code",
   "execution_count": 67,
   "id": "fcc627ae",
   "metadata": {},
   "outputs": [
    {
     "name": "stdout",
     "output_type": "stream",
     "text": [
      "['apple', 'banana', 2, 'orange']\n"
     ]
    }
   ],
   "source": [
    "fruits = ['apple', 'banana', 2]\n",
    "fruits.append('orange')\n",
    "print(fruits)\n"
   ]
  },
  {
   "cell_type": "code",
   "execution_count": 70,
   "id": "46a5b3c7",
   "metadata": {},
   "outputs": [
    {
     "data": {
      "text/plain": [
       "['liz',\n",
       " 1.73,\n",
       " 'emma',\n",
       " 1.68,\n",
       " 'mom',\n",
       " 1.71,\n",
       " 'dad',\n",
       " 1.89,\n",
       " 1.68,\n",
       " 1.68,\n",
       " 'liz',\n",
       " 1.73,\n",
       " 'emma',\n",
       " 1.68,\n",
       " 'mom',\n",
       " 1.71,\n",
       " 'dad',\n",
       " 1.89,\n",
       " 1.68,\n",
       " 1.68]"
      ]
     },
     "execution_count": 70,
     "metadata": {},
     "output_type": "execute_result"
    }
   ],
   "source": [
    "fam = ['liz', 1.73,'emma', 1.68,'mom', 1.71,'dad', 1.89, 1.68, 1.68]\n",
    "fam2 = ['liz', 1.73,'emma', 1.68,'mom', 1.71,'dad', 1.89, 1.68, 1.68]\n",
    "fam + fam2"
   ]
  },
  {
   "cell_type": "code",
   "execution_count": 73,
   "id": "4d06777d",
   "metadata": {},
   "outputs": [
    {
     "name": "stdout",
     "output_type": "stream",
     "text": [
      "[1, 2, 3, 4, 5]\n"
     ]
    }
   ],
   "source": [
    "list1 = [1, 2, 3]\n",
    "list2 = [4, 5]\n",
    "list1.extend(list2)\n",
    "print(list1)"
   ]
  },
  {
   "cell_type": "code",
   "execution_count": null,
   "id": "1171870e",
   "metadata": {},
   "outputs": [
    {
     "name": "stdout",
     "output_type": "stream",
     "text": [
      "{1, 2, 3, 4, 5}\n"
     ]
    }
   ],
   "source": [
    "a = {1, 2, 3}\n",
    "b = {3, 4, 5}\n",
    "merged = a.union(b)\n",
    "print(merged)"
   ]
  },
  {
   "cell_type": "code",
   "execution_count": 2,
   "id": "3b307b2f",
   "metadata": {},
   "outputs": [],
   "source": [
    "fa = 5\n",
    "ba = 6\n",
    "ca = 7"
   ]
  },
  {
   "cell_type": "code",
   "execution_count": 3,
   "id": "4b77612e",
   "metadata": {},
   "outputs": [
    {
     "name": "stdout",
     "output_type": "stream",
     "text": [
      "30\n"
     ]
    }
   ],
   "source": [
    "da = fa * ba\n",
    "print(da)"
   ]
  },
  {
   "cell_type": "code",
   "execution_count": 1,
   "id": "f9268936",
   "metadata": {},
   "outputs": [
    {
     "name": "stdout",
     "output_type": "stream",
     "text": [
      "('apple', 'kiwi', 'cherry')\n"
     ]
    }
   ],
   "source": [
    "x = (\"apple\", \"banana\", \"cherry\")\n",
    "y = list(x)\n",
    "y[1] = \"kiwi\"\n",
    "x = tuple(y)\n",
    "\n",
    "print(x)"
   ]
  },
  {
   "cell_type": "markdown",
   "id": "94eec9c0",
   "metadata": {},
   "source": [
    "2. Add tuple to a tuple. You are allowed to add tuples to tuples, so if you want to add one item, (or many), create a new tuple with the item(s), and add it to the existing tuple:"
   ]
  },
  {
   "cell_type": "code",
   "execution_count": null,
   "id": "808130f9",
   "metadata": {},
   "outputs": [
    {
     "name": "stdout",
     "output_type": "stream",
     "text": [
      "('apple', 'banana', 'cherry', 'orange')\n"
     ]
    }
   ],
   "source": [
    "# Create a new tuple with the value \"orange\", and add that tuple:\n",
    "\n",
    "thistuple = (\"apple\", \"banana\", \"cherry\")\n",
    "y = (\"orange\",) # Note: When creating a tuple with only one item, remember to include a comma after the item, otherwise it will not be identified as a tuple.\n",
    "thistuple += y\n",
    "\n",
    "print(thistuple)"
   ]
  },
  {
   "cell_type": "markdown",
   "id": "d807b105",
   "metadata": {},
   "source": [
    "Remove Items\n",
    "Note: You cannot remove items in a tuple.\n",
    "\n",
    "Tuples are unchangeable, so you cannot remove items from it, but you can use the same workaround as we used for changing and adding tuple items"
   ]
  },
  {
   "cell_type": "code",
   "execution_count": 6,
   "id": "72ca4e7f",
   "metadata": {},
   "outputs": [
    {
     "name": "stdout",
     "output_type": "stream",
     "text": [
      "('banana', 'cherry')\n"
     ]
    }
   ],
   "source": [
    "# Convert the tuple into a list, remove \"apple\", and convert it back into a tuple:\n",
    "\n",
    "thistuple = (\"apple\", \"banana\", \"cherry\")\n",
    "y = list(thistuple)\n",
    "y.remove(\"apple\")\n",
    "thistuple = tuple(y)\n",
    "print(thistuple)"
   ]
  },
  {
   "cell_type": "markdown",
   "id": "2142c920",
   "metadata": {},
   "source": [
    "Or you can delete the tuple completely:"
   ]
  },
  {
   "cell_type": "code",
   "execution_count": 7,
   "id": "1536876d",
   "metadata": {},
   "outputs": [
    {
     "ename": "NameError",
     "evalue": "name 'thistuple' is not defined",
     "output_type": "error",
     "traceback": [
      "\u001b[1;31m---------------------------------------------------------------------------\u001b[0m",
      "\u001b[1;31mNameError\u001b[0m                                 Traceback (most recent call last)",
      "Cell \u001b[1;32mIn[7], line 5\u001b[0m\n\u001b[0;32m      3\u001b[0m thistuple \u001b[38;5;241m=\u001b[39m (\u001b[38;5;124m\"\u001b[39m\u001b[38;5;124mapple\u001b[39m\u001b[38;5;124m\"\u001b[39m, \u001b[38;5;124m\"\u001b[39m\u001b[38;5;124mbanana\u001b[39m\u001b[38;5;124m\"\u001b[39m, \u001b[38;5;124m\"\u001b[39m\u001b[38;5;124mcherry\u001b[39m\u001b[38;5;124m\"\u001b[39m)\n\u001b[0;32m      4\u001b[0m \u001b[38;5;28;01mdel\u001b[39;00m thistuple\n\u001b[1;32m----> 5\u001b[0m \u001b[38;5;28mprint\u001b[39m(\u001b[43mthistuple\u001b[49m) \u001b[38;5;66;03m#this will raise an error because the tuple no longer exists\u001b[39;00m\n",
      "\u001b[1;31mNameError\u001b[0m: name 'thistuple' is not defined"
     ]
    }
   ],
   "source": [
    "# The del keyword can delete the tuple completely:\n",
    "\n",
    "thistuple = (\"apple\", \"banana\", \"cherry\")\n",
    "del thistuple\n",
    "print(thistuple) #this will raise an error because the tuple no longer exists"
   ]
  }
 ],
 "metadata": {
  "kernelspec": {
   "display_name": "Python 3",
   "language": "python",
   "name": "python3"
  },
  "language_info": {
   "codemirror_mode": {
    "name": "ipython",
    "version": 3
   },
   "file_extension": ".py",
   "mimetype": "text/x-python",
   "name": "python",
   "nbconvert_exporter": "python",
   "pygments_lexer": "ipython3",
   "version": "3.8.0"
  }
 },
 "nbformat": 4,
 "nbformat_minor": 5
}
