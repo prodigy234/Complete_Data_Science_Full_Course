{
 "cells": [
  {
   "cell_type": "markdown",
   "id": "930a2c4a",
   "metadata": {},
   "source": [
    "Python Functions"
   ]
  },
  {
   "cell_type": "markdown",
   "id": "e50d18a7",
   "metadata": {},
   "source": [
    "A function is a block of code which only runs when it is called.\n",
    "\n",
    "You can pass data, known as parameters, into a function.\n",
    "\n",
    "A function can return data as a result."
   ]
  },
  {
   "cell_type": "markdown",
   "id": "2c93bc73",
   "metadata": {},
   "source": [
    "Creating a Function\n",
    "\n",
    "In Python a function is defined using the def keyword:"
   ]
  },
  {
   "cell_type": "markdown",
   "id": "0ca2748f",
   "metadata": {},
   "source": [
    "Defining a Function\n",
    "\n",
    "In Python, you define a function using the def keyword."
   ]
  },
  {
   "cell_type": "markdown",
   "id": "4827e10a",
   "metadata": {},
   "source": [
    "Syntax:\n",
    "\n",
    "def function_name(parameters):\n",
    "    \"\"\"Optional docstring explaining the function.\"\"\"\n",
    "    # block of code"
   ]
  },
  {
   "cell_type": "markdown",
   "id": "1ff6bc99",
   "metadata": {},
   "source": [
    "This is a very well detailed explanation on the different components in the syntax above when creating a function\n",
    "\n",
    "* function_name — the name of your function (follow standard naming conventions).\n",
    "\n",
    "* parameters — inputs (optional) the function needs to work with.\n",
    "\n",
    "* \"\"\"Docstring\"\"\" — (optional) a brief description of what the function does.\n",
    "\n",
    "* Indented block — code that the function executes."
   ]
  },
  {
   "cell_type": "code",
   "execution_count": 3,
   "id": "09b3c079",
   "metadata": {},
   "outputs": [],
   "source": [
    "# e.g\n",
    "\n",
    "def my_function():\n",
    "  print(\"Hello from a function\")"
   ]
  },
  {
   "cell_type": "markdown",
   "id": "a6396234",
   "metadata": {},
   "source": [
    "Calling a Function\n",
    "\n",
    "After defining it, you call a function by writing its name followed by parentheses ().\n",
    "\n",
    "In other words, to successfully call a function, use the function name followed by parenthesis:"
   ]
  },
  {
   "cell_type": "code",
   "execution_count": 4,
   "id": "c0117535",
   "metadata": {},
   "outputs": [
    {
     "name": "stdout",
     "output_type": "stream",
     "text": [
      "Hello from a function\n"
     ]
    }
   ],
   "source": [
    "# e.g\n",
    "\n",
    "def my_function():\n",
    "  print(\"Hello from a function\")\n",
    "\n",
    "my_function()"
   ]
  },
  {
   "cell_type": "code",
   "execution_count": 5,
   "id": "3d73546d",
   "metadata": {},
   "outputs": [
    {
     "name": "stdout",
     "output_type": "stream",
     "text": [
      "Hello, welcome to Python!\n"
     ]
    }
   ],
   "source": [
    "# another example\n",
    "\n",
    "def greet():\n",
    "    print(\"Hello, welcome to Python!\")\n",
    "\n",
    "greet()  # Function call"
   ]
  },
  {
   "cell_type": "markdown",
   "id": "3beb937e",
   "metadata": {},
   "source": [
    "Parameters and Arguments\n",
    "\n",
    "Parameter: A variable listed inside the parentheses in the function definition.\n",
    "\n",
    "Argument: A value sent to the function when it is called."
   ]
  },
  {
   "cell_type": "markdown",
   "id": "761e6b00",
   "metadata": {},
   "source": [
    "Arguments\n",
    "\n",
    "Information can be passed into functions as arguments.\n",
    "\n",
    "Arguments are specified after the function name, inside the parentheses. You can add as many arguments as you want, just separate them with a comma."
   ]
  },
  {
   "cell_type": "markdown",
   "id": "46ca7c5e",
   "metadata": {},
   "source": [
    "The example below has a function with one argument (fname). When the function is called, we pass along a first name, which is used inside the function to print the full name:"
   ]
  },
  {
   "cell_type": "code",
   "execution_count": 6,
   "id": "84f475bc",
   "metadata": {},
   "outputs": [
    {
     "name": "stdout",
     "output_type": "stream",
     "text": [
      " Hi Comfort\n",
      " Hi Tata\n",
      " Hi Ajanlekoko\n"
     ]
    }
   ],
   "source": [
    "def my_function(first_name):\n",
    "  print(\" Hi \" + first_name)\n",
    "\n",
    "my_function(\"Comfort\")\n",
    "my_function(\"Tata\")\n",
    "my_function(\"Ajanlekoko\")"
   ]
  },
  {
   "cell_type": "code",
   "execution_count": 8,
   "id": "944811ee",
   "metadata": {},
   "outputs": [
    {
     "name": "stdout",
     "output_type": "stream",
     "text": [
      " Hi Gbenga\n"
     ]
    }
   ],
   "source": [
    "my_function(\"Gbenga\")"
   ]
  },
  {
   "cell_type": "code",
   "execution_count": null,
   "id": "711a9b06",
   "metadata": {},
   "outputs": [
    {
     "name": "stdout",
     "output_type": "stream",
     "text": [
      "Hi Comfort!\n"
     ]
    }
   ],
   "source": [
    "def greet_user(name):  # 'name' is the parameter\n",
    "    print(f\"Hi {name}!\")\n",
    "\n",
    "greet_user(\"Comfort\")  # 'Alice' is the argument"
   ]
  },
  {
   "cell_type": "markdown",
   "id": "9a65118b",
   "metadata": {},
   "source": [
    "You can have multiple parameters, separated by commas."
   ]
  },
  {
   "cell_type": "code",
   "execution_count": 9,
   "id": "fb0b7dcd",
   "metadata": {},
   "outputs": [
    {
     "name": "stdout",
     "output_type": "stream",
     "text": [
      "8\n"
     ]
    }
   ],
   "source": [
    "def add_numbers(a, b):\n",
    "    return a + b\n",
    "\n",
    "result = add_numbers(5, 3)\n",
    "print(result)\n"
   ]
  },
  {
   "cell_type": "markdown",
   "id": "109afac9",
   "metadata": {},
   "source": [
    "Number of Arguments\n",
    "\n",
    "By default, a function must be called with the correct number of arguments. Meaning that if your function expects 2 arguments, you have to call the function with 2 arguments, not more, and not less."
   ]
  },
  {
   "cell_type": "code",
   "execution_count": 12,
   "id": "d8e4ad58",
   "metadata": {},
   "outputs": [
    {
     "name": "stdout",
     "output_type": "stream",
     "text": [
      "Emil Refsnes\n"
     ]
    }
   ],
   "source": [
    "# In the example below, this function expects 2 arguments, and gets 2 arguments:\n",
    "\n",
    "def my_function(fname, lname):\n",
    "  print(fname + \" \" + lname)\n",
    "\n",
    "my_function(\"Emil\", \"Refsnes\")"
   ]
  },
  {
   "cell_type": "markdown",
   "id": "a486ee0e",
   "metadata": {},
   "source": [
    "NOTE => if you try to call the function created above with 1 or 3 arguments, you will get an error as shown in thw example below. \n",
    "This is because while creating the function, two arguments was created with it.\n",
    "So for error not to be elicited when calling a function, the number of arguments when created must match the number of arguments when it is called."
   ]
  },
  {
   "cell_type": "code",
   "execution_count": 13,
   "id": "940e8fc2",
   "metadata": {},
   "outputs": [
    {
     "ename": "TypeError",
     "evalue": "my_function() missing 1 required positional argument: 'lname'",
     "output_type": "error",
     "traceback": [
      "\u001b[1;31m---------------------------------------------------------------------------\u001b[0m",
      "\u001b[1;31mTypeError\u001b[0m                                 Traceback (most recent call last)",
      "Cell \u001b[1;32mIn[13], line 6\u001b[0m\n\u001b[0;32m      3\u001b[0m \u001b[38;5;28;01mdef\u001b[39;00m \u001b[38;5;21mmy_function\u001b[39m(fname, lname):\n\u001b[0;32m      4\u001b[0m   \u001b[38;5;28mprint\u001b[39m(fname \u001b[38;5;241m+\u001b[39m \u001b[38;5;124m\"\u001b[39m\u001b[38;5;124m \u001b[39m\u001b[38;5;124m\"\u001b[39m \u001b[38;5;241m+\u001b[39m lname)\n\u001b[1;32m----> 6\u001b[0m my_function(\u001b[38;5;124m\"\u001b[39m\u001b[38;5;124mEmil\u001b[39m\u001b[38;5;124m\"\u001b[39m)\n",
      "\u001b[1;31mTypeError\u001b[0m: my_function() missing 1 required positional argument: 'lname'"
     ]
    }
   ],
   "source": [
    "# This function expects 2 arguments, but gets only 1:\n",
    "\n",
    "def my_function(fname, lname):\n",
    "  print(fname + \" \" + lname)\n",
    "\n",
    "my_function(\"Emil\")"
   ]
  }
 ],
 "metadata": {
  "kernelspec": {
   "display_name": "Python 3",
   "language": "python",
   "name": "python3"
  },
  "language_info": {
   "codemirror_mode": {
    "name": "ipython",
    "version": 3
   },
   "file_extension": ".py",
   "mimetype": "text/x-python",
   "name": "python",
   "nbconvert_exporter": "python",
   "pygments_lexer": "ipython3",
   "version": "3.12.7"
  }
 },
 "nbformat": 4,
 "nbformat_minor": 5
}
