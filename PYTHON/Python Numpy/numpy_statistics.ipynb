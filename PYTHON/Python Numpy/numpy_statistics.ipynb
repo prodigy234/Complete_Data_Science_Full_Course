{
 "cells": [
  {
   "cell_type": "markdown",
   "id": "390a63c0",
   "metadata": {},
   "source": [
    "Common Statistical Functions in NumPy"
   ]
  },
  {
   "cell_type": "markdown",
   "id": "fd249a0a",
   "metadata": {},
   "source": [
    "1. Mean – np.mean()\n",
    "\n",
    "Definition: The arithmetic average of a set of numbers."
   ]
  },
  {
   "cell_type": "code",
   "execution_count": 22,
   "id": "70e54baf",
   "metadata": {},
   "outputs": [
    {
     "name": "stdout",
     "output_type": "stream",
     "text": [
      "Mean: 54.0\n"
     ]
    }
   ],
   "source": [
    "import numpy as np\n",
    "\n",
    "data = np.array([10, 20, 20, 40, 50, 60, 70, 80, 90, 100])\n",
    "\n",
    "mean = np.mean(data)\n",
    "print(\"Mean:\", mean)\n"
   ]
  },
  {
   "cell_type": "markdown",
   "id": "53c2680b",
   "metadata": {},
   "source": [
    "Explanation:\n",
    "\n",
    "* Adds up all elements in data and divides by the number of elements."
   ]
  },
  {
   "cell_type": "markdown",
   "id": "eda4f934",
   "metadata": {},
   "source": [
    "2. Median – np.median()\n",
    "\n",
    "Definition: The middle value in a sorted array. If even number of elements, it returns the average of the two middle numbers."
   ]
  },
  {
   "cell_type": "code",
   "execution_count": 23,
   "id": "34fd22da",
   "metadata": {},
   "outputs": [
    {
     "name": "stdout",
     "output_type": "stream",
     "text": [
      "Median: 55.0\n"
     ]
    }
   ],
   "source": [
    "median = np.median(data)\n",
    "print(\"Median:\", median)"
   ]
  },
  {
   "cell_type": "markdown",
   "id": "8097e026",
   "metadata": {},
   "source": [
    "Explanation:\n",
    "\n",
    "* Sorted data: [10, 20, 20, 40, 50, 60, 70, 80, 90, 100]\n",
    "\n",
    "* Median = average of 5th (50) and 6th (60) elements"
   ]
  },
  {
   "cell_type": "markdown",
   "id": "766224f9",
   "metadata": {},
   "source": [
    "3. Mode – scipy.stats.mode() (NumPy does not directly support mode)\n",
    "\n",
    "Definition: The value that appears most frequently in the dataset."
   ]
  },
  {
   "cell_type": "code",
   "execution_count": 24,
   "id": "ec141604",
   "metadata": {},
   "outputs": [
    {
     "name": "stdout",
     "output_type": "stream",
     "text": [
      "Mode: 20 Count: 2\n"
     ]
    }
   ],
   "source": [
    "from scipy import stats\n",
    "\n",
    "mode_result = stats.mode(data, keepdims=True)\n",
    "print(\"Mode:\", mode_result.mode[0], \"Count:\", mode_result.count[0])\n"
   ]
  },
  {
   "cell_type": "markdown",
   "id": "2ed299f3",
   "metadata": {},
   "source": [
    "Explanation:\n",
    "\n",
    "* 20 appears twice, more than any other number.\n",
    "\n",
    "* Mode: 20, Count: 2"
   ]
  },
  {
   "cell_type": "markdown",
   "id": "2333e1a8",
   "metadata": {},
   "source": [
    "4. Standard Deviation – np.std()\n",
    "\n",
    "Definition: Measures the spread of numbers from the mean."
   ]
  },
  {
   "cell_type": "code",
   "execution_count": 25,
   "id": "733bff92",
   "metadata": {},
   "outputs": [
    {
     "name": "stdout",
     "output_type": "stream",
     "text": [
      "Standard Deviation: 29.732137494637012\n"
     ]
    }
   ],
   "source": [
    "std_dev = np.std(data)\n",
    "print(\"Standard Deviation:\", std_dev)"
   ]
  },
  {
   "cell_type": "markdown",
   "id": "adb8f67b",
   "metadata": {},
   "source": [
    "Explanation:\n",
    " \n",
    "* A higher standard deviation means the data is more spread out."
   ]
  },
  {
   "cell_type": "markdown",
   "id": "19767d23",
   "metadata": {},
   "source": [
    "5. Variance – np.var()\n",
    "\n",
    "Definition: The square of the standard deviation."
   ]
  },
  {
   "cell_type": "code",
   "execution_count": 26,
   "id": "ea87600c",
   "metadata": {},
   "outputs": [
    {
     "name": "stdout",
     "output_type": "stream",
     "text": [
      "Variance: 884.0\n"
     ]
    }
   ],
   "source": [
    "variance = np.var(data)\n",
    "print(\"Variance:\", variance)"
   ]
  },
  {
   "cell_type": "markdown",
   "id": "c3839430",
   "metadata": {},
   "source": [
    "Explanation:\n",
    "\n",
    "* Variance = std_dev²\n",
    "\n",
    "* It shows how far the numbers are spread out from the mean."
   ]
  },
  {
   "cell_type": "markdown",
   "id": "fd352fe0",
   "metadata": {},
   "source": [
    "6. Minimum and Maximum – np.min(), np.max()\n",
    "\n",
    "Definition: Returns the smallest and largest values in the array."
   ]
  },
  {
   "cell_type": "code",
   "execution_count": 27,
   "id": "3affc8bf",
   "metadata": {},
   "outputs": [
    {
     "name": "stdout",
     "output_type": "stream",
     "text": [
      "Min: 10 Max: 100\n"
     ]
    }
   ],
   "source": [
    "minimum = np.min(data)\n",
    "maximum = np.max(data)\n",
    "print(\"Min:\", minimum, \"Max:\", maximum)"
   ]
  },
  {
   "cell_type": "markdown",
   "id": "7a9c36a7",
   "metadata": {},
   "source": [
    "Explanation:\n",
    "\n",
    "* Useful for checking data ranges and outliers."
   ]
  },
  {
   "cell_type": "markdown",
   "id": "99559ae2",
   "metadata": {},
   "source": [
    "7. Percentile – np.percentile()\n",
    "\n",
    "Definition: Shows the value below which a given percentage of data falls."
   ]
  },
  {
   "cell_type": "code",
   "execution_count": 28,
   "id": "34c845b6",
   "metadata": {},
   "outputs": [
    {
     "name": "stdout",
     "output_type": "stream",
     "text": [
      "25th Percentile (Q1): 25.0\n",
      "75th Percentile (Q3): 77.5\n"
     ]
    }
   ],
   "source": [
    "q25 = np.percentile(data, 25)  # 25th percentile (1st Quartile)\n",
    "q75 = np.percentile(data, 75)  # 75th percentile (3rd Quartile)\n",
    "print(\"25th Percentile (Q1):\", q25)\n",
    "print(\"75th Percentile (Q3):\", q75)"
   ]
  },
  {
   "cell_type": "markdown",
   "id": "63133038",
   "metadata": {},
   "source": [
    "Explanation:\n",
    "\n",
    "* Helps in understanding distribution and outliers (used in box plots).\n",
    "\n",
    "* 25th percentile means 25% of values are less than or equal to that number."
   ]
  },
  {
   "cell_type": "markdown",
   "id": "4427d5e3",
   "metadata": {},
   "source": [
    "8. Range – Difference between max and min"
   ]
  },
  {
   "cell_type": "code",
   "execution_count": 29,
   "id": "2ed30e18",
   "metadata": {},
   "outputs": [
    {
     "name": "stdout",
     "output_type": "stream",
     "text": [
      "Range: 90\n"
     ]
    }
   ],
   "source": [
    "data_range = np.ptp(data)  # Peak-to-peak\n",
    "print(\"Range:\", data_range)"
   ]
  },
  {
   "cell_type": "markdown",
   "id": "d9cdf3f8",
   "metadata": {},
   "source": [
    "Explanation:\n",
    "\n",
    "* Gives you a quick idea of the spread of values.\n",
    "\n",
    "* Range = max - min"
   ]
  },
  {
   "cell_type": "markdown",
   "id": "e5169b6a",
   "metadata": {},
   "source": [
    "9. Skewness & Kurtosis (using SciPy)"
   ]
  },
  {
   "cell_type": "code",
   "execution_count": 30,
   "id": "a4f52b52",
   "metadata": {},
   "outputs": [
    {
     "name": "stdout",
     "output_type": "stream",
     "text": [
      "Skewness: -0.0027393914687632638\n",
      "Kurtosis: -1.3184824225548208\n"
     ]
    }
   ],
   "source": [
    "from scipy.stats import skew, kurtosis\n",
    "\n",
    "skewness = skew(data)\n",
    "kurt = kurtosis(data)\n",
    "print(\"Skewness:\", skewness)\n",
    "print(\"Kurtosis:\", kurt)\n"
   ]
  },
  {
   "cell_type": "markdown",
   "id": "b6b111fe",
   "metadata": {},
   "source": [
    "Explanation:\n",
    "\n",
    "Skewness: Measures asymmetry.\n",
    "\n",
    "* 0: right-skewed (tail on right)\n",
    "\n",
    "* <0: left-skewed\n",
    "\n",
    "\n",
    "Kurtosis: Measures peakedness.\n",
    "\n",
    "* 0: sharper peak (leptokurtic)\n",
    "\n",
    "* <0: flatter peak (platykurtic)"
   ]
  },
  {
   "cell_type": "markdown",
   "id": "2eb5625c",
   "metadata": {},
   "source": [
    "10. Cumulative Sum – np.cumsum()\n",
    "\n",
    "Definition: The running total of elements in the array."
   ]
  },
  {
   "cell_type": "code",
   "execution_count": 31,
   "id": "1747be9a",
   "metadata": {},
   "outputs": [
    {
     "name": "stdout",
     "output_type": "stream",
     "text": [
      "Cumulative Sum: [ 10  30  50  90 140 200 270 350 440 540]\n"
     ]
    }
   ],
   "source": [
    "cumulative = np.cumsum(data)\n",
    "\n",
    "print(\"Cumulative Sum:\", cumulative)"
   ]
  },
  {
   "cell_type": "markdown",
   "id": "dfab78c4",
   "metadata": {},
   "source": [
    "Explanation:\n",
    "\n",
    "* Useful in time series or progressive totals.\n",
    "\n",
    "* Example: [10, 30, 50, 90, ...]"
   ]
  },
  {
   "cell_type": "markdown",
   "id": "85f76b5e",
   "metadata": {},
   "source": [
    "| Function       | Description                 | Syntax                   |\n",
    "| -------------- | --------------------------- | ------------------------ |\n",
    "| Mean           | Average of elements         | `np.mean(data)`          |\n",
    "| Median         | Middle value                | `np.median(data)`        |\n",
    "| Mode           | Most frequent value         | `stats.mode(data)`       |\n",
    "| Std Deviation  | Spread from mean            | `np.std(data)`           |\n",
    "| Variance       | Square of std deviation     | `np.var(data)`           |\n",
    "| Min & Max      | Smallest and largest values | `np.min(data), np.max()` |\n",
    "| Percentiles    | Value at given percentile   | `np.percentile(data, p)` |\n",
    "| Range          | Max - Min                   | `np.ptp(data)`           |\n",
    "| Skewness       | Asymmetry of distribution   | `skew(data)`             |\n",
    "| Kurtosis       | Peakedness of distribution  | `kurtosis(data)`         |\n",
    "| Cumulative Sum | Running total               | `np.cumsum(data)`        |\n"
   ]
  }
 ],
 "metadata": {
  "kernelspec": {
   "display_name": "Python 3",
   "language": "python",
   "name": "python3"
  },
  "language_info": {
   "codemirror_mode": {
    "name": "ipython",
    "version": 3
   },
   "file_extension": ".py",
   "mimetype": "text/x-python",
   "name": "python",
   "nbconvert_exporter": "python",
   "pygments_lexer": "ipython3",
   "version": "3.12.7"
  }
 },
 "nbformat": 4,
 "nbformat_minor": 5
}
