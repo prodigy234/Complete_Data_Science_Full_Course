{
 "cells": [
  {
   "cell_type": "markdown",
   "id": "5aebdc81",
   "metadata": {},
   "source": [
    "# 📊 NumPy Statistics for Data Analysts\n",
    "This notebook is designed to help data analysts master descriptive and inferential statistics using NumPy and SciPy."
   ]
  },
  {
   "cell_type": "code",
   "execution_count": 105,
   "id": "9e600376",
   "metadata": {},
   "outputs": [],
   "source": [
    "\n",
    "import numpy as np\n",
    "import matplotlib.pyplot as plt\n",
    "from scipy.stats import skew, kurtosis, mode\n"
   ]
  },
  {
   "cell_type": "markdown",
   "id": "50924500",
   "metadata": {},
   "source": [
    "## 🔹 Basic Descriptive Statistics"
   ]
  },
  {
   "cell_type": "code",
   "execution_count": 106,
   "id": "14e0ca14",
   "metadata": {},
   "outputs": [
    {
     "name": "stdout",
     "output_type": "stream",
     "text": [
      "Mean: 173.0\n",
      "Median: 175.0\n",
      "Min: 120\n",
      "Max: 220\n",
      "Range: 100\n",
      "Standard Deviation: 31.63858403911275\n",
      "Variance: 1001.0\n"
     ]
    }
   ],
   "source": [
    "\n",
    "# Sales data for 10 days\n",
    "sales = np.array([120, 150, 130, 170, 160, 180, 200, 220, 190, 210])\n",
    "\n",
    "mean = np.mean(sales)\n",
    "median = np.median(sales)\n",
    "min_val = np.min(sales)\n",
    "max_val = np.max(sales)\n",
    "range_val = np.ptp(sales)\n",
    "std_dev = np.std(sales)\n",
    "variance = np.var(sales)\n",
    "\n",
    "print(\"Mean:\", mean)\n",
    "print(\"Median:\", median)\n",
    "print(\"Min:\", min_val)\n",
    "print(\"Max:\", max_val)\n",
    "print(\"Range:\", range_val)\n",
    "print(\"Standard Deviation:\", std_dev)\n",
    "print(\"Variance:\", variance)\n"
   ]
  },
  {
   "cell_type": "markdown",
   "id": "590f8c86",
   "metadata": {},
   "source": [
    "## 🔹 Quartile Analysis"
   ]
  },
  {
   "cell_type": "code",
   "execution_count": 107,
   "id": "d1bdbab3",
   "metadata": {},
   "outputs": [
    {
     "name": "stdout",
     "output_type": "stream",
     "text": [
      "Q1 (25th percentile): 152.5\n",
      "Q2 (Median): 175.0\n",
      "Q3 (75th percentile): 197.5\n"
     ]
    }
   ],
   "source": [
    "\n",
    "q25 = np.percentile(sales, 25)\n",
    "q50 = np.percentile(sales, 50)\n",
    "q75 = np.percentile(sales, 75)\n",
    "\n",
    "print(\"Q1 (25th percentile):\", q25)\n",
    "print(\"Q2 (Median):\", q50)\n",
    "print(\"Q3 (75th percentile):\", q75)\n"
   ]
  },
  {
   "cell_type": "markdown",
   "id": "bb30c162",
   "metadata": {},
   "source": [
    "## 🔹 Outlier Detection using IQR"
   ]
  },
  {
   "cell_type": "code",
   "execution_count": 108,
   "id": "79043e3a",
   "metadata": {},
   "outputs": [
    {
     "name": "stdout",
     "output_type": "stream",
     "text": [
      "IQR: 45.0\n",
      "Outliers: []\n"
     ]
    }
   ],
   "source": [
    "\n",
    "iqr = q75 - q25\n",
    "lower_bound = q25 - 1.5 * iqr\n",
    "upper_bound = q75 + 1.5 * iqr\n",
    "\n",
    "outliers = sales[(sales < lower_bound) | (sales > upper_bound)]\n",
    "\n",
    "print(\"IQR:\", iqr)\n",
    "print(\"Outliers:\", outliers)\n"
   ]
  },
  {
   "cell_type": "markdown",
   "id": "b1255a47",
   "metadata": {},
   "source": [
    "## What the Code Does:\n",
    "\n",
    "`iqr = q75 - q25`\n",
    "\n",
    "Meaning:\n",
    "\n",
    "* iqr is the Interquartile Range.\n",
    "\n",
    "* It's the range between the third quartile (Q3 or 75th percentile) and the first quartile (Q1 or 25th percentile).\n",
    "\n",
    "* It measures the spread of the middle 50% of your data.\n",
    "\n",
    "* It helps you understand where most of your values lie."
   ]
  },
  {
   "cell_type": "markdown",
   "id": "325363b5",
   "metadata": {},
   "source": [
    "`lower_bound = q25 - 1.5 * iqr`\n",
    "\n",
    "`upper_bound = q75 + 1.5 * iqr`\n",
    "\n",
    "Meaning:\n",
    "\n",
    "* These are thresholds to detect outliers.\n",
    "\n",
    "* Lower bound = anything smaller than this is considered too low (potential outlier).\n",
    "\n",
    "* Upper bound = anything bigger than this is considered too high (potential outlier).\n",
    "\n",
    "* The 1.5 * IQR is a common multiplier in statistics (used in boxplots too).\n",
    "\n"
   ]
  },
  {
   "cell_type": "markdown",
   "id": "b61fa5d8",
   "metadata": {},
   "source": [
    "`outliers = sales[(sales < lower_bound) | (sales > upper_bound)]`\n",
    "\n",
    "Meaning:\n",
    "\n",
    "* This filters the sales array to include only the values less than the lower bound or greater than the upper bound.\n",
    "\n",
    "* These are considered outliers."
   ]
  },
  {
   "cell_type": "markdown",
   "id": "04494c12",
   "metadata": {},
   "source": [
    "`print(\"IQR:\", iqr)`\n",
    "\n",
    "`print(\"Outliers:\", outliers)`\n",
    "\n",
    "Output:\n",
    "\n",
    "* You see the computed Interquartile Range.\n",
    "\n",
    "* You also see the values from sales that are unusually far from the majority — i.e., outliers."
   ]
  },
  {
   "cell_type": "markdown",
   "id": "45355c28",
   "metadata": {},
   "source": [
    "### Another Real-Life Example\n",
    "\n",
    "Let’s say you have this data of daily sales:"
   ]
  },
  {
   "cell_type": "code",
   "execution_count": 109,
   "id": "5b337625",
   "metadata": {},
   "outputs": [],
   "source": [
    "sales = [100, 105, 110, 115, 120, 125, 500]"
   ]
  },
  {
   "cell_type": "markdown",
   "id": "f669212b",
   "metadata": {},
   "source": [
    "* Q1 = 105\n",
    "\n",
    "* Q3 = 125\n",
    "\n",
    "* IQR = 125 - 105 = 20\n",
    "\n",
    "* Lower bound = 105 - 1.5*20 = 75\n",
    "\n",
    "* Upper bound = 125 + 1.5*20 = 155"
   ]
  },
  {
   "cell_type": "code",
   "execution_count": 110,
   "id": "32786d0f",
   "metadata": {},
   "outputs": [
    {
     "data": {
      "image/png": "[encoded data removed]",
      "text/plain": [
       "<Figure size 640x480 with 1 Axes>"
      ]
     },
     "metadata": {},
     "output_type": "display_data"
    }
   ],
   "source": [
    "import matplotlib.pyplot as plt\n",
    "plt.boxplot(sales)\n",
    "plt.title(\"Outlier Detection with Boxplot\")\n",
    "plt.show()"
   ]
  },
  {
   "cell_type": "markdown",
   "id": "8742a1b3",
   "metadata": {},
   "source": [
    "So any value < 75 or > 155 is an outlier.\n",
    "\n",
    "* In this case, 500 would be detected as an outlier."
   ]
  },
  {
   "cell_type": "markdown",
   "id": "19683ffb",
   "metadata": {},
   "source": [
    "## 🔹 Skewness and Kurtosis"
   ]
  },
  {
   "cell_type": "code",
   "execution_count": 111,
   "id": "cb352358",
   "metadata": {},
   "outputs": [
    {
     "name": "stdout",
     "output_type": "stream",
     "text": [
      "Skewness: 2.026735446473709\n",
      "Kurtosis: 2.1351189373433686\n"
     ]
    },
    {
     "data": {
      "image/png": "[encoded data removed]",
      "text/plain": [
       "<Figure size 640x480 with 1 Axes>"
      ]
     },
     "metadata": {},
     "output_type": "display_data"
    }
   ],
   "source": [
    "\n",
    "print(\"Skewness:\", skew(sales))\n",
    "print(\"Kurtosis:\", kurtosis(sales))\n",
    "\n",
    "# Histogram\n",
    "plt.hist(sales, bins=5, edgecolor='black')\n",
    "plt.title('Sales Distribution')\n",
    "plt.xlabel('Sales')\n",
    "plt.ylabel('Frequency')\n",
    "plt.show()\n"
   ]
  },
  {
   "cell_type": "markdown",
   "id": "1efd3490",
   "metadata": {},
   "source": [
    "## 🔹 Cumulative Sum"
   ]
  },
  {
   "cell_type": "code",
   "execution_count": 112,
   "id": "0cba0788",
   "metadata": {},
   "outputs": [
    {
     "name": "stdout",
     "output_type": "stream",
     "text": [
      "Cumulative Sales: [ 100  205  315  430  550  675 1175]\n"
     ]
    }
   ],
   "source": [
    "\n",
    "cumulative_sales = np.cumsum(sales)\n",
    "print(\"Cumulative Sales:\", cumulative_sales)\n"
   ]
  },
  {
   "cell_type": "markdown",
   "id": "70cc170f",
   "metadata": {},
   "source": [
    "## 🔹 Real-World Scenario: Anomaly Detection"
   ]
  },
  {
   "cell_type": "code",
   "execution_count": 113,
   "id": "0a854011",
   "metadata": {},
   "outputs": [
    {
     "name": "stdout",
     "output_type": "stream",
     "text": [
      "Mean: 88.0\n",
      "Standard Deviation: 60.986337267730164\n",
      "Anomalies: [300]\n"
     ]
    }
   ],
   "source": [
    "\n",
    "engagement = np.array([30, 45, 50, 55, 60, 120, 65, 70, 75, 80, 90, 85, 100, 95, 300])\n",
    "\n",
    "\n",
    "mean = np.mean(engagement)\n",
    "std_dev = np.std(engagement)\n",
    "\n",
    "threshold = mean + 2 * std_dev\n",
    "anomalies = engagement[engagement > threshold]\n",
    "\n",
    "print(\"Mean:\", mean)\n",
    "print(\"Standard Deviation:\", std_dev)\n",
    "print(\"Anomalies:\", anomalies)\n"
   ]
  },
  {
   "cell_type": "markdown",
   "id": "895c1b0a",
   "metadata": {},
   "source": [
    "You're looking at a practical anomaly detection technique using standard deviation, which is often used to flag unusually high values in a dataset. \n",
    "\n",
    "Let’s break it all down step by step and explain what’s happening, why it works, and how to teach it effectively."
   ]
  },
  {
   "cell_type": "markdown",
   "id": "b3edbddf",
   "metadata": {},
   "source": [
    "### What the Code Does\n",
    "\n",
    "`engagement = np.array([30, 45, 50, 55, 60, 120, 65, 70, 75, 80, 90, 85, 100, 95, 300])`\n",
    "\n",
    "This is your dataset — e.g., user engagement times on a website in minutes.\n",
    "\n",
    "You have a NumPy array of engagement values (e.g., daily user engagement counts). One of them (300) seems suspiciously high just by looking at it."
   ]
  },
  {
   "cell_type": "markdown",
   "id": "2e0458f0",
   "metadata": {},
   "source": [
    "`mean = np.mean(engagement)`\n",
    "\n",
    "Calculates the mean (average) of the engagement values.\n",
    "\n",
    "Why it's useful: The mean tells you the central tendency — the expected typical value.\n",
    "\n",
    "mean: the average value of engagement (the center of the data)."
   ]
  },
  {
   "cell_type": "markdown",
   "id": "fe54b6c9",
   "metadata": {},
   "source": [
    "`std_dev = np.std(engagement)`\n",
    "\n",
    "Computes the standard deviation, which measures how much the data varies (spreads out) from the mean.\n",
    "\n",
    "std_dev: standard deviation — how much the values vary from the mean.\n",
    "\n",
    "* High std dev = data is very spread out.\n",
    "\n",
    "* Low std dev = data is tightly packed around the mean."
   ]
  },
  {
   "cell_type": "markdown",
   "id": "c1bc2afb",
   "metadata": {},
   "source": [
    "`threshold = mean + 2 * std_dev`\n",
    "\n",
    "Sets a cutoff threshold: any value that is more than 2 standard deviations above the mean is considered an anomaly.\n",
    "\n",
    "This is based on the Empirical Rule:\n",
    "\n",
    "* ~95% of values fall within ±2 standard deviations in a normal distribution.\n",
    "\n",
    "* Anything beyond this is statistically rare.\n",
    "\n",
    "\n",
    "This sets a threshold to flag anomalies.\n",
    "\n",
    "* The logic here is: any value more than 2 standard deviations above the mean is unusually high — likely an anomaly or outlier.\n",
    "\n",
    "* This method assumes data is roughly normally distributed.\n",
    "\n",
    "This is a commonly used technique in real-world anomaly detection for performance metrics, fraud detection, etc."
   ]
  },
  {
   "cell_type": "markdown",
   "id": "528f0097",
   "metadata": {},
   "source": [
    "`anomalies = engagement[engagement > threshold]`\n",
    "\n",
    "Filters the dataset to find only those values greater than the threshold.\n",
    "\n",
    "These are anomalies — unusually high engagement values.\n",
    "\n",
    "Meaning:\n",
    "\n",
    "* This line filters the data.\n",
    "\n",
    "* It returns only those engagement values that exceed the anomaly threshold."
   ]
  },
  {
   "cell_type": "markdown",
   "id": "4a592eea",
   "metadata": {},
   "source": [
    "`print(\"Mean:\", mean)`\n",
    "\n",
    "`print(\"Standard Deviation:\", std_dev)`\n",
    "\n",
    "`print(\"Anomalies:\", anomalies)`\n",
    "\n",
    "Prints out:\n",
    "\n",
    "* The central average\n",
    "\n",
    "* How much the values vary\n",
    "\n",
    "* And which values are too far from normal behavior\n",
    "\n",
    "NOTE => The anomalies lists any unusually high values."
   ]
  },
  {
   "cell_type": "markdown",
   "id": "ec6d0c3a",
   "metadata": {},
   "source": [
    "### Example Breakdown (with the given data):\n",
    "\n",
    "Let’s compute it in words:\n",
    "\n",
    "Engagement data has a high value of 300, which seems suspicious.\n",
    "\n",
    "When we calculate:\n",
    "\n",
    "* mean ≈ 88.0\n",
    "\n",
    "* std_dev ≈ 60.99\n",
    "\n",
    "* threshold = 88.0 + 2*60.99 ≈ 209.98\n",
    "\n",
    "So anything > 209.98 is considered an anomaly.\n",
    "\n",
    "* Only value > 209.98 = 300 ➜ 🚨 Detected as an anomaly"
   ]
  },
  {
   "cell_type": "markdown",
   "id": "79a409a6",
   "metadata": {},
   "source": [
    "| Term                 | Explanation                                          |\n",
    "| -------------------- | ---------------------------------------------------- |\n",
    "| `mean`               | Central average of all engagement numbers            |\n",
    "| `std_dev`            | Spread (how far values vary from the mean)           |\n",
    "| `mean + 2 * std_dev` | Threshold to flag **very high** values               |\n",
    "| `anomalies = ...`    | Extracts suspicious values that are far above normal |\n"
   ]
  },
  {
   "cell_type": "markdown",
   "id": "a7ba1c2c",
   "metadata": {},
   "source": [
    "Why This Is Important for Data Analysts\n",
    "\n",
    "* Helps identify unusual behavior in logs, transactions, engagement, etc.\n",
    "\n",
    "* Often used in fraud detection, user behavior analysis, sensor errors, etc.\n",
    "\n",
    "* Easy to implement and fast to compute with NumPy"
   ]
  },
  {
   "cell_type": "markdown",
   "id": "a379650f",
   "metadata": {},
   "source": [
    "### Let's use a visual aid to drive the point home:"
   ]
  },
  {
   "cell_type": "code",
   "execution_count": 114,
   "id": "bbfcbea0",
   "metadata": {},
   "outputs": [
    {
     "data": {
      "image/png": "[encoded data removed]",
      "text/plain": [
       "<Figure size 640x480 with 1 Axes>"
      ]
     },
     "metadata": {},
     "output_type": "display_data"
    }
   ],
   "source": [
    "import matplotlib.pyplot as plt\n",
    "\n",
    "plt.hist(engagement, bins=10, edgecolor='black')\n",
    "plt.axvline(mean, color='blue', linestyle='dashed', label='Mean')\n",
    "plt.axvline(threshold, color='red', linestyle='dashed', label='Anomaly Threshold')\n",
    "plt.title(\"Engagement Distribution with Anomaly Threshold\")\n",
    "plt.xlabel(\"Engagement Time (mins)\")\n",
    "plt.ylabel(\"Frequency\")\n",
    "plt.legend()\n",
    "plt.show()\n"
   ]
  },
  {
   "cell_type": "markdown",
   "id": "475c7965",
   "metadata": {},
   "source": [
    "* This above visualization will clearly show the mean and where anomalies begin — excellent for helping the team see what the code is doing."
   ]
  },
  {
   "cell_type": "markdown",
   "id": "821cabd6",
   "metadata": {},
   "source": [
    "## 🔹 Practice: Daily Visitors Analysis\n",
    "Given data for daily website visitors, calculate basic stats and interpret the distribution."
   ]
  },
  {
   "cell_type": "code",
   "execution_count": 115,
   "id": "7a12dfb0",
   "metadata": {},
   "outputs": [
    {
     "name": "stdout",
     "output_type": "stream",
     "text": [
      "Mean: 217.46666666666667\n",
      "Median: 195.0\n",
      "Standard Deviation: 97.39190018796339\n",
      "Skewness: 1.0691956907411726\n",
      "Kurtosis: 0.35877648852794186\n"
     ]
    },
    {
     "data": {
      "image/png": "[encoded data removed]",
      "text/plain": [
       "<Figure size 640x480 with 1 Axes>"
      ]
     },
     "metadata": {},
     "output_type": "display_data"
    }
   ],
   "source": [
    "\n",
    "visitors = np.array([102, 110, 120, 140, 160, 180, 190, 195, 205, 220, 240, 250, 300, 400, 450])\n",
    "\n",
    "print(\"Mean:\", np.mean(visitors))\n",
    "print(\"Median:\", np.median(visitors))\n",
    "print(\"Standard Deviation:\", np.std(visitors))\n",
    "print(\"Skewness:\", skew(visitors))\n",
    "print(\"Kurtosis:\", kurtosis(visitors))\n",
    "\n",
    "plt.hist(visitors, bins=6, edgecolor='black')\n",
    "plt.title('Daily Visitors Distribution')\n",
    "plt.xlabel('Visitors')\n",
    "plt.ylabel('Frequency')\n",
    "plt.show()\n"
   ]
  },
  {
   "cell_type": "markdown",
   "id": "714afccd",
   "metadata": {},
   "source": [
    "## 🔹 Practice: Income Data Stats\n",
    "You’re analyzing income data of a sample population. Calculate all relevant statistics and identify possible anomalies."
   ]
  },
  {
   "cell_type": "code",
   "execution_count": 116,
   "id": "492747f0",
   "metadata": {},
   "outputs": [
    {
     "name": "stdout",
     "output_type": "stream",
     "text": [
      "Mean: 42666.666666666664\n",
      "Median: 36000.0\n",
      "Standard Deviation: 19829.831623647795\n",
      "Skewness: 1.9132244506818932\n",
      "Kurtosis: 2.9944582311770676\n",
      "Outliers: [100000]\n"
     ]
    }
   ],
   "source": [
    "\n",
    "income = np.array([25000, 27000, 29000, 31000, 33000, 35000, 37000, 40000, 45000, 50000, 60000, 100000])\n",
    "\n",
    "print(\"Mean:\", np.mean(income))\n",
    "print(\"Median:\", np.median(income))\n",
    "print(\"Standard Deviation:\", np.std(income))\n",
    "print(\"Skewness:\", skew(income))\n",
    "print(\"Kurtosis:\", kurtosis(income))\n",
    "\n",
    "# IQR Method for outlier detection\n",
    "q1 = np.percentile(income, 25)\n",
    "q3 = np.percentile(income, 75)\n",
    "iqr = q3 - q1\n",
    "lower = q1 - 1.5 * iqr\n",
    "upper = q3 + 1.5 * iqr\n",
    "\n",
    "outliers = income[(income < lower) | (income > upper)]\n",
    "print(\"Outliers:\", outliers)\n"
   ]
  }
 ],
 "metadata": {
  "kernelspec": {
   "display_name": "Python 3",
   "language": "python",
   "name": "python3"
  },
  "language_info": {
   "codemirror_mode": {
    "name": "ipython",
    "version": 3
   },
   "file_extension": ".py",
   "mimetype": "text/x-python",
   "name": "python",
   "nbconvert_exporter": "python",
   "pygments_lexer": "ipython3",
   "version": "3.12.7"
  }
 },
 "nbformat": 4,
 "nbformat_minor": 5
}
