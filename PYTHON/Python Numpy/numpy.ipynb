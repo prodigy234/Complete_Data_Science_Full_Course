{
 "cells": [
  {
   "cell_type": "markdown",
   "id": "d84c8b62",
   "metadata": {},
   "source": [
    "What is NumPy?\n",
    "\n",
    "NumPy is a Python library used for working with arrays.\n",
    "\n",
    "It also has functions for working in domain of linear algebra, fourier transform, and matrices.\n",
    "\n",
    "NumPy was created in 2005 by Travis Oliphant. It is an open source project and you can use it freely.\n",
    "\n",
    "NumPy stands for Numerical Python."
   ]
  },
  {
   "cell_type": "markdown",
   "id": "5f206461",
   "metadata": {},
   "source": [
    "Why Use NumPy?\n",
    "\n",
    "In Python we have lists that serve the purpose of arrays, but they are slow to process.\n",
    "\n",
    "NumPy aims to provide an array object that is up to 50x faster than traditional Python lists.\n",
    "\n",
    "The array object in NumPy is called ndarray, it provides a lot of supporting functions that make working with ndarray very easy.\n",
    "\n",
    "Arrays are very frequently used in data science, where speed and resources are very important."
   ]
  },
  {
   "cell_type": "markdown",
   "id": "b0ea0a6a",
   "metadata": {},
   "source": [
    "Data Science: is a branch of computer science where we study how to store, use and analyze data for deriving information from it."
   ]
  },
  {
   "cell_type": "markdown",
   "id": "c1ff0b37",
   "metadata": {},
   "source": [
    "Why is NumPy Faster Than Lists?\n",
    "\n",
    "NumPy arrays are stored at one continuous place in memory unlike lists, so processes can access and manipulate them very efficiently.\n",
    "\n",
    "This behavior is called locality of reference in computer science.\n",
    "\n",
    "This is the main reason why NumPy is faster than lists. Also it is optimized to work with latest CPU architectures."
   ]
  },
  {
   "cell_type": "markdown",
   "id": "81f6613f",
   "metadata": {},
   "source": [
    "Which Language is NumPy written in?\n",
    "\n",
    "NumPy is a Python library and is written partially in Python, but most of the parts that require fast computation are written in C or C++."
   ]
  },
  {
   "cell_type": "markdown",
   "id": "e312a49c",
   "metadata": {},
   "source": [
    "Where is the NumPy Codebase?\n",
    "\n",
    "The source code for NumPy is located at this github repository https://github.com/numpy/numpy"
   ]
  },
  {
   "cell_type": "markdown",
   "id": "c3cb8025",
   "metadata": {},
   "source": [
    "Installation of NumPy\n",
    "\n",
    "If you have Python and PIP already installed on a system, then installation of NumPy is very easy.\n",
    "\n",
    "Install it using this command:\n",
    "\n",
    "C:\\Users\\Your Name>pip install numpy"
   ]
  },
  {
   "cell_type": "markdown",
   "id": "cc376699",
   "metadata": {},
   "source": [
    "Import NumPy\n",
    "\n",
    "Once NumPy is installed, import it in your applications by adding the import keyword:"
   ]
  },
  {
   "cell_type": "code",
   "execution_count": 121,
   "id": "aeeb66e3",
   "metadata": {},
   "outputs": [],
   "source": [
    "\n",
    "import numpy"
   ]
  },
  {
   "cell_type": "markdown",
   "id": "5470f110",
   "metadata": {},
   "source": [
    "Now NumPy is imported and ready to use."
   ]
  },
  {
   "cell_type": "code",
   "execution_count": 122,
   "id": "4706578c",
   "metadata": {},
   "outputs": [
    {
     "name": "stdout",
     "output_type": "stream",
     "text": [
      "[1 2 3 4 5]\n"
     ]
    }
   ],
   "source": [
    "# Get your own Python Server\n",
    "import numpy\n",
    "\n",
    "arr = numpy.array([1, 2, 3, 4, 5])\n",
    "\n",
    "print(arr)"
   ]
  },
  {
   "cell_type": "markdown",
   "id": "4556d97a",
   "metadata": {},
   "source": [
    "NumPy as np\n",
    "\n",
    "NumPy is usually imported under the np alias.\n",
    "\n",
    "alias: In Python alias are an alternate name for referring to the same thing."
   ]
  },
  {
   "cell_type": "markdown",
   "id": "f43a0cc7",
   "metadata": {},
   "source": [
    "Create an alias with the as keyword while importing:\n",
    "\n",
    "import numpy as np"
   ]
  },
  {
   "cell_type": "code",
   "execution_count": 123,
   "id": "5a54d7b1",
   "metadata": {},
   "outputs": [
    {
     "name": "stdout",
     "output_type": "stream",
     "text": [
      "[1 2 3 4 5]\n"
     ]
    }
   ],
   "source": [
    "# Now the NumPy package can be referred to as np instead of numpy.\n",
    "\n",
    "import numpy as np\n",
    "\n",
    "arr = np.array([1, 2, 3, 4, 5])\n",
    "\n",
    "print(arr)"
   ]
  },
  {
   "cell_type": "markdown",
   "id": "24f40d7d",
   "metadata": {},
   "source": [
    "Checking NumPy Version\n",
    "\n",
    "The version string is stored under __version__ attribute."
   ]
  },
  {
   "cell_type": "code",
   "execution_count": 124,
   "id": "ca362923",
   "metadata": {},
   "outputs": [
    {
     "name": "stdout",
     "output_type": "stream",
     "text": [
      "1.26.4\n"
     ]
    }
   ],
   "source": [
    "# To check NumPy version\n",
    "\n",
    "import numpy as np\n",
    "\n",
    "print(np.__version__)"
   ]
  },
  {
   "cell_type": "markdown",
   "id": "8055a8d5",
   "metadata": {},
   "source": [
    "NumPy Creating Arrays"
   ]
  },
  {
   "cell_type": "markdown",
   "id": "339e646c",
   "metadata": {},
   "source": [
    "Create a NumPy ndarray Object\n",
    "\n",
    "NumPy is used to work with arrays. The array object in NumPy is called ndarray.\n",
    "\n",
    "We can create a NumPy ndarray object by using the array() function."
   ]
  },
  {
   "cell_type": "code",
   "execution_count": 125,
   "id": "4887e08e",
   "metadata": {},
   "outputs": [
    {
     "name": "stdout",
     "output_type": "stream",
     "text": [
      "[1 2 3 4 5]\n",
      "<class 'numpy.ndarray'>\n"
     ]
    }
   ],
   "source": [
    "import numpy as np\n",
    "\n",
    "arr = np.array([1, 2, 3, 4, 5])\n",
    "\n",
    "print(arr)\n",
    "\n",
    "print(type(arr))"
   ]
  },
  {
   "cell_type": "markdown",
   "id": "07abfff8",
   "metadata": {},
   "source": [
    "type(): This built-in Python function tells us the type of the object passed to it. Like in above code it shows that arr is numpy.ndarray type."
   ]
  },
  {
   "cell_type": "markdown",
   "id": "76c5eada",
   "metadata": {},
   "source": [
    "To create an ndarray, we can pass a list, tuple or any array-like object into the array() method, and it will be converted into an ndarray:"
   ]
  },
  {
   "cell_type": "code",
   "execution_count": 126,
   "id": "99d00d96",
   "metadata": {},
   "outputs": [
    {
     "name": "stdout",
     "output_type": "stream",
     "text": [
      "[1 2 3 4 5]\n"
     ]
    }
   ],
   "source": [
    "# Use a tuple to create a NumPy array:\n",
    "\n",
    "import numpy as np\n",
    "\n",
    "arr = np.array((1, 2, 3, 4, 5))\n",
    "\n",
    "print(arr)"
   ]
  },
  {
   "cell_type": "markdown",
   "id": "c6bcec84",
   "metadata": {},
   "source": [
    "Dimensions in Arrays\n",
    "\n",
    "A dimension in arrays is one level of array depth (nested arrays)."
   ]
  },
  {
   "cell_type": "markdown",
   "id": "73cb0cf6",
   "metadata": {},
   "source": [
    "nested array: are arrays that have arrays as their elements."
   ]
  },
  {
   "cell_type": "markdown",
   "id": "73e13726",
   "metadata": {},
   "source": [
    "0-D Arrays\n",
    "\n",
    "0-D arrays, or Scalars, are the elements in an array. Each value in an array is a 0-D array."
   ]
  },
  {
   "cell_type": "code",
   "execution_count": 127,
   "id": "3d9acaf0",
   "metadata": {},
   "outputs": [
    {
     "name": "stdout",
     "output_type": "stream",
     "text": [
      "42\n"
     ]
    }
   ],
   "source": [
    "# Create a 0-D array with value 42\n",
    "\n",
    "import numpy as np\n",
    "\n",
    "arr = np.array(42)\n",
    "\n",
    "print(arr)"
   ]
  },
  {
   "cell_type": "markdown",
   "id": "5221a045",
   "metadata": {},
   "source": [
    "1-D Arrays\n",
    "\n",
    "An array that has 0-D arrays as its elements is called uni-dimensional or 1-D array.\n",
    "\n",
    "These are the most common and basic arrays."
   ]
  },
  {
   "cell_type": "code",
   "execution_count": 128,
   "id": "75dc2adc",
   "metadata": {},
   "outputs": [
    {
     "name": "stdout",
     "output_type": "stream",
     "text": [
      "[1 2 3 4 5]\n"
     ]
    }
   ],
   "source": [
    "# Create a 1-D array containing the values 1,2,3,4,5:\n",
    "\n",
    "import numpy as np\n",
    "\n",
    "arr = np.array([1, 2, 3, 4, 5])\n",
    "\n",
    "print(arr)"
   ]
  },
  {
   "cell_type": "markdown",
   "id": "81e86910",
   "metadata": {},
   "source": [
    "2-D Arrays\n",
    "\n",
    "An array that has 1-D arrays as its elements is called a 2-D array.\n",
    "\n",
    "These are often used to represent matrix or 2nd order tensors."
   ]
  },
  {
   "cell_type": "markdown",
   "id": "c1aefbe1",
   "metadata": {},
   "source": [
    "NumPy has a whole sub module dedicated towards matrix operations called numpy.mat"
   ]
  },
  {
   "cell_type": "code",
   "execution_count": 129,
   "id": "1667e816",
   "metadata": {},
   "outputs": [
    {
     "name": "stdout",
     "output_type": "stream",
     "text": [
      "[[1 2 3]\n",
      " [4 5 6]]\n"
     ]
    }
   ],
   "source": [
    "# Create a 2-D array containing two arrays with the values 1,2,3 and 4,5,6:\n",
    "\n",
    "import numpy as np\n",
    "\n",
    "arr = np.array([[1, 2, 3], [4, 5, 6]])\n",
    "\n",
    "print(arr)"
   ]
  },
  {
   "cell_type": "markdown",
   "id": "0c7dd50c",
   "metadata": {},
   "source": [
    "3-D arrays\n",
    "\n",
    "An array that has 2-D arrays (matrices) as its elements is called 3-D array.\n",
    "\n",
    "These are often used to represent a 3rd order tensor."
   ]
  },
  {
   "cell_type": "code",
   "execution_count": 130,
   "id": "39952b15",
   "metadata": {},
   "outputs": [
    {
     "name": "stdout",
     "output_type": "stream",
     "text": [
      "[[[1 2 3]\n",
      "  [4 5 6]]\n",
      "\n",
      " [[1 2 3]\n",
      "  [4 5 6]]]\n"
     ]
    }
   ],
   "source": [
    "# Create a 3-D array with two 2-D arrays, both containing two arrays with the values 1,2,3 and 4,5,6:\n",
    "\n",
    "import numpy as np\n",
    "\n",
    "arr = np.array([[[1, 2, 3], [4, 5, 6]], [[1, 2, 3], [4, 5, 6]]])\n",
    "\n",
    "print(arr)"
   ]
  },
  {
   "cell_type": "markdown",
   "id": "70531093",
   "metadata": {},
   "source": [
    "From the output above,\n",
    "\n",
    "We have 2 tables (first dimension).\n",
    "\n",
    "Each table has 2 rows (second dimension).\n",
    "\n",
    "Each row has 3 columns (third dimension)."
   ]
  },
  {
   "cell_type": "markdown",
   "id": "a6d85bd6",
   "metadata": {},
   "source": [
    "How many rows?\n",
    "\n",
    "Each \"block\" (or \"table\") has 2 rows:\n",
    "\n",
    "[1, 2, 3] is one row,\n",
    "\n",
    "[4, 5, 6] is another row."
   ]
  },
  {
   "cell_type": "markdown",
   "id": "ebf542c2",
   "metadata": {},
   "source": [
    "So each table has 2 rows.\n",
    "\n",
    "And since there are 2 blocks, each block still has 2 rows — rows are counted inside each block, not across blocks.\n",
    "\n",
    "Answer: 2 rows per block"
   ]
  },
  {
   "cell_type": "markdown",
   "id": "4fa2870c",
   "metadata": {},
   "source": [
    "How many columns?\n",
    "\n",
    "Look at any one row, like [1, 2, 3].\n",
    "It has 3 numbers across — so 3 columns.\n",
    "\n",
    "Answer: 3 columns per row"
   ]
  },
  {
   "cell_type": "markdown",
   "id": "a87b3cc2",
   "metadata": {},
   "source": [
    "Summary:\n",
    "\n",
    "Rows: 2 per block,\n",
    "\n",
    "Columns: 3 per row,\n",
    "\n",
    "Blocks: 2 total.\n",
    "\n",
    "Shape: (2 blocks, 2 rows, 3 columns) ➔ (2, 2, 3)"
   ]
  },
  {
   "cell_type": "markdown",
   "id": "020f8be9",
   "metadata": {},
   "source": [
    "So:\n",
    "\n",
    "The first number (2) tells you how many tables (or \"slices\") you have.\n",
    "\n",
    "The second number (2) tells you how many rows are on each table.\n",
    "\n",
    "The third number (3) tells you how many columns are in each row."
   ]
  },
  {
   "cell_type": "markdown",
   "id": "d95cb813",
   "metadata": {},
   "source": [
    "That's why it’s three dimensions:\n",
    "\n",
    "Table ➔ Row ➔ Column ➔ (3 directions to move).\n",
    "\n",
    "Shape: (2, 2, 3)"
   ]
  },
  {
   "cell_type": "markdown",
   "id": "291ef747",
   "metadata": {},
   "source": [
    "NOTE =>\n",
    "\n",
    "In a table:\n",
    "\n",
    "Row = a horizontal line (left to right),\n",
    "\n",
    "Column = a vertical line (up and down)."
   ]
  },
  {
   "cell_type": "markdown",
   "id": "b73a1eea",
   "metadata": {},
   "source": [
    "Check Number of Dimensions?\n",
    "\n",
    "NumPy Arrays provides the ndim attribute that returns an integer that tells us how many dimensions the array have."
   ]
  },
  {
   "cell_type": "code",
   "execution_count": 131,
   "id": "91af7334",
   "metadata": {},
   "outputs": [
    {
     "name": "stdout",
     "output_type": "stream",
     "text": [
      "0\n",
      "1\n",
      "2\n",
      "3\n"
     ]
    }
   ],
   "source": [
    "# Check how many dimensions the arrays have:\n",
    "\n",
    "import numpy as np\n",
    "\n",
    "a = np.array(42)\n",
    "b = np.array([1, 2, 3, 4, 5])\n",
    "c = np.array([[1, 2, 3], [4, 5, 6]])\n",
    "d = np.array([[[1, 2, 3], [4, 5, 6]], [[1, 2, 3], [4, 5, 6]]])\n",
    "\n",
    "print(a.ndim)\n",
    "print(b.ndim)\n",
    "print(c.ndim)\n",
    "print(d.ndim)"
   ]
  },
  {
   "cell_type": "markdown",
   "id": "17af8ff1",
   "metadata": {},
   "source": [
    "Higher Dimensional Arrays\n",
    "\n",
    "An array can have any number of dimensions.\n",
    "\n",
    "When the array is created, you can define the number of dimensions by using the ndmin argument."
   ]
  },
  {
   "cell_type": "code",
   "execution_count": 132,
   "id": "63b9f725",
   "metadata": {},
   "outputs": [
    {
     "name": "stdout",
     "output_type": "stream",
     "text": [
      "[[[[[1 2 3 4]]]]]\n",
      "number of dimensions : 5\n"
     ]
    }
   ],
   "source": [
    "# Create an array with 5 dimensions and verify that it has 5 dimensions:\n",
    "\n",
    "import numpy as np\n",
    "\n",
    "arr = np.array([1, 2, 3, 4], ndmin=5)\n",
    "\n",
    "print(arr)\n",
    "print('number of dimensions :', arr.ndim)"
   ]
  },
  {
   "cell_type": "markdown",
   "id": "39333734",
   "metadata": {},
   "source": [
    "NOTE => Using the output of the result above, in this array the innermost dimension (5th dim) has 4 elements, the 4th dim has 1 element that is the vector, the 3rd dim has 1 element that is the matrix with the vector, the 2nd dim has 1 element that is 3D array and 1st dim has 1 element that is a 4D array."
   ]
  },
  {
   "cell_type": "markdown",
   "id": "f70441d9",
   "metadata": {},
   "source": [
    "So basically, the numbers 1 2 3 4 are buried inside 4 layers of brackets ➔ making it 5 levels deep = 5 dimensions.\n",
    "\n",
    "Each pair of square brackets [] represents one level (one dimension)."
   ]
  },
  {
   "cell_type": "markdown",
   "id": "734f9689",
   "metadata": {},
   "source": [
    "Very simple way to imagine it:\n",
    "\n",
    "Imagine putting a pencil (the numbers) inside a box (1 layer),\n",
    "\n",
    "then putting that box inside another bigger box (2 layers),\n",
    "\n",
    "and again inside another bigger box (3 layers),\n",
    "\n",
    "and again... until 5 boxes are wrapped around it.\n",
    "\n",
    "The more boxes (layers), the more dimensions."
   ]
  },
  {
   "cell_type": "markdown",
   "id": "b0e0fa86",
   "metadata": {},
   "source": [
    "NumPy Array Indexing\n",
    "\n",
    "Access Array Elements\n",
    "\n",
    "Array indexing is the same as accessing an array element.\n",
    "\n",
    "You can access an array element by referring to its index number.\n",
    "\n",
    "The indexes in NumPy arrays start with 0, meaning that the first element has index 0, and the second has index 1 etc."
   ]
  },
  {
   "cell_type": "code",
   "execution_count": 133,
   "id": "b4b5a73a",
   "metadata": {},
   "outputs": [
    {
     "name": "stdout",
     "output_type": "stream",
     "text": [
      "1\n"
     ]
    }
   ],
   "source": [
    "# Get the first element from the following array:\n",
    "\n",
    "import numpy as np\n",
    "\n",
    "arr = np.array([1, 2, 3, 4])\n",
    "\n",
    "print(arr[0])"
   ]
  },
  {
   "cell_type": "code",
   "execution_count": 134,
   "id": "e66cc56a",
   "metadata": {},
   "outputs": [
    {
     "name": "stdout",
     "output_type": "stream",
     "text": [
      "2\n"
     ]
    }
   ],
   "source": [
    "# Get the second element from the following array.\n",
    "\n",
    "import numpy as np\n",
    "\n",
    "arr = np.array([1, 2, 3, 4])\n",
    "\n",
    "print(arr[1])"
   ]
  },
  {
   "cell_type": "code",
   "execution_count": 135,
   "id": "c5ad7ab2",
   "metadata": {},
   "outputs": [
    {
     "name": "stdout",
     "output_type": "stream",
     "text": [
      "7\n"
     ]
    }
   ],
   "source": [
    "# Get third and fourth elements from the following array and add them.\n",
    "\n",
    "import numpy as np\n",
    "\n",
    "arr = np.array([1, 2, 3, 4])\n",
    "\n",
    "print(arr[2] + arr[3])"
   ]
  },
  {
   "cell_type": "markdown",
   "id": "eed8319d",
   "metadata": {},
   "source": [
    "Access 2-D Arrays"
   ]
  },
  {
   "cell_type": "markdown",
   "id": "63ce9048",
   "metadata": {},
   "source": [
    "To access elements from 2-D arrays we can use comma separated integers representing the dimension and the index of the element.\n",
    "\n",
    "Think of 2-D arrays like a table with rows and columns, where the dimension represents the row and the index represents the column."
   ]
  },
  {
   "cell_type": "code",
   "execution_count": 136,
   "id": "c0ccfb08",
   "metadata": {},
   "outputs": [
    {
     "name": "stdout",
     "output_type": "stream",
     "text": [
      "2nd element on 1st row:  2\n"
     ]
    }
   ],
   "source": [
    "# Access the element on the first row, second column:\n",
    "\n",
    "import numpy as np\n",
    "\n",
    "arr = np.array([[1,2,3,4,5], [6,7,8,9,10]])\n",
    "\n",
    "print('2nd element on 1st row: ', arr[0, 1])"
   ]
  },
  {
   "cell_type": "code",
   "execution_count": 137,
   "id": "9ef4aca5",
   "metadata": {},
   "outputs": [
    {
     "name": "stdout",
     "output_type": "stream",
     "text": [
      "5th element on 2nd row:  10\n"
     ]
    }
   ],
   "source": [
    "# Access the element on the 2nd row, 5th column:\n",
    "\n",
    "import numpy as np\n",
    "\n",
    "arr = np.array([[1,2,3,4,5], [6,7,8,9,10]])\n",
    "\n",
    "print('5th element on 2nd row: ', arr[1, 4])"
   ]
  },
  {
   "cell_type": "markdown",
   "id": "8afa110e",
   "metadata": {},
   "source": [
    "Access 3-D Arrays"
   ]
  },
  {
   "cell_type": "markdown",
   "id": "b3ebdca5",
   "metadata": {},
   "source": [
    "To access elements from 3-D arrays we can use comma separated integers representing the dimensions and the index of the element."
   ]
  },
  {
   "cell_type": "code",
   "execution_count": 138,
   "id": "a7889ed0",
   "metadata": {},
   "outputs": [
    {
     "name": "stdout",
     "output_type": "stream",
     "text": [
      "6\n"
     ]
    }
   ],
   "source": [
    "# Access the third element of the second array of the first array:\n",
    "\n",
    "import numpy as np\n",
    "\n",
    "arr = np.array([[[1, 2, 3], [4, 5, 6]], [[7, 8, 9], [10, 11, 12]]])\n",
    "\n",
    "print(arr[0, 1, 2])"
   ]
  },
  {
   "cell_type": "markdown",
   "id": "81b159c7",
   "metadata": {},
   "source": [
    "Negative Indexing"
   ]
  },
  {
   "cell_type": "markdown",
   "id": "5b826392",
   "metadata": {},
   "source": [
    "Use negative indexing to access an array from the end."
   ]
  },
  {
   "cell_type": "code",
   "execution_count": 139,
   "id": "6ba60ce9",
   "metadata": {},
   "outputs": [
    {
     "name": "stdout",
     "output_type": "stream",
     "text": [
      "Last element from 2nd dim:  10\n"
     ]
    }
   ],
   "source": [
    "# Print the last element from the 2nd dim:\n",
    "\n",
    "import numpy as np\n",
    "\n",
    "arr = np.array([[1,2,3,4,5], [6,7,8,9,10]])\n",
    "\n",
    "print('Last element from 2nd dim: ', arr[1, -1])"
   ]
  },
  {
   "cell_type": "markdown",
   "id": "30a8f444",
   "metadata": {},
   "source": [
    "NumPy Array Slicing"
   ]
  },
  {
   "cell_type": "markdown",
   "id": "8ead5300",
   "metadata": {},
   "source": [
    "Slicing arrays\n",
    "\n",
    "Slicing in python means taking elements from one given index to another given index.\n",
    "\n",
    "We pass slice instead of index like this: [start:end].\n",
    "\n",
    "We can also define the step, like this: [start:end:step].\n",
    "\n",
    "If we don't pass start its considered 0\n",
    "\n",
    "If we don't pass end its considered length of array in that dimension\n",
    "\n",
    "If we don't pass step its considered 1"
   ]
  },
  {
   "cell_type": "code",
   "execution_count": 140,
   "id": "648ee005",
   "metadata": {},
   "outputs": [
    {
     "name": "stdout",
     "output_type": "stream",
     "text": [
      "[2 3 4 5]\n"
     ]
    }
   ],
   "source": [
    "# Slice elements from index 1 to index 5 from the following array:\n",
    "\n",
    "import numpy as np\n",
    "\n",
    "arr = np.array([1, 2, 3, 4, 5, 6, 7])\n",
    "\n",
    "print(arr[1:5])"
   ]
  },
  {
   "cell_type": "markdown",
   "id": "5d1ea763",
   "metadata": {},
   "source": [
    "Note: The result includes the start index, but excludes the end index."
   ]
  },
  {
   "cell_type": "code",
   "execution_count": 141,
   "id": "e87bb98f",
   "metadata": {},
   "outputs": [
    {
     "name": "stdout",
     "output_type": "stream",
     "text": [
      "[5 6 7]\n"
     ]
    }
   ],
   "source": [
    "# Slice elements from index 4 to the end of the array:\n",
    "\n",
    "import numpy as np\n",
    "\n",
    "arr = np.array([1, 2, 3, 4, 5, 6, 7])\n",
    "\n",
    "print(arr[4:])"
   ]
  },
  {
   "cell_type": "code",
   "execution_count": 142,
   "id": "b47b77aa",
   "metadata": {},
   "outputs": [
    {
     "name": "stdout",
     "output_type": "stream",
     "text": [
      "[1 2 3 4]\n"
     ]
    }
   ],
   "source": [
    "# Slice elements from the beginning to index 4 (not included):\n",
    "\n",
    "import numpy as np\n",
    "\n",
    "arr = np.array([1, 2, 3, 4, 5, 6, 7])\n",
    "\n",
    "print(arr[:4])"
   ]
  },
  {
   "cell_type": "markdown",
   "id": "18f922e1",
   "metadata": {},
   "source": [
    "Negative Slicing\n",
    "\n",
    "Use the minus operator to refer to an index from the end:"
   ]
  },
  {
   "cell_type": "code",
   "execution_count": 143,
   "id": "c646821a",
   "metadata": {},
   "outputs": [
    {
     "name": "stdout",
     "output_type": "stream",
     "text": [
      "[5 6]\n"
     ]
    }
   ],
   "source": [
    "# Slice from the index 3 from the end to index 1 from the end:\n",
    "\n",
    "import numpy as np\n",
    "\n",
    "arr = np.array([1, 2, 3, 4, 5, 6, 7])\n",
    "\n",
    "print(arr[-3:-1])"
   ]
  },
  {
   "cell_type": "markdown",
   "id": "ce8cb75e",
   "metadata": {},
   "source": [
    "STEP\n",
    "\n",
    "Use the step value to determine the step of the slicing:"
   ]
  },
  {
   "cell_type": "code",
   "execution_count": 144,
   "id": "2b379a28",
   "metadata": {},
   "outputs": [
    {
     "name": "stdout",
     "output_type": "stream",
     "text": [
      "[2 4]\n"
     ]
    }
   ],
   "source": [
    "# Return every other element from index 1 to index 5:\n",
    "\n",
    "import numpy as np\n",
    "\n",
    "arr = np.array([1, 2, 3, 4, 5, 6, 7])\n",
    "\n",
    "print(arr[1:5:2])"
   ]
  },
  {
   "cell_type": "code",
   "execution_count": 145,
   "id": "4c5f2efb",
   "metadata": {},
   "outputs": [
    {
     "name": "stdout",
     "output_type": "stream",
     "text": [
      "[1 3 5 7]\n"
     ]
    }
   ],
   "source": [
    "# Return every other element from the entire array:\n",
    "\n",
    "import numpy as np\n",
    "\n",
    "arr = np.array([1, 2, 3, 4, 5, 6, 7])\n",
    "\n",
    "print(arr[::2]) # NOTE: This output elicits a result in which the count starts from the beginning of the array, and moves every two steps."
   ]
  },
  {
   "cell_type": "markdown",
   "id": "deb2395e",
   "metadata": {},
   "source": [
    "Slicing 2-D Arrays"
   ]
  },
  {
   "cell_type": "code",
   "execution_count": 146,
   "id": "d922bb17",
   "metadata": {},
   "outputs": [
    {
     "name": "stdout",
     "output_type": "stream",
     "text": [
      "[7 8 9]\n"
     ]
    }
   ],
   "source": [
    "# From the second element, slice elements from index 1 to index 4 (not included):\n",
    "\n",
    "import numpy as np\n",
    "\n",
    "arr = np.array([[1, 2, 3, 4, 5], [6, 7, 8, 9, 10]])\n",
    "\n",
    "print(arr[1, 1:4])"
   ]
  },
  {
   "cell_type": "markdown",
   "id": "ee1bd88e",
   "metadata": {},
   "source": [
    "Note: From the example above, remember that second element has index 1."
   ]
  },
  {
   "cell_type": "code",
   "execution_count": 147,
   "id": "b37b87bf",
   "metadata": {},
   "outputs": [
    {
     "name": "stdout",
     "output_type": "stream",
     "text": [
      "[3 8]\n"
     ]
    }
   ],
   "source": [
    "# From both elements, return index 2:\n",
    "\n",
    "import numpy as np\n",
    "\n",
    "arr = np.array([[1, 2, 3, 4, 5], [6, 7, 8, 9, 10]])\n",
    "\n",
    "print(arr[0:2, 2])"
   ]
  },
  {
   "cell_type": "markdown",
   "id": "f41fc285",
   "metadata": {},
   "source": [
    "A well detailed explanation on the code above\n",
    "\n",
    "From the above array, \n",
    "\n",
    "[[ 1  2  3  4  5]     ← row index 0\n",
    " [ 6  7  8  9 10]]    ← row index 1\n",
    "    ↑  ↑  ↑  ↑  ↑\n",
    "  col0 col1 col2 col3 col4\n",
    "\n",
    "It’s a 2x5 matrix (2 rows, 5 columns).\n",
    "\n",
    "This is a slice and index operation combined:\n",
    "\n",
    "arr[0:2, 2] reads as:\n",
    "\n",
    "* Get rows 0 up to (but not including) 2\n",
    "* And from those rows, get the element at column index 2\n",
    "\n",
    "By analyzing it:\n",
    "\n",
    "* 0:2 → selects both rows: row 0 and row 1\n",
    "\n",
    "* 2 → selects the 3rd column (indexing starts at 0)\n",
    "\n",
    "So this line is retrieving the element at column 2 for both rows.\n",
    "\n",
    "That means:\n",
    "\n",
    "From row 0 → column 2: 3\n",
    "\n",
    "From row 1 → column 2: 8"
   ]
  },
  {
   "cell_type": "code",
   "execution_count": 148,
   "id": "dc6061f5",
   "metadata": {},
   "outputs": [
    {
     "name": "stdout",
     "output_type": "stream",
     "text": [
      "[[2 3 4]\n",
      " [7 8 9]]\n"
     ]
    }
   ],
   "source": [
    "# From both elements, slice index 1 to index 4 (not included), this will return a 2-D array:\n",
    "\n",
    "import numpy as np\n",
    "\n",
    "arr = np.array([[1, 2, 3, 4, 5], [6, 7, 8, 9, 10]])\n",
    "\n",
    "print(arr[0:2, 1:4])"
   ]
  },
  {
   "cell_type": "markdown",
   "id": "5510be20",
   "metadata": {},
   "source": [
    "Here's is a well detailed explanation on the example above:\n",
    "\n",
    "🔸 Syntax: arr[row_start:row_end, column_start:column_end]\n",
    "\n",
    "* 0:2 → selects rows from index 0 up to but not including 2.\n",
    "\n",
    " So this includes row 0 and row 1.\n",
    "\n",
    "* 1:4 → selects columns from index 1 up to but not including 4.\n",
    "\n",
    " → So this includes column 1, column 2, and column 3.\n",
    "\n",
    " That means:\n",
    "We are selecting the intersection of:\n",
    "\n",
    "Rows: 0 and 1\n",
    "\n",
    "Columns: 1, 2, and 3\n",
    "\n",
    "After successfully carrying out the slicing and indexing, the result will be a 2x3 NumPy array representing the selected block."
   ]
  },
  {
   "cell_type": "markdown",
   "id": "560e66b5",
   "metadata": {},
   "source": [
    "NumPy Data Types"
   ]
  },
  {
   "cell_type": "markdown",
   "id": "8e1ddf93",
   "metadata": {},
   "source": [
    "Data Types in Python\n",
    "By default Python have these data types:\n",
    "\n",
    "* strings - used to represent text data, the text is given under quote marks. e.g. \"ABCD\"\n",
    "* integer - used to represent integer numbers. e.g. -1, -2, -3\n",
    "* float - used to represent real numbers. e.g. 1.2, 42.42\n",
    "* boolean - used to represent True or False.\n",
    "* complex - used to represent complex numbers. e.g. 1.0 + 2.0j, 1.5 + 2.5j"
   ]
  },
  {
   "cell_type": "markdown",
   "id": "45275de3",
   "metadata": {},
   "source": [
    "Data Types in NumPy\n",
    "NumPy has some extra data types, and refer to data types with one character, like i for integers, u for unsigned integers etc.\n",
    "\n",
    "Below is a list of all data types in NumPy and the characters used to represent them.\n",
    "\n",
    "* i - integer\n",
    "* b - boolean\n",
    "* u - unsigned integer\n",
    "* f - float\n",
    "* c - complex float\n",
    "* m - timedelta\n",
    "* M - datetime\n",
    "* O - object\n",
    "* S - string\n",
    "* U - unicode string\n",
    "* V - fixed chunk of memory for other type ( void )"
   ]
  },
  {
   "cell_type": "markdown",
   "id": "426061b5",
   "metadata": {},
   "source": [
    "Checking the Data Type of an Array\n",
    "\n",
    "The NumPy array object has a property called dtype that returns the data type of the array:"
   ]
  },
  {
   "cell_type": "code",
   "execution_count": 149,
   "id": "825f624b",
   "metadata": {},
   "outputs": [
    {
     "name": "stdout",
     "output_type": "stream",
     "text": [
      "int32\n"
     ]
    }
   ],
   "source": [
    "# Get the data type of an array object:\n",
    "\n",
    "import numpy as np\n",
    "\n",
    "arr = np.array([1, 2, 3, 4])\n",
    "\n",
    "print(arr.dtype)"
   ]
  },
  {
   "cell_type": "code",
   "execution_count": 150,
   "id": "67da2c72",
   "metadata": {},
   "outputs": [
    {
     "name": "stdout",
     "output_type": "stream",
     "text": [
      "<U6\n"
     ]
    }
   ],
   "source": [
    "# Get the data type of an array containing strings:\n",
    "\n",
    "import numpy as np\n",
    "\n",
    "arr = np.array(['apple', 'banana', 'cherry'])\n",
    "\n",
    "print(arr.dtype)"
   ]
  },
  {
   "cell_type": "markdown",
   "id": "2dc33d2c",
   "metadata": {},
   "source": [
    "Creating Arrays With a Defined Data Type"
   ]
  },
  {
   "cell_type": "markdown",
   "id": "8f027195",
   "metadata": {},
   "source": [
    "We use the array() function to create arrays, this function can take an optional argument: dtype that allows us to define the expected data type of the array elements:"
   ]
  },
  {
   "cell_type": "code",
   "execution_count": 151,
   "id": "0100ed18",
   "metadata": {},
   "outputs": [
    {
     "name": "stdout",
     "output_type": "stream",
     "text": [
      "[b'1' b'2' b'3' b'4']\n",
      "|S1\n"
     ]
    }
   ],
   "source": [
    "# import numpy as np\n",
    "\n",
    "arr = np.array([1, 2, 3, 4], dtype='S')\n",
    "\n",
    "print(arr)\n",
    "print(arr.dtype)"
   ]
  },
  {
   "cell_type": "markdown",
   "id": "8ef948c6",
   "metadata": {},
   "source": [
    "From the code in the example above,\n",
    "\n",
    "[1, 2, 3, 4] is a list of integers.\n",
    "* ◾ dtype='S' tells NumPy to store the data as:\n",
    "Byte strings (not regular strings or integers).\n",
    "\n",
    "🔸 What is a Byte String ('S') in NumPy?\n",
    "\n",
    "'S' means string stored as bytes — also called ASCII string or byte string.\n",
    "\n",
    "Each element will be converted to a byte-representation of a string.\n",
    "\n",
    "So:\n",
    "\n",
    "1 becomes b'1'\n",
    "\n",
    "2 becomes b'2'\n",
    "\n",
    "etc.\n",
    "\n",
    "🔸 What happens under the hood?\n",
    "* NumPy automatically determines the maximum string length based on the input.\n",
    "\n",
    "In this case, all numbers are single-digit, so the byte string will be of type |S1:\n",
    "\n",
    "| → means \"native byte order\"\n",
    "\n",
    "S1 → means a byte string of length 1\n",
    "\n",
    "If you had longer strings (e.g., '10', '200'), NumPy would automatically upgrade the length (e.g., S3, S4, etc.)."
   ]
  },
  {
   "cell_type": "markdown",
   "id": "6cb9cae8",
   "metadata": {},
   "source": [
    "NOTE => i, u, f, S and U we can define size as well."
   ]
  },
  {
   "cell_type": "code",
   "execution_count": 152,
   "id": "14228092",
   "metadata": {},
   "outputs": [
    {
     "name": "stdout",
     "output_type": "stream",
     "text": [
      "[1 2 3 4]\n",
      "int32\n"
     ]
    }
   ],
   "source": [
    "# Create an array with data type 4 bytes integer:\n",
    "\n",
    "import numpy as np\n",
    "\n",
    "arr = np.array([1, 2, 3, 4], dtype='i4')\n",
    "\n",
    "print(arr)\n",
    "print(arr.dtype)"
   ]
  },
  {
   "cell_type": "markdown",
   "id": "7bccce62",
   "metadata": {},
   "source": [
    "What if a Value Can Not Be Converted?\n",
    "\n",
    "If a type is given in which elements can't be casted then NumPy will raise a ValueError.\n",
    "\n",
    "* ValueError: In Python ValueError is raised when the type of passed argument to a function is unexpected/incorrect."
   ]
  },
  {
   "cell_type": "code",
   "execution_count": 153,
   "id": "51e69c6a",
   "metadata": {},
   "outputs": [
    {
     "ename": "ValueError",
     "evalue": "invalid literal for int() with base 10: 'a'",
     "output_type": "error",
     "traceback": [
      "\u001b[1;31m---------------------------------------------------------------------------\u001b[0m",
      "\u001b[1;31mValueError\u001b[0m                                Traceback (most recent call last)",
      "Cell \u001b[1;32mIn[153], line 5\u001b[0m\n\u001b[0;32m      1\u001b[0m \u001b[38;5;66;03m# A non integer string like 'a' can not be converted to integer (will raise an error):\u001b[39;00m\n\u001b[0;32m      3\u001b[0m \u001b[38;5;28;01mimport\u001b[39;00m \u001b[38;5;21;01mnumpy\u001b[39;00m \u001b[38;5;28;01mas\u001b[39;00m \u001b[38;5;21;01mnp\u001b[39;00m\n\u001b[1;32m----> 5\u001b[0m arr \u001b[38;5;241m=\u001b[39m np\u001b[38;5;241m.\u001b[39marray([\u001b[38;5;124m'\u001b[39m\u001b[38;5;124ma\u001b[39m\u001b[38;5;124m'\u001b[39m, \u001b[38;5;124m'\u001b[39m\u001b[38;5;124m2\u001b[39m\u001b[38;5;124m'\u001b[39m, \u001b[38;5;124m'\u001b[39m\u001b[38;5;124m3\u001b[39m\u001b[38;5;124m'\u001b[39m], dtype\u001b[38;5;241m=\u001b[39m\u001b[38;5;124m'\u001b[39m\u001b[38;5;124mi\u001b[39m\u001b[38;5;124m'\u001b[39m)\n",
      "\u001b[1;31mValueError\u001b[0m: invalid literal for int() with base 10: 'a'"
     ]
    }
   ],
   "source": [
    "# A non integer string like 'a' can not be converted to integer (will raise an error):\n",
    "\n",
    "import numpy as np\n",
    "\n",
    "arr = np.array(['a', '2', '3'], dtype='i')"
   ]
  },
  {
   "cell_type": "markdown",
   "id": "30d3ba2f",
   "metadata": {},
   "source": [
    "Converting Data Type on Existing Arrays"
   ]
  },
  {
   "cell_type": "markdown",
   "id": "e4dfb3e3",
   "metadata": {},
   "source": [
    "The best way to change the data type of an existing array, is to make a copy of the array with the astype() method.\n",
    "\n",
    "The astype() function creates a copy of the array, and allows you to specify the data type as a parameter.\n",
    "\n",
    "The data type can be specified using a string, like 'f' for float, 'i' for integer etc. or you can use the data type directly like float for float and int for integer."
   ]
  },
  {
   "cell_type": "code",
   "execution_count": null,
   "id": "0ac2e96b",
   "metadata": {},
   "outputs": [
    {
     "name": "stdout",
     "output_type": "stream",
     "text": [
      "float64\n",
      "[1 2 3]\n",
      "int32\n"
     ]
    }
   ],
   "source": [
    "# Change data type from float to integer by using 'i' as parameter value:\n",
    "\n",
    "import numpy as np\n",
    "\n",
    "arr = np.array([1.1, 2.1, 3.1])\n",
    "\n",
    "newarr = arr.astype('i')\n",
    "\n",
    "print(arr.dtype)\n",
    "print(newarr)\n",
    "print(newarr.dtype)"
   ]
  },
  {
   "cell_type": "code",
   "execution_count": null,
   "id": "1ba15f8f",
   "metadata": {},
   "outputs": [
    {
     "name": "stdout",
     "output_type": "stream",
     "text": [
      "[1 2 3]\n",
      "int32\n"
     ]
    }
   ],
   "source": [
    "# Change data type from float to integer by using int as parameter value:\n",
    "\n",
    "import numpy as np\n",
    "\n",
    "arr = np.array([1.1, 2.1, 3.1])\n",
    "\n",
    "newarr = arr.astype(int)\n",
    "\n",
    "print(newarr)\n",
    "print(newarr.dtype)"
   ]
  },
  {
   "cell_type": "code",
   "execution_count": null,
   "id": "916e1fe8",
   "metadata": {},
   "outputs": [
    {
     "name": "stdout",
     "output_type": "stream",
     "text": [
      "[ True False  True]\n",
      "bool\n"
     ]
    }
   ],
   "source": [
    "# Change data type from integer to boolean:\n",
    "\n",
    "import numpy as np\n",
    "\n",
    "arr = np.array([1, 0, 3])\n",
    "\n",
    "newarr = arr.astype(bool)\n",
    "\n",
    "print(newarr)\n",
    "print(newarr.dtype)"
   ]
  },
  {
   "cell_type": "markdown",
   "id": "669c0143",
   "metadata": {},
   "source": [
    "NumPy Array Copy vs View"
   ]
  },
  {
   "cell_type": "markdown",
   "id": "a664423d",
   "metadata": {},
   "source": [
    "The Difference Between Copy and View\n",
    "\n",
    "The main difference between a copy and a view of an array is that the copy is a new array, and the view is just a view of the original array.\n",
    "\n",
    "The copy owns the data and any changes made to the copy will not affect original array, and any changes made to the original array will not affect the copy.\n",
    "\n",
    "The view does not own the data and any changes made to the view will affect the original array, and any changes made to the original array will affect the view."
   ]
  },
  {
   "cell_type": "markdown",
   "id": "9a706c7a",
   "metadata": {},
   "source": [
    "COPY:"
   ]
  },
  {
   "cell_type": "code",
   "execution_count": null,
   "id": "d8abfc6f",
   "metadata": {},
   "outputs": [
    {
     "name": "stdout",
     "output_type": "stream",
     "text": [
      "[42  2  3  4  5]\n",
      "[1 2 3 4 5]\n"
     ]
    }
   ],
   "source": [
    "# Make a copy, change the original array, and display both arrays:\n",
    "\n",
    "import numpy as np\n",
    "\n",
    "arr = np.array([1, 2, 3, 4, 5])\n",
    "x = arr.copy()\n",
    "arr[0] = 42\n",
    "\n",
    "print(arr)\n",
    "print(x)"
   ]
  },
  {
   "cell_type": "markdown",
   "id": "fda5a55c",
   "metadata": {},
   "source": [
    "The copy SHOULD NOT be affected by the changes made to the original array."
   ]
  },
  {
   "cell_type": "code",
   "execution_count": null,
   "id": "2cf46935",
   "metadata": {},
   "outputs": [
    {
     "name": "stdout",
     "output_type": "stream",
     "text": [
      "[42  2  3  4  5]\n",
      "[42  2  3  4  5]\n"
     ]
    }
   ],
   "source": [
    "# Make a view, change the original array, and display both arrays:\n",
    "\n",
    "import numpy as np\n",
    "\n",
    "arr = np.array([1, 2, 3, 4, 5])\n",
    "x = arr.view()\n",
    "arr[0] = 42\n",
    "\n",
    "print(arr)\n",
    "print(x)"
   ]
  },
  {
   "cell_type": "markdown",
   "id": "47dd6ab7",
   "metadata": {},
   "source": [
    "NOTE => The view SHOULD be affected by the changes made to the original array."
   ]
  },
  {
   "cell_type": "markdown",
   "id": "aa9515b0",
   "metadata": {},
   "source": [
    "Make Changes in the VIEW:"
   ]
  },
  {
   "cell_type": "code",
   "execution_count": null,
   "id": "09e6f5a5",
   "metadata": {},
   "outputs": [
    {
     "name": "stdout",
     "output_type": "stream",
     "text": [
      "[31  2  3  4  5]\n",
      "[31  2  3  4  5]\n"
     ]
    }
   ],
   "source": [
    "# Make a view, change the view, and display both arrays:\n",
    "\n",
    "import numpy as np\n",
    "\n",
    "arr = np.array([1, 2, 3, 4, 5])\n",
    "x = arr.view()\n",
    "x[0] = 31\n",
    "\n",
    "print(arr)\n",
    "print(x)"
   ]
  },
  {
   "cell_type": "markdown",
   "id": "58f5c320",
   "metadata": {},
   "source": [
    "NOTE => The original array SHOULD be affected by the changes made to the view."
   ]
  },
  {
   "cell_type": "markdown",
   "id": "04666d4e",
   "metadata": {},
   "source": [
    "Check if Array Owns its Data"
   ]
  },
  {
   "cell_type": "markdown",
   "id": "12d1c67b",
   "metadata": {},
   "source": [
    "As mentioned above, copies owns the data, and views does not own the data, but how can we check this?\n",
    "\n",
    "Every NumPy array has the attribute base that returns None if the array owns the data.\n",
    "\n",
    "Otherwise, the base  attribute refers to the original object."
   ]
  },
  {
   "cell_type": "code",
   "execution_count": null,
   "id": "7c96f112",
   "metadata": {},
   "outputs": [
    {
     "name": "stdout",
     "output_type": "stream",
     "text": [
      "None\n",
      "[1 2 3 4 5]\n"
     ]
    }
   ],
   "source": [
    "# Print the value of the base attribute to check if an array owns it's data or not:\n",
    "\n",
    "import numpy as np\n",
    "\n",
    "arr = np.array([1, 2, 3, 4, 5])\n",
    "\n",
    "x = arr.copy()\n",
    "y = arr.view()\n",
    "\n",
    "print(x.base)\n",
    "print(y.base)"
   ]
  },
  {
   "cell_type": "markdown",
   "id": "2760c7e4",
   "metadata": {},
   "source": [
    "NOTE => The copy returns None.\n",
    "The view returns the original array."
   ]
  },
  {
   "cell_type": "markdown",
   "id": "381fce23",
   "metadata": {},
   "source": [
    "NumPy Array Shape"
   ]
  },
  {
   "cell_type": "markdown",
   "id": "66c4b3da",
   "metadata": {},
   "source": [
    "Shape of an Array\n",
    "\n",
    "The shape of an array is the number of elements in each dimension."
   ]
  },
  {
   "cell_type": "markdown",
   "id": "6339dec0",
   "metadata": {},
   "source": [
    "Get the Shape of an Array\n",
    "NumPy arrays have an attribute called shape that returns a tuple with each index having the number of corresponding elements."
   ]
  },
  {
   "cell_type": "code",
   "execution_count": null,
   "id": "e187c97a",
   "metadata": {},
   "outputs": [
    {
     "name": "stdout",
     "output_type": "stream",
     "text": [
      "(2, 4)\n"
     ]
    }
   ],
   "source": [
    "# Print the shape of a 2-D array:\n",
    "\n",
    "import numpy as np\n",
    "\n",
    "arr = np.array([[1, 2, 3, 4], [5, 6, 7, 8]])\n",
    "\n",
    "print(arr.shape)"
   ]
  },
  {
   "cell_type": "markdown",
   "id": "73278e56",
   "metadata": {},
   "source": [
    "The example above returns (2, 4), which means that the array has 2 dimensions, where the first dimension has 2 elements and the second has 4."
   ]
  },
  {
   "cell_type": "code",
   "execution_count": null,
   "id": "21e240df",
   "metadata": {},
   "outputs": [
    {
     "name": "stdout",
     "output_type": "stream",
     "text": [
      "[[[[[1 2 3 4]]]]]\n",
      "shape of array : (1, 1, 1, 1, 4)\n"
     ]
    }
   ],
   "source": [
    "# Create an array with 5 dimensions using ndmin using a vector with values 1,2,3,4 and verify that last dimension has value 4:\n",
    "\n",
    "import numpy as np\n",
    "\n",
    "arr = np.array([1, 2, 3, 4], ndmin=5)\n",
    "\n",
    "print(arr)\n",
    "print('shape of array :', arr.shape)"
   ]
  },
  {
   "cell_type": "markdown",
   "id": "c917f45d",
   "metadata": {},
   "source": [
    "What does the shape tuple represent?\n",
    "\n",
    "Integers at every index tells about the number of elements the corresponding dimension has.\n",
    "\n",
    "In the example above at index-4 we have value 4, so we can say that 5th ( 4 + 1 th) dimension has 4 elements."
   ]
  },
  {
   "cell_type": "markdown",
   "id": "96e40fe4",
   "metadata": {},
   "source": [
    "NumPy Array Reshaping"
   ]
  },
  {
   "cell_type": "markdown",
   "id": "e1c55563",
   "metadata": {},
   "source": [
    "Reshaping arrays\n",
    "\n",
    "Reshaping means changing the shape of an array.\n",
    "\n",
    "The shape of an array is the number of elements in each dimension.\n",
    "\n",
    "By reshaping we can add or remove dimensions or change number of elements in each dimension."
   ]
  },
  {
   "cell_type": "markdown",
   "id": "9050c96e",
   "metadata": {},
   "source": [
    "Reshape From 1-D to 2-D"
   ]
  },
  {
   "cell_type": "code",
   "execution_count": null,
   "id": "d3026754",
   "metadata": {},
   "outputs": [
    {
     "name": "stdout",
     "output_type": "stream",
     "text": [
      "[[ 1  2  3]\n",
      " [ 4  5  6]\n",
      " [ 7  8  9]\n",
      " [10 11 12]]\n"
     ]
    }
   ],
   "source": [
    "#  Example\n",
    "# Convert the following 1-D array with 12 elements into a 2-D array.\n",
    "\n",
    "# The outermost dimension will have 4 arrays, each with 3 elements:\n",
    "\n",
    "import numpy as np\n",
    "\n",
    "arr = np.array([1, 2, 3, 4, 5, 6, 7, 8, 9, 10, 11, 12])\n",
    "\n",
    "newarr = arr.reshape(4, 3)\n",
    "\n",
    "print(newarr)"
   ]
  },
  {
   "cell_type": "markdown",
   "id": "32285fe7",
   "metadata": {},
   "source": [
    "Reshape From 1-D to 3-D"
   ]
  },
  {
   "cell_type": "code",
   "execution_count": null,
   "id": "6e83f7e3",
   "metadata": {},
   "outputs": [
    {
     "name": "stdout",
     "output_type": "stream",
     "text": [
      "[[[ 1  2]\n",
      "  [ 3  4]\n",
      "  [ 5  6]]\n",
      "\n",
      " [[ 7  8]\n",
      "  [ 9 10]\n",
      "  [11 12]]]\n"
     ]
    }
   ],
   "source": [
    "# Example\n",
    "# Convert the following 1-D array with 12 elements into a 3-D array.\n",
    "\n",
    "# The outermost dimension will have 2 arrays that contains 3 arrays, each with 2 elements:\n",
    "\n",
    "import numpy as np\n",
    "\n",
    "arr = np.array([1, 2, 3, 4, 5, 6, 7, 8, 9, 10, 11, 12])\n",
    "\n",
    "newarr = arr.reshape(2, 3, 2)\n",
    "\n",
    "print(newarr)"
   ]
  },
  {
   "cell_type": "markdown",
   "id": "f0b7eec5",
   "metadata": {},
   "source": [
    "Can We Reshape Into any Shape?\n",
    "\n",
    "Yes, as long as the elements required for reshaping are equal in both shapes.\n",
    "\n",
    "We can reshape an 8 elements 1D array into 4 elements in 2 rows 2D array but we cannot reshape it into a 3 elements 3 rows 2D array as that would require 3x3 = 9 elements."
   ]
  },
  {
   "cell_type": "code",
   "execution_count": null,
   "id": "ca635fbb",
   "metadata": {},
   "outputs": [
    {
     "ename": "ValueError",
     "evalue": "cannot reshape array of size 8 into shape (3,3)",
     "output_type": "error",
     "traceback": [
      "\u001b[1;31m---------------------------------------------------------------------------\u001b[0m",
      "\u001b[1;31mValueError\u001b[0m                                Traceback (most recent call last)",
      "Cell \u001b[1;32mIn[3], line 8\u001b[0m\n\u001b[0;32m      4\u001b[0m \u001b[38;5;28;01mimport\u001b[39;00m \u001b[38;5;21;01mnumpy\u001b[39;00m \u001b[38;5;28;01mas\u001b[39;00m \u001b[38;5;21;01mnp\u001b[39;00m\n\u001b[0;32m      6\u001b[0m arr \u001b[38;5;241m=\u001b[39m np\u001b[38;5;241m.\u001b[39marray([\u001b[38;5;241m1\u001b[39m, \u001b[38;5;241m2\u001b[39m, \u001b[38;5;241m3\u001b[39m, \u001b[38;5;241m4\u001b[39m, \u001b[38;5;241m5\u001b[39m, \u001b[38;5;241m6\u001b[39m, \u001b[38;5;241m7\u001b[39m, \u001b[38;5;241m8\u001b[39m])\n\u001b[1;32m----> 8\u001b[0m newarr \u001b[38;5;241m=\u001b[39m arr\u001b[38;5;241m.\u001b[39mreshape(\u001b[38;5;241m3\u001b[39m, \u001b[38;5;241m3\u001b[39m)\n\u001b[0;32m     10\u001b[0m \u001b[38;5;28mprint\u001b[39m(newarr)\n",
      "\u001b[1;31mValueError\u001b[0m: cannot reshape array of size 8 into shape (3,3)"
     ]
    }
   ],
   "source": [
    "# Example\n",
    "# Try converting 1D array with 8 elements to a 2D array with 3 elements in each dimension (will raise an error):\n",
    "\n",
    "import numpy as np\n",
    "\n",
    "arr = np.array([1, 2, 3, 4, 5, 6, 7, 8])\n",
    "\n",
    "newarr = arr.reshape(3, 3)\n",
    "\n",
    "print(newarr)\n"
   ]
  },
  {
   "cell_type": "markdown",
   "id": "77f80b7d",
   "metadata": {},
   "source": [
    "Returns Copy or View?"
   ]
  },
  {
   "cell_type": "code",
   "execution_count": null,
   "id": "6ec879f6",
   "metadata": {},
   "outputs": [
    {
     "name": "stdout",
     "output_type": "stream",
     "text": [
      "[[1 2 3 4]\n",
      " [5 6 7 8]]\n",
      "[1 2 3 4 5 6 7 8]\n"
     ]
    }
   ],
   "source": [
    "# Example\n",
    "# Check if the returned array is a copy or a view:\n",
    "\n",
    "import numpy as np\n",
    "\n",
    "arr = np.array([1, 2, 3, 4, 5, 6, 7, 8])\n",
    "\n",
    "print(arr.reshape(2, 4).base)"
   ]
  },
  {
   "cell_type": "markdown",
   "id": "450e181a",
   "metadata": {},
   "source": [
    "NOTE => The example above returns the original array, so it is a view."
   ]
  },
  {
   "cell_type": "markdown",
   "id": "21b0a537",
   "metadata": {},
   "source": [
    "Unknown Dimension\n",
    "\n",
    "You are allowed to have one \"unknown\" dimension.\n",
    "\n",
    "Meaning that you do not have to specify an exact number for one of the dimensions in the reshape method.\n",
    "\n",
    "Pass -1 as the value, and NumPy will calculate this number for you."
   ]
  },
  {
   "cell_type": "code",
   "execution_count": null,
   "id": "49a5ad86",
   "metadata": {},
   "outputs": [
    {
     "name": "stdout",
     "output_type": "stream",
     "text": [
      "[[[1 2]\n",
      "  [3 4]]\n",
      "\n",
      " [[5 6]\n",
      "  [7 8]]]\n"
     ]
    }
   ],
   "source": [
    "# Example\n",
    "# Convert 1D array with 8 elements to 3D array with 2x2 elements:\n",
    "\n",
    "import numpy as np\n",
    "\n",
    "arr = np.array([1, 2, 3, 4, 5, 6, 7, 8])\n",
    "\n",
    "newarr = arr.reshape(2, 2, -1)\n",
    "\n",
    "print(newarr)"
   ]
  },
  {
   "cell_type": "markdown",
   "id": "5256fcdf",
   "metadata": {},
   "source": [
    "NOTE => We can not pass -1 to more than one dimension."
   ]
  },
  {
   "cell_type": "markdown",
   "id": "ba7fc843",
   "metadata": {},
   "source": [
    "Flattening the arrays\n",
    "\n",
    "Flattening array means converting a multidimensional array into a 1D array.\n",
    "\n",
    "We can use reshape(-1) to do this."
   ]
  },
  {
   "cell_type": "markdown",
   "id": "446f99e6",
   "metadata": {},
   "source": [
    "Note: There are a lot of functions for changing the shapes of arrays in numpy flatten, ravel and also for rearranging the elements rot90, flip, fliplr, flipud etc. These fall under Intermediate to Advanced section of numpy."
   ]
  },
  {
   "cell_type": "markdown",
   "id": "965c52e6",
   "metadata": {},
   "source": [
    "NumPy Array Iterating"
   ]
  },
  {
   "cell_type": "markdown",
   "id": "c9722b65",
   "metadata": {},
   "source": [
    "Iterating Arrays\n",
    "\n",
    "Iterating means going through elements one by one.\n",
    "\n",
    "As we deal with multi-dimensional arrays in numpy, we can do this using basic for loop of python.\n",
    "\n",
    "If we iterate on a 1-D array it will go through each element one by one."
   ]
  },
  {
   "cell_type": "code",
   "execution_count": null,
   "id": "997006d7",
   "metadata": {},
   "outputs": [
    {
     "name": "stdout",
     "output_type": "stream",
     "text": [
      "1\n",
      "2\n",
      "3\n"
     ]
    }
   ],
   "source": [
    "# Example\n",
    "\n",
    "# Iterate on the elements of the following 1-D array:\n",
    "\n",
    "import numpy as np\n",
    "\n",
    "arr = np.array([1, 2, 3])\n",
    "\n",
    "for x in arr:\n",
    "  print(x)"
   ]
  },
  {
   "cell_type": "markdown",
   "id": "e5331fa1",
   "metadata": {},
   "source": [
    "Iterating 2-D Arrays\n",
    "\n",
    "In a 2-D array it will go through all the rows."
   ]
  },
  {
   "cell_type": "code",
   "execution_count": null,
   "id": "a8e95b75",
   "metadata": {},
   "outputs": [
    {
     "name": "stdout",
     "output_type": "stream",
     "text": [
      "[1 2 3]\n",
      "[4 5 6]\n"
     ]
    }
   ],
   "source": [
    "# Example\n",
    "# Iterate on the elements of the following 2-D array:\n",
    "\n",
    "import numpy as np\n",
    "\n",
    "arr = np.array([[1, 2, 3], [4, 5, 6]])\n",
    "\n",
    "for x in arr:\n",
    "  print(x)\n"
   ]
  },
  {
   "cell_type": "markdown",
   "id": "d3a9c4ad",
   "metadata": {},
   "source": [
    "If we iterate on a n-D array it will go through n-1th dimension one by one."
   ]
  },
  {
   "cell_type": "markdown",
   "id": "877b1ad3",
   "metadata": {},
   "source": [
    "To return the actual values, the scalars, we have to iterate the arrays in each dimension."
   ]
  },
  {
   "cell_type": "code",
   "execution_count": null,
   "id": "c79dd3c1",
   "metadata": {},
   "outputs": [
    {
     "name": "stdout",
     "output_type": "stream",
     "text": [
      "1\n",
      "2\n",
      "3\n",
      "4\n",
      "5\n",
      "6\n"
     ]
    }
   ],
   "source": [
    "# Example\n",
    "\n",
    "# Iterate on each scalar element of the 2-D array:\n",
    "\n",
    "import numpy as np\n",
    "\n",
    "arr = np.array([[1, 2, 3], [4, 5, 6]])\n",
    "\n",
    "for x in arr:\n",
    "  for y in x:\n",
    "    print(y)"
   ]
  },
  {
   "cell_type": "markdown",
   "id": "c4fb54f6",
   "metadata": {},
   "source": [
    "Iterating 3-D Arrays\n",
    "\n",
    "In a 3-D array it will go through all the 2-D arrays."
   ]
  },
  {
   "cell_type": "code",
   "execution_count": null,
   "id": "3405e3c1",
   "metadata": {},
   "outputs": [
    {
     "name": "stdout",
     "output_type": "stream",
     "text": [
      "[[1 2 3]\n",
      " [4 5 6]]\n",
      "[[ 7  8  9]\n",
      " [10 11 12]]\n"
     ]
    }
   ],
   "source": [
    "# Example\n",
    "# Iterate on the elements of the following 3-D array:\n",
    "\n",
    "import numpy as np\n",
    "\n",
    "arr = np.array([[[1, 2, 3], [4, 5, 6]], [[7, 8, 9], [10, 11, 12]]])\n",
    "\n",
    "for x in arr:\n",
    "  print(x)"
   ]
  },
  {
   "cell_type": "markdown",
   "id": "bdaf21ed",
   "metadata": {},
   "source": [
    "To return the actual values, the scalars, we have to iterate the arrays in each dimension."
   ]
  },
  {
   "cell_type": "code",
   "execution_count": 12,
   "id": "5926be8f",
   "metadata": {},
   "outputs": [
    {
     "name": "stdout",
     "output_type": "stream",
     "text": [
      "1\n",
      "2\n",
      "3\n",
      "4\n",
      "5\n",
      "6\n",
      "7\n",
      "8\n",
      "9\n",
      "10\n",
      "11\n",
      "12\n"
     ]
    }
   ],
   "source": [
    "# Example\n",
    "# Iterate down to the scalars:\n",
    "\n",
    "import numpy as np\n",
    "\n",
    "arr = np.array([[[1, 2, 3], [4, 5, 6]], [[7, 8, 9], [10, 11, 12]]])\n",
    "\n",
    "for x in arr:\n",
    "  for y in x:\n",
    "    for z in y:\n",
    "      print(z)\n"
   ]
  },
  {
   "cell_type": "markdown",
   "id": "c42dfd2e",
   "metadata": {},
   "source": [
    "Iterating Arrays Using nditer()\n",
    "\n",
    "The function nditer() is a helping function that can be used from very basic to very advanced iterations. It solves some basic issues which we face in iteration, lets go through it with examples.\n",
    "\n",
    "Iterating on Each Scalar Element\n",
    "In basic for loops, iterating through each scalar of an array we need to use n for loops which can be difficult to write for arrays with very high dimensionality."
   ]
  },
  {
   "cell_type": "code",
   "execution_count": null,
   "id": "8f1cccb5",
   "metadata": {},
   "outputs": [
    {
     "name": "stdout",
     "output_type": "stream",
     "text": [
      "1\n",
      "2\n",
      "3\n",
      "4\n",
      "5\n",
      "6\n",
      "7\n",
      "8\n"
     ]
    }
   ],
   "source": [
    "# Example\n",
    "# Iterate through the following 3-D array:\n",
    "\n",
    "import numpy as np\n",
    "\n",
    "arr = np.array([[[1, 2], [3, 4]], [[5, 6], [7, 8]]])\n",
    "\n",
    "for x in np.nditer(arr):\n",
    "  print(x)"
   ]
  },
  {
   "cell_type": "markdown",
   "id": "dfe19e33",
   "metadata": {},
   "source": [
    "Iterating Array With Different Data Types\n",
    "\n",
    "We can use op_dtypes argument and pass it the expected datatype to change the datatype of elements while iterating.\n",
    "\n",
    "NumPy does not change the data type of the element in-place (where the element is in array) so it needs some other space to perform this action, that extra space is called buffer, and in order to enable it in nditer() we pass flags=['buffered']."
   ]
  },
  {
   "cell_type": "code",
   "execution_count": null,
   "id": "aee2e8d7",
   "metadata": {},
   "outputs": [
    {
     "name": "stdout",
     "output_type": "stream",
     "text": [
      "b'1'\n",
      "b'2'\n",
      "b'3'\n"
     ]
    }
   ],
   "source": [
    "# Example\n",
    "# Iterate through the array as a string:\n",
    "\n",
    "import numpy as np\n",
    "\n",
    "arr = np.array([1, 2, 3])\n",
    "\n",
    "for x in np.nditer(arr, flags=['buffered'], op_dtypes=['S']):\n",
    "  print(x)"
   ]
  },
  {
   "cell_type": "markdown",
   "id": "54c08556",
   "metadata": {},
   "source": [
    "Iterating With Different Step Size\n",
    "\n",
    "We can use filtering and followed by iteration."
   ]
  },
  {
   "cell_type": "code",
   "execution_count": null,
   "id": "277ff559",
   "metadata": {},
   "outputs": [
    {
     "name": "stdout",
     "output_type": "stream",
     "text": [
      "1\n",
      "3\n",
      "5\n",
      "7\n"
     ]
    }
   ],
   "source": [
    "# Example\n",
    "# Iterate through every scalar element of the 2D array skipping 1 element:\n",
    "\n",
    "import numpy as np\n",
    "\n",
    "arr = np.array([[1, 2, 3, 4], [5, 6, 7, 8]])\n",
    "\n",
    "for x in np.nditer(arr[:, ::2]):\n",
    "  print(x)"
   ]
  },
  {
   "cell_type": "markdown",
   "id": "2f2863af",
   "metadata": {},
   "source": [
    "Enumerated Iteration Using ndenumerate()\n",
    "\n",
    "Enumeration means mentioning sequence number of somethings one by one.\n",
    "\n",
    "Sometimes we require corresponding index of the element while iterating, the ndenumerate() method can be used for those usecases."
   ]
  },
  {
   "cell_type": "code",
   "execution_count": null,
   "id": "03e018ce",
   "metadata": {},
   "outputs": [
    {
     "name": "stdout",
     "output_type": "stream",
     "text": [
      "(0,) 1\n",
      "(1,) 2\n",
      "(2,) 3\n"
     ]
    }
   ],
   "source": [
    "# Example\n",
    "# Enumerate on following 1D arrays elements:\n",
    "\n",
    "import numpy as np\n",
    "\n",
    "arr = np.array([1, 2, 3])\n",
    "\n",
    "for idx, x in np.ndenumerate(arr):\n",
    "  print(idx, x)"
   ]
  },
  {
   "cell_type": "code",
   "execution_count": null,
   "id": "cf511aca",
   "metadata": {},
   "outputs": [
    {
     "name": "stdout",
     "output_type": "stream",
     "text": [
      "(0, 0) 1\n",
      "(0, 1) 2\n",
      "(0, 2) 3\n",
      "(0, 3) 4\n",
      "(1, 0) 5\n",
      "(1, 1) 6\n",
      "(1, 2) 7\n",
      "(1, 3) 8\n"
     ]
    }
   ],
   "source": [
    "# Enumerate on following 2D array's elements:\n",
    "\n",
    "import numpy as np\n",
    "\n",
    "arr = np.array([[1, 2, 3, 4], [5, 6, 7, 8]])\n",
    "\n",
    "for idx, x in np.ndenumerate(arr):\n",
    "  print(idx, x)"
   ]
  },
  {
   "cell_type": "markdown",
   "id": "52281dd8",
   "metadata": {},
   "source": [
    "NumPy Joining Array\n",
    "\n",
    "Joining NumPy Arrays\n",
    "\n",
    "Joining means putting contents of two or more arrays in a single array.\n",
    "\n",
    "In SQL we join tables based on a key, whereas in NumPy we join arrays by axes.\n",
    "\n",
    "We pass a sequence of arrays that we want to join to the concatenate() function, along with the axis. If axis is not explicitly passed, it is taken as 0."
   ]
  },
  {
   "cell_type": "code",
   "execution_count": null,
   "id": "5c54127c",
   "metadata": {},
   "outputs": [
    {
     "name": "stdout",
     "output_type": "stream",
     "text": [
      "[1 2 3 4 5 6]\n"
     ]
    }
   ],
   "source": [
    "# Example\n",
    "# Get your own Python Server\n",
    "# Join two arrays\n",
    "\n",
    "import numpy as np\n",
    "\n",
    "arr1 = np.array([1, 2, 3])\n",
    "\n",
    "arr2 = np.array([4, 5, 6])\n",
    "\n",
    "arr = np.concatenate((arr1, arr2))\n",
    "\n",
    "print(arr)"
   ]
  },
  {
   "cell_type": "code",
   "execution_count": null,
   "id": "b502daba",
   "metadata": {},
   "outputs": [
    {
     "name": "stdout",
     "output_type": "stream",
     "text": [
      "[[1 2 5 6]\n",
      " [3 4 7 8]]\n",
      "[[1 2]\n",
      " [3 4]\n",
      " [5 6]\n",
      " [7 8]]\n"
     ]
    }
   ],
   "source": [
    "# Example\n",
    "# Join two 2-D arrays along rows (axis=1):\n",
    "\n",
    "import numpy as np\n",
    "\n",
    "arr1 = np.array([[1, 2], [3, 4]])\n",
    "\n",
    "arr2 = np.array([[5, 6], [7, 8]])\n",
    "\n",
    "arr = np.concatenate((arr1, arr2), axis=1)\n",
    "\n",
    "arra = np.concatenate((arr1, arr2), axis=0)\n",
    "\n",
    "print(arr)\n",
    "\n",
    "print(arra)"
   ]
  },
  {
   "cell_type": "markdown",
   "id": "08e8132b",
   "metadata": {},
   "source": [
    "NOTE => Both arrays are two 2x2 arrays.\n",
    "\n",
    "Concatenating with axis=1:\n",
    "\n",
    "* axis=1 means you're joining columns (i.e., side by side → horizontally).\n",
    "\n",
    "* The number of rows must match (which they do: 2 rows in both).\n",
    "\n",
    "So it’s like taking:\n",
    "\n",
    "[1 2]   +   [5 6]  →  [1 2 5 6]\n",
    "\n",
    "[3 4]   +   [7 8]  →  [3 4 7 8]\n"
   ]
  },
  {
   "cell_type": "markdown",
   "id": "f3ae53fe",
   "metadata": {},
   "source": [
    "Concatenating with axis=0:\n",
    "\n",
    "* axis=0 means you're joining rows (i.e., stacking vertically).\n",
    "\n",
    "* The number of columns must match (which they do: 2 columns in both).\n",
    "\n",
    "The result will be:\n",
    "\n",
    "[[1 2]\n",
    " [3 4]\n",
    " [5 6]\n",
    " [7 8]]\n",
    "\n",
    "This is like stacking them one after the other."
   ]
  },
  {
   "cell_type": "markdown",
   "id": "b272b70c",
   "metadata": {},
   "source": [
    "| Axis | Effect            | Shape Transformation |\n",
    "| ---- | ----------------- | -------------------- |\n",
    "| `0`  | Stack vertically  | Rows increase        |\n",
    "| `1`  | Join side by side | Columns increase     |\n"
   ]
  },
  {
   "cell_type": "markdown",
   "id": "8db62c69",
   "metadata": {},
   "source": [
    "Stacking Along Columns\n",
    "\n",
    "NumPy provides a helper function: vstack()  to stack along columns."
   ]
  },
  {
   "cell_type": "code",
   "execution_count": null,
   "id": "63fd746c",
   "metadata": {},
   "outputs": [
    {
     "name": "stdout",
     "output_type": "stream",
     "text": [
      "[[1 2 3]\n",
      " [4 5 6]]\n"
     ]
    }
   ],
   "source": [
    "# Example\n",
    "\n",
    "import numpy as np\n",
    "\n",
    "arr1 = np.array([1, 2, 3])\n",
    "\n",
    "arr2 = np.array([4, 5, 6])\n",
    "\n",
    "arr = np.vstack((arr1, arr2))\n",
    "\n",
    "print(arr)"
   ]
  },
  {
   "cell_type": "markdown",
   "id": "98916ef7",
   "metadata": {},
   "source": [
    "Stacking Along Height (depth)\n",
    "\n",
    "NumPy provides a helper function: dstack() to stack along height, which is the same as depth."
   ]
  },
  {
   "cell_type": "code",
   "execution_count": null,
   "id": "537fa824",
   "metadata": {},
   "outputs": [
    {
     "name": "stdout",
     "output_type": "stream",
     "text": [
      "[[[1 4]\n",
      "  [2 5]\n",
      "  [3 6]]]\n"
     ]
    }
   ],
   "source": [
    "# Example\n",
    "\n",
    "import numpy as np\n",
    "\n",
    "arr1 = np.array([1, 2, 3])\n",
    "\n",
    "arr2 = np.array([4, 5, 6])\n",
    "\n",
    "arr = np.dstack((arr1, arr2))\n",
    "\n",
    "print(arr)"
   ]
  },
  {
   "cell_type": "markdown",
   "id": "529f1fcd",
   "metadata": {},
   "source": [
    "NumPy Splitting Array"
   ]
  },
  {
   "cell_type": "markdown",
   "id": "179b1792",
   "metadata": {},
   "source": [
    "Splitting NumPy Arrays\n",
    "\n",
    "Splitting is reverse operation of Joining.\n",
    "\n",
    "Joining merges multiple arrays into one and Splitting breaks one array into multiple.\n",
    "\n",
    "We use array_split() for splitting arrays, we pass it the array we want to split and the number of splits."
   ]
  },
  {
   "cell_type": "code",
   "execution_count": null,
   "id": "062d3516",
   "metadata": {},
   "outputs": [
    {
     "name": "stdout",
     "output_type": "stream",
     "text": [
      "[array([1, 2]), array([3, 4]), array([5, 6])]\n"
     ]
    }
   ],
   "source": [
    "# Example\n",
    "\n",
    "# Split the array in 3 parts:\n",
    "\n",
    "import numpy as np\n",
    "\n",
    "arr = np.array([1, 2, 3, 4, 5, 6])\n",
    "\n",
    "newarr = np.array_split(arr, 3)\n",
    "\n",
    "print(newarr)"
   ]
  },
  {
   "cell_type": "markdown",
   "id": "b80be37e",
   "metadata": {},
   "source": [
    "Note: From the above example, the return value is a list containing three arrays."
   ]
  },
  {
   "cell_type": "markdown",
   "id": "0ef8a806",
   "metadata": {},
   "source": [
    "If the array has less elements than required, it will adjust from the end accordingly."
   ]
  },
  {
   "cell_type": "code",
   "execution_count": null,
   "id": "78ee81aa",
   "metadata": {},
   "outputs": [
    {
     "name": "stdout",
     "output_type": "stream",
     "text": [
      "[array([1, 2]), array([3, 4]), array([5]), array([6])]\n"
     ]
    }
   ],
   "source": [
    "# Example\n",
    "\n",
    "# Split the array in 4 parts:\n",
    "\n",
    "import numpy as np\n",
    "\n",
    "arr = np.array([1, 2, 3, 4, 5, 6])\n",
    "\n",
    "newarr = np.array_split(arr, 4)\n",
    "\n",
    "print(newarr)"
   ]
  },
  {
   "cell_type": "markdown",
   "id": "542b5f09",
   "metadata": {},
   "source": [
    "Note: We also have the method split() available but it will not adjust the elements when elements are less in source array for splitting like in example above, array_split() worked properly but split() would fail."
   ]
  },
  {
   "cell_type": "markdown",
   "id": "e952c2dd",
   "metadata": {},
   "source": [
    "Split Into Arrays\n",
    "\n",
    "The return value of the array_split() method is an array containing each of the split as an array.\n",
    "\n",
    "If you split an array into 3 arrays, you can access them from the result just like any array element:"
   ]
  },
  {
   "cell_type": "code",
   "execution_count": null,
   "id": "d3506b2a",
   "metadata": {},
   "outputs": [
    {
     "name": "stdout",
     "output_type": "stream",
     "text": [
      "[1 2]\n",
      "[3 4]\n",
      "[5 6]\n"
     ]
    }
   ],
   "source": [
    "# Example\n",
    "\n",
    "# Access the splitted arrays:\n",
    "\n",
    "import numpy as np\n",
    "\n",
    "arr = np.array([1, 2, 3, 4, 5, 6])\n",
    "\n",
    "newarr = np.array_split(arr, 3)\n",
    "\n",
    "print(newarr[0])\n",
    "print(newarr[1])\n",
    "print(newarr[2])"
   ]
  },
  {
   "cell_type": "markdown",
   "id": "ad8e0634",
   "metadata": {},
   "source": [
    "Splitting 2-D Arrays\n",
    "\n",
    "Use the same syntax when splitting 2-D arrays.\n",
    "\n",
    "Use the array_split() method, pass in the array you want to split and the number of splits you want to do."
   ]
  },
  {
   "cell_type": "code",
   "execution_count": null,
   "id": "e3d3b961",
   "metadata": {},
   "outputs": [
    {
     "name": "stdout",
     "output_type": "stream",
     "text": [
      "[array([[1, 2],\n",
      "       [3, 4]]), array([[5, 6],\n",
      "       [7, 8]]), array([[ 9, 10],\n",
      "       [11, 12]])]\n"
     ]
    }
   ],
   "source": [
    "# Example\n",
    "\n",
    "# Split the 2-D array into three 2-D arrays. \n",
    "\n",
    "import numpy as np\n",
    "\n",
    "arr = np.array([[1, 2], [3, 4], [5, 6], [7, 8], [9, 10], [11, 12]])\n",
    "\n",
    "newarr = np.array_split(arr, 3)\n",
    "\n",
    "print(newarr)"
   ]
  },
  {
   "cell_type": "markdown",
   "id": "34a3b68d",
   "metadata": {},
   "source": [
    "The example above returns three 2-D arrays.\n",
    "\n",
    "Let's look at another example, this time each element in the 2-D arrays contains 3 elements."
   ]
  },
  {
   "cell_type": "code",
   "execution_count": null,
   "id": "539031fc",
   "metadata": {},
   "outputs": [
    {
     "name": "stdout",
     "output_type": "stream",
     "text": [
      "[array([[1, 2, 3],\n",
      "       [4, 5, 6]]), array([[ 7,  8,  9],\n",
      "       [10, 11, 12]]), array([[13, 14, 15],\n",
      "       [16, 17, 18]])]\n"
     ]
    }
   ],
   "source": [
    "# Example\n",
    "\n",
    "# Split the 2-D array into three 2-D arrays.\n",
    "\n",
    "import numpy as np\n",
    "\n",
    "arr = np.array([[1, 2, 3], [4, 5, 6], [7, 8, 9], [10, 11, 12], [13, 14, 15], [16, 17, 18]])\n",
    "\n",
    "newarr = np.array_split(arr, 3)\n",
    "\n",
    "print(newarr)\n",
    "\n",
    "# The result to the example above returns three 2-D arrays."
   ]
  },
  {
   "cell_type": "markdown",
   "id": "0dcca7a7",
   "metadata": {},
   "source": [
    "In addition, you can specify which axis you want to do the split around.\n",
    "\n",
    "The example below also returns three 2-D arrays, but they are split along the column (axis=1)."
   ]
  },
  {
   "cell_type": "code",
   "execution_count": null,
   "id": "646e4912",
   "metadata": {},
   "outputs": [
    {
     "name": "stdout",
     "output_type": "stream",
     "text": [
      "[array([[ 1],\n",
      "       [ 4],\n",
      "       [ 7],\n",
      "       [10],\n",
      "       [13],\n",
      "       [16]]), array([[ 2],\n",
      "       [ 5],\n",
      "       [ 8],\n",
      "       [11],\n",
      "       [14],\n",
      "       [17]]), array([[ 3],\n",
      "       [ 6],\n",
      "       [ 9],\n",
      "       [12],\n",
      "       [15],\n",
      "       [18]])]\n"
     ]
    }
   ],
   "source": [
    "# Example\n",
    "\n",
    "# Split the 2-D array into three 2-D arrays along columns.\n",
    "\n",
    "import numpy as np\n",
    "\n",
    "arr = np.array([[1, 2, 3], [4, 5, 6], [7, 8, 9], [10, 11, 12], [13, 14, 15], [16, 17, 18]])\n",
    "\n",
    "newarr = np.array_split(arr, 3, axis=1)\n",
    "\n",
    "print(newarr)"
   ]
  },
  {
   "cell_type": "markdown",
   "id": "2b6d7278",
   "metadata": {},
   "source": [
    "An alternate solution is using hsplit() opposite of hstack()"
   ]
  },
  {
   "cell_type": "code",
   "execution_count": null,
   "id": "e0d31f4a",
   "metadata": {},
   "outputs": [
    {
     "name": "stdout",
     "output_type": "stream",
     "text": [
      "[array([[ 1],\n",
      "       [ 4],\n",
      "       [ 7],\n",
      "       [10],\n",
      "       [13],\n",
      "       [16]]), array([[ 2],\n",
      "       [ 5],\n",
      "       [ 8],\n",
      "       [11],\n",
      "       [14],\n",
      "       [17]]), array([[ 3],\n",
      "       [ 6],\n",
      "       [ 9],\n",
      "       [12],\n",
      "       [15],\n",
      "       [18]])]\n"
     ]
    }
   ],
   "source": [
    "# Example\n",
    "\n",
    "# Use the hsplit() method to split the 2-D array into three 2-D arrays along columns.\n",
    "\n",
    "import numpy as np\n",
    "\n",
    "arr = np.array([[1, 2, 3], [4, 5, 6], [7, 8, 9], [10, 11, 12], [13, 14, 15], [16, 17, 18]])\n",
    "\n",
    "newarr = np.hsplit(arr, 3)\n",
    "\n",
    "print(newarr)"
   ]
  },
  {
   "cell_type": "markdown",
   "id": "8d58864d",
   "metadata": {},
   "source": [
    "Note: Similar alternates to vstack() and dstack() are available as vsplit() and dsplit()."
   ]
  },
  {
   "cell_type": "markdown",
   "id": "4dd17df9",
   "metadata": {},
   "source": [
    "NumPy Searching Arrays\n",
    "\n",
    "Searching Arrays\n",
    "\n",
    "You can search an array for a certain value, and return the indexes that get a match.\n",
    "\n",
    "To search an array, use the where() method."
   ]
  },
  {
   "cell_type": "code",
   "execution_count": null,
   "id": "6a472b7f",
   "metadata": {},
   "outputs": [
    {
     "name": "stdout",
     "output_type": "stream",
     "text": [
      "(array([3, 5, 6], dtype=int64),)\n"
     ]
    }
   ],
   "source": [
    "# Example\n",
    "\n",
    "# Find the indexes where the value is 4:\n",
    "\n",
    "import numpy as np\n",
    "\n",
    "arr = np.array([1, 2, 3, 4, 5, 4, 4])\n",
    "\n",
    "x = np.where(arr == 4)\n",
    "\n",
    "print(x)"
   ]
  },
  {
   "cell_type": "markdown",
   "id": "7420bdb2",
   "metadata": {},
   "source": [
    "The example above will return a tuple: (array([3, 5, 6],)\n",
    "\n",
    "* This means that 4 appears at index 3, 5, and 6 of the array."
   ]
  },
  {
   "cell_type": "markdown",
   "id": "5a2ee6e3",
   "metadata": {},
   "source": [
    "To meticulously disect the example above,\n",
    "\n",
    "What does np.where(arr == 4) do?\n",
    "\n",
    "arr == 4 creates a boolean array:\n",
    "\n",
    "[False, False, False, True, False, True, True]\n",
    "\n",
    "* np.where(...) returns the indices where the condition is True.\n",
    "\n",
    "So it finds the positions of the value 4 in the array.\n",
    "\n"
   ]
  },
  {
   "cell_type": "code",
   "execution_count": null,
   "id": "d25c2bbc",
   "metadata": {},
   "outputs": [
    {
     "name": "stdout",
     "output_type": "stream",
     "text": [
      "(array([1, 3, 5, 7], dtype=int64),)\n"
     ]
    }
   ],
   "source": [
    "# Example\n",
    "\n",
    "# Find the indexes where the values are even:\n",
    "\n",
    "import numpy as np\n",
    "\n",
    "arr = np.array([1, 2, 3, 4, 5, 6, 7, 8])\n",
    "\n",
    "x = np.where(arr%2 == 0)\n",
    "\n",
    "print(x)"
   ]
  },
  {
   "cell_type": "code",
   "execution_count": null,
   "id": "56c2702b",
   "metadata": {},
   "outputs": [
    {
     "name": "stdout",
     "output_type": "stream",
     "text": [
      "(array([0, 2, 4, 6], dtype=int64),)\n"
     ]
    }
   ],
   "source": [
    "# Find the indexes where the values are odd:\n",
    "\n",
    "import numpy as np\n",
    "\n",
    "arr = np.array([1, 2, 3, 4, 5, 6, 7, 8])\n",
    "\n",
    "x = np.where(arr%2 == 1)\n",
    "\n",
    "print(x)"
   ]
  },
  {
   "cell_type": "markdown",
   "id": "c775b549",
   "metadata": {},
   "source": [
    "Here's a handy reference table of common conditions you can use with NumPy arrays, similar to arr % 2 == 0. Each row gives you:\n",
    "\n",
    "* What you're checking for\n",
    "\n",
    "* Condition/Syntax\n",
    "\n",
    "* Description"
   ]
  },
  {
   "cell_type": "markdown",
   "id": "4a694ef7",
   "metadata": {},
   "source": [
    "| **Check For**            | **Syntax**                | **Description**                           |\n",
    "| ------------------------ | ------------------------- | ----------------------------------------- |\n",
    "| Even numbers             | `arr % 2 == 0`            | Elements divisible by 2                   |\n",
    "| Odd numbers              | `arr % 2 != 0`            | Elements not divisible by 2               |\n",
    "| Greater than a number    | `arr > 5`                 | Elements greater than 5                   |\n",
    "| Less than a number       | `arr < 3`                 | Elements less than 3                      |\n",
    "| Equal to a number        | `arr == 7`                | Elements equal to 7                       |\n",
    "| Not equal to a number    | `arr != 4`                | Elements not equal to 4                   |\n",
    "| Multiple of 3            | `arr % 3 == 0`            | Elements divisible by 3                   |\n",
    "| Between two numbers      | `(arr >= 3) & (arr <= 6)` | Elements between 3 and 6 (inclusive)      |\n",
    "| Greater than or equal to | `arr >= 5`                | Elements greater than or equal to 5       |\n",
    "| Less than or equal to    | `arr <= 2`                | Elements less than or equal to 2          |\n",
    "| Prime numbers *(custom)* | Custom function needed    | NumPy doesn't have built-in prime checker |\n",
    "| Negative numbers         | `arr < 0`                 | Elements less than 0                      |\n",
    "| Positive numbers         | `arr > 0`                 | Elements greater than 0                   |\n",
    "| Zeros                    | `arr == 0`                | Elements equal to 0                       |\n",
    "| Non-zeros                | `arr != 0`                | Elements not equal to 0                   |\n"
   ]
  },
  {
   "cell_type": "markdown",
   "id": "759a279c",
   "metadata": {},
   "source": [
    "Search Sorted\n",
    "\n",
    "There is a method called searchsorted() which performs a binary search in the array, and returns the index where the specified value would be inserted to maintain the search order.\n",
    "\n",
    "The searchsorted() method is assumed to be used on sorted arrays."
   ]
  },
  {
   "cell_type": "code",
   "execution_count": null,
   "id": "00a427e1",
   "metadata": {},
   "outputs": [
    {
     "name": "stdout",
     "output_type": "stream",
     "text": [
      "1\n"
     ]
    }
   ],
   "source": [
    "# Example\n",
    "\n",
    "# Find the indexes where the value 7 should be inserted:\n",
    "\n",
    "import numpy as np\n",
    "\n",
    "arr = np.array([6, 7, 8, 9])\n",
    "\n",
    "x = np.searchsorted(arr, 7)\n",
    "\n",
    "print(x)"
   ]
  },
  {
   "cell_type": "markdown",
   "id": "beaab74e",
   "metadata": {},
   "source": [
    "Example explained: The number 7 should be inserted on index 1 to remain the sort order.\n",
    "\n",
    "The method starts the search from the left and returns the first index where the number 7 is no longer larger than the next value."
   ]
  },
  {
   "cell_type": "markdown",
   "id": "2157c06c",
   "metadata": {},
   "source": [
    "Search From the Right Side\n",
    "\n",
    "By default the left most index is returned, but we can give side='right' to return the right most index instead."
   ]
  },
  {
   "cell_type": "code",
   "execution_count": null,
   "id": "8dd288cc",
   "metadata": {},
   "outputs": [
    {
     "name": "stdout",
     "output_type": "stream",
     "text": [
      "2\n"
     ]
    }
   ],
   "source": [
    "# Example\n",
    "\n",
    "# Find the indexes where the value 7 should be inserted, starting from the right:\n",
    "\n",
    "import numpy as np\n",
    "\n",
    "arr = np.array([6, 7, 8, 9])\n",
    "\n",
    "x = np.searchsorted(arr, 7, side='right')\n",
    "\n",
    "print(x)"
   ]
  },
  {
   "cell_type": "markdown",
   "id": "0de9d47a",
   "metadata": {},
   "source": [
    "Example explained: The number 7 should be inserted on index 2 to remain the sort order.\n",
    "\n",
    "The method starts the search from the right and returns the first index where the number 7 is no longer less than the next value."
   ]
  },
  {
   "cell_type": "markdown",
   "id": "40c652d5",
   "metadata": {},
   "source": [
    "Multiple Values\n",
    "\n",
    "To search for more than one value, use an array with the specified values."
   ]
  },
  {
   "cell_type": "code",
   "execution_count": null,
   "id": "8630b110",
   "metadata": {},
   "outputs": [
    {
     "name": "stdout",
     "output_type": "stream",
     "text": [
      "[1 2 3]\n"
     ]
    }
   ],
   "source": [
    "# Example\n",
    "\n",
    "# Find the indexes where the values 2, 4, and 6 should be inserted:\n",
    "\n",
    "import numpy as np\n",
    "\n",
    "arr = np.array([1, 3, 5, 7])\n",
    "\n",
    "x = np.searchsorted(arr, [2, 4, 6])\n",
    "\n",
    "print(x)"
   ]
  },
  {
   "cell_type": "markdown",
   "id": "31089aa7",
   "metadata": {},
   "source": [
    "The return value is an array: [1 2 3] containing the three indexes where 2, 4, 6 would be inserted in the original array to maintain the order."
   ]
  },
  {
   "cell_type": "markdown",
   "id": "0c97852c",
   "metadata": {},
   "source": [
    "NumPy Sorting Arrays\n",
    "\n",
    "Sorting Arrays\n",
    "\n",
    "Sorting means putting elements in an ordered sequence.\n",
    "\n",
    "Ordered sequence is any sequence that has an order corresponding to elements, like numeric or alphabetical, ascending or descending.\n",
    "\n",
    "The NumPy ndarray object has a function called sort(), that will sort a specified array."
   ]
  },
  {
   "cell_type": "code",
   "execution_count": 154,
   "id": "e2c07a2b",
   "metadata": {},
   "outputs": [
    {
     "name": "stdout",
     "output_type": "stream",
     "text": [
      "[0 1 2 3]\n"
     ]
    }
   ],
   "source": [
    "# Example\n",
    "# Sort the array:\n",
    "\n",
    "import numpy as np\n",
    "\n",
    "arr = np.array([3, 2, 0, 1])\n",
    "\n",
    "print(np.sort(arr))"
   ]
  },
  {
   "cell_type": "markdown",
   "id": "5386bd15",
   "metadata": {},
   "source": [
    "Note: This method returns a copy of the array, leaving the original array unchanged."
   ]
  },
  {
   "cell_type": "markdown",
   "id": "ac80dad2",
   "metadata": {},
   "source": [
    "You can also sort arrays of strings, or any other data type:"
   ]
  },
  {
   "cell_type": "code",
   "execution_count": 155,
   "id": "20599028",
   "metadata": {},
   "outputs": [
    {
     "name": "stdout",
     "output_type": "stream",
     "text": [
      "['apple' 'banana' 'cherry']\n"
     ]
    }
   ],
   "source": [
    "# Example\n",
    "\n",
    "# Sort the array alphabetically:\n",
    "\n",
    "import numpy as np\n",
    "\n",
    "arr = np.array(['banana', 'cherry', 'apple'])\n",
    "\n",
    "print(np.sort(arr))"
   ]
  },
  {
   "cell_type": "code",
   "execution_count": 156,
   "id": "e40aa154",
   "metadata": {},
   "outputs": [
    {
     "name": "stdout",
     "output_type": "stream",
     "text": [
      "[False  True  True]\n"
     ]
    }
   ],
   "source": [
    "# Sort a boolean array:\n",
    "\n",
    "import numpy as np\n",
    "\n",
    "arr = np.array([True, False, True])\n",
    "\n",
    "print(np.sort(arr))"
   ]
  },
  {
   "cell_type": "markdown",
   "id": "56727200",
   "metadata": {},
   "source": [
    "Sorting a 2-D Array\n",
    "\n",
    "If you use the sort() method on a 2-D array, both arrays will be sorted:"
   ]
  },
  {
   "cell_type": "code",
   "execution_count": 157,
   "id": "86e3a2ab",
   "metadata": {},
   "outputs": [
    {
     "name": "stdout",
     "output_type": "stream",
     "text": [
      "[[2 3 4]\n",
      " [0 1 5]]\n"
     ]
    }
   ],
   "source": [
    "# Example\n",
    "\n",
    "# Sort a 2-D array:\n",
    "\n",
    "import numpy as np\n",
    "\n",
    "arr = np.array([[3, 2, 4], [5, 0, 1]])\n",
    "\n",
    "print(np.sort(arr))"
   ]
  },
  {
   "cell_type": "markdown",
   "id": "5307e87d",
   "metadata": {},
   "source": [
    "NumPy Filter Array\n",
    "\n",
    "Filtering Arrays\n",
    "\n",
    "Getting some elements out of an existing array and creating a new array out of them is called filtering.\n",
    "\n",
    "In NumPy, you filter an array using a boolean index list.\n",
    "\n",
    "* A boolean index list is a list of booleans corresponding to indexes in the array.\n",
    "\n",
    "If the value at an index is True that element is contained in the filtered array, if the value at that index is False that element is excluded from the filtered array."
   ]
  },
  {
   "cell_type": "code",
   "execution_count": 158,
   "id": "9f349d8f",
   "metadata": {},
   "outputs": [
    {
     "name": "stdout",
     "output_type": "stream",
     "text": [
      "[41 43]\n"
     ]
    }
   ],
   "source": [
    "# Example\n",
    "\n",
    "# Create an array from the elements on index 0 and 2:\n",
    "\n",
    "import numpy as np\n",
    "\n",
    "arr = np.array([41, 42, 43, 44])\n",
    "\n",
    "x = [True, False, True, False]\n",
    "\n",
    "newarr = arr[x]\n",
    "\n",
    "print(newarr)"
   ]
  },
  {
   "cell_type": "markdown",
   "id": "21e0b673",
   "metadata": {},
   "source": [
    "The example above will return [41, 43], why?\n",
    "\n",
    "Because the new array contains only the values where the filter array had the value True, in this case, index 0 and 2."
   ]
  },
  {
   "cell_type": "markdown",
   "id": "a9c1d253",
   "metadata": {},
   "source": [
    "Creating the Filter Array\n",
    "\n",
    "In the example above we hard-coded the True and False values, but the common use is to create a filter array based on conditions."
   ]
  },
  {
   "cell_type": "code",
   "execution_count": 159,
   "id": "c99eeaa4",
   "metadata": {},
   "outputs": [
    {
     "name": "stdout",
     "output_type": "stream",
     "text": [
      "[False, False, True, True]\n",
      "[43 44]\n"
     ]
    }
   ],
   "source": [
    "# Example\n",
    "\n",
    "# Create a filter array that will return only values higher than 42:\n",
    "\n",
    "import numpy as np\n",
    "\n",
    "arr = np.array([41, 42, 43, 44])\n",
    "\n",
    "# Create an empty list\n",
    "filter_arr = []\n",
    "\n",
    "# go through each element in arr\n",
    "for element in arr:\n",
    "  # if the element is higher than 42, set the value to True, otherwise False:\n",
    "  if element > 42:\n",
    "    filter_arr.append(True)\n",
    "  else:\n",
    "    filter_arr.append(False)\n",
    "\n",
    "newarr = arr[filter_arr]\n",
    "\n",
    "print(filter_arr)\n",
    "print(newarr)"
   ]
  },
  {
   "cell_type": "code",
   "execution_count": 160,
   "id": "a3652a55",
   "metadata": {},
   "outputs": [
    {
     "name": "stdout",
     "output_type": "stream",
     "text": [
      "[False, True, False, True, False, True, False]\n",
      "[2 4 6]\n"
     ]
    }
   ],
   "source": [
    "# Example\n",
    "\n",
    "# Create a filter array that will return only even elements from the original array:\n",
    "\n",
    "import numpy as np\n",
    "\n",
    "arr = np.array([1, 2, 3, 4, 5, 6, 7])\n",
    "\n",
    "# Create an empty list\n",
    "filter_arr = []\n",
    "\n",
    "# go through each element in arr\n",
    "for element in arr:\n",
    "  # if the element is completely divisble by 2, set the value to True, otherwise False\n",
    "  if element % 2 == 0:\n",
    "    filter_arr.append(True)\n",
    "  else:\n",
    "    filter_arr.append(False)\n",
    "\n",
    "newarr = arr[filter_arr]\n",
    "\n",
    "print(filter_arr)\n",
    "print(newarr)"
   ]
  },
  {
   "cell_type": "markdown",
   "id": "54d6a264",
   "metadata": {},
   "source": [
    "Creating Filter Directly From Array\n",
    "\n",
    "The above example is quite a common task in NumPy and NumPy provides a nice way to tackle it.\n",
    "\n",
    "We can directly substitute the array instead of the iterable variable in our condition and it will work just as we expect it to."
   ]
  },
  {
   "cell_type": "code",
   "execution_count": 161,
   "id": "43eac7df",
   "metadata": {},
   "outputs": [
    {
     "name": "stdout",
     "output_type": "stream",
     "text": [
      "[False False  True  True]\n",
      "[43 44]\n"
     ]
    }
   ],
   "source": [
    "# Example\n",
    "\n",
    "# Create a filter array that will return only values higher than 42:\n",
    "\n",
    "import numpy as np\n",
    "\n",
    "arr = np.array([41, 42, 43, 44])\n",
    "\n",
    "filter_arr = arr > 42\n",
    "\n",
    "newarr = arr[filter_arr]\n",
    "\n",
    "print(filter_arr)\n",
    "print(newarr)"
   ]
  },
  {
   "cell_type": "code",
   "execution_count": 162,
   "id": "99ffc3d1",
   "metadata": {},
   "outputs": [
    {
     "name": "stdout",
     "output_type": "stream",
     "text": [
      "[False  True False  True False  True False]\n",
      "[2 4 6]\n"
     ]
    }
   ],
   "source": [
    "# Example\n",
    "\n",
    "# Create a filter array that will return only even elements from the original array:\n",
    "\n",
    "import numpy as np\n",
    "\n",
    "arr = np.array([1, 2, 3, 4, 5, 6, 7])\n",
    "\n",
    "filter_arr = arr % 2 == 0\n",
    "\n",
    "newarr = arr[filter_arr]\n",
    "\n",
    "print(filter_arr)\n",
    "print(newarr)"
   ]
  },
  {
   "cell_type": "markdown",
   "id": "fb4e59da",
   "metadata": {},
   "source": [
    "Random Numbers in NumPy\n",
    "\n",
    "What is a Random Number?\n",
    "\n",
    "Random number does NOT mean a different number every time. Random means something that can not be predicted logically."
   ]
  },
  {
   "cell_type": "markdown",
   "id": "faf7a902",
   "metadata": {},
   "source": [
    "Pseudo Random and True Random.\n",
    "\n",
    "Computers work on programs, and programs are definitive set of instructions. So it means there must be some algorithm to generate a random number as well.\n",
    "\n",
    "If there is a program to generate random number it can be predicted, thus it is not truly random.\n",
    "\n",
    "Random numbers generated through a generation algorithm are called pseudo random.\n",
    "\n",
    "Can we make truly random numbers?\n",
    "\n",
    "Yes. In order to generate a truly random number on our computers we need to get the random data from some outside source. This outside source is generally our keystrokes, mouse movements, data on network etc.\n",
    "\n",
    "We do not need truly random numbers, unless it is related to security (e.g. encryption keys) or the basis of application is the randomness (e.g. Digital roulette wheels).\n",
    "\n",
    "In this training we will be using pseudo random numbers."
   ]
  },
  {
   "cell_type": "markdown",
   "id": "6e6540b5",
   "metadata": {},
   "source": [
    "Generate Random Number\n",
    "\n",
    "NumPy offers the random module to work with random numbers."
   ]
  },
  {
   "cell_type": "code",
   "execution_count": 163,
   "id": "874e321f",
   "metadata": {},
   "outputs": [
    {
     "name": "stdout",
     "output_type": "stream",
     "text": [
      "88\n"
     ]
    }
   ],
   "source": [
    "# Example\n",
    "\n",
    "# Generate a random integer from 0 to 100:\n",
    "\n",
    "from numpy import random\n",
    "\n",
    "x = random.randint(100)\n",
    "\n",
    "print(x)"
   ]
  },
  {
   "cell_type": "markdown",
   "id": "3edd0809",
   "metadata": {},
   "source": [
    "Generate Random Float\n",
    "\n",
    "The random module's rand() method returns a random float between 0 and 1."
   ]
  },
  {
   "cell_type": "code",
   "execution_count": 164,
   "id": "8f014c95",
   "metadata": {},
   "outputs": [
    {
     "name": "stdout",
     "output_type": "stream",
     "text": [
      "0.06680041147736415\n"
     ]
    }
   ],
   "source": [
    "# Example\n",
    "\n",
    "# Generate a random float from 0 to 1:\n",
    "\n",
    "from numpy import random\n",
    "\n",
    "x = random.rand()\n",
    "\n",
    "print(x)"
   ]
  },
  {
   "cell_type": "markdown",
   "id": "99c32580",
   "metadata": {},
   "source": [
    "Generate Random Array\n",
    "\n",
    "In NumPy we work with arrays, and you can use the two methods from the above examples to make random arrays.\n",
    "\n",
    "Integers\n",
    "\n",
    "The randint() method takes a size parameter where you can specify the shape of an array."
   ]
  },
  {
   "cell_type": "code",
   "execution_count": 165,
   "id": "b9d3af22",
   "metadata": {},
   "outputs": [
    {
     "name": "stdout",
     "output_type": "stream",
     "text": [
      "[ 9 82 89 70 12]\n"
     ]
    }
   ],
   "source": [
    "# Example\n",
    "\n",
    "# Generate a 1-D array containing 5 random integers from 0 to 100:\n",
    "\n",
    "from numpy import random\n",
    "\n",
    "x=random.randint(100, size=(5))\n",
    "\n",
    "print(x)\n"
   ]
  },
  {
   "cell_type": "code",
   "execution_count": 166,
   "id": "862765b0",
   "metadata": {},
   "outputs": [
    {
     "name": "stdout",
     "output_type": "stream",
     "text": [
      "[[47 39 35 16 85]\n",
      " [18 25 57 36 49]\n",
      " [10 83 31 39 94]]\n"
     ]
    }
   ],
   "source": [
    "# Example\n",
    "\n",
    "# Generate a 2-D array with 3 rows, each row containing 5 random integers from 0 to 100:\n",
    "\n",
    "from numpy import random\n",
    "\n",
    "x = random.randint(100, size=(3, 5))\n",
    "\n",
    "print(x)"
   ]
  },
  {
   "cell_type": "markdown",
   "id": "520fe555",
   "metadata": {},
   "source": [
    "Floats\n",
    "\n",
    "The rand() method also allows you to specify the shape of the array."
   ]
  },
  {
   "cell_type": "code",
   "execution_count": 167,
   "id": "22605bf4",
   "metadata": {},
   "outputs": [
    {
     "name": "stdout",
     "output_type": "stream",
     "text": [
      "[0.66101784 0.49489108 0.83507796 0.41406626 0.01611529]\n"
     ]
    }
   ],
   "source": [
    "# Example\n",
    "\n",
    "# Generate a 1-D array containing 5 random floats:\n",
    "\n",
    "from numpy import random\n",
    "\n",
    "x = random.rand(5)\n",
    "\n",
    "print(x)"
   ]
  },
  {
   "cell_type": "code",
   "execution_count": 168,
   "id": "d4a29304",
   "metadata": {},
   "outputs": [
    {
     "name": "stdout",
     "output_type": "stream",
     "text": [
      "[[0.97113287 0.6536705  0.34910526 0.26965    0.85324034]\n",
      " [0.52727685 0.68670475 0.06753235 0.90572217 0.43868953]\n",
      " [0.18299578 0.50222245 0.89375793 0.89650206 0.16752527]]\n"
     ]
    }
   ],
   "source": [
    "# Example\n",
    "\n",
    "# Generate a 2-D array with 3 rows, each row containing 5 random numbers:\n",
    "\n",
    "from numpy import random\n",
    "\n",
    "x = random.rand(3, 5)\n",
    "\n",
    "print(x)"
   ]
  },
  {
   "cell_type": "markdown",
   "id": "d1f5b25c",
   "metadata": {},
   "source": [
    "Generate Random Number From Array\n",
    "\n",
    "The choice() method allows you to generate a random value based on an array of values.\n",
    "\n",
    "The choice() method takes an array as a parameter and randomly returns one of the values."
   ]
  },
  {
   "cell_type": "code",
   "execution_count": 169,
   "id": "7816bb84",
   "metadata": {},
   "outputs": [
    {
     "name": "stdout",
     "output_type": "stream",
     "text": [
      "9\n"
     ]
    }
   ],
   "source": [
    "# Example\n",
    "\n",
    "# Return one of the values in an array:\n",
    "\n",
    "from numpy import random\n",
    "\n",
    "x = random.choice([3, 5, 7, 9])\n",
    "\n",
    "print(x)"
   ]
  },
  {
   "cell_type": "markdown",
   "id": "b1ea33d1",
   "metadata": {},
   "source": [
    "The choice() method also allows you to return an array of values.\n",
    "\n",
    "Add a size parameter to specify the shape of the array."
   ]
  },
  {
   "cell_type": "code",
   "execution_count": 170,
   "id": "62e535ca",
   "metadata": {},
   "outputs": [
    {
     "name": "stdout",
     "output_type": "stream",
     "text": [
      "[[5 9 3 7 5]\n",
      " [9 9 3 9 3]\n",
      " [3 7 5 7 9]]\n"
     ]
    }
   ],
   "source": [
    "# Example\n",
    "\n",
    "# Generate a 2-D array that consists of the values in the array parameter (3, 5, 7, and 9):\n",
    "\n",
    "from numpy import random\n",
    "\n",
    "x = random.choice([3, 5, 7, 9], size=(3, 5))\n",
    "\n",
    "print(x)"
   ]
  }
 ],
 "metadata": {
  "kernelspec": {
   "display_name": "Python 3",
   "language": "python",
   "name": "python3"
  },
  "language_info": {
   "codemirror_mode": {
    "name": "ipython",
    "version": 3
   },
   "file_extension": ".py",
   "mimetype": "text/x-python",
   "name": "python",
   "nbconvert_exporter": "python",
   "pygments_lexer": "ipython3",
   "version": "3.12.7"
  }
 },
 "nbformat": 4,
 "nbformat_minor": 5
}
