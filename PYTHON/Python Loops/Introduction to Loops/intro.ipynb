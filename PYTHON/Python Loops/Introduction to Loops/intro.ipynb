{
 "cells": [
  {
   "cell_type": "markdown",
   "id": "53292dd4",
   "metadata": {},
   "source": [
    "Python Loops\n",
    "\n",
    "In programming, a loop is a fundamental concept that allows us to execute a block of code repeatedly instead of writing it multiple times. Loops are extremely powerful because they enable automation, repetition, and efficiency when handling tasks involving collections (like lists, dictionaries) or when a task needs to be repeated under certain conditions."
   ]
  },
  {
   "cell_type": "markdown",
   "id": "8628f340",
   "metadata": {},
   "source": [
    "Python has two primitive loop commands:\n",
    "\n",
    "while loops\n",
    "for loops"
   ]
  },
  {
   "cell_type": "markdown",
   "id": "6a74f83f",
   "metadata": {},
   "source": [
    "In Python, there are two primary types of loops:\n",
    "\n",
    "for loops — used for iterating over a sequence (like a list, tuple, dictionary, string, or range).\n",
    "\n",
    "while loops — used to repeatedly execute a block of code as long as a condition is true."
   ]
  },
  {
   "cell_type": "markdown",
   "id": "13d314d6",
   "metadata": {},
   "source": [
    "Why Are Loops Important?\n",
    "\n",
    "Efficiency: Automate repetitive tasks with minimal code.\n",
    "\n",
    "Scalability: Handle larger amounts of data easily.\n",
    "\n",
    "Problem-solving: Essential for algorithms like searching, sorting, and pattern generation.\n",
    "\n",
    "Without loops, writing efficient, reusable, and scalable programs would be extremely difficult!"
   ]
  },
  {
   "cell_type": "markdown",
   "id": "375470de",
   "metadata": {},
   "source": [
    "The for Loop\n",
    "\n",
    "The for loop is used for iterating over a sequence (that is either a list, a tuple, a dictionary, a set, or a string)."
   ]
  },
  {
   "cell_type": "markdown",
   "id": "d5b0bec8",
   "metadata": {},
   "source": [
    "Basic Syntax:\n",
    "\n",
    "for variable in sequence:\n",
    "    # block of code"
   ]
  },
  {
   "cell_type": "markdown",
   "id": "b4c6759e",
   "metadata": {},
   "source": [
    "* variable is a name you choose; it will take the value of each item in the sequence one by one.\n",
    "\n",
    "* sequence can be any iterable (something you can loop through)."
   ]
  },
  {
   "cell_type": "code",
   "execution_count": 3,
   "id": "e833a7be",
   "metadata": {},
   "outputs": [
    {
     "name": "stdout",
     "output_type": "stream",
     "text": [
      "apple\n",
      "banana\n",
      "cherry\n"
     ]
    }
   ],
   "source": [
    "# e.g \n",
    "\n",
    "fruits = ['apple', 'banana', 'cherry']\n",
    "for fruit in fruits:\n",
    "    print(fruit)"
   ]
  },
  {
   "cell_type": "markdown",
   "id": "091dd612",
   "metadata": {},
   "source": [
    "The while Loop\n",
    "\n",
    "The while loop executes a block of code as long as a specified condition is true."
   ]
  },
  {
   "cell_type": "markdown",
   "id": "5817a7f3",
   "metadata": {},
   "source": [
    "Basic Syntax:\n",
    "\n",
    "while condition:\n",
    "    # block of code"
   ]
  },
  {
   "cell_type": "markdown",
   "id": "994f3b5c",
   "metadata": {},
   "source": [
    "* Before each iteration, Python checks the condition.\n",
    "\n",
    "* If it’s True, it runs the block.\n",
    "\n",
    "* If it’s False, it exits the loop."
   ]
  },
  {
   "cell_type": "code",
   "execution_count": 4,
   "id": "ba0c313d",
   "metadata": {},
   "outputs": [
    {
     "name": "stdout",
     "output_type": "stream",
     "text": [
      "0\n",
      "1\n",
      "2\n",
      "3\n",
      "4\n"
     ]
    }
   ],
   "source": [
    "# e.g \n",
    "\n",
    "count = 0\n",
    "while count < 5:\n",
    "    print(count)\n",
    "    count += 1\n"
   ]
  },
  {
   "cell_type": "markdown",
   "id": "12616e8a",
   "metadata": {},
   "source": [
    "Mastering loops in Python opens up a new world where you can automate tasks, process data efficiently, and write cleaner, more powerful code. As you progress into the next phase, you’ll find yourself combining loops with other concepts like functions, conditionals, and data structures to solve increasingly complex problems.\n",
    "\n",
    "\"Repetition is the mother of learning, and loops are the fathers of automation.\""
   ]
  }
 ],
 "metadata": {
  "kernelspec": {
   "display_name": "Python 3",
   "language": "python",
   "name": "python3"
  },
  "language_info": {
   "codemirror_mode": {
    "name": "ipython",
    "version": 3
   },
   "file_extension": ".py",
   "mimetype": "text/x-python",
   "name": "python",
   "nbconvert_exporter": "python",
   "pygments_lexer": "ipython3",
   "version": "3.12.7"
  }
 },
 "nbformat": 4,
 "nbformat_minor": 5
}
