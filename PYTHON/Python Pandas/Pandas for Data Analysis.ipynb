{
 "cells": [
  {
   "cell_type": "markdown",
   "id": "3191ed83",
   "metadata": {},
   "source": [
    "# Mastering Pandas for Data Analysis: A Comprehensive Guide"
   ]
  },
  {
   "cell_type": "markdown",
   "id": "6924807e",
   "metadata": {},
   "source": [
    "# What is Pandas?\n",
    "\n",
    "Pandas is a powerful open-source Python library used for data manipulation, data cleaning, and data analysis.\n",
    "\n",
    "Built on top of NumPy, it allows for fast operations on tabular data (data in tables), like spreadsheets or SQL tables."
   ]
  },
  {
   "cell_type": "markdown",
   "id": "7a458079",
   "metadata": {},
   "source": [
    "## Pandas Core Data Structures\n",
    "\n",
    "### 1. Series\n",
    "\n",
    "A one-dimensional labeled array capable of holding any data type."
   ]
  },
  {
   "cell_type": "code",
   "execution_count": 52,
   "id": "b63c0c42",
   "metadata": {},
   "outputs": [
    {
     "name": "stdout",
     "output_type": "stream",
     "text": [
      "a    10\n",
      "b    20\n",
      "c    30\n",
      "d    40\n",
      "dtype: int64\n"
     ]
    }
   ],
   "source": [
    "import pandas as pd\n",
    "\n",
    "s = pd.Series([10, 20, 30, 40], index=['a', 'b', 'c', 'd'])\n",
    "print(s)"
   ]
  },
  {
   "cell_type": "markdown",
   "id": "cc199b37",
   "metadata": {},
   "source": [
    "### Key Features:\n",
    "\n",
    "- Automatically assigns labels (indices) unless specified.\n",
    "\n",
    "- Can hold any data type (int, float, str, etc.)"
   ]
  },
  {
   "cell_type": "markdown",
   "id": "f7c51a17",
   "metadata": {},
   "source": [
    "### 2. DataFrame\n",
    "\n",
    "A two-dimensional labeled data structure (like a table in Excel or a database)."
   ]
  },
  {
   "cell_type": "code",
   "execution_count": 53,
   "id": "47588f48",
   "metadata": {},
   "outputs": [
    {
     "name": "stdout",
     "output_type": "stream",
     "text": [
      "      Name  Age    City\n",
      "0    Alice   25   Lagos\n",
      "1      Bob   30   Abuja\n",
      "2  Charlie   35  Ibadan\n"
     ]
    }
   ],
   "source": [
    "data = {\n",
    "    'Name': ['Alice', 'Bob', 'Charlie'],\n",
    "    'Age': [25, 30, 35],\n",
    "    'City': ['Lagos', 'Abuja', 'Ibadan']\n",
    "}\n",
    "df = pd.DataFrame(data)\n",
    "print(df)"
   ]
  },
  {
   "cell_type": "markdown",
   "id": "fb8ed013",
   "metadata": {},
   "source": [
    "### Key Features:\n",
    "\n",
    "- Think of it like a dictionary of Series.\n",
    "\n",
    "- Labeled rows (index) and columns."
   ]
  },
  {
   "cell_type": "markdown",
   "id": "b77d8ab4",
   "metadata": {},
   "source": [
    "## Creating DataFrames"
   ]
  },
  {
   "cell_type": "code",
   "execution_count": 54,
   "id": "08495339",
   "metadata": {},
   "outputs": [
    {
     "data": {
      "text/html": [
       "<div>\n",
       "<style scoped>\n",
       "    .dataframe tbody tr th:only-of-type {\n",
       "        vertical-align: middle;\n",
       "    }\n",
       "\n",
       "    .dataframe tbody tr th {\n",
       "        vertical-align: top;\n",
       "    }\n",
       "\n",
       "    .dataframe thead th {\n",
       "        text-align: right;\n",
       "    }\n",
       "</style>\n",
       "<table border=\"1\" class=\"dataframe\">\n",
       "  <thead>\n",
       "    <tr style=\"text-align: right;\">\n",
       "      <th></th>\n",
       "      <th>A</th>\n",
       "      <th>B</th>\n",
       "    </tr>\n",
       "  </thead>\n",
       "  <tbody>\n",
       "    <tr>\n",
       "      <th>0</th>\n",
       "      <td>1</td>\n",
       "      <td>3</td>\n",
       "    </tr>\n",
       "    <tr>\n",
       "      <th>1</th>\n",
       "      <td>2</td>\n",
       "      <td>4</td>\n",
       "    </tr>\n",
       "  </tbody>\n",
       "</table>\n",
       "</div>"
      ],
      "text/plain": [
       "   A  B\n",
       "0  1  3\n",
       "1  2  4"
      ]
     },
     "execution_count": 54,
     "metadata": {},
     "output_type": "execute_result"
    }
   ],
   "source": [
    "# From a dictionary:\n",
    "\n",
    "pd.DataFrame({'A': [1, 2], 'B': [3, 4]})"
   ]
  },
  {
   "cell_type": "code",
   "execution_count": 55,
   "id": "37b8965a",
   "metadata": {},
   "outputs": [
    {
     "data": {
      "text/html": [
       "<div>\n",
       "<style scoped>\n",
       "    .dataframe tbody tr th:only-of-type {\n",
       "        vertical-align: middle;\n",
       "    }\n",
       "\n",
       "    .dataframe tbody tr th {\n",
       "        vertical-align: top;\n",
       "    }\n",
       "\n",
       "    .dataframe thead th {\n",
       "        text-align: right;\n",
       "    }\n",
       "</style>\n",
       "<table border=\"1\" class=\"dataframe\">\n",
       "  <thead>\n",
       "    <tr style=\"text-align: right;\">\n",
       "      <th></th>\n",
       "      <th>A</th>\n",
       "      <th>B</th>\n",
       "    </tr>\n",
       "  </thead>\n",
       "  <tbody>\n",
       "    <tr>\n",
       "      <th>0</th>\n",
       "      <td>1</td>\n",
       "      <td>2</td>\n",
       "    </tr>\n",
       "    <tr>\n",
       "      <th>1</th>\n",
       "      <td>3</td>\n",
       "      <td>4</td>\n",
       "    </tr>\n",
       "  </tbody>\n",
       "</table>\n",
       "</div>"
      ],
      "text/plain": [
       "   A  B\n",
       "0  1  2\n",
       "1  3  4"
      ]
     },
     "execution_count": 55,
     "metadata": {},
     "output_type": "execute_result"
    }
   ],
   "source": [
    "# From a list of lists:\n",
    "\n",
    "pd.DataFrame([[1, 2], [3, 4]], columns=['A', 'B'])"
   ]
  },
  {
   "cell_type": "code",
   "execution_count": 56,
   "id": "57d04881",
   "metadata": {},
   "outputs": [],
   "source": [
    "# From a CSV file:\n",
    "\n",
    "df = pd.read_csv('sales.csv')"
   ]
  },
  {
   "cell_type": "markdown",
   "id": "71118ed1",
   "metadata": {},
   "source": [
    "## DataFrame Basic Operations"
   ]
  },
  {
   "cell_type": "code",
   "execution_count": 57,
   "id": "cc1c0e74",
   "metadata": {},
   "outputs": [
    {
     "name": "stdout",
     "output_type": "stream",
     "text": [
      "<class 'pandas.core.frame.DataFrame'>\n",
      "RangeIndex: 20 entries, 0 to 19\n",
      "Data columns (total 6 columns):\n",
      " #   Column         Non-Null Count  Dtype \n",
      "---  ------         --------------  ----- \n",
      " 0   sale_id        20 non-null     int64 \n",
      " 1   product_id     20 non-null     int64 \n",
      " 2   employee_id    20 non-null     int64 \n",
      " 3   sale_date      20 non-null     object\n",
      " 4   quantity_sold  20 non-null     int64 \n",
      " 5   total_price    20 non-null     int64 \n",
      "dtypes: int64(5), object(1)\n",
      "memory usage: 1.1+ KB\n"
     ]
    },
    {
     "data": {
      "text/html": [
       "<div>\n",
       "<style scoped>\n",
       "    .dataframe tbody tr th:only-of-type {\n",
       "        vertical-align: middle;\n",
       "    }\n",
       "\n",
       "    .dataframe tbody tr th {\n",
       "        vertical-align: top;\n",
       "    }\n",
       "\n",
       "    .dataframe thead th {\n",
       "        text-align: right;\n",
       "    }\n",
       "</style>\n",
       "<table border=\"1\" class=\"dataframe\">\n",
       "  <thead>\n",
       "    <tr style=\"text-align: right;\">\n",
       "      <th></th>\n",
       "      <th>sale_id</th>\n",
       "      <th>product_id</th>\n",
       "      <th>employee_id</th>\n",
       "      <th>quantity_sold</th>\n",
       "      <th>total_price</th>\n",
       "    </tr>\n",
       "  </thead>\n",
       "  <tbody>\n",
       "    <tr>\n",
       "      <th>count</th>\n",
       "      <td>20.00000</td>\n",
       "      <td>20.000000</td>\n",
       "      <td>20.000000</td>\n",
       "      <td>20.000000</td>\n",
       "      <td>20.000000</td>\n",
       "    </tr>\n",
       "    <tr>\n",
       "      <th>mean</th>\n",
       "      <td>10.50000</td>\n",
       "      <td>3.200000</td>\n",
       "      <td>2.900000</td>\n",
       "      <td>5.550000</td>\n",
       "      <td>984.500000</td>\n",
       "    </tr>\n",
       "    <tr>\n",
       "      <th>std</th>\n",
       "      <td>5.91608</td>\n",
       "      <td>1.361114</td>\n",
       "      <td>1.333772</td>\n",
       "      <td>2.723678</td>\n",
       "      <td>483.480202</td>\n",
       "    </tr>\n",
       "    <tr>\n",
       "      <th>min</th>\n",
       "      <td>1.00000</td>\n",
       "      <td>1.000000</td>\n",
       "      <td>1.000000</td>\n",
       "      <td>1.000000</td>\n",
       "      <td>221.000000</td>\n",
       "    </tr>\n",
       "    <tr>\n",
       "      <th>25%</th>\n",
       "      <td>5.75000</td>\n",
       "      <td>2.750000</td>\n",
       "      <td>2.000000</td>\n",
       "      <td>3.750000</td>\n",
       "      <td>698.750000</td>\n",
       "    </tr>\n",
       "    <tr>\n",
       "      <th>50%</th>\n",
       "      <td>10.50000</td>\n",
       "      <td>3.500000</td>\n",
       "      <td>2.500000</td>\n",
       "      <td>5.500000</td>\n",
       "      <td>926.000000</td>\n",
       "    </tr>\n",
       "    <tr>\n",
       "      <th>75%</th>\n",
       "      <td>15.25000</td>\n",
       "      <td>4.000000</td>\n",
       "      <td>4.000000</td>\n",
       "      <td>7.250000</td>\n",
       "      <td>1297.000000</td>\n",
       "    </tr>\n",
       "    <tr>\n",
       "      <th>max</th>\n",
       "      <td>20.00000</td>\n",
       "      <td>5.000000</td>\n",
       "      <td>5.000000</td>\n",
       "      <td>9.000000</td>\n",
       "      <td>1993.000000</td>\n",
       "    </tr>\n",
       "  </tbody>\n",
       "</table>\n",
       "</div>"
      ],
      "text/plain": [
       "        sale_id  product_id  employee_id  quantity_sold  total_price\n",
       "count  20.00000   20.000000    20.000000      20.000000    20.000000\n",
       "mean   10.50000    3.200000     2.900000       5.550000   984.500000\n",
       "std     5.91608    1.361114     1.333772       2.723678   483.480202\n",
       "min     1.00000    1.000000     1.000000       1.000000   221.000000\n",
       "25%     5.75000    2.750000     2.000000       3.750000   698.750000\n",
       "50%    10.50000    3.500000     2.500000       5.500000   926.000000\n",
       "75%    15.25000    4.000000     4.000000       7.250000  1297.000000\n",
       "max    20.00000    5.000000     5.000000       9.000000  1993.000000"
      ]
     },
     "execution_count": 57,
     "metadata": {},
     "output_type": "execute_result"
    }
   ],
   "source": [
    "# 1. Viewing Data\n",
    "\n",
    "df.head()      # first 5 rows\n",
    "df.tail()      # last 5 rows\n",
    "df.info()      # summary info\n",
    "df.describe()  # statistical summary"
   ]
  },
  {
   "cell_type": "code",
   "execution_count": 58,
   "id": "661d198b",
   "metadata": {},
   "outputs": [
    {
     "data": {
      "text/plain": [
       "sale_id                   1\n",
       "product_id                3\n",
       "employee_id               2\n",
       "sale_date        2023-03-01\n",
       "quantity_sold             3\n",
       "total_price            1993\n",
       "Name: 0, dtype: object"
      ]
     },
     "execution_count": 58,
     "metadata": {},
     "output_type": "execute_result"
    }
   ],
   "source": [
    "# 2. Accessing Columns and Rows\n",
    "\n",
    "df['total_price']         # Access column\n",
    "df[['product_id', 'quantity_sold']]  # Multiple columns\n",
    "df.iloc[0]         # First row (by position)\n",
    "df.loc[0]          # First row (by label/index)"
   ]
  },
  {
   "cell_type": "code",
   "execution_count": 59,
   "id": "3b815fc5",
   "metadata": {},
   "outputs": [
    {
     "data": {
      "text/html": [
       "<div>\n",
       "<style scoped>\n",
       "    .dataframe tbody tr th:only-of-type {\n",
       "        vertical-align: middle;\n",
       "    }\n",
       "\n",
       "    .dataframe tbody tr th {\n",
       "        vertical-align: top;\n",
       "    }\n",
       "\n",
       "    .dataframe thead th {\n",
       "        text-align: right;\n",
       "    }\n",
       "</style>\n",
       "<table border=\"1\" class=\"dataframe\">\n",
       "  <thead>\n",
       "    <tr style=\"text-align: right;\">\n",
       "      <th></th>\n",
       "      <th>sale_id</th>\n",
       "      <th>product_id</th>\n",
       "      <th>employee_id</th>\n",
       "      <th>sale_date</th>\n",
       "      <th>quantity_sold</th>\n",
       "      <th>total_price</th>\n",
       "    </tr>\n",
       "  </thead>\n",
       "  <tbody>\n",
       "    <tr>\n",
       "      <th>1</th>\n",
       "      <td>2</td>\n",
       "      <td>4</td>\n",
       "      <td>2</td>\n",
       "      <td>2023-03-11</td>\n",
       "      <td>9</td>\n",
       "      <td>912</td>\n",
       "    </tr>\n",
       "    <tr>\n",
       "      <th>4</th>\n",
       "      <td>5</td>\n",
       "      <td>1</td>\n",
       "      <td>2</td>\n",
       "      <td>2023-04-10</td>\n",
       "      <td>8</td>\n",
       "      <td>490</td>\n",
       "    </tr>\n",
       "    <tr>\n",
       "      <th>5</th>\n",
       "      <td>6</td>\n",
       "      <td>4</td>\n",
       "      <td>3</td>\n",
       "      <td>2023-04-20</td>\n",
       "      <td>9</td>\n",
       "      <td>717</td>\n",
       "    </tr>\n",
       "    <tr>\n",
       "      <th>6</th>\n",
       "      <td>7</td>\n",
       "      <td>1</td>\n",
       "      <td>4</td>\n",
       "      <td>2023-04-30</td>\n",
       "      <td>7</td>\n",
       "      <td>903</td>\n",
       "    </tr>\n",
       "    <tr>\n",
       "      <th>7</th>\n",
       "      <td>8</td>\n",
       "      <td>3</td>\n",
       "      <td>4</td>\n",
       "      <td>2023-05-10</td>\n",
       "      <td>7</td>\n",
       "      <td>1094</td>\n",
       "    </tr>\n",
       "    <tr>\n",
       "      <th>14</th>\n",
       "      <td>15</td>\n",
       "      <td>4</td>\n",
       "      <td>2</td>\n",
       "      <td>2023-07-19</td>\n",
       "      <td>7</td>\n",
       "      <td>1074</td>\n",
       "    </tr>\n",
       "    <tr>\n",
       "      <th>15</th>\n",
       "      <td>16</td>\n",
       "      <td>2</td>\n",
       "      <td>2</td>\n",
       "      <td>2023-07-29</td>\n",
       "      <td>9</td>\n",
       "      <td>221</td>\n",
       "    </tr>\n",
       "    <tr>\n",
       "      <th>17</th>\n",
       "      <td>18</td>\n",
       "      <td>3</td>\n",
       "      <td>5</td>\n",
       "      <td>2023-08-18</td>\n",
       "      <td>7</td>\n",
       "      <td>644</td>\n",
       "    </tr>\n",
       "    <tr>\n",
       "      <th>18</th>\n",
       "      <td>19</td>\n",
       "      <td>5</td>\n",
       "      <td>5</td>\n",
       "      <td>2023-08-28</td>\n",
       "      <td>9</td>\n",
       "      <td>728</td>\n",
       "    </tr>\n",
       "    <tr>\n",
       "      <th>19</th>\n",
       "      <td>20</td>\n",
       "      <td>4</td>\n",
       "      <td>3</td>\n",
       "      <td>2023-09-07</td>\n",
       "      <td>6</td>\n",
       "      <td>1552</td>\n",
       "    </tr>\n",
       "  </tbody>\n",
       "</table>\n",
       "</div>"
      ],
      "text/plain": [
       "    sale_id  product_id  employee_id   sale_date  quantity_sold  total_price\n",
       "1         2           4            2  2023-03-11              9          912\n",
       "4         5           1            2  2023-04-10              8          490\n",
       "5         6           4            3  2023-04-20              9          717\n",
       "6         7           1            4  2023-04-30              7          903\n",
       "7         8           3            4  2023-05-10              7         1094\n",
       "14       15           4            2  2023-07-19              7         1074\n",
       "15       16           2            2  2023-07-29              9          221\n",
       "17       18           3            5  2023-08-18              7          644\n",
       "18       19           5            5  2023-08-28              9          728\n",
       "19       20           4            3  2023-09-07              6         1552"
      ]
     },
     "execution_count": 59,
     "metadata": {},
     "output_type": "execute_result"
    }
   ],
   "source": [
    "# 3. Filtering\n",
    "\n",
    "df[df['quantity_sold'] > 5]"
   ]
  },
  {
   "cell_type": "markdown",
   "id": "8be1f6ec",
   "metadata": {},
   "source": [
    "## Data Cleaning with Pandas"
   ]
  },
  {
   "cell_type": "code",
   "execution_count": 60,
   "id": "c935b260",
   "metadata": {},
   "outputs": [
    {
     "data": {
      "text/html": [
       "<div>\n",
       "<style scoped>\n",
       "    .dataframe tbody tr th:only-of-type {\n",
       "        vertical-align: middle;\n",
       "    }\n",
       "\n",
       "    .dataframe tbody tr th {\n",
       "        vertical-align: top;\n",
       "    }\n",
       "\n",
       "    .dataframe thead th {\n",
       "        text-align: right;\n",
       "    }\n",
       "</style>\n",
       "<table border=\"1\" class=\"dataframe\">\n",
       "  <thead>\n",
       "    <tr style=\"text-align: right;\">\n",
       "      <th></th>\n",
       "      <th>sale_id</th>\n",
       "      <th>product_id</th>\n",
       "      <th>employee_id</th>\n",
       "      <th>sale_date</th>\n",
       "      <th>quantity_sold</th>\n",
       "      <th>total_price</th>\n",
       "    </tr>\n",
       "  </thead>\n",
       "  <tbody>\n",
       "    <tr>\n",
       "      <th>0</th>\n",
       "      <td>1</td>\n",
       "      <td>3</td>\n",
       "      <td>2</td>\n",
       "      <td>2023-03-01</td>\n",
       "      <td>3</td>\n",
       "      <td>1993</td>\n",
       "    </tr>\n",
       "    <tr>\n",
       "      <th>1</th>\n",
       "      <td>2</td>\n",
       "      <td>4</td>\n",
       "      <td>2</td>\n",
       "      <td>2023-03-11</td>\n",
       "      <td>9</td>\n",
       "      <td>912</td>\n",
       "    </tr>\n",
       "    <tr>\n",
       "      <th>2</th>\n",
       "      <td>3</td>\n",
       "      <td>4</td>\n",
       "      <td>3</td>\n",
       "      <td>2023-03-21</td>\n",
       "      <td>3</td>\n",
       "      <td>940</td>\n",
       "    </tr>\n",
       "    <tr>\n",
       "      <th>3</th>\n",
       "      <td>4</td>\n",
       "      <td>1</td>\n",
       "      <td>1</td>\n",
       "      <td>2023-03-31</td>\n",
       "      <td>5</td>\n",
       "      <td>963</td>\n",
       "    </tr>\n",
       "    <tr>\n",
       "      <th>4</th>\n",
       "      <td>5</td>\n",
       "      <td>1</td>\n",
       "      <td>2</td>\n",
       "      <td>2023-04-10</td>\n",
       "      <td>8</td>\n",
       "      <td>490</td>\n",
       "    </tr>\n",
       "    <tr>\n",
       "      <th>5</th>\n",
       "      <td>6</td>\n",
       "      <td>4</td>\n",
       "      <td>3</td>\n",
       "      <td>2023-04-20</td>\n",
       "      <td>9</td>\n",
       "      <td>717</td>\n",
       "    </tr>\n",
       "    <tr>\n",
       "      <th>6</th>\n",
       "      <td>7</td>\n",
       "      <td>1</td>\n",
       "      <td>4</td>\n",
       "      <td>2023-04-30</td>\n",
       "      <td>7</td>\n",
       "      <td>903</td>\n",
       "    </tr>\n",
       "    <tr>\n",
       "      <th>7</th>\n",
       "      <td>8</td>\n",
       "      <td>3</td>\n",
       "      <td>4</td>\n",
       "      <td>2023-05-10</td>\n",
       "      <td>7</td>\n",
       "      <td>1094</td>\n",
       "    </tr>\n",
       "    <tr>\n",
       "      <th>8</th>\n",
       "      <td>9</td>\n",
       "      <td>1</td>\n",
       "      <td>3</td>\n",
       "      <td>2023-05-20</td>\n",
       "      <td>1</td>\n",
       "      <td>1321</td>\n",
       "    </tr>\n",
       "    <tr>\n",
       "      <th>9</th>\n",
       "      <td>10</td>\n",
       "      <td>3</td>\n",
       "      <td>2</td>\n",
       "      <td>2023-05-30</td>\n",
       "      <td>5</td>\n",
       "      <td>1506</td>\n",
       "    </tr>\n",
       "    <tr>\n",
       "      <th>10</th>\n",
       "      <td>11</td>\n",
       "      <td>4</td>\n",
       "      <td>5</td>\n",
       "      <td>2023-06-09</td>\n",
       "      <td>1</td>\n",
       "      <td>332</td>\n",
       "    </tr>\n",
       "    <tr>\n",
       "      <th>11</th>\n",
       "      <td>12</td>\n",
       "      <td>5</td>\n",
       "      <td>5</td>\n",
       "      <td>2023-06-19</td>\n",
       "      <td>1</td>\n",
       "      <td>765</td>\n",
       "    </tr>\n",
       "    <tr>\n",
       "      <th>12</th>\n",
       "      <td>13</td>\n",
       "      <td>5</td>\n",
       "      <td>2</td>\n",
       "      <td>2023-06-29</td>\n",
       "      <td>5</td>\n",
       "      <td>1829</td>\n",
       "    </tr>\n",
       "    <tr>\n",
       "      <th>13</th>\n",
       "      <td>14</td>\n",
       "      <td>4</td>\n",
       "      <td>2</td>\n",
       "      <td>2023-07-09</td>\n",
       "      <td>5</td>\n",
       "      <td>417</td>\n",
       "    </tr>\n",
       "    <tr>\n",
       "      <th>14</th>\n",
       "      <td>15</td>\n",
       "      <td>4</td>\n",
       "      <td>2</td>\n",
       "      <td>2023-07-19</td>\n",
       "      <td>7</td>\n",
       "      <td>1074</td>\n",
       "    </tr>\n",
       "    <tr>\n",
       "      <th>15</th>\n",
       "      <td>16</td>\n",
       "      <td>2</td>\n",
       "      <td>2</td>\n",
       "      <td>2023-07-29</td>\n",
       "      <td>9</td>\n",
       "      <td>221</td>\n",
       "    </tr>\n",
       "    <tr>\n",
       "      <th>16</th>\n",
       "      <td>17</td>\n",
       "      <td>3</td>\n",
       "      <td>1</td>\n",
       "      <td>2023-08-08</td>\n",
       "      <td>4</td>\n",
       "      <td>1289</td>\n",
       "    </tr>\n",
       "    <tr>\n",
       "      <th>17</th>\n",
       "      <td>18</td>\n",
       "      <td>3</td>\n",
       "      <td>5</td>\n",
       "      <td>2023-08-18</td>\n",
       "      <td>7</td>\n",
       "      <td>644</td>\n",
       "    </tr>\n",
       "    <tr>\n",
       "      <th>18</th>\n",
       "      <td>19</td>\n",
       "      <td>5</td>\n",
       "      <td>5</td>\n",
       "      <td>2023-08-28</td>\n",
       "      <td>9</td>\n",
       "      <td>728</td>\n",
       "    </tr>\n",
       "    <tr>\n",
       "      <th>19</th>\n",
       "      <td>20</td>\n",
       "      <td>4</td>\n",
       "      <td>3</td>\n",
       "      <td>2023-09-07</td>\n",
       "      <td>6</td>\n",
       "      <td>1552</td>\n",
       "    </tr>\n",
       "  </tbody>\n",
       "</table>\n",
       "</div>"
      ],
      "text/plain": [
       "    sale_id  product_id  employee_id   sale_date  quantity_sold  total_price\n",
       "0         1           3            2  2023-03-01              3         1993\n",
       "1         2           4            2  2023-03-11              9          912\n",
       "2         3           4            3  2023-03-21              3          940\n",
       "3         4           1            1  2023-03-31              5          963\n",
       "4         5           1            2  2023-04-10              8          490\n",
       "5         6           4            3  2023-04-20              9          717\n",
       "6         7           1            4  2023-04-30              7          903\n",
       "7         8           3            4  2023-05-10              7         1094\n",
       "8         9           1            3  2023-05-20              1         1321\n",
       "9        10           3            2  2023-05-30              5         1506\n",
       "10       11           4            5  2023-06-09              1          332\n",
       "11       12           5            5  2023-06-19              1          765\n",
       "12       13           5            2  2023-06-29              5         1829\n",
       "13       14           4            2  2023-07-09              5          417\n",
       "14       15           4            2  2023-07-19              7         1074\n",
       "15       16           2            2  2023-07-29              9          221\n",
       "16       17           3            1  2023-08-08              4         1289\n",
       "17       18           3            5  2023-08-18              7          644\n",
       "18       19           5            5  2023-08-28              9          728\n",
       "19       20           4            3  2023-09-07              6         1552"
      ]
     },
     "execution_count": 60,
     "metadata": {},
     "output_type": "execute_result"
    }
   ],
   "source": [
    "# 1. Handling Missing Data\n",
    "\n",
    "df.isnull().sum()              # Count missing\n",
    "df.fillna(0)                   # Fill with 0\n",
    "df.dropna()                    # Drop missing rows"
   ]
  },
  {
   "cell_type": "code",
   "execution_count": 61,
   "id": "8d443948",
   "metadata": {},
   "outputs": [
    {
     "name": "stdout",
     "output_type": "stream",
     "text": [
      "  FullName  Age    City\n",
      "0    Alice   25   Lagos\n",
      "1      Bob   30   Abuja\n",
      "2  Charlie   35  Ibadan\n"
     ]
    }
   ],
   "source": [
    "# 2. Renaming Columns\n",
    "\n",
    "data = {\n",
    "    'Name': ['Alice', 'Bob', 'Charlie'],\n",
    "    'Age': [25, 30, 35],\n",
    "    'City': ['Lagos', 'Abuja', 'Ibadan']\n",
    "}\n",
    "df = pd.DataFrame(data)\n",
    "\n",
    "# renaming the Name column\n",
    "df.rename(columns={'Name': 'FullName'}, inplace=True)\n",
    "\n",
    "# Printing the updated DataFrame\n",
    "print(df)\n"
   ]
  },
  {
   "cell_type": "code",
   "execution_count": 62,
   "id": "a009c656",
   "metadata": {},
   "outputs": [],
   "source": [
    "# 3. Changing Data Types\n",
    "\n",
    "df['Age'] = df['Age'].astype(float)"
   ]
  },
  {
   "cell_type": "markdown",
   "id": "7d1891d2",
   "metadata": {},
   "source": [
    "## DataFrame Operations"
   ]
  },
  {
   "cell_type": "code",
   "execution_count": 63,
   "id": "2e6b38f7",
   "metadata": {},
   "outputs": [],
   "source": [
    "# 1. Adding New Columns\n",
    "\n",
    "df['Salary'] = [5000, 6000, 7000]"
   ]
  },
  {
   "cell_type": "code",
   "execution_count": 64,
   "id": "87f1de19",
   "metadata": {},
   "outputs": [],
   "source": [
    "# 2. Applying Functions\n",
    "\n",
    "df['AgePlusTen'] = df['Age'].apply(lambda x: x + 10)"
   ]
  },
  {
   "cell_type": "code",
   "execution_count": 65,
   "id": "fb809a81",
   "metadata": {},
   "outputs": [
    {
     "data": {
      "text/html": [
       "<div>\n",
       "<style scoped>\n",
       "    .dataframe tbody tr th:only-of-type {\n",
       "        vertical-align: middle;\n",
       "    }\n",
       "\n",
       "    .dataframe tbody tr th {\n",
       "        vertical-align: top;\n",
       "    }\n",
       "\n",
       "    .dataframe thead th {\n",
       "        text-align: right;\n",
       "    }\n",
       "</style>\n",
       "<table border=\"1\" class=\"dataframe\">\n",
       "  <thead>\n",
       "    <tr style=\"text-align: right;\">\n",
       "      <th></th>\n",
       "      <th>FullName</th>\n",
       "      <th>Age</th>\n",
       "      <th>City</th>\n",
       "      <th>Salary</th>\n",
       "      <th>AgePlusTen</th>\n",
       "    </tr>\n",
       "  </thead>\n",
       "  <tbody>\n",
       "    <tr>\n",
       "      <th>2</th>\n",
       "      <td>Charlie</td>\n",
       "      <td>35.0</td>\n",
       "      <td>Ibadan</td>\n",
       "      <td>7000</td>\n",
       "      <td>45.0</td>\n",
       "    </tr>\n",
       "    <tr>\n",
       "      <th>1</th>\n",
       "      <td>Bob</td>\n",
       "      <td>30.0</td>\n",
       "      <td>Abuja</td>\n",
       "      <td>6000</td>\n",
       "      <td>40.0</td>\n",
       "    </tr>\n",
       "    <tr>\n",
       "      <th>0</th>\n",
       "      <td>Alice</td>\n",
       "      <td>25.0</td>\n",
       "      <td>Lagos</td>\n",
       "      <td>5000</td>\n",
       "      <td>35.0</td>\n",
       "    </tr>\n",
       "  </tbody>\n",
       "</table>\n",
       "</div>"
      ],
      "text/plain": [
       "  FullName   Age    City  Salary  AgePlusTen\n",
       "2  Charlie  35.0  Ibadan    7000        45.0\n",
       "1      Bob  30.0   Abuja    6000        40.0\n",
       "0    Alice  25.0   Lagos    5000        35.0"
      ]
     },
     "execution_count": 65,
     "metadata": {},
     "output_type": "execute_result"
    }
   ],
   "source": [
    "# 3. Sorting\n",
    "\n",
    "df.sort_values('Age', ascending=False)"
   ]
  },
  {
   "cell_type": "markdown",
   "id": "cfee677e",
   "metadata": {},
   "source": [
    "## Combining DataFrames"
   ]
  },
  {
   "cell_type": "code",
   "execution_count": null,
   "id": "dcee1318",
   "metadata": {},
   "outputs": [],
   "source": [
    "# 1. Concatenation\n",
    "\n",
    "pd.concat([df1, df2])"
   ]
  },
  {
   "cell_type": "code",
   "execution_count": null,
   "id": "97d3061e",
   "metadata": {},
   "outputs": [],
   "source": [
    "# 2. Merging (like SQL join)\n",
    "\n",
    "pd.merge(df1, df2, on='ID', how='inner')"
   ]
  },
  {
   "cell_type": "code",
   "execution_count": null,
   "id": "51cbb279",
   "metadata": {},
   "outputs": [],
   "source": [
    "# 3. Joining\n",
    "\n",
    "df1.join(df2, how='outer')"
   ]
  },
  {
   "cell_type": "markdown",
   "id": "fc313979",
   "metadata": {},
   "source": [
    "## GroupBy and Aggregations"
   ]
  },
  {
   "cell_type": "code",
   "execution_count": null,
   "id": "c50ecf78",
   "metadata": {},
   "outputs": [
    {
     "data": {
      "text/plain": [
       "City\n",
       "Abuja     30.0\n",
       "Ibadan    35.0\n",
       "Lagos     25.0\n",
       "Name: Age, dtype: float64"
      ]
     },
     "execution_count": 35,
     "metadata": {},
     "output_type": "execute_result"
    }
   ],
   "source": [
    "df.groupby('City')['Age'].mean()"
   ]
  },
  {
   "cell_type": "markdown",
   "id": "5540fe83",
   "metadata": {},
   "source": [
    "Common aggregation functions:\n",
    "\n",
    "- sum()\n",
    "\n",
    "- mean()\n",
    "\n",
    "- count()\n",
    "\n",
    "- min()\n",
    "\n",
    "- max()"
   ]
  },
  {
   "cell_type": "markdown",
   "id": "9e3103bd",
   "metadata": {},
   "source": [
    "## Pivot Tables"
   ]
  },
  {
   "cell_type": "code",
   "execution_count": null,
   "id": "2cf9f330",
   "metadata": {},
   "outputs": [],
   "source": [
    "df.pivot_table(index='City', columns='Gender', values='Salary', aggfunc='mean')"
   ]
  },
  {
   "cell_type": "markdown",
   "id": "1496a14a",
   "metadata": {},
   "source": [
    "## Reshaping and Melting"
   ]
  },
  {
   "cell_type": "code",
   "execution_count": null,
   "id": "9552036d",
   "metadata": {},
   "outputs": [],
   "source": [
    "# Reshape:\n",
    "\n",
    "df.pivot(index='Name', columns='City', values='Salary')"
   ]
  },
  {
   "cell_type": "code",
   "execution_count": null,
   "id": "f77a0de0",
   "metadata": {},
   "outputs": [],
   "source": [
    "# Melt:\n",
    "\n",
    "pd.melt(df, id_vars=['Name'], value_vars=['Salary', 'Age'])"
   ]
  },
  {
   "cell_type": "markdown",
   "id": "921910bf",
   "metadata": {},
   "source": [
    "## Read:\n",
    "\n",
    "**pd.read_csv()**\n",
    "\n",
    "**pd.read_excel()**\n",
    "\n",
    "**pd.read_json()**"
   ]
  },
  {
   "cell_type": "markdown",
   "id": "5e6648c9",
   "metadata": {},
   "source": [
    "## Write:\n",
    "\n",
    "**df.to_csv('filename.csv')**\n",
    "\n",
    "**df.to_excel('filename.xlsx')**"
   ]
  }
 ],
 "metadata": {
  "kernelspec": {
   "display_name": "Python 3",
   "language": "python",
   "name": "python3"
  },
  "language_info": {
   "codemirror_mode": {
    "name": "ipython",
    "version": 3
   },
   "file_extension": ".py",
   "mimetype": "text/x-python",
   "name": "python",
   "nbconvert_exporter": "python",
   "pygments_lexer": "ipython3",
   "version": "3.8.0"
  }
 },
 "nbformat": 4,
 "nbformat_minor": 5
}
