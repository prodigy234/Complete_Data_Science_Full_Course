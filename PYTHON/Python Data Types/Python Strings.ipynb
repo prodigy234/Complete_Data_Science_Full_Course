{
 "cells": [
  {
   "cell_type": "markdown",
   "id": "1f433bb2",
   "metadata": {},
   "source": [
    "# Python Strings\n",
    "\n",
    "## Strings\n",
    "\n",
    "Strings in python are surrounded by either single quotation marks, or double quotation marks.\n",
    "\n",
    "'hello' is the same as \"hello\".\n",
    "\n",
    "You can display a string literal with the print() function:"
   ]
  },
  {
   "cell_type": "code",
   "execution_count": 16,
   "id": "7fd25f0a",
   "metadata": {},
   "outputs": [
    {
     "name": "stdout",
     "output_type": "stream",
     "text": [
      "Hello\n",
      "Hello\n"
     ]
    }
   ],
   "source": [
    "# Example\n",
    "\n",
    "print(\"Hello\")\n",
    "print('Hello')"
   ]
  },
  {
   "cell_type": "markdown",
   "id": "5d532ae8",
   "metadata": {},
   "source": [
    "## Quotes Inside Quotes\n",
    "\n",
    "You can use quotes inside a string, as long as they don't match the quotes surrounding the string:"
   ]
  },
  {
   "cell_type": "code",
   "execution_count": null,
   "id": "d34a93f4",
   "metadata": {},
   "outputs": [
    {
     "name": "stdout",
     "output_type": "stream",
     "text": [
      "It's alright\n",
      "He is called 'Johnny'\n",
      "He is called \"Johnny\"\n"
     ]
    }
   ],
   "source": [
    "# Example\n",
    "\n",
    "print(\"It's alright\")\n",
    "print(\"He is called 'Johnny'\")\n",
    "print('He is called \"Johnny\"')"
   ]
  },
  {
   "cell_type": "markdown",
   "id": "c5a6b5eb",
   "metadata": {},
   "source": [
    "# Assign String to a Variable\n",
    "\n",
    "Assigning a string to a variable is done with the variable name followed by an equal sign and the string:"
   ]
  },
  {
   "cell_type": "code",
   "execution_count": 18,
   "id": "03a3f317",
   "metadata": {},
   "outputs": [
    {
     "name": "stdout",
     "output_type": "stream",
     "text": [
      "Hello\n"
     ]
    }
   ],
   "source": [
    "# Example\n",
    "\n",
    "a = \"Hello\"\n",
    "print(a)"
   ]
  },
  {
   "cell_type": "markdown",
   "id": "04eaa9a0",
   "metadata": {},
   "source": [
    "# Multiline Strings\n",
    "\n",
    "You can assign a multiline string to a variable by using three quotes:"
   ]
  },
  {
   "cell_type": "code",
   "execution_count": 19,
   "id": "c8adbed8",
   "metadata": {},
   "outputs": [
    {
     "name": "stdout",
     "output_type": "stream",
     "text": [
      "Lorem ipsum dolor sit amet,\n",
      "consectetur adipiscing elit,\n",
      "sed do eiusmod tempor incididunt\n",
      "ut labore et dolore magna aliqua.\n"
     ]
    }
   ],
   "source": [
    "# Example\n",
    "\n",
    "# You can use three double quotes:\n",
    "\n",
    "a = \"\"\"Lorem ipsum dolor sit amet,\n",
    "consectetur adipiscing elit,\n",
    "sed do eiusmod tempor incididunt\n",
    "ut labore et dolore magna aliqua.\"\"\"\n",
    "print(a)"
   ]
  },
  {
   "cell_type": "code",
   "execution_count": 20,
   "id": "262addcf",
   "metadata": {},
   "outputs": [
    {
     "name": "stdout",
     "output_type": "stream",
     "text": [
      "How are you?\n"
     ]
    }
   ],
   "source": [
    "a = 'How are you?'\n",
    "print(a)"
   ]
  },
  {
   "cell_type": "markdown",
   "id": "b14822bd",
   "metadata": {},
   "source": [
    "### Or three single quotes:"
   ]
  },
  {
   "cell_type": "code",
   "execution_count": 21,
   "id": "c6fc49f3",
   "metadata": {},
   "outputs": [
    {
     "name": "stdout",
     "output_type": "stream",
     "text": [
      "Lorem ipsum dolor sit amet,\n",
      "consectetur adipiscing elit,\n",
      "sed do eiusmod tempor incididunt\n",
      "ut labore et dolore magna aliqua.\n"
     ]
    }
   ],
   "source": [
    "# Example\n",
    "\n",
    "a = '''Lorem ipsum dolor sit amet,\n",
    "consectetur adipiscing elit,\n",
    "sed do eiusmod tempor incididunt\n",
    "ut labore et dolore magna aliqua.'''\n",
    "print(a)"
   ]
  },
  {
   "cell_type": "markdown",
   "id": "03b9ab72",
   "metadata": {},
   "source": [
    "- Note: in the result, the line breaks are inserted at the same position as in the code."
   ]
  },
  {
   "cell_type": "markdown",
   "id": "c18ce0ef",
   "metadata": {},
   "source": [
    "## Strings are Arrays\n",
    "\n",
    "Like many other popular programming languages, strings in Python are arrays of bytes representing unicode characters.\n",
    "\n",
    "However, Python does not have a character data type, a single character is simply a string with a length of 1.\n",
    "\n",
    "Square brackets can be used to access elements of the string."
   ]
  },
  {
   "cell_type": "code",
   "execution_count": 37,
   "id": "5a8b5989",
   "metadata": {},
   "outputs": [
    {
     "name": "stdout",
     "output_type": "stream",
     "text": [
      "e\n"
     ]
    }
   ],
   "source": [
    "# Example\n",
    "\n",
    "# Get the character at position 1 (remember that the first character has the position 0):\n",
    "\n",
    "a = \"Hello, World!\"\n",
    "print(a[1])"
   ]
  },
  {
   "cell_type": "markdown",
   "id": "46c05256",
   "metadata": {},
   "source": [
    "Looping Through a String\n",
    "\n",
    "Since strings are arrays, we can loop through the characters in a string, with a for loop."
   ]
  },
  {
   "cell_type": "code",
   "execution_count": 23,
   "id": "a4466d7e",
   "metadata": {},
   "outputs": [
    {
     "name": "stdout",
     "output_type": "stream",
     "text": [
      "b\n",
      "a\n",
      "n\n",
      "a\n",
      "n\n",
      "a\n"
     ]
    }
   ],
   "source": [
    "# Example\n",
    "\n",
    "# Loop through the letters in the word \"banana\":\n",
    "\n",
    "for x in \"banana\":\n",
    "  print(x)"
   ]
  },
  {
   "cell_type": "markdown",
   "id": "5b7aeda6",
   "metadata": {},
   "source": [
    "## String Length\n",
    "\n",
    "To get the length of a string, use the len() function."
   ]
  },
  {
   "cell_type": "code",
   "execution_count": 24,
   "id": "9717666a",
   "metadata": {},
   "outputs": [
    {
     "name": "stdout",
     "output_type": "stream",
     "text": [
      "13\n"
     ]
    }
   ],
   "source": [
    "# Example\n",
    "\n",
    "# The len() function returns the length of a string:\n",
    "\n",
    "a = \"Hello, World!\"\n",
    "print(len(a))"
   ]
  },
  {
   "cell_type": "markdown",
   "id": "e37b52eb",
   "metadata": {},
   "source": [
    "## Check String\n",
    "\n",
    "To check if a certain phrase or character is present in a string, we can use the keyword in."
   ]
  },
  {
   "cell_type": "code",
   "execution_count": 25,
   "id": "32718791",
   "metadata": {},
   "outputs": [
    {
     "name": "stdout",
     "output_type": "stream",
     "text": [
      "True\n"
     ]
    }
   ],
   "source": [
    "# Example\n",
    "\n",
    "# Check if \"free\" is present in the following text:\n",
    "\n",
    "txt = \"The best things in life are free!\"\n",
    "print(\"free\" in txt)"
   ]
  },
  {
   "cell_type": "markdown",
   "id": "cb764fff",
   "metadata": {},
   "source": [
    "# Use it in an if statement:"
   ]
  },
  {
   "cell_type": "code",
   "execution_count": null,
   "id": "3a1c0040",
   "metadata": {},
   "outputs": [
    {
     "name": "stdout",
     "output_type": "stream",
     "text": [
      "Yes, 'free' is present.\n"
     ]
    }
   ],
   "source": [
    "# Example\n",
    "\n",
    "# Print only if \"free\" is present:\n",
    "\n",
    "txt = \"The best things in life are free!\"\n",
    "if \"free\" in txt:\n",
    "  print(\"Yes, 'free' is present.\")"
   ]
  },
  {
   "cell_type": "markdown",
   "id": "a0eefbfe",
   "metadata": {},
   "source": [
    "## Check if NOT\n",
    "\n",
    "To check if a certain phrase or character is NOT present in a string, we can use the keyword not in."
   ]
  },
  {
   "cell_type": "code",
   "execution_count": 27,
   "id": "32de4866",
   "metadata": {},
   "outputs": [
    {
     "name": "stdout",
     "output_type": "stream",
     "text": [
      "True\n"
     ]
    }
   ],
   "source": [
    "# Example\n",
    "\n",
    "# Check if \"expensive\" is NOT present in the following text:\n",
    "\n",
    "txt = \"The best things in life are free!\"\n",
    "print(\"expensive\" not in txt)"
   ]
  },
  {
   "cell_type": "markdown",
   "id": "87bbcf06",
   "metadata": {},
   "source": [
    "## Use it in an if statement:"
   ]
  },
  {
   "cell_type": "code",
   "execution_count": 28,
   "id": "c309d813",
   "metadata": {},
   "outputs": [
    {
     "name": "stdout",
     "output_type": "stream",
     "text": [
      "No, 'expensive' is NOT present.\n"
     ]
    }
   ],
   "source": [
    "# Example\n",
    "\n",
    "# print only if \"expensive\" is NOT present:\n",
    "\n",
    "txt = \"The best things in life are free!\"\n",
    "if \"expensive\" not in txt:\n",
    "  print(\"No, 'expensive' is NOT present.\")"
   ]
  },
  {
   "cell_type": "markdown",
   "id": "4c8b2214",
   "metadata": {},
   "source": [
    "## Python - Slicing Strings"
   ]
  },
  {
   "cell_type": "markdown",
   "id": "c957fc75",
   "metadata": {},
   "source": [
    "### Slicing\n",
    "\n",
    "You can return a range of characters by using the slice syntax.\n",
    "\n",
    "Specify the start index and the end index, separated by a colon, to return a part of the string."
   ]
  },
  {
   "cell_type": "code",
   "execution_count": 29,
   "id": "df8f5d82",
   "metadata": {},
   "outputs": [
    {
     "name": "stdout",
     "output_type": "stream",
     "text": [
      "llo\n"
     ]
    }
   ],
   "source": [
    "# Example\n",
    "\n",
    "# Get the characters from position 2 to position 5 (not included):\n",
    "\n",
    "b = \"Hello, World!\"\n",
    "print(b[2:5])"
   ]
  },
  {
   "cell_type": "markdown",
   "id": "d8f549bb",
   "metadata": {},
   "source": [
    "- Note: The first character has index 0."
   ]
  },
  {
   "cell_type": "markdown",
   "id": "0cb7a3e4",
   "metadata": {},
   "source": [
    "## Slice From the Start\n",
    "\n",
    "By leaving out the start index, the range will start at the first character:"
   ]
  },
  {
   "cell_type": "code",
   "execution_count": 30,
   "id": "4dea43b3",
   "metadata": {},
   "outputs": [
    {
     "name": "stdout",
     "output_type": "stream",
     "text": [
      "Hello\n"
     ]
    }
   ],
   "source": [
    "# Example\n",
    "\n",
    "# Get the characters from the start to position 5 (not included):\n",
    "\n",
    "b = \"Hello, World!\"\n",
    "print(b[:5])"
   ]
  },
  {
   "cell_type": "markdown",
   "id": "b77c1774",
   "metadata": {},
   "source": [
    "## Slice To the End\n",
    "\n",
    "By leaving out the end index, the range will go to the end:"
   ]
  },
  {
   "cell_type": "code",
   "execution_count": 31,
   "id": "dfc5fb4b",
   "metadata": {},
   "outputs": [
    {
     "name": "stdout",
     "output_type": "stream",
     "text": [
      "llo, World!\n"
     ]
    }
   ],
   "source": [
    "# Example\n",
    "\n",
    "# Get the characters from position 2, and all the way to the end:\n",
    "\n",
    "b = \"Hello, World!\"\n",
    "print(b[2:])"
   ]
  },
  {
   "cell_type": "markdown",
   "id": "d5282e4c",
   "metadata": {},
   "source": [
    "## Negative Indexing\n",
    "\n",
    "Use negative indexes to start the slice from the end of the string:"
   ]
  },
  {
   "cell_type": "code",
   "execution_count": 32,
   "id": "33fa0352",
   "metadata": {},
   "outputs": [
    {
     "name": "stdout",
     "output_type": "stream",
     "text": [
      "orl\n"
     ]
    }
   ],
   "source": [
    "# Example\n",
    "\n",
    "# Get the characters:\n",
    "\n",
    "# From: \"o\" in \"World!\" (position -5)\n",
    "\n",
    "# To, but not included: \"d\" in \"World!\" (position -2):\n",
    "\n",
    "b = \"Hello, World!\"\n",
    "print(b[-5:-2])"
   ]
  },
  {
   "cell_type": "markdown",
   "id": "e9e5b398",
   "metadata": {},
   "source": [
    "## Python - Modify Strings\n",
    "\n",
    "Python has a set of built-in methods that you can use on strings."
   ]
  },
  {
   "cell_type": "markdown",
   "id": "917f681d",
   "metadata": {},
   "source": [
    "### Upper Case"
   ]
  },
  {
   "cell_type": "code",
   "execution_count": 33,
   "id": "91e87def",
   "metadata": {},
   "outputs": [
    {
     "name": "stdout",
     "output_type": "stream",
     "text": [
      "HELLO, WORLD!\n"
     ]
    }
   ],
   "source": [
    "# Example\n",
    "\n",
    "# The upper() method returns the string in upper case:\n",
    "\n",
    "a = \"Hello, World!\"\n",
    "print(a.upper())"
   ]
  },
  {
   "cell_type": "markdown",
   "id": "449f4ce9",
   "metadata": {},
   "source": [
    "### Lower Case"
   ]
  },
  {
   "cell_type": "code",
   "execution_count": 38,
   "id": "f869eba8",
   "metadata": {},
   "outputs": [
    {
     "name": "stdout",
     "output_type": "stream",
     "text": [
      "hello, world!\n"
     ]
    }
   ],
   "source": [
    "# Example\n",
    "\n",
    "# The lower() method returns the string in lower case:\n",
    "\n",
    "a = \"Hello, World!\"\n",
    "print(a.lower())"
   ]
  },
  {
   "cell_type": "markdown",
   "id": "4c349761",
   "metadata": {},
   "source": [
    "### Remove Whitespace\n",
    "\n",
    "Whitespace is the space before and/or after the actual text, and very often you want to remove this space."
   ]
  },
  {
   "cell_type": "code",
   "execution_count": 5,
   "id": "f115f9d1",
   "metadata": {},
   "outputs": [
    {
     "name": "stdout",
     "output_type": "stream",
     "text": [
      "Hello, World!\n"
     ]
    }
   ],
   "source": [
    "# Example\n",
    "\n",
    "# The strip() method removes any whitespace from the beginning or the end:\n",
    "\n",
    "a = \" Hello, World! \"\n",
    "print(a.strip()) # returns \"Hello, World!\""
   ]
  },
  {
   "cell_type": "markdown",
   "id": "327d917c",
   "metadata": {},
   "source": [
    "## Replace String"
   ]
  },
  {
   "cell_type": "code",
   "execution_count": 43,
   "id": "610ba103",
   "metadata": {},
   "outputs": [
    {
     "name": "stdout",
     "output_type": "stream",
     "text": [
      "Jello, World!\n"
     ]
    }
   ],
   "source": [
    "# Example\n",
    "\n",
    "# The replace() method replaces a string with another string:\n",
    "\n",
    "a = \"Hello, World!\"\n",
    "print(a.replace(\"H\", \"J\"))"
   ]
  },
  {
   "cell_type": "markdown",
   "id": "915e5011",
   "metadata": {},
   "source": [
    "### Split String\n",
    "\n",
    "The split() method returns a list where the text between the specified separator becomes the list items."
   ]
  },
  {
   "cell_type": "code",
   "execution_count": 44,
   "id": "021da7e9",
   "metadata": {},
   "outputs": [
    {
     "name": "stdout",
     "output_type": "stream",
     "text": [
      "['Hello', ' World!']\n"
     ]
    }
   ],
   "source": [
    "# Example\n",
    "\n",
    "# The split() method splits the string into substrings if it finds instances of the separator:\n",
    "\n",
    "a = \"Hello, World!\"\n",
    "print(a.split(\",\")) # returns ['Hello', ' World!']"
   ]
  },
  {
   "cell_type": "markdown",
   "id": "6236ed4f",
   "metadata": {},
   "source": [
    "## Python - String Concatenation\n",
    "\n",
    "### String Concatenation\n",
    "\n",
    "To concatenate, or combine, two strings you can use the + operator."
   ]
  },
  {
   "cell_type": "code",
   "execution_count": 1,
   "id": "b6627fc1",
   "metadata": {},
   "outputs": [
    {
     "name": "stdout",
     "output_type": "stream",
     "text": [
      "HelloWorld\n"
     ]
    }
   ],
   "source": [
    "# Example\n",
    "\n",
    "# Merge variable a with variable b into variable c:\n",
    "\n",
    "a = \"Hello\"\n",
    "b = \"World\"\n",
    "c = a + b\n",
    "print(c)"
   ]
  },
  {
   "cell_type": "code",
   "execution_count": 10,
   "id": "b9ba7359",
   "metadata": {},
   "outputs": [
    {
     "name": "stdout",
     "output_type": "stream",
     "text": [
      "Hello World\n"
     ]
    }
   ],
   "source": [
    "# Example\n",
    "\n",
    "# To add a space between them, add a \" \":\n",
    "\n",
    "a = \"Hello\"\n",
    "b = \"World\"\n",
    "c = a + \" \" + b\n",
    "print(c)"
   ]
  },
  {
   "cell_type": "markdown",
   "id": "42024819",
   "metadata": {},
   "source": [
    "## Python - Format - Strings\n",
    "\n",
    "### String Format\n",
    "\n",
    "As we learned in the Python previously, we cannot combine strings and numbers like this:"
   ]
  },
  {
   "cell_type": "code",
   "execution_count": 3,
   "id": "fb278669",
   "metadata": {},
   "outputs": [
    {
     "ename": "TypeError",
     "evalue": "can only concatenate str (not \"int\") to str",
     "output_type": "error",
     "traceback": [
      "\u001b[1;31m---------------------------------------------------------------------------\u001b[0m",
      "\u001b[1;31mTypeError\u001b[0m                                 Traceback (most recent call last)",
      "Cell \u001b[1;32mIn[3], line 4\u001b[0m\n\u001b[0;32m      1\u001b[0m \u001b[38;5;66;03m# Example\u001b[39;00m\n\u001b[0;32m      3\u001b[0m age \u001b[38;5;241m=\u001b[39m \u001b[38;5;241m36\u001b[39m\n\u001b[1;32m----> 4\u001b[0m txt \u001b[38;5;241m=\u001b[39m \u001b[38;5;124;43m\"\u001b[39;49m\u001b[38;5;124;43mMy name is John, I am \u001b[39;49m\u001b[38;5;124;43m\"\u001b[39;49m\u001b[43m \u001b[49m\u001b[38;5;241;43m+\u001b[39;49m\u001b[43m \u001b[49m\u001b[43mage\u001b[49m\n\u001b[0;32m      5\u001b[0m \u001b[38;5;28mprint\u001b[39m(txt)\n",
      "\u001b[1;31mTypeError\u001b[0m: can only concatenate str (not \"int\") to str"
     ]
    }
   ],
   "source": [
    "# Example\n",
    "\n",
    "age = 36\n",
    "txt = \"My name is John, I am \" + age\n",
    "print(txt)"
   ]
  },
  {
   "cell_type": "markdown",
   "id": "7a95e6ef",
   "metadata": {},
   "source": [
    "**But we can combine strings and numbers by using f-strings or the format() method!**"
   ]
  },
  {
   "cell_type": "markdown",
   "id": "3bee8a31",
   "metadata": {},
   "source": [
    "## F-Strings\n",
    "\n",
    "F-String was introduced in Python 3.6, and is now the preferred way of formatting strings.\n",
    "\n",
    "To specify a string as an f-string, simply put an f in front of the string literal, and add curly brackets {} as placeholders for variables and other operations."
   ]
  },
  {
   "cell_type": "code",
   "execution_count": 6,
   "id": "2449e578",
   "metadata": {},
   "outputs": [
    {
     "name": "stdout",
     "output_type": "stream",
     "text": [
      "My name is John, I am 36\n"
     ]
    }
   ],
   "source": [
    "# Example\n",
    "\n",
    "# Create an f-string:\n",
    "\n",
    "age = 36\n",
    "txt = f\"My name is John, I am {age}\"\n",
    "print(txt)"
   ]
  },
  {
   "cell_type": "markdown",
   "id": "3e9ef81c",
   "metadata": {},
   "source": [
    "## Placeholders and Modifiers\n",
    "\n",
    "A placeholder can contain variables, operations, functions, and modifiers to format the value."
   ]
  },
  {
   "cell_type": "code",
   "execution_count": 13,
   "id": "a0b55511",
   "metadata": {},
   "outputs": [
    {
     "name": "stdout",
     "output_type": "stream",
     "text": [
      "The price is 59 dollars\n"
     ]
    }
   ],
   "source": [
    "# Example\n",
    "\n",
    "# Add a placeholder for the price variable:\n",
    "\n",
    "price = 59\n",
    "txt = f\"The price is {price} dollars\"\n",
    "print(txt)"
   ]
  },
  {
   "cell_type": "markdown",
   "id": "13d0d198",
   "metadata": {},
   "source": [
    "### A placeholder can include a modifier to format the value.\n",
    "\n",
    "A modifier is included by adding a colon : followed by a legal formatting type, like .2f which means fixed point number with 2 decimals:"
   ]
  },
  {
   "cell_type": "code",
   "execution_count": 3,
   "id": "7c3f0d4b",
   "metadata": {},
   "outputs": [
    {
     "name": "stdout",
     "output_type": "stream",
     "text": [
      "The price is 72.65 dollars\n"
     ]
    }
   ],
   "source": [
    "# Example\n",
    "\n",
    "# Display the price with 2 decimals:\n",
    "\n",
    "price = 72.65478\n",
    "txt = f\"The price is {price:.2f} dollars\"\n",
    "print(txt)"
   ]
  },
  {
   "cell_type": "markdown",
   "id": "30569a38",
   "metadata": {},
   "source": [
    "### A placeholder can contain Python code, like math operations:"
   ]
  },
  {
   "cell_type": "code",
   "execution_count": 11,
   "id": "2be6d21b",
   "metadata": {},
   "outputs": [
    {
     "name": "stdout",
     "output_type": "stream",
     "text": [
      "The price is 1180 dollars\n"
     ]
    }
   ],
   "source": [
    "# Example\n",
    "\n",
    "# Perform a math operation in the placeholder, and return the result:\n",
    "\n",
    "txt = f\"The price is {20 * 59} dollars\"\n",
    "print(txt)"
   ]
  }
 ],
 "metadata": {
  "kernelspec": {
   "display_name": "Python 3",
   "language": "python",
   "name": "python3"
  },
  "language_info": {
   "codemirror_mode": {
    "name": "ipython",
    "version": 3
   },
   "file_extension": ".py",
   "mimetype": "text/x-python",
   "name": "python",
   "nbconvert_exporter": "python",
   "pygments_lexer": "ipython3",
   "version": "3.8.0"
  }
 },
 "nbformat": 4,
 "nbformat_minor": 5
}
