{
 "cells": [
  {
   "cell_type": "markdown",
   "id": "9e9862c6",
   "metadata": {},
   "source": [
    "# Data Analytics Project: `\"Student Performance Analytics using NumPy\"`"
   ]
  },
  {
   "cell_type": "markdown",
   "id": "c25155bd",
   "metadata": {},
   "source": [
    "### Project Description:\n",
    "\n",
    "You are given student performance data for 100 students. The dataset includes:\n",
    "\n",
    "* Student ID\n",
    "\n",
    "* Scores in 5 subjects: Math, English, Economics, Biology, and Civic Education"
   ]
  },
  {
   "cell_type": "markdown",
   "id": "511f5af3",
   "metadata": {},
   "source": [
    "### Your task is to:\n",
    "\n",
    "* Calculate the average score for each student.\n",
    "\n",
    "* Find the top 5 students based on total scores.\n",
    "\n",
    "* Analyze the performance in each subject (average, max, min).\n",
    "\n",
    "* Classify students into performance categories (High, Average, Low) based on their total score."
   ]
  },
  {
   "cell_type": "markdown",
   "id": "91ec6df8",
   "metadata": {},
   "source": [
    "### NOTE:\n",
    "\n",
    "You are to classify the students into three categories based on their total score:\n",
    "\n",
    "* High: Total score ≥ 450\n",
    "\n",
    "* Average: Total score between 350 and 449\n",
    "\n",
    "* Low: Total score < 350"
   ]
  },
  {
   "cell_type": "markdown",
   "id": "8578b988",
   "metadata": {},
   "source": [
    "# Step 1: Import Libraries"
   ]
  },
  {
   "cell_type": "code",
   "execution_count": 1,
   "id": "c04bea67",
   "metadata": {},
   "outputs": [],
   "source": [
    "# Import libraries\n",
    "import numpy as np"
   ]
  },
  {
   "cell_type": "markdown",
   "id": "8faa9990",
   "metadata": {},
   "source": [
    "# Step 2: Create Synthetic Student Data\n",
    "\n",
    "Let’s simulate scores for 100 students in 5 subjects:"
   ]
  },
  {
   "cell_type": "code",
   "execution_count": 2,
   "id": "ee610efd",
   "metadata": {},
   "outputs": [
    {
     "name": "stdout",
     "output_type": "stream",
     "text": [
      "Student Performance Data (ID, Math, English, Science, History, PE):\n",
      "[[  1  88  78  64  92  57]\n",
      " [  2  70  88  68  72  60]\n",
      " [  3  60  73  85  89  73]\n",
      " [  4  52  71  51  73  93]\n",
      " [  5  79  87  51  70  82]\n",
      " [  6  61  71  93  74  98]\n",
      " [  7  76  91  77  65  64]\n",
      " [  8  96  93  52  86  56]\n",
      " [  9  70  58  88  67  53]\n",
      " [ 10  74  63  99  58  75]\n",
      " [ 11  51  69  77  96  56]\n",
      " [ 12  93  57  96  84  63]\n",
      " [ 13  66  85  99  89  53]\n",
      " [ 14  51  55  91  53  78]\n",
      " [ 15  67  75  93  83  59]\n",
      " [ 16  85  63  80  97  64]\n",
      " [ 17  57  63  72  89  70]\n",
      " [ 18  65  94  67  96  73]\n",
      " [ 19  75  74  94  90  78]\n",
      " [ 20  64  94  50  74  56]\n",
      " [ 21  58  73  50  93  57]\n",
      " [ 22  73  60  66  57  84]\n",
      " [ 23  84  82  54  91  88]\n",
      " [ 24  90  77  56  58  57]\n",
      " [ 25  61  83  82  97  72]\n",
      " [ 26  73  86  84  93  89]\n",
      " [ 27  71  76  84  50  84]\n",
      " [ 28  86  96  63  52  50]\n",
      " [ 29  54  75  63  88  76]\n",
      " [ 30  58  64  64  75  91]\n",
      " [ 31  62  81  88  98  81]\n",
      " [ 32  53  79  86  72  88]\n",
      " [ 33  94  64  92  78  85]\n",
      " [ 34  62  81  56  71  77]\n",
      " [ 35  51  91  94  55  77]\n",
      " [ 36  77  93  93  69  79]\n",
      " [ 37  60  77  74  88  82]\n",
      " [ 38  50  76  62  90  52]\n",
      " [ 39  88  55  57  76  58]\n",
      " [ 40  86  82  91  93  73]\n",
      " [ 41  64  81  81  73  90]\n",
      " [ 42  98  98  61  88  51]\n",
      " [ 43  52  98  86  98  66]\n",
      " [ 44  98  51  51  77  72]\n",
      " [ 45  86  81  82  50  68]\n",
      " [ 46  51  93  75  81  55]\n",
      " [ 47  81  53  60  66  87]\n",
      " [ 48  73  54  83  55  71]\n",
      " [ 49  60  97  65  82  58]\n",
      " [ 50  55  65  78  52  69]\n",
      " [ 51  85  68  75  52  68]\n",
      " [ 52  69  81  56  90  82]\n",
      " [ 53  89  88  67  89  50]\n",
      " [ 54  60  77  74  99  72]\n",
      " [ 55  80  79  91  84  56]\n",
      " [ 56  65  75  97  98  51]\n",
      " [ 57  50  97  61  54  86]\n",
      " [ 58  81  58  90  84  68]\n",
      " [ 59  97  65  52  69  73]\n",
      " [ 60  82  73  60  98  57]\n",
      " [ 61  85  87  89  69  84]\n",
      " [ 62  97  74  84  74  78]\n",
      " [ 63  67  95  67  51  84]\n",
      " [ 64  65  90  85  82  53]\n",
      " [ 65  82  63  70  97  69]\n",
      " [ 66  57  56  52  66  82]\n",
      " [ 67  97  61  71  71  95]\n",
      " [ 68  79  87  87  94  57]\n",
      " [ 69  76  76  83  70  79]\n",
      " [ 70  82  77  96  82  54]\n",
      " [ 71  97  68  53  84  98]\n",
      " [ 72  66  93  77  79  78]\n",
      " [ 73  95  55  84  90  86]\n",
      " [ 74  73  78  98  95  80]\n",
      " [ 75  84  82  70  81  72]\n",
      " [ 76  82  52  67  74  91]\n",
      " [ 77  80  52  89  95  73]\n",
      " [ 78  99  81  96  71  72]\n",
      " [ 79  51  76  91  51  75]\n",
      " [ 80  66  89  82  58  92]\n",
      " [ 81  97  88  78  91  75]\n",
      " [ 82  84  99  74  73  62]\n",
      " [ 83  56  85  94  69  50]\n",
      " [ 84  57  95  65  63  61]\n",
      " [ 85  72  64  77  83  51]\n",
      " [ 86  81  72  71  74  71]\n",
      " [ 87  71  98  91  55  64]\n",
      " [ 88  92  86  82  57  93]\n",
      " [ 89  93  54  88  53  55]\n",
      " [ 90  94  81  79  96  84]\n",
      " [ 91  89  65  62  99  91]\n",
      " [ 92  79  68  66  68  77]\n",
      " [ 93  75  86  75  72  58]\n",
      " [ 94  61  50  50  96  83]\n",
      " [ 95  81  97  74  89  94]\n",
      " [ 96  50  65  88  54  71]\n",
      " [ 97  78  52  61  75  65]\n",
      " [ 98  86  71  78  63  77]\n",
      " [ 99  54  96  98  79  95]\n",
      " [100  54  61  65  75  75]]\n"
     ]
    }
   ],
   "source": [
    "# Set random seed for repeatability\n",
    "np.random.seed(42)\n",
    "\n",
    "# Generate synthetic data for 100 students\n",
    "student_ids = np.arange(1, 101)  # Student IDs from 1 to 100\n",
    "scores = np.random.randint(50, 100, size=(100, 5))  # Scores between 50 and 100 for each subject\n",
    "\n",
    "# Display the student data\n",
    "print(\"Student Performance Data (ID, Math, English, Science, History, PE):\")\n",
    "data = np.column_stack((student_ids, scores))\n",
    "print(data)"
   ]
  },
  {
   "cell_type": "markdown",
   "id": "aab4cc1d",
   "metadata": {},
   "source": [
    "# Step 3: Calculate Average Score for Each Student\n",
    "\n",
    "To calculate the average score for each student across all subjects:"
   ]
  },
  {
   "cell_type": "code",
   "execution_count": 3,
   "id": "09bfce63",
   "metadata": {},
   "outputs": [
    {
     "name": "stdout",
     "output_type": "stream",
     "text": [
      "Average Scores for Each Student:\n",
      "[75.8 71.6 76.  68.  73.8 79.4 74.6 76.6 67.2 73.8 69.8 78.6 78.4 65.6\n",
      " 75.4 77.8 70.2 79.  82.2 67.6 66.2 68.  79.8 67.6 79.  85.  73.  69.4\n",
      " 71.2 70.4 82.  75.6 82.6 69.4 73.6 82.2 76.2 66.  66.8 85.  77.8 79.2\n",
      " 80.  69.8 73.4 71.  69.4 67.2 72.4 63.8 69.6 75.6 76.6 76.4 78.  77.2\n",
      " 69.6 76.2 71.2 74.  82.8 81.4 72.8 75.  76.2 62.6 79.  80.8 76.8 78.2\n",
      " 80.  78.6 82.  84.8 77.8 73.2 77.8 83.8 68.8 77.4 85.8 78.4 70.8 68.2\n",
      " 69.4 73.8 75.8 82.  68.6 86.8 81.2 71.6 73.2 68.  87.  65.6 66.2 75.\n",
      " 84.4 66. ]\n"
     ]
    }
   ],
   "source": [
    "# Calculate the average score for each student\n",
    "average_scores = np.mean(scores, axis=1)\n",
    "\n",
    "# Display the average score for each student\n",
    "print(\"Average Scores for Each Student:\")\n",
    "print(average_scores)"
   ]
  },
  {
   "cell_type": "markdown",
   "id": "77ce8975",
   "metadata": {},
   "source": [
    "# Step 4: Find the Top 5 Students Based on Total Score"
   ]
  },
  {
   "cell_type": "markdown",
   "id": "1c069a85",
   "metadata": {},
   "source": [
    "### Total Score Calculation\n",
    "\n",
    "* First, calculate the total score for each student (sum of all subject scores):"
   ]
  },
  {
   "cell_type": "code",
   "execution_count": 4,
   "id": "6c795696",
   "metadata": {},
   "outputs": [
    {
     "name": "stdout",
     "output_type": "stream",
     "text": [
      "Total Scores for Each Student:\n",
      "[379 358 380 340 369 397 373 383 336 369 349 393 392 328 377 389 351 395\n",
      " 411 338 331 340 399 338 395 425 365 347 356 352 410 378 413 347 368 411\n",
      " 381 330 334 425 389 396 400 349 367 355 347 336 362 319 348 378 383 382\n",
      " 390 386 348 381 356 370 414 407 364 375 381 313 395 404 384 391 400 393\n",
      " 410 424 389 366 389 419 344 387 429 392 354 341 347 369 379 410 343 434\n",
      " 406 358 366 340 435 328 331 375 422 330]\n"
     ]
    }
   ],
   "source": [
    "# Calculate the total score for each student\n",
    "total_scores = np.sum(scores, axis=1)\n",
    "\n",
    "# Display the total score for each student\n",
    "print(\"Total Scores for Each Student:\")\n",
    "print(total_scores)"
   ]
  },
  {
   "cell_type": "markdown",
   "id": "a4bf6aca",
   "metadata": {},
   "source": [
    "### Find Top 5 Students\n",
    "\n",
    "To find the top 5 students based on the highest total scores:"
   ]
  },
  {
   "cell_type": "code",
   "execution_count": 5,
   "id": "c260e9c5",
   "metadata": {},
   "outputs": [
    {
     "name": "stdout",
     "output_type": "stream",
     "text": [
      "Top 5 Students Based on Total Scores:\n",
      "Rank 1: Student ID 95 with Total Score 435\n",
      "Rank 2: Student ID 90 with Total Score 434\n",
      "Rank 3: Student ID 81 with Total Score 429\n",
      "Rank 4: Student ID 26 with Total Score 425\n",
      "Rank 5: Student ID 40 with Total Score 425\n"
     ]
    }
   ],
   "source": [
    "# Get the indices of the top 5 students\n",
    "top_5_indices = np.argsort(total_scores)[::-1][:5]\n",
    "\n",
    "# Get the top 5 student IDs and their total scores\n",
    "top_5_students = student_ids[top_5_indices]\n",
    "top_5_scores = total_scores[top_5_indices]\n",
    "\n",
    "print(f\"Top 5 Students Based on Total Scores:\")\n",
    "for i, student in enumerate(top_5_students):\n",
    "    print(f\"Rank {i + 1}: Student ID {student} with Total Score {top_5_scores[i]}\")"
   ]
  },
  {
   "cell_type": "markdown",
   "id": "d045c466",
   "metadata": {},
   "source": [
    "# Step 5: Analyze Performance in Each Subject\n",
    "\n",
    "* We will calculate the average, maximum, and minimum score for each subject."
   ]
  },
  {
   "cell_type": "markdown",
   "id": "9ea6f11b",
   "metadata": {},
   "source": [
    "### Performance in Each Subject"
   ]
  },
  {
   "cell_type": "code",
   "execution_count": 6,
   "id": "ea0cb2c4",
   "metadata": {},
   "outputs": [
    {
     "name": "stdout",
     "output_type": "stream",
     "text": [
      "\n",
      "Subject Performance Summary:\n",
      "Math:\n",
      "  Average Score: 73.51\n",
      "  Max Score: 99\n",
      "  Min Score: 50\n",
      "English:\n",
      "  Average Score: 76.10\n",
      "  Max Score: 99\n",
      "  Min Score: 50\n",
      "Economics:\n",
      "  Average Score: 75.58\n",
      "  Max Score: 99\n",
      "  Min Score: 50\n",
      "Biology:\n",
      "  Average Score: 76.98\n",
      "  Max Score: 99\n",
      "  Min Score: 50\n",
      "Civic Education:\n",
      "  Average Score: 72.15\n",
      "  Max Score: 98\n",
      "  Min Score: 50\n"
     ]
    }
   ],
   "source": [
    "# Analyze performance in each subject (Math, English, Science, History, PE)\n",
    "subject_averages = np.mean(scores, axis=0)\n",
    "subject_max = np.max(scores, axis=0)\n",
    "subject_min = np.min(scores, axis=0)\n",
    "\n",
    "subject_names = [\"Math\", \"English\", \"Economics\", \"Biology\", \"Civic Education\"]\n",
    "\n",
    "# Display performance summary\n",
    "print(\"\\nSubject Performance Summary:\")\n",
    "for i, subject in enumerate(subject_names):\n",
    "    print(f\"{subject}:\")\n",
    "    print(f\"  Average Score: {subject_averages[i]:.2f}\")\n",
    "    print(f\"  Max Score: {subject_max[i]}\")\n",
    "    print(f\"  Min Score: {subject_min[i]}\")\n"
   ]
  },
  {
   "cell_type": "markdown",
   "id": "dfae7b9a",
   "metadata": {},
   "source": [
    "# Step 6: Classify Students Based on Total Score\n",
    "\n",
    "We can classify students into 3 categories based on their total score:\n",
    "\n",
    "* High: Total score ≥ 450\n",
    "\n",
    "* Average: Total score between 350 and 449\n",
    "\n",
    "* Low: Total score < 350"
   ]
  },
  {
   "cell_type": "markdown",
   "id": "f724693e",
   "metadata": {},
   "source": [
    "### Classification"
   ]
  },
  {
   "cell_type": "code",
   "execution_count": 7,
   "id": "27117c9b",
   "metadata": {},
   "outputs": [
    {
     "name": "stdout",
     "output_type": "stream",
     "text": [
      "\n",
      "Student Performance Categories (High, Average, Low):\n",
      "Student ID 1: Average\n",
      "Student ID 2: Average\n",
      "Student ID 3: Average\n",
      "Student ID 4: Low\n",
      "Student ID 5: Average\n",
      "Student ID 6: Average\n",
      "Student ID 7: Average\n",
      "Student ID 8: Average\n",
      "Student ID 9: Low\n",
      "Student ID 10: Average\n",
      "Student ID 11: Low\n",
      "Student ID 12: Average\n",
      "Student ID 13: Average\n",
      "Student ID 14: Low\n",
      "Student ID 15: Average\n",
      "Student ID 16: Average\n",
      "Student ID 17: Average\n",
      "Student ID 18: Average\n",
      "Student ID 19: Average\n",
      "Student ID 20: Low\n",
      "Student ID 21: Low\n",
      "Student ID 22: Low\n",
      "Student ID 23: Average\n",
      "Student ID 24: Low\n",
      "Student ID 25: Average\n",
      "Student ID 26: Average\n",
      "Student ID 27: Average\n",
      "Student ID 28: Low\n",
      "Student ID 29: Average\n",
      "Student ID 30: Average\n",
      "Student ID 31: Average\n",
      "Student ID 32: Average\n",
      "Student ID 33: Average\n",
      "Student ID 34: Low\n",
      "Student ID 35: Average\n",
      "Student ID 36: Average\n",
      "Student ID 37: Average\n",
      "Student ID 38: Low\n",
      "Student ID 39: Low\n",
      "Student ID 40: Average\n",
      "Student ID 41: Average\n",
      "Student ID 42: Average\n",
      "Student ID 43: Average\n",
      "Student ID 44: Low\n",
      "Student ID 45: Average\n",
      "Student ID 46: Average\n",
      "Student ID 47: Low\n",
      "Student ID 48: Low\n",
      "Student ID 49: Average\n",
      "Student ID 50: Low\n",
      "Student ID 51: Low\n",
      "Student ID 52: Average\n",
      "Student ID 53: Average\n",
      "Student ID 54: Average\n",
      "Student ID 55: Average\n",
      "Student ID 56: Average\n",
      "Student ID 57: Low\n",
      "Student ID 58: Average\n",
      "Student ID 59: Average\n",
      "Student ID 60: Average\n",
      "Student ID 61: Average\n",
      "Student ID 62: Average\n",
      "Student ID 63: Average\n",
      "Student ID 64: Average\n",
      "Student ID 65: Average\n",
      "Student ID 66: Low\n",
      "Student ID 67: Average\n",
      "Student ID 68: Average\n",
      "Student ID 69: Average\n",
      "Student ID 70: Average\n",
      "Student ID 71: Average\n",
      "Student ID 72: Average\n",
      "Student ID 73: Average\n",
      "Student ID 74: Average\n",
      "Student ID 75: Average\n",
      "Student ID 76: Average\n",
      "Student ID 77: Average\n",
      "Student ID 78: Average\n",
      "Student ID 79: Low\n",
      "Student ID 80: Average\n",
      "Student ID 81: Average\n",
      "Student ID 82: Average\n",
      "Student ID 83: Average\n",
      "Student ID 84: Low\n",
      "Student ID 85: Low\n",
      "Student ID 86: Average\n",
      "Student ID 87: Average\n",
      "Student ID 88: Average\n",
      "Student ID 89: Low\n",
      "Student ID 90: Average\n",
      "Student ID 91: Average\n",
      "Student ID 92: Average\n",
      "Student ID 93: Average\n",
      "Student ID 94: Low\n",
      "Student ID 95: Average\n",
      "Student ID 96: Low\n",
      "Student ID 97: Low\n",
      "Student ID 98: Average\n",
      "Student ID 99: Average\n",
      "Student ID 100: Low\n"
     ]
    }
   ],
   "source": [
    "def classify_performance(score):\n",
    "    if score >= 450:\n",
    "        return \"High\"\n",
    "    elif score >= 350:\n",
    "        return \"Average\"\n",
    "    else:\n",
    "        return \"Low\"\n",
    "\n",
    "# Apply classification for each student based on their total score\n",
    "performance_categories = np.vectorize(classify_performance)(total_scores)\n",
    "\n",
    "# Display the performance classification for each student\n",
    "print(\"\\nStudent Performance Categories (High, Average, Low):\")\n",
    "for student_id, performance in zip(student_ids, performance_categories):\n",
    "    print(f\"Student ID {student_id}: {performance}\")"
   ]
  },
  {
   "cell_type": "markdown",
   "id": "abefad68",
   "metadata": {},
   "source": [
    "# Step 7: Summary and Insights\n",
    "\n",
    "* Finally, we will display a summary of key insights:"
   ]
  },
  {
   "cell_type": "code",
   "execution_count": 8,
   "id": "9366e2c3",
   "metadata": {},
   "outputs": [
    {
     "name": "stdout",
     "output_type": "stream",
     "text": [
      "\n",
      "--- Summary of Insights ---\n",
      "Average Score for All Students: 374.32\n",
      "Average Score per Subject:\n",
      "  Math: 73.51\n",
      "  English: 76.10\n",
      "  Economics: 75.58\n",
      "  Biology: 76.98\n",
      "  Civic Education: 72.15\n",
      "\n",
      "Total Students in High Performance Category: 0\n",
      "Total Students in Average Performance Category: 73\n",
      "Total Students in Low Performance Category: 27\n"
     ]
    }
   ],
   "source": [
    "print(\"\\n--- Summary of Insights ---\")\n",
    "print(f\"Average Score for All Students: {np.mean(total_scores):.2f}\")\n",
    "print(f\"Average Score per Subject:\")\n",
    "for i, subject in enumerate(subject_names):\n",
    "    print(f\"  {subject}: {subject_averages[i]:.2f}\")\n",
    "print(f\"\\nTotal Students in High Performance Category: {np.sum(performance_categories == 'High')}\")\n",
    "print(f\"Total Students in Average Performance Category: {np.sum(performance_categories == 'Average')}\")\n",
    "print(f\"Total Students in Low Performance Category: {np.sum(performance_categories == 'Low')}\")"
   ]
  }
 ],
 "metadata": {
  "kernelspec": {
   "display_name": "Python 3",
   "language": "python",
   "name": "python3"
  },
  "language_info": {
   "codemirror_mode": {
    "name": "ipython",
    "version": 3
   },
   "file_extension": ".py",
   "mimetype": "text/x-python",
   "name": "python",
   "nbconvert_exporter": "python",
   "pygments_lexer": "ipython3",
   "version": "3.8.0"
  }
 },
 "nbformat": 4,
 "nbformat_minor": 5
}
