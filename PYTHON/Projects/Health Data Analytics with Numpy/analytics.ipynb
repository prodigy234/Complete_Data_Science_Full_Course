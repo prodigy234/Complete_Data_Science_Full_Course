{
 "cells": [
  {
   "cell_type": "markdown",
   "id": "e39ea742",
   "metadata": {},
   "source": [
    "# Data Analytics Project: `\"Health Data Analysis using NumPy\"`"
   ]
  },
  {
   "cell_type": "markdown",
   "id": "88e347fd",
   "metadata": {},
   "source": [
    "### Project Description:\n",
    "\n",
    "You are given a health dataset that contains the following data for 50 patients:\n",
    "\n",
    "* Age of the patient\n",
    "\n",
    "* Weight (in kilograms)\n",
    "\n",
    "* Height (in meters)\n",
    "\n",
    "* Blood Pressure (in mmHg)"
   ]
  },
  {
   "cell_type": "markdown",
   "id": "51a0abb0",
   "metadata": {},
   "source": [
    "### Your task is to:\n",
    "\n",
    "* Calculate Body Mass Index (BMI) for each patient.\n",
    "\n",
    "* Analyze the average age, average weight, and BMI distribution.\n",
    "\n",
    "* Find the percentage of patients with high blood pressure.\n",
    "\n",
    "* Categorize patients as Underweight, Normal weight, Overweight, and Obese based on BMI."
   ]
  },
  {
   "cell_type": "markdown",
   "id": "36eebde9",
   "metadata": {},
   "source": [
    "### NOTE\n",
    "\n",
    "* Ages should be between 18 and 80\n",
    "\n",
    "* Weights should be between 50kg and 100kg\n",
    "\n",
    "* Heights should be between 1.5m and 2.0m\n",
    "\n",
    "* Blood should be pressure between 110 and 180 mmHg"
   ]
  },
  {
   "cell_type": "markdown",
   "id": "1cd65550",
   "metadata": {},
   "source": [
    "# Step 1: Import Libraries"
   ]
  },
  {
   "cell_type": "code",
   "execution_count": 61,
   "id": "1ba34db0",
   "metadata": {},
   "outputs": [],
   "source": [
    "# Import Libraries\n",
    "import numpy as np"
   ]
  },
  {
   "cell_type": "markdown",
   "id": "2fb81989",
   "metadata": {},
   "source": [
    "# Step 2: Create Synthetic Health Data"
   ]
  },
  {
   "cell_type": "code",
   "execution_count": 62,
   "id": "f6697903",
   "metadata": {},
   "outputs": [
    {
     "name": "stdout",
     "output_type": "stream",
     "text": [
      "Health Data (Age, Weight, Height, Blood Pressure) for 50 patients:\n",
      "[[ 56.          93.           1.87366006 137.        ]\n",
      " [ 69.          52.           1.76984607 175.        ]\n",
      " [ 46.          86.           1.79337558 151.        ]\n",
      " [ 32.          56.           1.98262765 154.        ]\n",
      " [ 60.          70.           1.80351712 171.        ]\n",
      " [ 25.          58.           1.63799959 166.        ]\n",
      " [ 78.          88.           1.64813675 115.        ]\n",
      " [ 38.          67.           1.58263347 137.        ]\n",
      " [ 56.          53.           1.5078182  137.        ]\n",
      " [ 75.          74.           1.71170074 153.        ]\n",
      " [ 36.          63.           1.69744076 139.        ]\n",
      " [ 40.          99.           1.64674409 171.        ]\n",
      " [ 28.          58.           1.50703991 171.        ]\n",
      " [ 28.          75.           1.5994212  110.        ]\n",
      " [ 41.          51.           1.85567098 136.        ]\n",
      " [ 70.          69.           1.89508777 171.        ]\n",
      " [ 53.          77.           1.80297999 112.        ]\n",
      " [ 57.          96.           1.96315044 179.        ]\n",
      " [ 41.          56.           1.82553851 136.        ]\n",
      " [ 20.          93.           1.95747984 118.        ]\n",
      " [ 39.          57.           1.92501929 171.        ]\n",
      " [ 70.          96.           1.72472534 146.        ]\n",
      " [ 19.          84.           1.54770506 160.        ]\n",
      " [ 41.          63.           1.68540913 153.        ]\n",
      " [ 61.          66.           1.83442063 133.        ]\n",
      " [ 47.          85.           1.83296118 168.        ]\n",
      " [ 55.          99.           1.79564889 141.        ]\n",
      " [ 19.          89.           1.6373609  161.        ]\n",
      " [ 77.          53.           1.78062171 171.        ]\n",
      " [ 38.          51.           1.69146344 167.        ]\n",
      " [ 50.          55.           1.98585605 161.        ]\n",
      " [ 29.          91.           1.92445691 121.        ]\n",
      " [ 75.          53.           1.86086476 148.        ]\n",
      " [ 39.          78.           1.61799246 111.        ]\n",
      " [ 78.          67.           1.62803416 112.        ]\n",
      " [ 61.          75.           1.52021679 165.        ]\n",
      " [ 42.          93.           1.85533144 168.        ]\n",
      " [ 66.          83.           1.55544541 111.        ]\n",
      " [ 44.          59.           1.71966825 111.        ]\n",
      " [ 76.          85.           1.6008596  163.        ]\n",
      " [ 59.          63.           1.9478818  110.        ]\n",
      " [ 45.          80.           1.73768511 128.        ]\n",
      " [ 77.          97.           1.78163779 111.        ]\n",
      " [ 33.          64.           1.84775804 162.        ]\n",
      " [ 32.          57.           1.56966573 153.        ]\n",
      " [ 79.          63.           1.80220869 141.        ]\n",
      " [ 79.          72.           1.76992055 179.        ]\n",
      " [ 64.          89.           1.60153061 141.        ]\n",
      " [ 79.          70.           1.97142679 177.        ]\n",
      " [ 68.          65.           1.79943273 164.        ]]\n"
     ]
    }
   ],
   "source": [
    "# Set random seed for repeatability\n",
    "np.random.seed(42)\n",
    "\n",
    "# Generate synthetic data for 50 patients\n",
    "ages = np.random.randint(18, 80, size=50)  # Ages between 18 and 80\n",
    "weights = np.random.randint(50, 100, size=50)  # Weights between 50kg and 100kg\n",
    "heights = np.random.uniform(1.5, 2.0, size=50)  # Heights between 1.5m and 2.0m\n",
    "blood_pressure = np.random.randint(110, 180, size=50)  # Blood pressure between 110 and 180 mmHg\n",
    "\n",
    "# Display the synthetic health data\n",
    "print(\"Health Data (Age, Weight, Height, Blood Pressure) for 50 patients:\")\n",
    "data = np.vstack((ages, weights, heights, blood_pressure)).T\n",
    "print(data)"
   ]
  },
  {
   "cell_type": "markdown",
   "id": "87a1e559",
   "metadata": {},
   "source": [
    "# Step 3: Calculate Body Mass Index (BMI)\n",
    "\n",
    "* The formula for BMI is:\n",
    "\n",
    "BMI= `weight / height^2`"
   ]
  },
  {
   "cell_type": "code",
   "execution_count": 63,
   "id": "85e2c5f7",
   "metadata": {},
   "outputs": [
    {
     "name": "stdout",
     "output_type": "stream",
     "text": [
      "BMI for each patient:\n",
      "[26.49118298 16.60092754 26.73966403 14.24641884 21.52075482 21.61724853\n",
      " 32.39635758 26.74940405 23.31191256 25.25666726 21.86509139 36.50757357\n",
      " 25.53750623 29.31808272 14.81044902 19.21278987 23.68693743 24.90944607\n",
      " 16.80374289 24.27103819 15.38171232 32.27240613 35.06734468 22.17838239\n",
      " 19.61309291 25.29952644 30.70381566 33.19717883 16.71600683 17.82563243\n",
      " 13.946562   24.57112315 15.30545505 29.7948783  25.27829487 32.45265337\n",
      " 27.01717514 34.30587847 19.95090796 33.16747692 16.6041004  26.49401798\n",
      " 30.55856135 18.74518674 23.13452059 19.39681353 22.98396518 34.69920446\n",
      " 18.01095471 20.07437921]\n"
     ]
    }
   ],
   "source": [
    "# Calculate BMI for each patient\n",
    "bmi = weights / (heights ** 2)\n",
    "\n",
    "# Display the BMI for each patient\n",
    "print(\"BMI for each patient:\")\n",
    "print(bmi)"
   ]
  },
  {
   "cell_type": "markdown",
   "id": "559fd20c",
   "metadata": {},
   "source": [
    "# Step 4: Calculate Summary Statistics"
   ]
  },
  {
   "cell_type": "markdown",
   "id": "d47baf2b",
   "metadata": {},
   "source": [
    "### Average Age"
   ]
  },
  {
   "cell_type": "code",
   "execution_count": 64,
   "id": "0f9789ac",
   "metadata": {},
   "outputs": [
    {
     "name": "stdout",
     "output_type": "stream",
     "text": [
      "Average Age: 51.80\n"
     ]
    }
   ],
   "source": [
    "# Average Age\n",
    "average_age = np.mean(ages)\n",
    "print(f\"Average Age: {average_age:.2f}\")"
   ]
  },
  {
   "cell_type": "markdown",
   "id": "61af6d12",
   "metadata": {},
   "source": [
    "### Average Weight"
   ]
  },
  {
   "cell_type": "code",
   "execution_count": 65,
   "id": "c4e3172c",
   "metadata": {},
   "outputs": [
    {
     "name": "stdout",
     "output_type": "stream",
     "text": [
      "Average Weight: 72.72 kg\n"
     ]
    }
   ],
   "source": [
    "# Average Weight\n",
    "average_weight = np.mean(weights)\n",
    "print(f\"Average Weight: {average_weight:.2f} kg\")"
   ]
  },
  {
   "cell_type": "markdown",
   "id": "ebe510b0",
   "metadata": {},
   "source": [
    "### Average BMI"
   ]
  },
  {
   "cell_type": "code",
   "execution_count": 66,
   "id": "b7cecfcd",
   "metadata": {},
   "outputs": [
    {
     "name": "stdout",
     "output_type": "stream",
     "text": [
      "Average BMI: 24.13\n"
     ]
    }
   ],
   "source": [
    "# Average BMI\n",
    "average_bmi = np.mean(bmi)\n",
    "print(f\"Average BMI: {average_bmi:.2f}\")"
   ]
  },
  {
   "cell_type": "markdown",
   "id": "e4b67963",
   "metadata": {},
   "source": [
    "### Blood Pressure Statistics (Maximum, Minimum, and Average)"
   ]
  },
  {
   "cell_type": "code",
   "execution_count": 67,
   "id": "4782f240",
   "metadata": {},
   "outputs": [
    {
     "name": "stdout",
     "output_type": "stream",
     "text": [
      "Maximum Blood Pressure: 179 mmHg\n",
      "Minimum Blood Pressure: 110 mmHg\n",
      "Average Blood Pressure: 146.94 mmHg\n"
     ]
    }
   ],
   "source": [
    "# Blood Pressure Statistics (Maximum, Minimum, and Average)\n",
    "max_blood_pressure = np.max(blood_pressure)\n",
    "min_blood_pressure = np.min(blood_pressure)\n",
    "average_blood_pressure = np.mean(blood_pressure)\n",
    "\n",
    "print(f\"Maximum Blood Pressure: {max_blood_pressure} mmHg\")\n",
    "print(f\"Minimum Blood Pressure: {min_blood_pressure} mmHg\")\n",
    "print(f\"Average Blood Pressure: {average_blood_pressure:.2f} mmHg\")"
   ]
  },
  {
   "cell_type": "markdown",
   "id": "0851acf8",
   "metadata": {},
   "source": [
    "# Step 5: Categorize BMI (Health Status)\n",
    "\n",
    "We can categorize BMI into 4 categories:\n",
    "\n",
    "* Underweight: `BMI < 18.5`\n",
    "\n",
    "* Normal weight: `18.5 <= BMI < 24.9`\n",
    "\n",
    "* Overweight: `25 <= BMI < 29.9`\n",
    "\n",
    "* Obese: `BMI >= 30`"
   ]
  },
  {
   "cell_type": "code",
   "execution_count": 68,
   "id": "b5e6a913",
   "metadata": {},
   "outputs": [
    {
     "name": "stdout",
     "output_type": "stream",
     "text": [
      "BMI Categories for each patient:\n",
      "['Overweight' 'Underweight' 'Overweight' 'Underweight' 'Normal weight'\n",
      " 'Normal weight' 'Obese' 'Overweight' 'Normal weight' 'Overweight'\n",
      " 'Normal weight' 'Obese' 'Overweight' 'Overweight' 'Underweight'\n",
      " 'Normal weight' 'Normal weight' 'Overweight' 'Underweight'\n",
      " 'Normal weight' 'Underweight' 'Obese' 'Obese' 'Normal weight'\n",
      " 'Normal weight' 'Overweight' 'Obese' 'Obese' 'Underweight' 'Underweight'\n",
      " 'Underweight' 'Normal weight' 'Underweight' 'Overweight' 'Overweight'\n",
      " 'Obese' 'Overweight' 'Obese' 'Normal weight' 'Obese' 'Underweight'\n",
      " 'Overweight' 'Obese' 'Normal weight' 'Normal weight' 'Normal weight'\n",
      " 'Normal weight' 'Obese' 'Underweight' 'Normal weight']\n"
     ]
    }
   ],
   "source": [
    "# Define a function to categorize BMI\n",
    "def categorize_bmi(bmi_value):\n",
    "    if bmi_value < 18.5:\n",
    "        return \"Underweight\"\n",
    "    elif bmi_value < 24.9:\n",
    "        return \"Normal weight\"\n",
    "    elif bmi_value < 29.9:\n",
    "        return \"Overweight\"\n",
    "    else:\n",
    "        return \"Obese\"\n",
    "\n",
    "# Apply the categorization\n",
    "bmi_categories = np.vectorize(categorize_bmi)(bmi)\n",
    "\n",
    "# Display BMI categories for each patient\n",
    "print(\"BMI Categories for each patient:\")\n",
    "print(bmi_categories)"
   ]
  },
  {
   "cell_type": "markdown",
   "id": "fb76bae1",
   "metadata": {},
   "source": [
    "# Step 6: Find Percentage of Patients with High Blood Pressure\n",
    "\n",
    "We will consider high blood pressure as having a blood pressure of 140 mmHg or higher."
   ]
  },
  {
   "cell_type": "code",
   "execution_count": 69,
   "id": "baacf118",
   "metadata": {},
   "outputs": [
    {
     "name": "stdout",
     "output_type": "stream",
     "text": [
      "Percentage of patients with High Blood Pressure: 62.00%\n"
     ]
    }
   ],
   "source": [
    "# Count patients with high blood pressure (>= 140 mmHg)\n",
    "high_bp_count = np.sum(blood_pressure >= 140)\n",
    "\n",
    "# Calculate the percentage of patients with high blood pressure\n",
    "high_bp_percentage = (high_bp_count / len(blood_pressure)) * 100\n",
    "print(f\"Percentage of patients with High Blood Pressure: {high_bp_percentage:.2f}%\")"
   ]
  },
  {
   "cell_type": "markdown",
   "id": "e3af288c",
   "metadata": {},
   "source": [
    "# Step 7: Summary of Results\n",
    "\n",
    "Here’s the final summary of the analysis:"
   ]
  },
  {
   "cell_type": "code",
   "execution_count": 70,
   "metadata": {},
   "outputs": [
    {
     "name": "stdout",
     "output_type": "stream",
     "text": [
      "\n",
      "--- Final Analysis ---\n",
      "Average Age: 51.80\n",
      "Average Weight: 72.72 kg\n",
      "Average BMI: 24.13\n",
      "Average Blood Pressure: 146.94 mmHg\n",
      "Percentage of patients with High Blood Pressure: 62.00%\n"
     ]
    }
   ],
   "source": [
    "# Display the final results\n",
    "print(\"\\n--- Final Analysis ---\")\n",
    "print(f\"Average Age: {average_age:.2f}\")\n",
    "print(f\"Average Weight: {average_weight:.2f} kg\")\n",
    "print(f\"Average BMI: {average_bmi:.2f}\")\n",
    "print(f\"Average Blood Pressure: {average_blood_pressure:.2f} mmHg\")\n",
    "print(f\"Percentage of patients with High Blood Pressure: {high_bp_percentage:.2f}%\")"
   ]
  }
 ],
 "metadata": {
  "kernelspec": {
   "display_name": "Python 3",
   "language": "python",
   "name": "python3"
  },
  "language_info": {
   "codemirror_mode": {
    "name": "ipython",
    "version": 3
   },
   "file_extension": ".py",
   "mimetype": "text/x-python",
   "name": "python",
   "nbconvert_exporter": "python",
   "pygments_lexer": "ipython3",
   "version": "3.12.7"
  }
 },
 "nbformat": 4,
 "nbformat_minor": 5
}
