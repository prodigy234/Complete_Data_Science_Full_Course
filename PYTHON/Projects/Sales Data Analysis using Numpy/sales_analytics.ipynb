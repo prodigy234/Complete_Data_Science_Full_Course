{
 "cells": [
  {
   "cell_type": "markdown",
   "id": "df54b54f",
   "metadata": {},
   "source": [
    "# Data Analytics Project: `\"Sales Data Analysis using NumPy\"`"
   ]
  },
  {
   "cell_type": "markdown",
   "id": "d0345405",
   "metadata": {},
   "source": [
    "## Project Description:\n",
    "\n",
    "You are given sales data for a store over 50 days.\n",
    "\n",
    "Each sale has:\n",
    "\n",
    "* The day spanning for ten weeks (1 to 50)\n",
    "\n",
    "* With sales made five days a week, as a result of the store opening from Mondays from Fridays\n",
    "\n",
    "* The amount of sale in dollars"
   ]
  },
  {
   "cell_type": "markdown",
   "id": "bf117bcb",
   "metadata": {},
   "source": [
    "## You must use NumPy to:\n",
    "\n",
    "* Analyze total, average sales\n",
    "\n",
    "* Find best-selling day\n",
    "\n",
    "* Find days with sales above average\n",
    "\n",
    "* Group sales by weeks"
   ]
  },
  {
   "cell_type": "markdown",
   "id": "2ce3b791",
   "metadata": {},
   "source": [
    "# Step 1: Import Libraries"
   ]
  },
  {
   "cell_type": "code",
   "execution_count": 133,
   "id": "107c6bb8",
   "metadata": {},
   "outputs": [],
   "source": [
    "# import libraries\n",
    "import numpy as np"
   ]
  },
  {
   "cell_type": "markdown",
   "id": "29edc33a",
   "metadata": {},
   "source": [
    "# Step 2: Create Synthetic Sales Data"
   ]
  },
  {
   "cell_type": "code",
   "execution_count": 134,
   "id": "5b2a5b77",
   "metadata": {},
   "outputs": [
    {
     "name": "stdout",
     "output_type": "stream",
     "text": [
      "Sales Data for 50 Days:\n",
      "[202 535 960 370 206 171 800 120 714 221 566 314 430 558 187 472 199 971\n",
      " 763 230 761 408 869 443 591 513 905 485 291 376 260 559 413 121 352 847\n",
      " 956 660 574 158 610 781 575 799 882 289 786 662 975 666]\n"
     ]
    }
   ],
   "source": [
    "# create a synthetic sales data\n",
    "\n",
    "# set random seed for repeatability\n",
    "np.random.seed(42)\n",
    "\n",
    "# generate random sales amounts $100 and $1000\n",
    "sales = np.random.randint(100, 1000, size=50)\n",
    "\n",
    "# print sales data\n",
    "print(\"Sales Data for 50 Days:\")\n",
    "print(sales) \n"
   ]
  },
  {
   "cell_type": "markdown",
   "id": "98d10b81",
   "metadata": {},
   "source": [
    "# Step 3: Basic Sales Analysis"
   ]
  },
  {
   "cell_type": "markdown",
   "id": "7abfa9c2",
   "metadata": {},
   "source": [
    "### Total Sales"
   ]
  },
  {
   "cell_type": "code",
   "execution_count": 135,
   "id": "c031e762",
   "metadata": {},
   "outputs": [
    {
     "name": "stdout",
     "output_type": "stream",
     "text": [
      "Total Sales in 50 Days: $26556\n"
     ]
    }
   ],
   "source": [
    "# Total sales\n",
    "total_sales = np.sum(sales)\n",
    "print(f\"Total Sales in 50 Days: ${total_sales}\")"
   ]
  },
  {
   "cell_type": "markdown",
   "id": "3fe12167",
   "metadata": {},
   "source": [
    "### Average Daily Sales"
   ]
  },
  {
   "cell_type": "code",
   "execution_count": 136,
   "id": "23968d99",
   "metadata": {},
   "outputs": [
    {
     "name": "stdout",
     "output_type": "stream",
     "text": [
      "Average Sales in 50 Days: $531.12\n"
     ]
    }
   ],
   "source": [
    "# Average Daily Sales\n",
    "average_sales = np.mean(sales)\n",
    "print(f\"Average Sales in 50 Days: ${average_sales:.2f}\")"
   ]
  },
  {
   "cell_type": "markdown",
   "id": "64ae9cad",
   "metadata": {},
   "source": [
    "### Maximum Sales (Best-selling day)"
   ]
  },
  {
   "cell_type": "code",
   "execution_count": 137,
   "id": "8f30d4d6",
   "metadata": {},
   "outputs": [
    {
     "name": "stdout",
     "output_type": "stream",
     "text": [
      "Best-Selling Day: Day 49 with sales of $975\n"
     ]
    }
   ],
   "source": [
    "# Maximum Sales (Best-selling days)\n",
    "max_sales = np.max(sales)\n",
    "best_selling_day = np.argmax(sales) + 1\n",
    "\n",
    "print(f\"Best-Selling Day: Day {best_selling_day} with sales of ${max_sales}\")"
   ]
  },
  {
   "cell_type": "markdown",
   "id": "d98f8865",
   "metadata": {},
   "source": [
    "### Minimum Sales (Worst-selling day)"
   ]
  },
  {
   "cell_type": "code",
   "execution_count": 138,
   "id": "04c835fa",
   "metadata": {},
   "outputs": [
    {
     "name": "stdout",
     "output_type": "stream",
     "text": [
      "Worst-Selling Day: Day 8 with sales of $120\n"
     ]
    }
   ],
   "source": [
    "# Minimum Sales (Worst-selling day)\n",
    "min_sales = np.min(sales)\n",
    "worst_selling_day = np.argmin(sales) + 1\n",
    "\n",
    "print(f\"Worst-Selling Day: Day {worst_selling_day} with sales of ${min_sales}\")"
   ]
  },
  {
   "cell_type": "markdown",
   "id": "f39b3dea",
   "metadata": {},
   "source": [
    "# Step 4: Find Days with Above Average Sales"
   ]
  },
  {
   "cell_type": "code",
   "execution_count": 139,
   "id": "8614eea1",
   "metadata": {},
   "outputs": [
    {
     "name": "stdout",
     "output_type": "stream",
     "text": [
      "Days with Above Average Sales: [ 2  3  7  9 11 14 18 19 21 23 25 27 32 36 37 38 39 41 42 43 44 45 47 48\n",
      " 49 50]\n"
     ]
    }
   ],
   "source": [
    "above_average_days = np.where(sales > average_sales)\n",
    "print(f\"Days with Above Average Sales: {above_average_days[0] + 1}\")"
   ]
  },
  {
   "cell_type": "markdown",
   "id": "044ed8e2",
   "metadata": {},
   "source": [
    "### Sales on those days:"
   ]
  },
  {
   "cell_type": "code",
   "execution_count": 140,
   "id": "71e25830",
   "metadata": {},
   "outputs": [
    {
     "name": "stdout",
     "output_type": "stream",
     "text": [
      "Sales on Above Average Days:\n",
      "[535 960 800 714 566 558 971 763 761 869 591 905 559 847 956 660 574 610\n",
      " 781 575 799 882 786 662 975 666]\n"
     ]
    }
   ],
   "source": [
    "# Getting the sales on those days\n",
    "print(\"Sales on Above Average Days:\")\n",
    "print(sales[above_average_days])"
   ]
  },
  {
   "cell_type": "markdown",
   "id": "f95b94da",
   "metadata": {},
   "source": [
    "# Step 5: Group Sales into Weeks\n",
    "\n",
    "* Reshape the 50 days into 10 weeks:"
   ]
  },
  {
   "cell_type": "code",
   "execution_count": 141,
   "id": "13399096",
   "metadata": {},
   "outputs": [
    {
     "name": "stdout",
     "output_type": "stream",
     "text": [
      "Weekly Sales Data:\n",
      "[[202 535 960 370 206]\n",
      " [171 800 120 714 221]\n",
      " [566 314 430 558 187]\n",
      " [472 199 971 763 230]\n",
      " [761 408 869 443 591]\n",
      " [513 905 485 291 376]\n",
      " [260 559 413 121 352]\n",
      " [847 956 660 574 158]\n",
      " [610 781 575 799 882]\n",
      " [289 786 662 975 666]]\n"
     ]
    }
   ],
   "source": [
    "# Grouping days into weeks\n",
    "\n",
    "# Reshape the 50 days into 10 weeks\n",
    "weekly_sales = sales.reshape(10, 5)   # 10 weeks, 5 days per week\n",
    "print(\"Weekly Sales Data:\")\n",
    "print(weekly_sales)"
   ]
  },
  {
   "cell_type": "markdown",
   "id": "54dc5604",
   "metadata": {},
   "source": [
    "### Weekly totals:"
   ]
  },
  {
   "cell_type": "code",
   "execution_count": 142,
   "id": "99dbc85a",
   "metadata": {},
   "outputs": [
    {
     "name": "stdout",
     "output_type": "stream",
     "text": [
      "Total Sales per week:\n",
      "[2273 2026 2055 2635 3072 2570 1705 3195 3647 3378]\n"
     ]
    }
   ],
   "source": [
    "# Weekly totals\n",
    "weekly_totals = np.sum(weekly_sales, axis=1)\n",
    "print(\"Total Sales per week:\")\n",
    "print(weekly_totals)"
   ]
  },
  {
   "cell_type": "markdown",
   "id": "0ab9af01",
   "metadata": {},
   "source": [
    "### Best week:"
   ]
  },
  {
   "cell_type": "code",
   "execution_count": 143,
   "id": "48b0ba5e",
   "metadata": {},
   "outputs": [
    {
     "name": "stdout",
     "output_type": "stream",
     "text": [
      "Best Week: Week 9 with total sales of $3647\n"
     ]
    }
   ],
   "source": [
    "# Best performing week\n",
    "best_week = np.argmax(weekly_totals) + 1\n",
    "print(f\"Best Week: Week {best_week} with total sales of ${weekly_totals[best_week-1]}\")"
   ]
  }
 ],
 "metadata": {
  "kernelspec": {
   "display_name": "Python 3",
   "language": "python",
   "name": "python3"
  },
  "language_info": {
   "codemirror_mode": {
    "name": "ipython",
    "version": 3
   },
   "file_extension": ".py",
   "mimetype": "text/x-python",
   "name": "python",
   "nbconvert_exporter": "python",
   "pygments_lexer": "ipython3",
   "version": "3.8.0"
  }
 },
 "nbformat": 4,
 "nbformat_minor": 5
}
