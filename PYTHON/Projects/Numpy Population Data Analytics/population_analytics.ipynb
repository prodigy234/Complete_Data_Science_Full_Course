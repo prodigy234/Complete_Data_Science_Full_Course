{
 "cells": [
  {
   "cell_type": "code",
   "execution_count": 132,
   "id": "56cca2c7",
   "metadata": {},
   "outputs": [],
   "source": [
    "import numpy as np"
   ]
  },
  {
   "cell_type": "code",
   "execution_count": 133,
   "id": "23a9af56",
   "metadata": {},
   "outputs": [],
   "source": [
    "# Set random seed\n",
    "np.random.seed(42)\n",
    "\n",
    "# List of states in Nigeria\n",
    "states = [\n",
    "    'Abia', 'Adamawa', 'Akwa Ibom', 'Anambra', 'Bauchi', 'Bayelsa', 'Benue', 'Borno', 'Cross River', 'Delta', 'Ebonyi', 'Edo', 'Ekiti',\n",
    "    'Enugu', 'Gombe', 'Imo', 'Jigawa', 'Kaduna', 'Kano', 'Katsina', 'Kebbi', 'Kogi', 'Kwara', 'Lagos', 'Nasarawa', 'Niger', 'Ogun', 'Ondo',\n",
    "    'Osun', 'Oyo', 'Plateau', 'Rivers', 'Sokoto', 'Taraba', 'Yobe', 'Zamfara'\n",
    "]"
   ]
  },
  {
   "cell_type": "code",
   "execution_count": 134,
   "id": "81aeb7e9",
   "metadata": {},
   "outputs": [
    {
     "name": "stdout",
     "output_type": "stream",
     "text": [
      "Population Data (State, Population, Area):\n",
      "[['Abia' '7423388' '28483']\n",
      " ['Adamawa' '7550634' '53555']\n",
      " ['Akwa Ibom' '5304572' '22159']\n",
      " ['Anambra' '3234489' '85077']\n",
      " ['Bauchi' '8204212' '40920']\n",
      " ['Bayelsa' '5472471' '97067']\n",
      " ['Benue' '5523669' '72121']\n",
      " ['Borno' '8404852' '74479']\n",
      " ['Cross River' '5981505' '94475']\n",
      " ['Delta' '2766891' '24457']\n",
      " ['Ebonyi' '5521373' '71557']\n",
      " ['Edo' '7019877' '82189']\n",
      " ['Ekiti' '4344769' '83953']\n",
      " ['Enugu' '1103355' '57995']\n",
      " ['Gombe' '2262752' '45757']\n",
      " ['Imo' '6664789' '14692']\n",
      " ['Jigawa' '6743066' '50758']\n",
      " ['Kaduna' '7113790' '77409']\n",
      " ['Kano' '5721339' '76211']\n",
      " ['Katsina' '4275709' '70697']\n",
      " ['Kebbi' '1084654' '42065']\n",
      " ['Kogi' '6147581' '97093']\n",
      " ['Kwara' '2954354' '37606']\n",
      " ['Lagos' '9242680' '16534']\n",
      " ['Nasarawa' '3428388' '99663']\n",
      " ['Niger' '9916786' '45397']\n",
      " ['Ogun' '3663046' '96387']\n",
      " ['Ondo' '6499720' '6016']\n",
      " ['Osun' '7640913' '94789']\n",
      " ['Oyo' '4416664' '60591']\n",
      " ['Plateau' '4385659' '94812']\n",
      " ['Rivers' '4385357' '28247']\n",
      " ['Sokoto' '2465689' '29300']\n",
      " ['Taraba' '1068148' '79065']\n",
      " ['Yobe' '2825665' '87798']\n",
      " ['Zamfara' '3745683' '14268']]\n"
     ]
    }
   ],
   "source": [
    "# Generate random population between 1 million and 10 million for each state\n",
    "population = np.random.randint(1000000, 10000000, size=36)\n",
    "\n",
    "# Generate random area for each state between 5000 square kilometers, 100000 square kilometers\n",
    "area = np.random.randint(5000, 100000, size=36)\n",
    "\n",
    "# Creating a dataset\n",
    "dataset = np.column_stack((states, population, area))\n",
    "\n",
    "# Displaying the population data\n",
    "print(\"Population Data (State, Population, Area):\")\n",
    "print(dataset)"
   ]
  },
  {
   "cell_type": "code",
   "execution_count": 135,
   "id": "4112f605",
   "metadata": {},
   "outputs": [
    {
     "name": "stdout",
     "output_type": "stream",
     "text": [
      "Average Population Across All States: 5125235.81\n"
     ]
    }
   ],
   "source": [
    "# Calculating the average population across all the states\n",
    "average_population = np.mean(population)\n",
    "\n",
    "# To display the average population\n",
    "print(f\"Average Population Across All States: {average_population:.2f}\")"
   ]
  },
  {
   "cell_type": "code",
   "execution_count": 136,
   "id": "0994a405",
   "metadata": {},
   "outputs": [
    {
     "name": "stdout",
     "output_type": "stream",
     "text": [
      "Top 5 Most Populous States:\n",
      "Rank 1: Niger with population 9,916,786\n",
      "Rank 2: Lagos with population 9,242,680\n",
      "Rank 3: Borno with population 8,404,852\n",
      "Rank 4: Bauchi with population 8,204,212\n",
      "Rank 5: Osun with population 7,640,913\n"
     ]
    }
   ],
   "source": [
    "# convert the states (which is in list format) to Numpy for indexing\n",
    "states = np.array(states)\n",
    "\n",
    "# Get the indices of the top 5 most populous states\n",
    "top_5_indices = np.argsort(population)[::-1][:5]\n",
    "\n",
    "# Get the top 5 states and their population\n",
    "top_5_states = states[top_5_indices]\n",
    "top_5_population = population[top_5_indices]\n",
    "\n",
    "print(\"Top 5 Most Populous States:\")\n",
    "for i, state in enumerate(top_5_states):\n",
    "    print(f\"Rank {i + 1}: {state} with population {top_5_population[i]:,}\")"
   ]
  },
  {
   "cell_type": "code",
   "execution_count": 137,
   "id": "c0f8c4ae",
   "metadata": {},
   "outputs": [
    {
     "name": "stdout",
     "output_type": "stream",
     "text": [
      "\n",
      "Population Density (Population per Square Kilometer) for each State:\n",
      "Abia: 260.63 people per km²\n",
      "Adamawa: 140.99 people per km²\n",
      "Akwa Ibom: 239.39 people per km²\n",
      "Anambra: 38.02 people per km²\n",
      "Bauchi: 200.49 people per km²\n",
      "Bayelsa: 56.38 people per km²\n",
      "Benue: 76.59 people per km²\n",
      "Borno: 112.85 people per km²\n",
      "Cross River: 63.31 people per km²\n",
      "Delta: 113.13 people per km²\n",
      "Ebonyi: 77.16 people per km²\n",
      "Edo: 85.41 people per km²\n",
      "Ekiti: 51.75 people per km²\n",
      "Enugu: 19.03 people per km²\n",
      "Gombe: 49.45 people per km²\n",
      "Imo: 453.63 people per km²\n",
      "Jigawa: 132.85 people per km²\n",
      "Kaduna: 91.90 people per km²\n",
      "Kano: 75.07 people per km²\n",
      "Katsina: 60.48 people per km²\n",
      "Kebbi: 25.79 people per km²\n",
      "Kogi: 63.32 people per km²\n",
      "Kwara: 78.56 people per km²\n",
      "Lagos: 559.01 people per km²\n",
      "Nasarawa: 34.40 people per km²\n",
      "Niger: 218.45 people per km²\n",
      "Ogun: 38.00 people per km²\n",
      "Ondo: 1080.41 people per km²\n",
      "Osun: 80.61 people per km²\n",
      "Oyo: 72.89 people per km²\n",
      "Plateau: 46.26 people per km²\n",
      "Rivers: 155.25 people per km²\n",
      "Sokoto: 84.15 people per km²\n",
      "Taraba: 13.51 people per km²\n",
      "Yobe: 32.18 people per km²\n",
      "Zamfara: 262.52 people per km²\n"
     ]
    }
   ],
   "source": [
    "# Calculating population density \n",
    "population_density = population / area\n",
    "\n",
    "# Displaying the population for each state\n",
    "print(\"\\nPopulation Density (Population per Square Kilometer) for each State:\")\n",
    "for state, density in zip(states, population_density):\n",
    "    print(f\"{state}: {density:.2f} people per km²\")"
   ]
  },
  {
   "cell_type": "code",
   "execution_count": 138,
   "id": "872beb93",
   "metadata": {},
   "outputs": [
    {
     "name": "stdout",
     "output_type": "stream",
     "text": [
      "State with Highest Population Density: Ondo with 1080.41 people per km²\n",
      "State with Lowest Population Density: Taraba with 13.51 people per km²\n"
     ]
    }
   ],
   "source": [
    "# Finding the state with the highest and lowest population density\n",
    "max_density_index = np.argmax(population_density)\n",
    "min_density_index = np.argmin(population_density)\n",
    "\n",
    "max_density_state = states[max_density_index]\n",
    "min_density_state = states[min_density_index]\n",
    "\n",
    "print(f\"State with Highest Population Density: {max_density_state} with {population_density[max_density_index]:.2f} people per km²\")\n",
    "print(f\"State with Lowest Population Density: {min_density_state} with {population_density[min_density_index]:.2f} people per km²\")"
   ]
  },
  {
   "cell_type": "code",
   "execution_count": 139,
   "id": "2ed2f248",
   "metadata": {},
   "outputs": [
    {
     "name": "stdout",
     "output_type": "stream",
     "text": [
      "\n",
      "Population Distribution Analysis\n",
      "Standard Deviation of Population: 2284476.16\n",
      "Range of Population: 8848638\n"
     ]
    }
   ],
   "source": [
    "# Calculating the standard deviation and range of the population\n",
    "population_std = np.std(population)\n",
    "population_range = np.max(population) - np.min(population)\n",
    "\n",
    "print(f\"\\nPopulation Distribution Analysis\")\n",
    "print(f\"Standard Deviation of Population: {population_std:.2f}\")\n",
    "print(f\"Range of Population: {population_range}\")"
   ]
  }
 ],
 "metadata": {
  "kernelspec": {
   "display_name": "Python 3",
   "language": "python",
   "name": "python3"
  },
  "language_info": {
   "codemirror_mode": {
    "name": "ipython",
    "version": 3
   },
   "file_extension": ".py",
   "mimetype": "text/x-python",
   "name": "python",
   "nbconvert_exporter": "python",
   "pygments_lexer": "ipython3",
   "version": "3.8.0"
  }
 },
 "nbformat": 4,
 "nbformat_minor": 5
}
