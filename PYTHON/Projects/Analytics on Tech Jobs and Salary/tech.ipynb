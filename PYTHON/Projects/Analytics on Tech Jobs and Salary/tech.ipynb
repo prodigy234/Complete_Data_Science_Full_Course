{
 "cells": [
  {
   "cell_type": "code",
   "execution_count": 55,
   "id": "ca429344",
   "metadata": {},
   "outputs": [],
   "source": [
    "# Import libraries\n",
    "import numpy as np"
   ]
  },
  {
   "cell_type": "code",
   "execution_count": 56,
   "id": "24f01cad",
   "metadata": {},
   "outputs": [],
   "source": [
    "# Set seed for reproducibility\n",
    "np.random.seed(42)\n",
    "\n",
    "# Define sample data arrays\n",
    "job_titles = np.array(['Data Analyst', 'Data Scientist', 'Software Engineer', 'DevOps Engineer', 'UI/UX Designer',\n",
    "                       'Product Manager', 'Cybersecurity Analyst', 'Mobile App Developer', 'AI/ML Engineer', 'Cloud Architect', 'Full-Stack Developer',\n",
    "                       'Digital Marketer', 'Project Manager', 'Business Analyst', 'Big Data Engineer', 'Blockchain Developer', 'Software Architect',\n",
    "                       'IT Project Manager', 'Information Security Manager', 'Machine Learning Architect'])\n",
    "cities = np.array(['Lagos', 'Abuja', 'Port Harcourt', 'Enugu', 'Ibadan'])\n",
    "employment_types = np.array(['Remote', 'On-site', 'Hybrid'])\n",
    "experience_levels = np.array(['0-2 yrs', '3-5 yrs', '6-10 yrs', '10+ yrs'])\n",
    "\n",
    "n = 200"
   ]
  },
  {
   "cell_type": "code",
   "execution_count": 57,
   "id": "c93a92f2",
   "metadata": {},
   "outputs": [],
   "source": [
    "# Randomly assign fields\n",
    "job_role = np.random.choice(job_titles, n)\n",
    "city = np.random.choice(cities, n)\n",
    "emp_type = np.random.choice(employment_types, n)\n",
    "experience = np.random.choice(experience_levels, n)"
   ]
  },
  {
   "cell_type": "code",
   "execution_count": 58,
   "id": "44101536",
   "metadata": {},
   "outputs": [],
   "source": [
    "# Salary ranges in Naira by job role\n",
    "salary_ranges = {\n",
    "    'Data Analyst': (200000, 800000),\n",
    "    'Data Scientist': (500000, 2000000),\n",
    "    'Software Engineer': (300000, 1500000),\n",
    "    'DevOps Engineer': (400000, 1250000),\n",
    "    'UI/UX Designer': (150000, 1200000),\n",
    "    'Product Manager': (300000, 2500000),\n",
    "    'Cybersecurity Analyst': (200000, 2000000),\n",
    "    'Mobile App Developer': (300000, 1000000),\n",
    "    'AI/ML Engineer': (500000, 2000000),\n",
    "    'Cloud Architect': (1250000, 2080000),\n",
    "    'Full-Stack Developer': (300000, 1000000),\n",
    "    'Digital Marketer': (100000, 1000000),\n",
    "    'Project Manager': (400000, 1500000),\n",
    "    'Business Analyst': (300000, 1000000),\n",
    "    'Big Data Engineer': (250000, 1000000),\n",
    "    'Blockchain Developer': (400000, 1250000),\n",
    "    'Software Architect': (500000, 1500000),\n",
    "    'IT Project Manager': (500000, 1500000),\n",
    "    'Information Security Manager': (600000, 1500000),\n",
    "    'Machine Learning Architect': (500000, 1500000),\n",
    "}"
   ]
  },
  {
   "cell_type": "code",
   "execution_count": 59,
   "id": "6cf2da22",
   "metadata": {},
   "outputs": [],
   "source": [
    "# Generate salary based on job role\n",
    "salary = np.array([np.random.randint(*salary_ranges[job]) for job in job_role])"
   ]
  },
  {
   "cell_type": "code",
   "execution_count": 60,
   "id": "974945bb",
   "metadata": {},
   "outputs": [
    {
     "name": "stdout",
     "output_type": "stream",
     "text": [
      "Average Salary: ₦918,560.54\n",
      "Highest Salary: ₦2,149,396.00\n",
      "Lowest Salary: ₦101,062.00\n"
     ]
    }
   ],
   "source": [
    "print(f\"Average Salary: ₦{np.mean(salary):,.2f}\")\n",
    "print(f\"Highest Salary: ₦{np.max(salary):,.2f}\")\n",
    "print(f\"Lowest Salary: ₦{np.min(salary):,.2f}\")"
   ]
  },
  {
   "cell_type": "code",
   "execution_count": 61,
   "id": "08461e9a",
   "metadata": {},
   "outputs": [
    {
     "name": "stdout",
     "output_type": "stream",
     "text": [
      "AI/ML Engineer: Average Salary = ₦1,358,239.45\n",
      "Big Data Engineer: Average Salary = ₦662,221.15\n",
      "Blockchain Developer: Average Salary = ₦767,985.43\n",
      "Business Analyst: Average Salary = ₦760,689.33\n",
      "Cloud Architect: Average Salary = ₦1,751,636.14\n",
      "Cybersecurity Analyst: Average Salary = ₦982,083.20\n",
      "Data Analyst: Average Salary = ₦525,781.54\n",
      "Data Scientist: Average Salary = ₦1,335,692.42\n",
      "DevOps Engineer: Average Salary = ₦814,235.20\n",
      "Digital Marketer: Average Salary = ₦635,208.57\n",
      "Full-Stack Developer: Average Salary = ₦560,209.00\n",
      "IT Project Manager: Average Salary = ₦1,078,145.60\n",
      "Information Security Manager: Average Salary = ₦1,055,738.00\n",
      "Machine Learning Architect: Average Salary = ₦817,187.30\n",
      "Mobile App Developer: Average Salary = ₦595,727.27\n",
      "Product Manager: Average Salary = ₦1,424,346.75\n",
      "Project Manager: Average Salary = ₦1,106,210.88\n",
      "Software Architect: Average Salary = ₦941,002.27\n",
      "Software Engineer: Average Salary = ₦792,471.92\n",
      "UI/UX Designer: Average Salary = ₦912,705.90\n"
     ]
    }
   ],
   "source": [
    "# Top Paying Job Roles\n",
    "for title in np.unique(job_titles):\n",
    "    avg_sal = np.mean(salary[job_role == title])\n",
    "    print(f\"{title}: Average Salary = ₦{avg_sal:,.2f}\")"
   ]
  },
  {
   "cell_type": "code",
   "execution_count": 62,
   "id": "3612b92c",
   "metadata": {},
   "outputs": [
    {
     "name": "stdout",
     "output_type": "stream",
     "text": [
      "Average Salary of Tech Jobs by Experience Level in Nigeria\n",
      "\n",
      "0-2 yrs : Average Salary = ₦891,465.81\n",
      "3-5 yrs : Average Salary = ₦976,242.09\n",
      "6-10 yrs: Average Salary = ₦846,980.89\n",
      "10+ yrs : Average Salary = ₦961,619.16\n"
     ]
    }
   ],
   "source": [
    "# Ordering the avarage salary based on experience levels\n",
    "ordered_experience_levels = ['0-2 yrs', '3-5 yrs', '6-10 yrs', '10+ yrs']\n",
    "\n",
    "# This ia header to label the output section\n",
    "print(\"Average Salary of Tech Jobs by Experience Level in Nigeria\\n\")\n",
    "\n",
    "for level in ordered_experience_levels:\n",
    "    exp_sal = np.mean(salary[experience == level])\n",
    "    print(f\"{level:<8}: Average Salary = ₦{exp_sal:,.2f}\")"
   ]
  },
  {
   "cell_type": "code",
   "execution_count": 63,
   "id": "16533ca2",
   "metadata": {},
   "outputs": [
    {
     "name": "stdout",
     "output_type": "stream",
     "text": [
      "Abuja: Avg Salary = ₦817,733.36\n",
      "Enugu: Avg Salary = ₦919,468.86\n",
      "Ibadan: Avg Salary = ₦858,999.53\n",
      "Lagos: Avg Salary = ₦985,689.24\n",
      "Port Harcourt: Avg Salary = ₦1,008,152.80\n"
     ]
    }
   ],
   "source": [
    "for city_name in np.unique(cities):\n",
    "    city_sal = np.mean(salary[city == city_name])\n",
    "    print(f\"{city_name}: Avg Salary = ₦{city_sal:,.2f}\")"
   ]
  },
  {
   "cell_type": "code",
   "execution_count": 64,
   "id": "47025c56",
   "metadata": {},
   "outputs": [
    {
     "name": "stdout",
     "output_type": "stream",
     "text": [
      "Hybrid: Avg Salary = ₦920,124.82\n",
      "On-site: Avg Salary = ₦942,099.41\n",
      "Remote: Avg Salary = ₦900,766.50\n"
     ]
    }
   ],
   "source": [
    "for etype in np.unique(emp_type):\n",
    "    etype_sal = np.mean(salary[emp_type == etype])\n",
    "    print(f\"{etype}: Avg Salary = ₦{etype_sal:,.2f}\")"
   ]
  },
  {
   "cell_type": "code",
   "execution_count": 66,
   "id": "bade5f84",
   "metadata": {},
   "outputs": [
    {
     "name": "stdout",
     "output_type": "stream",
     "text": [
      "High-paying Remote Roles:\n",
      "\n",
      "['Machine Learning Architect' 'Mobile App Developer' 'DevOps Engineer'\n",
      " 'Data Analyst' 'Digital Marketer' 'Digital Marketer'\n",
      " 'Machine Learning Architect' 'Software Engineer' 'Cybersecurity Analyst'\n",
      " 'IT Project Manager' 'IT Project Manager' 'AI/ML Engineer'\n",
      " 'Cybersecurity Analyst' 'Business Analyst' 'DevOps Engineer'\n",
      " 'Data Scientist' 'DevOps Engineer' 'Blockchain Developer'\n",
      " 'Big Data Engineer' 'Business Analyst' 'Mobile App Developer'\n",
      " 'Project Manager' 'IT Project Manager' 'Project Manager'\n",
      " 'Project Manager' 'Digital Marketer' 'Full-Stack Developer'\n",
      " 'Software Architect' 'Software Engineer' 'Data Analyst' 'UI/UX Designer'\n",
      " 'Cybersecurity Analyst' 'Cybersecurity Analyst' 'Digital Marketer'\n",
      " 'Data Scientist' 'Data Analyst' 'UI/UX Designer' 'UI/UX Designer'\n",
      " 'Big Data Engineer' 'Software Engineer' 'UI/UX Designer'\n",
      " 'Business Analyst' 'AI/ML Engineer' 'Cloud Architect' 'UI/UX Designer'\n",
      " 'Big Data Engineer' 'Information Security Manager' 'Project Manager'\n",
      " 'Product Manager' 'Software Engineer' 'Cybersecurity Analyst'\n",
      " 'Product Manager' 'UI/UX Designer' 'Cloud Architect' 'AI/ML Engineer'\n",
      " 'Machine Learning Architect' 'Digital Marketer' 'Data Scientist'\n",
      " 'UI/UX Designer' 'Data Scientist' 'Product Manager' 'Product Manager'\n",
      " 'Machine Learning Architect' 'Product Manager' 'Full-Stack Developer'\n",
      " 'Blockchain Developer' 'Data Analyst' 'Blockchain Developer'\n",
      " 'Software Engineer' 'Machine Learning Architect'\n",
      " 'Information Security Manager']\n",
      "[ 753490  665340 1142729  794124  728861  529802  702846  966997 1463455\n",
      "  863714 1401791 1428818 1359771  666824  549849 1722869  586717  583868\n",
      "  909792  888579  510176 1314032  972930 1317559  789593  772108  566765\n",
      "  758930 1104462  648874 1003499  830265 1878050  670559 1360120  631734\n",
      "  815627  722203  516776  958956  681849  767010  886193 1985265  512920\n",
      "  959913  712581 1302580 1244789  718034  956254 1333255 1147083 2012501\n",
      " 1530117 1299666  625134 1116210 1104480 1653113 1915397 1905118  867436\n",
      "  582272  685925 1166641  789833  701953  678892  505287  608512]\n"
     ]
    }
   ],
   "source": [
    "# Filter high-paying Remote roles\n",
    "high_remote = (salary > 500000) & (emp_type == 'Remote')\n",
    "\n",
    "print(\"High-paying Remote Roles:\\n\")\n",
    "print(job_role[high_remote])\n",
    "\n",
    "print(salary[high_remote])"
   ]
  }
 ],
 "metadata": {
  "kernelspec": {
   "display_name": "Python 3",
   "language": "python",
   "name": "python3"
  },
  "language_info": {
   "codemirror_mode": {
    "name": "ipython",
    "version": 3
   },
   "file_extension": ".py",
   "mimetype": "text/x-python",
   "name": "python",
   "nbconvert_exporter": "python",
   "pygments_lexer": "ipython3",
   "version": "3.8.0"
  }
 },
 "nbformat": 4,
 "nbformat_minor": 5
}
