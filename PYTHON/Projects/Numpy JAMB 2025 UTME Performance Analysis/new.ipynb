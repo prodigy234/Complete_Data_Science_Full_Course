{
 "cells": [
  {
   "cell_type": "code",
   "execution_count": 306,
   "id": "c618d751",
   "metadata": {},
   "outputs": [],
   "source": [
    "# Import Numpy library\n",
    "import numpy as np"
   ]
  },
  {
   "cell_type": "markdown",
   "id": "3071a5c1",
   "metadata": {},
   "source": [
    "* DATA INITIALIZATION"
   ]
  },
  {
   "cell_type": "code",
   "execution_count": 307,
   "id": "9775ec69",
   "metadata": {},
   "outputs": [],
   "source": [
    "# List of score brackets as released by JAMB.\n",
    "# This acts as labels for each score category.\n",
    "score_ranges = [\n",
    "    '320 and above', '300–319', '250–299', '200–249',\n",
    "    '160–199', '140–159', '120–139', '100–119', 'Below 100'\n",
    "]"
   ]
  },
  {
   "cell_type": "code",
   "execution_count": 308,
   "id": "98cf00c2",
   "metadata": {},
   "outputs": [],
   "source": [
    "# Number of candidates in each corresponding score range.\n",
    "# We use np.array because it allows us to use vectorized operations for speed and efficiency.\n",
    "candidate_counts = np.array([\n",
    "    4756, 7658, 73441, 334560, 983187,\n",
    "    488197, 57419, 3820, 2031\n",
    "])"
   ]
  },
  {
   "cell_type": "code",
   "execution_count": 309,
   "id": "28e08487",
   "metadata": {},
   "outputs": [],
   "source": [
    "midpoints = np.array([\n",
    "    330, 310, 275, 225, 180,\n",
    "    150, 130, 110, 90\n",
    "])\n",
    "\n",
    "# This is a list of the middle values for each score range.\n",
    "# We have to approximate the central score in each range.\n",
    "# These values are used in weighted calculations like mean, variance, etc."
   ]
  },
  {
   "cell_type": "markdown",
   "id": "58d4c0d6",
   "metadata": {},
   "source": [
    "* BASIC PERCENTAGE CALCULATION"
   ]
  },
  {
   "cell_type": "code",
   "execution_count": 310,
   "id": "3ba09f78",
   "metadata": {},
   "outputs": [
    {
     "name": "stdout",
     "output_type": "stream",
     "text": [
      "Total Candidates: 1955069\n",
      "\n"
     ]
    }
   ],
   "source": [
    "# Sums all values in the candidate_counts array.\n",
    "# The result gives the total number of UTME candidates.\n",
    "total_candidates = candidate_counts.sum()\n",
    "print(f\"Total Candidates: {total_candidates}\\n\")"
   ]
  },
  {
   "cell_type": "code",
   "execution_count": 311,
   "id": "b7c5ca22",
   "metadata": {},
   "outputs": [
    {
     "name": "stdout",
     "output_type": "stream",
     "text": [
      "Score Range\t\tCandidates\tPercentage\n",
      "--------------------------------------------------\n",
      "320 and above   \t     4756\t    0.24%\n",
      "300–319         \t     7658\t    0.39%\n",
      "250–299         \t    73441\t    3.76%\n",
      "200–249         \t   334560\t   17.11%\n",
      "160–199         \t   983187\t   50.29%\n",
      "140–159         \t   488197\t   24.97%\n",
      "120–139         \t    57419\t    2.94%\n",
      "100–119         \t     3820\t    0.20%\n",
      "Below 100       \t     2031\t    0.10%\n"
     ]
    }
   ],
   "source": [
    "# Converting raw counts into percentages.\n",
    "# This helps to analyze proportion of candidates in each score range.\n",
    "percentages = (candidate_counts / total_candidates) * 100\n",
    "\n",
    "# Formats the heading for tabular output.\n",
    "print(\"Score Range\\t\\tCandidates\\tPercentage\")\n",
    "print(\"-\" * 50)\n",
    "\n",
    "for i in range(len(score_ranges)):\n",
    "    print(f\"{score_ranges[i]:<16}\\t{candidate_counts[i]:>9}\\t{percentages[i]:>8.2f}%\")\n",
    "    # Loop explanation:\n",
    "    # Loops through each score range.\n",
    "    # Displays score range, candidate count, and percentage.\n",
    "    # :<16 left-aligns label, :>9 right-aligns numbers, :.2f formats percent to 2 decimal places."
   ]
  },
  {
   "cell_type": "markdown",
   "id": "931f9503",
   "metadata": {},
   "source": [
    "### for i in range(len(score_ranges)):\n",
    "\n",
    "len(score_ranges):\n",
    "- This gets the total number of score ranges (which is 9 in this case).\n",
    "\n",
    "range(len(score_ranges)):\n",
    "- This creates a sequence of numbers: 0, 1, 2, ..., 8.\n",
    "\n",
    "for i in ...:\n",
    "- This means: “Repeat the next line of code 9 times — once for each index of score_ranges.”\n",
    "\n",
    "i:\n",
    "- Is just a number that keeps increasing each time through the loop.\n",
    "- It starts at 0 and ends at 8."
   ]
  },
  {
   "cell_type": "markdown",
   "id": "58158917",
   "metadata": {},
   "source": [
    "### 2. print(f\"...\")\n",
    "This is a formatted print statement. The f before the quotes lets us insert variables directly into the string using {}.\n",
    "\n",
    "score_ranges[i]:<16\n",
    "\n",
    "score_ranges[i]:\n",
    "* Gets the score label, like \"320 and above\" for i = 0.\n",
    "\n",
    ":<16:\n",
    "- Means: Left-align the text and give it 16 spaces width.\n",
    "- Keeps all labels nicely lined up.\n",
    "\n",
    "candidate_counts[i]:>9\n",
    "\n",
    "candidate_counts[i]:\n",
    "- Gets the number of candidates in that score range.\n",
    "\n",
    ":>9:\n",
    "- Means: Right-align the number and give it 9 spaces width.\n",
    "- Helps the numbers line up in a neat column.\n",
    "\n",
    "percentages[i]:>8.2f\n",
    "\n",
    "percentages[i]:\n",
    "- Gets the percentage of candidates in that range.\n",
    "\n",
    ":>8.2f:\n",
    "\n",
    " >: Right-align the percentage.\n",
    "\n",
    "* 8: Give it 8 total spaces.\n",
    "* .2f: Format it to 2 decimal places (like 23.45).\n",
    "\n",
    "% (after the closing }):\n",
    "* This is just a literal percent sign added to the output."
   ]
  },
  {
   "cell_type": "markdown",
   "id": "aa1977c9",
   "metadata": {},
   "source": [
    "# WEIGHTED MEAN CALCULATION"
   ]
  },
  {
   "cell_type": "code",
   "execution_count": null,
   "id": "d7c45c94",
   "metadata": {},
   "outputs": [
    {
     "name": "stdout",
     "output_type": "stream",
     "text": [
      "Weighted Mean Score: 182.95\n"
     ]
    }
   ],
   "source": [
    "weighted_mean = np.average(midpoints, weights=candidate_counts)\n",
    "print(f\"Weighted Mean Score: {weighted_mean:.2f}\")\n",
    "\n",
    "# Why use weighted mean? It reflects the true average score based on how many students scored in each range.\n",
    "# Purpose: it calculates the average score considering how many candidates are in each bracket.\n",
    "# We used weighted because each midpoint doesn’t have equal representation.\n",
    "# weights=candidate_counts:\n",
    "# This tells NumPy: “Don’t treat all the midpoints equally. Use the number of students in each score range as their weight.”\n",
    "# candidate_counts = number of students in each score range."
   ]
  },
  {
   "cell_type": "markdown",
   "id": "3c26ea2b",
   "metadata": {},
   "source": [
    "# VARIANCE AND STANDARD DEVIATION"
   ]
  },
  {
   "cell_type": "code",
   "execution_count": 313,
   "id": "aa7b923c",
   "metadata": {},
   "outputs": [
    {
     "name": "stdout",
     "output_type": "stream",
     "text": [
      "Variance: 1113.90\n",
      "Standard Deviation: 33.38\n"
     ]
    }
   ],
   "source": [
    "mean_diffs_squared = (midpoints - weighted_mean) ** 2\n",
    "# Purpose: Calculates the squared difference between each midpoint and the mean.\n",
    "\n",
    "weighted_variance = np.average(mean_diffs_squared, weights=candidate_counts)\n",
    "print(f\"Variance: {weighted_variance:.2f}\")\n",
    "# Purpose: Gets the weighted average of squared differences — this is the variance.\n",
    "\n",
    "weighted_std_dev = np.sqrt(weighted_variance)\n",
    "print(f\"Standard Deviation: {weighted_std_dev:.2f}\")\n",
    "# Purpose: Takes the square root of variance — this gives standard deviation."
   ]
  },
  {
   "cell_type": "markdown",
   "id": "56d69ac6",
   "metadata": {},
   "source": [
    "# WEIGHTED MEDIAN FUNCTION"
   ]
  },
  {
   "cell_type": "code",
   "execution_count": 314,
   "id": "01de26a1",
   "metadata": {},
   "outputs": [],
   "source": [
    "def weighted_median(values, weights):\n",
    "    sorted_indices = np.argsort(values)\n",
    "    values = np.array(values)[sorted_indices]\n",
    "    weights = np.array(weights)[sorted_indices]\n",
    "    cum_weights = np.cumsum(weights)\n",
    "    cutoff = weights.sum() / 2\n",
    "    return values[np.where(cum_weights >= cutoff)[0][0]]\n",
    "    # Purpose: Custom function to compute the median considering weight (number of candidates).\n",
    "    # How it works:-\n",
    "    # Sort values and weights together.\n",
    "    # Find where cumulative weight exceeds half the total.\n",
    "    # Return the corresponding value."
   ]
  },
  {
   "cell_type": "code",
   "execution_count": 315,
   "id": "54259978",
   "metadata": {},
   "outputs": [
    {
     "name": "stdout",
     "output_type": "stream",
     "text": [
      "Weighted Median Score: 180\n"
     ]
    }
   ],
   "source": [
    "weighted_median_value = weighted_median(midpoints, candidate_counts)\n",
    "print(f\"Weighted Median Score: {weighted_median_value}\")\n",
    "# Result: Median score based on candidate distribution."
   ]
  },
  {
   "cell_type": "markdown",
   "id": "855ff5a6",
   "metadata": {},
   "source": [
    "# MODE (MOST FREQUENT SCORE RANGE)"
   ]
  },
  {
   "cell_type": "code",
   "execution_count": 316,
   "id": "7749f77a",
   "metadata": {},
   "outputs": [
    {
     "name": "stdout",
     "output_type": "stream",
     "text": [
      "Weighted Mode: 160–199 (Midpoint: 180)\n"
     ]
    }
   ],
   "source": [
    "# Purpose: Finds the score range with the highest candidate count.\n",
    "# np.argmax() returns the index of the highest value.\n",
    "mode_index = np.argmax(candidate_counts)\n",
    "mode_range = score_ranges[mode_index]\n",
    "mode_midpoint = midpoints[mode_index]\n",
    "\n",
    "print(f\"Weighted Mode: {mode_range} (Midpoint: {mode_midpoint})\")\n"
   ]
  },
  {
   "cell_type": "code",
   "execution_count": 317,
   "id": "3e7899cf",
   "metadata": {},
   "outputs": [
    {
     "name": "stdout",
     "output_type": "stream",
     "text": [
      "------ Cumulative Distribution ------\n",
      "Score Range\tCumulative Count\tCumulative %\n",
      "----------------------------------------------------------------------\n",
      "320 and above\t          4756\t          0.24%\n",
      "300–319   \t         12414\t          0.63%\n",
      "250–299   \t         85855\t          4.39%\n",
      "200–249   \t        420415\t         21.50%\n",
      "160–199   \t       1403602\t         71.79%\n",
      "140–159   \t       1891799\t         96.76%\n",
      "120–139   \t       1949218\t         99.70%\n",
      "100–119   \t       1953038\t         99.90%\n",
      "Below 100 \t       1955069\t        100.00%\n"
     ]
    }
   ],
   "source": [
    "# Purpose: Computes running totals of candidates and percentages.\n",
    "# It is useful for percentile rank estimation and trend understanding.\n",
    "cumulative_counts = np.cumsum(candidate_counts)\n",
    "cumulative_percentages = np.cumsum(percentages)\n",
    "\n",
    "# Prepares the table headers for cumulative distribution.\n",
    "print(\"------ Cumulative Distribution ------\")\n",
    "print(\"Score Range\\tCumulative Count\\tCumulative %\")\n",
    "print(\"-\" * 70)\n",
    "\n",
    "# Prints cumulative distribution per score range, showing how totals build up.\n",
    "for i in range(len(score_ranges)):\n",
    "    print(f\"{score_ranges[i]:<10}\\t{cumulative_counts[i]:>14}\\t{cumulative_percentages[i]:>14.2f}%\")"
   ]
  },
  {
   "cell_type": "markdown",
   "id": "48b4a2b0",
   "metadata": {},
   "source": [
    "# SKEWNESS AND KURTOSIS (APPROXIMATED)"
   ]
  },
  {
   "cell_type": "code",
   "execution_count": 318,
   "id": "1b1343ee",
   "metadata": {},
   "outputs": [
    {
     "name": "stdout",
     "output_type": "stream",
     "text": [
      "Skewness (Pearson): 0.27\n"
     ]
    }
   ],
   "source": [
    "skewness = 3 * (weighted_mean - weighted_median_value) / weighted_std_dev\n",
    "print(f\"Skewness (Pearson): {skewness:.2f}\")\n",
    "\n",
    "# Skewness Formula: Pearson’s second coefficient of skewness.\n",
    "    # Interpretation:\n",
    "    # Skew > 0 → right-skewed (more low scores)\n",
    "    # Skew < 0 → left-skewed (more high scores)"
   ]
  },
  {
   "cell_type": "code",
   "execution_count": 319,
   "id": "08e41cc6",
   "metadata": {},
   "outputs": [
    {
     "name": "stdout",
     "output_type": "stream",
     "text": [
      "Kurtosis (excess ~3 is normal): 4.87\n"
     ]
    }
   ],
   "source": [
    "mean_central_4th = np.average((midpoints - weighted_mean)**4, weights=candidate_counts)\n",
    "kurtosis = mean_central_4th / (weighted_variance**2)\n",
    "print(f\"Kurtosis (excess ~3 is normal): {kurtosis:.2f}\")\n",
    "\n",
    "# Kurtosis:\n",
    "    # Measures \"tailedness\" of the distribution.\n",
    "    # Kurtosis ≈ 3 is normal (bell-shaped).\n",
    "    # 3 is heavy-tailed; <3 is light-tailed."
   ]
  },
  {
   "cell_type": "markdown",
   "id": "98c3600a",
   "metadata": {},
   "source": [
    "# Z-SCORE FOR TOP SCORE BRACKET"
   ]
  },
  {
   "cell_type": "code",
   "execution_count": 320,
   "id": "bf121ee5",
   "metadata": {},
   "outputs": [
    {
     "name": "stdout",
     "output_type": "stream",
     "text": [
      "Z-score for 330 score: 4.41\n"
     ]
    }
   ],
   "source": [
    "z_score_top = (330 - weighted_mean) / weighted_std_dev\n",
    "print(f\"Z-score for 330 score: {z_score_top:.2f}\")\n",
    "# Purpose: Standardizes 330 score.\n",
    "# Z-score Meaning: Shows how far 330 is from the mean in terms of standard deviations."
   ]
  },
  {
   "cell_type": "markdown",
   "id": "f1fd9902",
   "metadata": {},
   "source": [
    "# HIGHEST & LOWEST REPRESENTATION"
   ]
  },
  {
   "cell_type": "code",
   "execution_count": 321,
   "id": "1caa7e14",
   "metadata": {},
   "outputs": [
    {
     "name": "stdout",
     "output_type": "stream",
     "text": [
      "Score Range with Most Candidates: 160–199\n",
      "Score Range with Fewest Candidates: Below 100\n",
      "\n"
     ]
    }
   ],
   "source": [
    "max_range = score_ranges[np.argmax(candidate_counts)]\n",
    "min_range = score_ranges[np.argmin(candidate_counts)]\n",
    "# Purpose: Identifies the score range with the most and fewest candidates.\n",
    "\n",
    "print(f\"Score Range with Most Candidates: {max_range}\")\n",
    "print(f\"Score Range with Fewest Candidates: {min_range}\\n\")"
   ]
  },
  {
   "cell_type": "markdown",
   "id": "99152909",
   "metadata": {},
   "source": [
    "# COLLATING RESULTS OF ALL THE STATISTICAL ANALYSIS"
   ]
  },
  {
   "cell_type": "code",
   "execution_count": 322,
   "id": "aec0ff26",
   "metadata": {},
   "outputs": [
    {
     "name": "stdout",
     "output_type": "stream",
     "text": [
      "\n",
      "\n",
      "------ Statistical Summary ------\n",
      "Weighted Mean Score: 182.95\n",
      "Weighted Median Score: 180\n",
      "Weighted Mode: 160–199 (Midpoint: 180)\n",
      "Standard Deviation: 33.38\n",
      "Variance: 1113.90\n",
      "Skewness (Pearson): 0.27\n",
      "Kurtosis (excess ~3 is normal): 4.87\n",
      "Z-score for 330 score: 4.41\n",
      "Score Range with Most Candidates: 160–199\n",
      "Score Range with Fewest Candidates: Below 100\n",
      "\n",
      "------ Cumulative Distribution ------\n",
      "Score Range\tCumulative Count\tCumulative %\n",
      "------------------------------------------------------------\n",
      "320 and above   \t4756\t          0.24%\n",
      "300–319         \t12414\t          0.63%\n",
      "250–299         \t85855\t          4.39%\n",
      "200–249         \t420415\t         21.50%\n",
      "160–199         \t1403602\t         71.79%\n",
      "140–159         \t1891799\t         96.76%\n",
      "120–139         \t1949218\t         99.70%\n",
      "100–119         \t1953038\t         99.90%\n",
      "Below 100       \t1955069\t        100.00%\n"
     ]
    }
   ],
   "source": [
    "print(\"\\n\\n------ Statistical Summary ------\")\n",
    "print(f\"Weighted Mean Score: {weighted_mean:.2f}\")\n",
    "print(f\"Weighted Median Score: {weighted_median_value}\")\n",
    "print(f\"Weighted Mode: {mode_range} (Midpoint: {mode_midpoint})\")\n",
    "print(f\"Standard Deviation: {weighted_std_dev:.2f}\")\n",
    "print(f\"Variance: {weighted_variance:.2f}\")\n",
    "print(f\"Skewness (Pearson): {skewness:.2f}\")\n",
    "print(f\"Kurtosis (excess ~3 is normal): {kurtosis:.2f}\")\n",
    "print(f\"Z-score for 330 score: {z_score_top:.2f}\")\n",
    "print(f\"Score Range with Most Candidates: {max_range}\")\n",
    "print(f\"Score Range with Fewest Candidates: {min_range}\\n\")\n",
    "print(\"------ Cumulative Distribution ------\")\n",
    "print(\"Score Range\\tCumulative Count\\tCumulative %\")\n",
    "print(\"-\" * 60)\n",
    "for i in range(len(score_ranges)):\n",
    "    print(f\"{score_ranges[i]:<16}\\t{cumulative_counts[i]:>2}\\t{cumulative_percentages[i]:>14.2f}%\")"
   ]
  }
 ],
 "metadata": {
  "kernelspec": {
   "display_name": "Python 3",
   "language": "python",
   "name": "python3"
  },
  "language_info": {
   "codemirror_mode": {
    "name": "ipython",
    "version": 3
   },
   "file_extension": ".py",
   "mimetype": "text/x-python",
   "name": "python",
   "nbconvert_exporter": "python",
   "pygments_lexer": "ipython3",
   "version": "3.8.0"
  }
 },
 "nbformat": 4,
 "nbformat_minor": 5
}
