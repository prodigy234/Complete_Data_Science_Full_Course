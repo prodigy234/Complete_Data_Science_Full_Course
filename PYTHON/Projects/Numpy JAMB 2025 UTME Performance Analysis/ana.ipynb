{
 "cells": [
  {
   "cell_type": "code",
   "execution_count": 1,
   "id": "07af604f",
   "metadata": {},
   "outputs": [],
   "source": [
    "import pandas as pd\n",
    "import numpy as np\n",
    "\n",
    "# Define the score ranges and corresponding number of candidates\n",
    "score_data = {\n",
    "    'Score Range': ['320 and above', '300–319', '250–299', '200–249',\n",
    "                    '160–199', '140–159', '120–139', '100–119', 'Below 100'],\n",
    "    'Candidates': [4756, 7658, 73441, 334560, 983187, 488197, 57419, 3820, 2031]\n",
    "}"
   ]
  },
  {
   "cell_type": "code",
   "execution_count": 2,
   "id": "54f73d37",
   "metadata": {},
   "outputs": [],
   "source": [
    "# Create a DataFrame\n",
    "df = pd.DataFrame(score_data)"
   ]
  },
  {
   "cell_type": "code",
   "execution_count": 3,
   "id": "b1cc4d5e",
   "metadata": {},
   "outputs": [],
   "source": [
    "# Assign approximate midpoints for each score range\n",
    "midpoints = {\n",
    "    '320 and above': 330,\n",
    "    '300–319': 310,\n",
    "    '250–299': 275,\n",
    "    '200–249': 225,\n",
    "    '160–199': 180,\n",
    "    '140–159': 150,\n",
    "    '120–139': 130,\n",
    "    '100–119': 110,\n",
    "    'Below 100': 90\n",
    "}\n",
    "\n",
    "df['Midpoint'] = df['Score Range'].map(midpoints)"
   ]
  },
  {
   "cell_type": "code",
   "execution_count": 4,
   "id": "08e828cb",
   "metadata": {},
   "outputs": [],
   "source": [
    "# Calculate total number of candidates\n",
    "total_candidates = df['Candidates'].sum()\n",
    "\n",
    "# Calculate weighted mean\n",
    "df['Weighted Score'] = df['Midpoint'] * df['Candidates']\n",
    "mean_score = df['Weighted Score'].sum() / total_candidates"
   ]
  },
  {
   "cell_type": "code",
   "execution_count": 5,
   "id": "4ddb2046",
   "metadata": {},
   "outputs": [],
   "source": [
    "# Calculate weighted variance\n",
    "df['Squared Difference'] = (df['Midpoint'] - mean_score) ** 2\n",
    "df['Weighted Squared Difference'] = df['Squared Difference'] * df['Candidates']\n",
    "variance = df['Weighted Squared Difference'].sum() / total_candidates\n",
    "std_deviation = np.sqrt(variance)\n",
    "\n",
    "# Determine mode (score range with the highest number of candidates)\n",
    "mode_row = df.loc[df['Candidates'].idxmax()]\n",
    "mode_range = mode_row['Score Range']\n",
    "mode_midpoint = mode_row['Midpoint']"
   ]
  },
  {
   "cell_type": "code",
   "execution_count": 6,
   "id": "934aaaba",
   "metadata": {},
   "outputs": [
    {
     "name": "stdout",
     "output_type": "stream",
     "text": [
      "2025 JAMB UTME Statistical Analysis:\n",
      "Total Candidates: 1955069\n",
      "Mean Score (approximate): 182.95\n",
      "Standard Deviation (approximate): 33.38\n",
      "Mode Score Range: 160–199 (Midpoint: 180)\n"
     ]
    }
   ],
   "source": [
    "# Display the results\n",
    "print(\"2025 JAMB UTME Statistical Analysis:\")\n",
    "print(f\"Total Candidates: {total_candidates}\")\n",
    "print(f\"Mean Score (approximate): {mean_score:.2f}\")\n",
    "print(f\"Standard Deviation (approximate): {std_deviation:.2f}\")\n",
    "print(f\"Mode Score Range: {mode_range} (Midpoint: {mode_midpoint})\")"
   ]
  }
 ],
 "metadata": {
  "kernelspec": {
   "display_name": "Python 3",
   "language": "python",
   "name": "python3"
  },
  "language_info": {
   "codemirror_mode": {
    "name": "ipython",
    "version": 3
   },
   "file_extension": ".py",
   "mimetype": "text/x-python",
   "name": "python",
   "nbconvert_exporter": "python",
   "pygments_lexer": "ipython3",
   "version": "3.8.0"
  }
 },
 "nbformat": 4,
 "nbformat_minor": 5
}
