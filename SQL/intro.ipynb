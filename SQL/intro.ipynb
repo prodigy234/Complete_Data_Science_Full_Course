{
 "cells": [
  {
   "cell_type": "markdown",
   "id": "1b75f6c9",
   "metadata": {},
   "source": [
    "SQL is a standard language for storing, manipulating and retrieving data in databases.\n",
    "\n",
    "Our SQL tutorial will teach you how to use SQL in: MySQL, SQL Server, MS Access, Oracle, Sybase, Informix, Postgres, and other database systems."
   ]
  },
  {
   "cell_type": "markdown",
   "id": "14deecd2",
   "metadata": {},
   "source": [
    "SQL is a standard language for accessing and manipulating databases.\n",
    "\n",
    "What is SQL?\n",
    "\n",
    "SQL stands for Structured Query Language\n",
    "SQL lets you access and manipulate databases\n",
    "SQL became a standard of the American National Standards Institute (ANSI) in 1986, and of the International Organization for Standardization (ISO) in 1987"
   ]
  },
  {
   "cell_type": "markdown",
   "id": "857230f7",
   "metadata": {},
   "source": [
    "What Can SQL do?\n",
    "\n",
    "SQL can execute queries against a database\n",
    "SQL can retrieve data from a database\n",
    "SQL can insert records in a database\n",
    "SQL can update records in a database\n",
    "SQL can delete records from a database\n",
    "SQL can create new databases\n",
    "SQL can create new tables in a database\n",
    "SQL can create stored procedures in a database\n",
    "SQL can create views in a database\n",
    "SQL can set permissions on tables, procedures, and views"
   ]
  },
  {
   "cell_type": "markdown",
   "id": "20484f26",
   "metadata": {},
   "source": [
    "RDBMS\n",
    "\n",
    "RDBMS stands for Relational Database Management System.\n",
    "\n",
    "RDBMS is the basis for SQL, and for all modern database systems such as MS SQL Server, IBM DB2, Oracle, MySQL, and Microsoft Access.\n",
    "\n",
    "The data in RDBMS is stored in database objects called tables. A table is a collection of related data entries and it consists of columns and rows."
   ]
  },
  {
   "cell_type": "markdown",
   "id": "aeb66670",
   "metadata": {},
   "source": [
    "Every table is broken up into smaller entities called fields.\n",
    "\n",
    "A field is a column in a table that is designed to maintain specific information about every record in the table.\n",
    "\n",
    "A record, also called a row, is each individual entry that exists in a table.\n",
    "\n",
    "A record is a horizontal entity in a table.\n",
    "\n",
    "A column is a vertical entity in a table that contains all information associated with a specific field in a table."
   ]
  },
  {
   "cell_type": "markdown",
   "id": "890717a3",
   "metadata": {},
   "source": [
    "Database Tables\n",
    "\n",
    "A database most often contains one or more tables. Each table is identified by a name (e.g. \"Customers\" or \"Orders\"), and contain records (rows) with data."
   ]
  },
  {
   "cell_type": "markdown",
   "id": "81f7acac",
   "metadata": {},
   "source": [
    "Keep in Mind That...\n",
    "\n",
    "SQL keywords are NOT case sensitive: select is the same as SELECT"
   ]
  },
  {
   "cell_type": "markdown",
   "id": "aeef703f",
   "metadata": {},
   "source": [
    "Semicolon after SQL Statements?\n",
    "\n",
    "Some database systems require a semicolon at the end of each SQL statement.\n",
    "\n",
    "Semicolon is the standard way to separate each SQL statement in database systems that allow more than one SQL statement to be executed in the same call to the server."
   ]
  },
  {
   "cell_type": "markdown",
   "id": "2af4955d",
   "metadata": {},
   "source": [
    "Some of The Most Important SQL Commands\n",
    "SELECT - extracts data from a database\n",
    "UPDATE - updates data in a database\n",
    "DELETE - deletes data from a database\n",
    "INSERT INTO - inserts new data into a database\n",
    "CREATE DATABASE - creates a new database\n",
    "ALTER DATABASE - modifies a database\n",
    "CREATE TABLE - creates a new table\n",
    "ALTER TABLE - modifies a table\n",
    "DROP TABLE - deletes a table\n",
    "CREATE INDEX - creates an index (search key)\n",
    "DROP INDEX - deletes an index"
   ]
  },
  {
   "cell_type": "markdown",
   "id": "ba5e8c64",
   "metadata": {},
   "source": [
    "SQL SELECT Statement\n",
    "\n",
    "The SQL SELECT Statement\n",
    "\n",
    "The SELECT statement is used to select data from a database."
   ]
  },
  {
   "cell_type": "markdown",
   "id": "5dc5e8ce",
   "metadata": {},
   "source": [
    "Syntax\n",
    "SELECT column1, column2, ...\n",
    "FROM table_name;\n",
    "\n",
    "Here, column1, column2, ... are the field names of the table you want to select data from.\n",
    "\n",
    "The table_name represents the name of the table you want to select data from.\n",
    "\n",
    "\n",
    "Return data from the Customers table:\n",
    "\n",
    "SELECT CustomerName, City\n",
    "FROM Customers;"
   ]
  },
  {
   "cell_type": "markdown",
   "id": "f8f88a5b",
   "metadata": {},
   "source": [
    "Select ALL columns\n",
    "If you want to return all columns, without specifying every column name, you can use the SELECT * syntax:\n",
    "\n",
    "Example\n",
    "Return all the columns from the Sales table:\n",
    "\n",
    "SELECT * FROM Sales;"
   ]
  }
 ],
 "metadata": {
  "language_info": {
   "name": "python"
  }
 },
 "nbformat": 4,
 "nbformat_minor": 5
}
