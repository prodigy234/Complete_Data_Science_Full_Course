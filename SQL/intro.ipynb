{
 "cells": [
  {
   "cell_type": "markdown",
   "id": "1b75f6c9",
   "metadata": {},
   "source": [
    "SQL is a standard language for storing, manipulating and retrieving data in databases.\n",
    "\n",
    "Our SQL tutorial will teach you how to use SQL in: MySQL, SQL Server, MS Access, Oracle, Sybase, Informix, Postgres, and other database systems."
   ]
  },
  {
   "cell_type": "markdown",
   "id": "14deecd2",
   "metadata": {},
   "source": [
    "SQL is a standard language for accessing and manipulating databases.\n",
    "\n",
    "What is SQL?\n",
    "\n",
    "SQL stands for Structured Query Language\n",
    "\n",
    "SQL lets you access and manipulate databases\n",
    "SQL became a standard of the American National Standards Institute (ANSI) in 1986, and of the International Organization for Standardization (ISO) in 1987"
   ]
  },
  {
   "cell_type": "markdown",
   "id": "857230f7",
   "metadata": {},
   "source": [
    "What Can SQL do?\n",
    "\n",
    "SQL can execute queries against a database\n",
    "SQL can retrieve data from a database\n",
    "SQL can insert records in a database\n",
    "SQL can update records in a database\n",
    "SQL can delete records from a database\n",
    "SQL can create new databases\n",
    "SQL can create new tables in a database\n",
    "SQL can create stored procedures in a database\n",
    "SQL can create views in a database\n",
    "SQL can set permissions on tables, procedures, and views"
   ]
  },
  {
   "cell_type": "markdown",
   "id": "20484f26",
   "metadata": {},
   "source": [
    "RDBMS\n",
    "\n",
    "RDBMS stands for Relational Database Management System.\n",
    "\n",
    "RDBMS is the basis for SQL, and for all modern database systems such as MS SQL Server, IBM DB2, Oracle, MySQL, and Microsoft Access.\n",
    "\n",
    "The data in RDBMS is stored in database objects called tables. A table is a collection of related data entries and it consists of columns and rows."
   ]
  },
  {
   "cell_type": "markdown",
   "id": "aeb66670",
   "metadata": {},
   "source": [
    "Every table is broken up into smaller entities called fields.\n",
    "\n",
    "A field is a column in a table that is designed to maintain specific information about every record in the table.\n",
    "\n",
    "A record, also called a row, is each individual entry that exists in a table.\n",
    "\n",
    "A record is a horizontal entity in a table.\n",
    "\n",
    "A column is a vertical entity in a table that contains all information associated with a specific field in a table."
   ]
  },
  {
   "cell_type": "markdown",
   "id": "890717a3",
   "metadata": {},
   "source": [
    "Database Tables\n",
    "\n",
    "A database most often contains one or more tables. Each table is identified by a name (e.g. \"Customers\" or \"Orders\"), and contain records (rows) with data."
   ]
  },
  {
   "cell_type": "markdown",
   "id": "81f7acac",
   "metadata": {},
   "source": [
    "Keep in Mind That...\n",
    "\n",
    "SQL keywords are NOT case sensitive: select is the same as SELECT"
   ]
  },
  {
   "cell_type": "markdown",
   "id": "aeef703f",
   "metadata": {},
   "source": [
    "Semicolon after SQL Statements?\n",
    "\n",
    "Some database systems require a semicolon at the end of each SQL statement.\n",
    "\n",
    "Semicolon is the standard way to separate each SQL statement in database systems that allow more than one SQL statement to be executed in the same call to the server."
   ]
  },
  {
   "cell_type": "markdown",
   "id": "2af4955d",
   "metadata": {},
   "source": [
    "Some of The Most Important SQL Commands\n",
    "SELECT - extracts data from a database\n",
    "UPDATE - updates data in a database\n",
    "DELETE - deletes data from a database\n",
    "INSERT INTO - inserts new data into a database\n",
    "CREATE DATABASE - creates a new database\n",
    "ALTER DATABASE - modifies a database\n",
    "CREATE TABLE - creates a new table\n",
    "ALTER TABLE - modifies a table\n",
    "DROP TABLE - deletes a table\n",
    "CREATE INDEX - creates an index (search key)\n",
    "DROP INDEX - deletes an index"
   ]
  },
  {
   "cell_type": "markdown",
   "id": "ba5e8c64",
   "metadata": {},
   "source": [
    "SQL SELECT Statement\n",
    "\n",
    "The SQL SELECT Statement\n",
    "\n",
    "The SELECT statement is used to select data from a database."
   ]
  },
  {
   "cell_type": "markdown",
   "id": "5dc5e8ce",
   "metadata": {},
   "source": [
    "Syntax\n",
    "SELECT column1, column2, ...\n",
    "FROM table_name;\n",
    "\n",
    "Here, column1, column2, ... are the field names of the table you want to select data from.\n",
    "\n",
    "The table_name represents the name of the table you want to select data from.\n",
    "\n",
    "\n",
    "Return data from the Customers table:\n",
    "\n",
    "SELECT CustomerName, City\n",
    "FROM Customers;"
   ]
  },
  {
   "cell_type": "markdown",
   "id": "f8f88a5b",
   "metadata": {},
   "source": [
    "Select ALL columns\n",
    "If you want to return all columns, without specifying every column name, you can use the SELECT * syntax:\n",
    "\n",
    "Example\n",
    "Return all the columns from the Sales table:\n",
    "\n",
    "SELECT * FROM Sales;"
   ]
  },
  {
   "cell_type": "markdown",
   "id": "bc49fa06",
   "metadata": {},
   "source": [
    "The SQL SELECT DISTINCT Statement\n",
    "\n",
    "The SELECT DISTINCT statement is used to return only distinct (different) values."
   ]
  },
  {
   "cell_type": "markdown",
   "id": "5dd13a8f",
   "metadata": {},
   "source": [
    "Syntax\n",
    "\n",
    "SELECT DISTINCT column1, column2, ...\n",
    "FROM table_name;"
   ]
  },
  {
   "cell_type": "markdown",
   "id": "3c3665af",
   "metadata": {},
   "source": [
    "Select all the different countries from the \"Customers\" table:\n",
    "\n",
    "SELECT DISTINCT Country FROM Customers;\n",
    "\n",
    "\n",
    "Inside a table, a column often contains many duplicate values; and sometimes you only want to list the different (distinct) values."
   ]
  },
  {
   "cell_type": "markdown",
   "id": "dae039cd",
   "metadata": {},
   "source": [
    "Count Distinct\n",
    "\n",
    "By using the DISTINCT keyword in a function called COUNT, we can return the number of different countries."
   ]
  },
  {
   "cell_type": "markdown",
   "id": "f799bb0e",
   "metadata": {},
   "source": [
    "SELECT COUNT(DISTINCT Country)\n",
    "FROM Customers;"
   ]
  },
  {
   "cell_type": "markdown",
   "id": "4e855510",
   "metadata": {},
   "source": [
    "The SQL WHERE Clause\n",
    "\n",
    "The WHERE clause is used to filter records.\n",
    "\n",
    "It is used to extract only those records that fulfill a specified condition."
   ]
  },
  {
   "cell_type": "markdown",
   "id": "04e19512",
   "metadata": {},
   "source": [
    "Text Fields vs. Numeric Fields\n",
    "\n",
    "SQL requires single quotes around text values (most database systems will also allow double quotes).\n",
    "\n",
    "However, numeric fields should not be enclosed in quotes:"
   ]
  },
  {
   "cell_type": "markdown",
   "id": "87f29253",
   "metadata": {},
   "source": [
    "The following operators can be used in the WHERE clause:\n",
    "\n",
    "Operator\tDescription\tExample\n",
    "=\t        Equal\t\n",
    ">\t        Greater than\t\n",
    "<\t        Less than\t\n",
    ">=\t        Greater than or equal\t\n",
    "<=\t        Less than or equal\t\n",
    "<>\t        Not equal. Note: In some versions of SQL this operator may be written as !=\t\n",
    "BETWEEN\t    Between a certain range\t\n",
    "LIKE\t    Search for a pattern\t\n",
    "IN\t        To specify multiple possible values for a column"
   ]
  },
  {
   "cell_type": "markdown",
   "id": "143f8624",
   "metadata": {},
   "source": [
    "The SQL ORDER BY\n",
    "\n",
    "The ORDER BY keyword is used to sort the result-set in ascending or descending order."
   ]
  },
  {
   "cell_type": "markdown",
   "id": "7d76d3df",
   "metadata": {},
   "source": [
    "Sort the products by price:\n",
    "\n",
    "SELECT *\n",
    "FROM customers\n",
    "ORDER BY customer_id;"
   ]
  },
  {
   "cell_type": "markdown",
   "id": "f8bc46ee",
   "metadata": {},
   "source": [
    "Syntax\n",
    "\n",
    "SELECT column1, column2, ...\n",
    "FROM table_name\n",
    "ORDER BY column1, column2, ... ASC|DESC;"
   ]
  },
  {
   "cell_type": "markdown",
   "id": "3c859dcb",
   "metadata": {},
   "source": [
    "DESC\n",
    "\n",
    "The ORDER BY keyword sorts the records in ascending order by default. To sort the records in descending order, use the DESC keyword."
   ]
  },
  {
   "cell_type": "markdown",
   "id": "2a02ece3",
   "metadata": {},
   "source": [
    "Sort the products from highest to lowest price:\n",
    "\n",
    "SELECT * \n",
    "FROM Products\n",
    "ORDER BY Price DESC;"
   ]
  },
  {
   "cell_type": "markdown",
   "id": "655c8be7",
   "metadata": {},
   "source": [
    "The SQL AND Operator\n",
    "\n",
    "The WHERE clause can contain one or many AND operators.\n",
    "\n",
    "The AND operator is used to filter records based on more than one condition, like if you want to return all customers from Spain that starts with the letter 'G':"
   ]
  },
  {
   "cell_type": "markdown",
   "id": "64a1c18c",
   "metadata": {},
   "source": [
    "Select all customers from Spain that starts with the letter 'G':\n",
    "\n",
    "SELECT *\n",
    "FROM Customers\n",
    "WHERE Country = 'Spain' AND CustomerName LIKE 'G%';"
   ]
  },
  {
   "cell_type": "markdown",
   "id": "2c3ee5b1",
   "metadata": {},
   "source": [
    "Syntax\n",
    "\n",
    "SELECT column1, column2, ...\n",
    "FROM table_name\n",
    "WHERE condition1 AND condition2 AND condition3 ...;"
   ]
  },
  {
   "cell_type": "markdown",
   "id": "3a2eb763",
   "metadata": {},
   "source": [
    "AND vs OR\n",
    "\n",
    "The AND operator displays a record if all the conditions are TRUE.\n",
    "\n",
    "The OR operator displays a record if any of the conditions are TRUE."
   ]
  },
  {
   "cell_type": "markdown",
   "id": "c2951d7a",
   "metadata": {},
   "source": [
    "The SQL OR Operator\n",
    "\n",
    "The WHERE clause can contain one or more OR operators.\n",
    "\n",
    "The OR operator is used to filter records based on more than one condition, like if you want to return all customers from Germany but also those from Spain:"
   ]
  },
  {
   "cell_type": "markdown",
   "id": "3bc8bd86",
   "metadata": {},
   "source": [
    "Syntax\n",
    "\n",
    "SELECT column1, column2, ...\n",
    "FROM table_name\n",
    "WHERE condition1 OR condition2 OR condition3 ...;"
   ]
  },
  {
   "cell_type": "markdown",
   "id": "fae8ad5b",
   "metadata": {},
   "source": [
    "At Least One Condition Must Be True\n",
    "\n",
    "The following SQL statement selects all fields from Customers where either City is \"Berlin\", CustomerName starts with the letter \"G\" or Country is \"Norway\":"
   ]
  },
  {
   "cell_type": "markdown",
   "id": "ebf55738",
   "metadata": {},
   "source": [
    "SELECT * \n",
    "FROM Customers\n",
    "WHERE City = 'Berlin' OR CustomerName LIKE 'G%' OR Country = 'Norway';"
   ]
  },
  {
   "cell_type": "markdown",
   "id": "cf7581e8",
   "metadata": {},
   "source": [
    "Combining AND and OR\n",
    "\n",
    "You can combine the AND and OR operators.\n",
    "\n",
    "The following SQL statement selects all customers from Spain that starts with a \"G\" or an \"R\".\n",
    "\n",
    "Make sure you use parenthesis to get the correct result."
   ]
  },
  {
   "cell_type": "markdown",
   "id": "7a8378e9",
   "metadata": {},
   "source": [
    "Select all Spanish customers that starts with either \"G\" or \"R\":\n",
    "\n",
    "SELECT * \n",
    "FROM Customers\n",
    "WHERE Country = 'Spain' AND (CustomerName LIKE 'G%' OR CustomerName LIKE 'R%');"
   ]
  },
  {
   "cell_type": "markdown",
   "id": "80a42df5",
   "metadata": {},
   "source": [
    "The NOT Operator\n",
    "\n",
    "The NOT operator is used in combination with other operators to give the opposite result, also called the negative result.\n",
    "\n",
    "In the select statement below we want to return all customers that are NOT from Spain:"
   ]
  },
  {
   "cell_type": "markdown",
   "id": "87b12101",
   "metadata": {},
   "source": [
    "Select only the customers that are NOT from Spain:\n",
    "\n",
    "SELECT * \n",
    "FROM Customers\n",
    "WHERE NOT Country = 'Spain';"
   ]
  },
  {
   "cell_type": "markdown",
   "id": "b2b3b8cf",
   "metadata": {},
   "source": [
    "Syntax\n",
    "\n",
    "SELECT column1, column2, ...\n",
    "FROM table_name\n",
    "WHERE NOT condition;"
   ]
  },
  {
   "cell_type": "markdown",
   "id": "ed2eafbe",
   "metadata": {},
   "source": [
    "NOT LIKE"
   ]
  },
  {
   "cell_type": "markdown",
   "id": "bb88727e",
   "metadata": {},
   "source": [
    "# Select customers that does not start with the letter 'A':\n",
    "\n",
    "SELECT * FROM Customers\n",
    "WHERE CustomerName NOT LIKE 'A%';"
   ]
  },
  {
   "cell_type": "markdown",
   "id": "7726ca9b",
   "metadata": {},
   "source": [
    "NOT BETWEEN"
   ]
  },
  {
   "cell_type": "markdown",
   "id": "7f59b6fc",
   "metadata": {},
   "source": [
    "# Select customers with a customerID not between 10 and 60:\n",
    "\n",
    "SELECT * FROM Customers\n",
    "WHERE CustomerID NOT BETWEEN 10 AND 60;"
   ]
  },
  {
   "cell_type": "markdown",
   "id": "4af67e92",
   "metadata": {},
   "source": [
    "NOT IN"
   ]
  },
  {
   "cell_type": "markdown",
   "id": "4989d291",
   "metadata": {},
   "source": [
    "# Select customers that are not from Paris or London:\n",
    "\n",
    "SELECT * FROM Customers\n",
    "WHERE City NOT IN ('Paris', 'London');"
   ]
  },
  {
   "cell_type": "markdown",
   "id": "ba37f3b6",
   "metadata": {},
   "source": [
    "NOT Greater Than"
   ]
  },
  {
   "cell_type": "markdown",
   "id": "326f1dfb",
   "metadata": {},
   "source": [
    "# Select customers with a CustomerId not greater than 50:\n",
    "\n",
    "SELECT * FROM Customers\n",
    "WHERE NOT CustomerID > 50;"
   ]
  },
  {
   "cell_type": "markdown",
   "id": "80dfe0eb",
   "metadata": {},
   "source": [
    "NOT Less Than"
   ]
  },
  {
   "cell_type": "markdown",
   "id": "a4556a1a",
   "metadata": {},
   "source": [
    "# Select customers with a CustomerID not less than 50:\n",
    "\n",
    "SELECT * FROM Customers\n",
    "WHERE NOT CustomerId < 50;"
   ]
  },
  {
   "cell_type": "markdown",
   "id": "73413f6a",
   "metadata": {},
   "source": [
    "SQL INSERT INTO Statement"
   ]
  },
  {
   "cell_type": "markdown",
   "id": "7244737f",
   "metadata": {},
   "source": [
    "The SQL INSERT INTO Statement\n",
    "\n",
    "The INSERT INTO statement is used to insert new records in a table."
   ]
  },
  {
   "cell_type": "markdown",
   "id": "4e363a77",
   "metadata": {},
   "source": [
    "INSERT INTO Syntax\n",
    "\n",
    "It is possible to write the INSERT INTO statement in two ways:"
   ]
  },
  {
   "cell_type": "markdown",
   "id": "1e32d20b",
   "metadata": {},
   "source": [
    "1. Specify both the column names and the values to be inserted:\n",
    "\n",
    "INSERT INTO table_name (column1, column2, column3, ...)\n",
    "VALUES (value1, value2, value3, ...);"
   ]
  },
  {
   "cell_type": "markdown",
   "id": "92dba15a",
   "metadata": {},
   "source": [
    "2. If you are adding values for all the columns of the table, you do not need to specify the column names in the SQL query. However, make sure the order of the values is in the same order as the columns in the table. Here, the INSERT INTO syntax would be as follows:\n",
    "\n",
    "INSERT INTO table_name\n",
    "VALUES (value1, value2, value3, ...);"
   ]
  },
  {
   "cell_type": "markdown",
   "id": "53b14b26",
   "metadata": {},
   "source": [
    "INSERT INTO Example"
   ]
  },
  {
   "cell_type": "markdown",
   "id": "a08d6124",
   "metadata": {},
   "source": [
    "The following SQL statement inserts a new record in the \"Customers\" table:\n",
    "\n",
    "INSERT INTO Customers (CustomerName, ContactName, Address, City, PostalCode, Country)\n",
    "VALUES ('Cardinal', 'Tom B. Erichsen', 'Skagen 21', 'Stavanger', '4006', 'Norway');"
   ]
  },
  {
   "cell_type": "markdown",
   "id": "87eada70",
   "metadata": {},
   "source": [
    "Insert Data Only in Specified Columns\n",
    "\n",
    "It is also possible to only insert data in specific columns."
   ]
  },
  {
   "cell_type": "markdown",
   "id": "13de76ec",
   "metadata": {},
   "source": [
    "# The following SQL statement will insert a new record, but only insert data in the \"CustomerName\", \"City\", and \"Country\" columns (CustomerID will be updated automatically):\n",
    "\n",
    "INSERT INTO Customers (CustomerName, City, Country)\n",
    "VALUES ('Cardinal', 'Stavanger', 'Norway');"
   ]
  },
  {
   "cell_type": "markdown",
   "id": "ecfe5ab1",
   "metadata": {},
   "source": [
    "Insert Multiple Rows\n",
    "\n",
    "It is also possible to insert multiple rows in one statement.\n",
    "\n",
    "To insert multiple rows of data, we use the same INSERT INTO statement, but with multiple values:"
   ]
  },
  {
   "cell_type": "markdown",
   "id": "6a9ee3c0",
   "metadata": {},
   "source": [
    "# Example\n",
    "\n",
    "INSERT INTO Customers (CustomerName, ContactName, Address, City, PostalCode, Country)\n",
    "VALUES\n",
    "('Cardinal', 'Tom B. Erichsen', 'Skagen 21', 'Stavanger', '4006', 'Norway'),\n",
    "('Greasy Burger', 'Per Olsen', 'Gateveien 15', 'Sandnes', '4306', 'Norway'),\n",
    "('Tasty Tee', 'Finn Egan', 'Streetroad 19B', 'Liverpool', 'L1 0AA', 'UK');"
   ]
  },
  {
   "cell_type": "markdown",
   "id": "0daf42ff",
   "metadata": {},
   "source": [
    "SQL NULL Values"
   ]
  },
  {
   "cell_type": "markdown",
   "id": "f829f167",
   "metadata": {},
   "source": [
    "What is a NULL Value?\n",
    "\n",
    "A field with a NULL value is a field with no value.\n",
    "\n",
    "If a field in a table is optional, it is possible to insert a new record or update a record without adding a value to this field. Then, the field will be saved with a NULL value.\n",
    "\n",
    "Note: A NULL value is different from a zero value or a field that contains spaces. A field with a NULL value is one that has been left blank during record creation!"
   ]
  },
  {
   "cell_type": "markdown",
   "id": "e5b9ac93",
   "metadata": {},
   "source": [
    "How to Test for NULL Values?\n",
    "\n",
    "It is not possible to test for NULL values with comparison operators, such as =, <, or <>.\n",
    "\n",
    "We will have to use the IS NULL and IS NOT NULL operators instead."
   ]
  },
  {
   "cell_type": "markdown",
   "id": "e2ffe487",
   "metadata": {},
   "source": [
    "IS NULL Syntax\n",
    "\n",
    "SELECT column_names\n",
    "FROM table_name\n",
    "WHERE column_name IS NULL;"
   ]
  },
  {
   "cell_type": "markdown",
   "id": "e437483b",
   "metadata": {},
   "source": [
    "IS NOT NULL Syntax\n",
    "\n",
    "SELECT column_names\n",
    "FROM table_name\n",
    "WHERE column_name IS NOT NULL;"
   ]
  },
  {
   "cell_type": "markdown",
   "id": "4332e2a4",
   "metadata": {},
   "source": [
    "The IS NULL Operator\n",
    "\n",
    "The IS NULL operator is used to test for empty values (NULL values)."
   ]
  },
  {
   "cell_type": "markdown",
   "id": "2f57c7e6",
   "metadata": {},
   "source": [
    "# The following SQL lists all customers with a NULL value in the \"Address\" field:\n",
    "\n",
    "SELECT CustomerName, ContactName, Address\n",
    "FROM Customers\n",
    "WHERE Address IS NULL;"
   ]
  },
  {
   "cell_type": "markdown",
   "id": "a8df12ae",
   "metadata": {},
   "source": [
    "NOTE: Always use IS NULL to look for NULL values."
   ]
  },
  {
   "cell_type": "markdown",
   "id": "a29c221d",
   "metadata": {},
   "source": [
    "The IS NOT NULL Operator\n",
    "\n",
    "The IS NOT NULL operator is used to test for non-empty values (NOT NULL values)."
   ]
  },
  {
   "cell_type": "markdown",
   "id": "56e0ab66",
   "metadata": {},
   "source": [
    "# The following SQL lists all customers with a value in the \"Address\" field:\n",
    "\n",
    "SELECT CustomerName, ContactName, Address\n",
    "FROM Customers\n",
    "WHERE Address IS NOT NULL;"
   ]
  },
  {
   "cell_type": "markdown",
   "id": "30e059b4",
   "metadata": {},
   "source": [
    "SQL UPDATE Statement"
   ]
  },
  {
   "cell_type": "markdown",
   "id": "0e0eb5d5",
   "metadata": {},
   "source": [
    "The SQL UPDATE Statement\n",
    "\n",
    "The UPDATE statement is used to modify the existing records in a table."
   ]
  },
  {
   "cell_type": "markdown",
   "id": "eb15cd39",
   "metadata": {},
   "source": [
    "UPDATE Syntax\n",
    "\n",
    "UPDATE table_name\n",
    "SET column1 = value1, column2 = value2, ...\n",
    "WHERE condition;"
   ]
  },
  {
   "cell_type": "markdown",
   "id": "1093b662",
   "metadata": {},
   "source": [
    "Note: Be careful when updating records in a table! Notice the WHERE clause in the UPDATE statement. The WHERE clause specifies which record(s) that should be updated. If you omit the WHERE clause, all records in the table will be updated!"
   ]
  },
  {
   "cell_type": "markdown",
   "id": "eb61bd5f",
   "metadata": {},
   "source": [
    "UPDATE Table"
   ]
  },
  {
   "cell_type": "markdown",
   "id": "98c8376e",
   "metadata": {},
   "source": [
    "# The following SQL statement updates the first customer (CustomerID = 1) with a new contact person and a new city.\n",
    "\n",
    "UPDATE Customers\n",
    "SET ContactName = 'Alfred Schmidt', City= 'Frankfurt'\n",
    "WHERE CustomerID = 1;"
   ]
  },
  {
   "cell_type": "markdown",
   "id": "ca3486ab",
   "metadata": {},
   "source": [
    "UPDATE Multiple Records\n",
    "It is the WHERE clause that determines how many records will be updated."
   ]
  },
  {
   "cell_type": "markdown",
   "id": "c322d22d",
   "metadata": {},
   "source": [
    "# The following SQL statement will update the ContactName to \"Juan\" for all records where country is \"Mexico\":\n",
    "\n",
    "UPDATE Customers\n",
    "SET ContactName='Juan'\n",
    "WHERE Country='Mexico';"
   ]
  },
  {
   "cell_type": "markdown",
   "id": "82cfb667",
   "metadata": {},
   "source": [
    "Update Warning!\n",
    "\n",
    "Be careful when updating records. If you omit the WHERE clause, ALL records will be updated!\n",
    "\n",
    "\n",
    "# e.g \n",
    "\n",
    "UPDATE Customers\n",
    "SET ContactName='Juan';"
   ]
  },
  {
   "cell_type": "markdown",
   "id": "74647dcc",
   "metadata": {},
   "source": [
    "SQL DELETE Statement"
   ]
  },
  {
   "cell_type": "markdown",
   "id": "6af3a621",
   "metadata": {},
   "source": [
    "The SQL DELETE Statement\n",
    "\n",
    "The DELETE statement is used to delete existing records in a table.\n",
    "\n",
    "DELETE Syntax\n",
    "\n",
    "DELETE FROM table_name\n",
    "WHERE condition;"
   ]
  },
  {
   "cell_type": "markdown",
   "id": "7928e2f0",
   "metadata": {},
   "source": [
    "Note: Be careful when deleting records in a table! Notice the WHERE clause in the DELETE statement. The WHERE clause specifies which record(s) should be deleted. If you omit the WHERE clause, all records in the table will be deleted!"
   ]
  },
  {
   "cell_type": "markdown",
   "id": "a5e4db96",
   "metadata": {},
   "source": [
    "SQL DELETE Example\n",
    "\n",
    "# The following SQL statement deletes the customer \"Alfreds Futterkiste\" from the \"Customers\" table:\n",
    "DELETE FROM Customers \n",
    "WHERE CustomerName='Alfreds Futterkiste';"
   ]
  },
  {
   "cell_type": "markdown",
   "id": "aa7da128",
   "metadata": {},
   "source": [
    "Delete All Records\n",
    "\n",
    "It is possible to delete all rows in a table without deleting the table. This means that the table structure, attributes, and indexes will be intact:\n",
    "\n",
    "DELETE FROM table_name;"
   ]
  },
  {
   "cell_type": "markdown",
   "id": "39247327",
   "metadata": {},
   "source": [
    "# The following SQL statement deletes all rows in the \"Customers\" table, without deleting the table:\n",
    "\n",
    "DELETE FROM Customers;"
   ]
  },
  {
   "cell_type": "markdown",
   "id": "58cb4d47",
   "metadata": {},
   "source": [
    "Delete a Table\n",
    "\n",
    "To delete the table completely, use the DROP TABLE statement:"
   ]
  },
  {
   "cell_type": "markdown",
   "id": "8fe8536d",
   "metadata": {},
   "source": [
    "# Remove the Customers table:\n",
    "\n",
    "DROP TABLE Customers;"
   ]
  },
  {
   "cell_type": "markdown",
   "id": "e959e40a",
   "metadata": {},
   "source": [
    "SQL TOP, LIMIT, FETCH FIRST or ROWNUM Clause"
   ]
  },
  {
   "cell_type": "markdown",
   "id": "855a8d9a",
   "metadata": {},
   "source": [
    "The SQL SELECT TOP Clause\n",
    "\n",
    "The SELECT TOP clause is used to specify the number of records to return.\n",
    "\n",
    "The SELECT TOP clause is useful on large tables with thousands of records. Returning a large number of records can impact performance."
   ]
  },
  {
   "cell_type": "markdown",
   "id": "04bfea3d",
   "metadata": {},
   "source": [
    "Note: Not all database systems support the SELECT TOP clause. \n",
    "\n",
    "MySQL supports the LIMIT clause to select a limited number of records, while Oracle uses FETCH FIRST n ROWS ONLY and ROWNUM."
   ]
  },
  {
   "cell_type": "markdown",
   "id": "042f15ca",
   "metadata": {},
   "source": [
    "SQL Server / MS Access Syntax:\n",
    "\n",
    "SELECT TOP number|percent column_name(s)\n",
    "FROM table_name\n",
    "WHERE condition;"
   ]
  },
  {
   "cell_type": "markdown",
   "id": "d62813d1",
   "metadata": {},
   "source": [
    "MySQL Syntax:\n",
    "\n",
    "SELECT column_name(s)\n",
    "FROM table_name\n",
    "WHERE condition\n",
    "LIMIT number;"
   ]
  },
  {
   "cell_type": "markdown",
   "id": "1d1ba3ac",
   "metadata": {},
   "source": [
    "Oracle 12 Syntax:\n",
    "\n",
    "SELECT column_name(s)\n",
    "FROM table_name\n",
    "ORDER BY column_name(s)\n",
    "FETCH FIRST number ROWS ONLY;"
   ]
  },
  {
   "cell_type": "markdown",
   "id": "7cc4e445",
   "metadata": {},
   "source": [
    "Older Oracle Syntax:\n",
    "\n",
    "SELECT column_name(s)\n",
    "FROM table_name\n",
    "WHERE ROWNUM <= number;"
   ]
  },
  {
   "cell_type": "markdown",
   "id": "5cfe4bf5",
   "metadata": {},
   "source": [
    "Older Oracle Syntax (with ORDER BY):\n",
    "\n",
    "SELECT *\n",
    "FROM (SELECT column_name(s) FROM table_name ORDER BY column_name(s))\n",
    "WHERE ROWNUM <= number;"
   ]
  },
  {
   "cell_type": "markdown",
   "id": "4a385d3f",
   "metadata": {},
   "source": [
    "LIMIT\n",
    "The following SQL statement shows the equivalent example for MySQL:"
   ]
  },
  {
   "cell_type": "markdown",
   "id": "03de6821",
   "metadata": {},
   "source": [
    "# Select the first 3 records of the Customers table:\n",
    "\n",
    "SELECT * \n",
    "FROM Customers\n",
    "LIMIT 3;"
   ]
  },
  {
   "cell_type": "markdown",
   "id": "27c6eb73",
   "metadata": {},
   "source": [
    "FETCH FIRST\n",
    "\n",
    "The following SQL statement shows the equivalent example for Oracle:\n",
    "\n",
    "# Example\n",
    "Select the first 3 records of the Customers table:\n",
    "\n",
    "SELECT * \n",
    "FROM Customers\n",
    "FETCH FIRST 3 ROWS ONLY;"
   ]
  },
  {
   "cell_type": "markdown",
   "id": "dbf9ba13",
   "metadata": {},
   "source": [
    "SQL TOP PERCENT Example\n",
    "\n",
    "The following SQL statement selects the first 50% of the records from the \"Customers\" table (for SQL Server/MS Access):\n",
    "\n",
    "# Example\n",
    "SELECT TOP 50 PERCENT * FROM Customers;"
   ]
  },
  {
   "cell_type": "markdown",
   "id": "b4094b9d",
   "metadata": {},
   "source": [
    "The following SQL statement shows the equivalent example for Oracle:\n",
    "\n",
    "# Example\n",
    "SELECT * \n",
    "FROM Customers\n",
    "FETCH FIRST 50 PERCENT ROWS ONLY;"
   ]
  },
  {
   "cell_type": "markdown",
   "id": "2e180f64",
   "metadata": {},
   "source": [
    "ADD a WHERE CLAUSE\n",
    "The following SQL statement selects the first three records from the \"Customers\" table, where the country is \"Germany\" (for SQL Server/MS Access):\n",
    "\n",
    "# Example\n",
    "SELECT TOP 3 * \n",
    "FROM Customers\n",
    "WHERE Country='Germany';"
   ]
  },
  {
   "cell_type": "markdown",
   "id": "d74f553e",
   "metadata": {},
   "source": [
    "The following SQL statement shows the equivalent example for MySQL:\n",
    "\n",
    "# Example\n",
    "\n",
    "SELECT * \n",
    "FROM Customers\n",
    "WHERE Country='Germany'\n",
    "LIMIT 3;"
   ]
  },
  {
   "cell_type": "markdown",
   "id": "23cef545",
   "metadata": {},
   "source": [
    "The following SQL statement shows the equivalent example for Oracle:\n",
    "\n",
    "# Example\n",
    "SELECT * \n",
    "FROM Customers\n",
    "WHERE Country='Germany'\n",
    "FETCH FIRST 3 ROWS ONLY;"
   ]
  },
  {
   "cell_type": "markdown",
   "id": "4120d5fa",
   "metadata": {},
   "source": [
    "ADD the ORDER BY Keyword\n",
    "\n",
    "Add the ORDER BY keyword when you want to sort the result, and return the first 3 records of the sorted result."
   ]
  },
  {
   "cell_type": "markdown",
   "id": "7a9ee81f",
   "metadata": {},
   "source": [
    "For SQL Server and MS Access:\n",
    "\n",
    "# Example\n",
    "Sort the result reverse alphabetically by CustomerName, and return the first 3 records:\n",
    "\n",
    "SELECT TOP 3 * \n",
    "FROM Customers\n",
    "ORDER BY CustomerName DESC;"
   ]
  },
  {
   "cell_type": "markdown",
   "id": "a9f4052f",
   "metadata": {},
   "source": [
    "The following SQL statement shows the equivalent example for MySQL:\n",
    "\n",
    "# Example\n",
    "\n",
    "SELECT * \n",
    "FROM Customers\n",
    "ORDER BY CustomerName DESC\n",
    "LIMIT 3;"
   ]
  },
  {
   "cell_type": "markdown",
   "id": "0fcf5c7c",
   "metadata": {},
   "source": [
    "The following SQL statement shows the equivalent example for Oracle:\n",
    "\n",
    "# Example\n",
    "\n",
    "SELECT * \n",
    "FROM Customers\n",
    "ORDER BY CustomerName DESC\n",
    "FETCH FIRST 3 ROWS ONLY;"
   ]
  },
  {
   "cell_type": "markdown",
   "id": "e4225bf0",
   "metadata": {},
   "source": [
    "SQL Aggregate Functions"
   ]
  },
  {
   "cell_type": "markdown",
   "id": "00743292",
   "metadata": {},
   "source": [
    "SQL Aggregate Functions\n",
    "An aggregate function is a function that performs a calculation on a set of values, and returns a single value.\n",
    "\n",
    "Aggregate functions are often used with the GROUP BY clause of the SELECT statement. The GROUP BY clause splits the result-set into groups of values and the aggregate function can be used to return a single value for each group.\n",
    "\n",
    "The most commonly used SQL aggregate functions are:\n",
    "\n",
    "MIN() - returns the smallest value within the selected column\n",
    "MAX() - returns the largest value within the selected column\n",
    "COUNT() - returns the number of rows in a set\n",
    "SUM() - returns the total sum of a numerical column\n",
    "AVG() - returns the average value of a numerical column\n",
    "Aggregate functions ignore null values (except for COUNT())."
   ]
  },
  {
   "cell_type": "markdown",
   "id": "64611ba3",
   "metadata": {},
   "source": [
    "SQL MIN() and MAX() Functions"
   ]
  },
  {
   "cell_type": "markdown",
   "id": "ce8e6e87",
   "metadata": {},
   "source": [
    "The SQL MIN() and MAX() Functions\n",
    "The MIN() function returns the smallest value of the selected column.\n",
    "\n",
    "The MAX() function returns the largest value of the selected column."
   ]
  },
  {
   "cell_type": "markdown",
   "id": "8ef4cc36",
   "metadata": {},
   "source": [
    "Syntax\n",
    "\n",
    "SELECT MIN(column_name)\n",
    "FROM table_name\n",
    "WHERE condition;"
   ]
  },
  {
   "cell_type": "markdown",
   "id": "ac340532",
   "metadata": {},
   "source": [
    "Syntax\n",
    "\n",
    "SELECT MAX(column_name)\n",
    "FROM table_name\n",
    "WHERE condition;"
   ]
  },
  {
   "cell_type": "markdown",
   "id": "47bebc4c",
   "metadata": {},
   "source": [
    "MIN Example\n",
    "\n",
    "# Find the lowest price in the Price column:\n",
    "\n",
    "SELECT MIN(Price)\n",
    "FROM Products;"
   ]
  },
  {
   "cell_type": "markdown",
   "id": "4dedf777",
   "metadata": {},
   "source": [
    "MAX Example\n",
    "\n",
    "# Find the highest price in the Price column:\n",
    "\n",
    "SELECT MAX(Price)\n",
    "FROM Products;"
   ]
  },
  {
   "cell_type": "markdown",
   "id": "076aef7e",
   "metadata": {},
   "source": [
    "Set Column Name (Alias)\n",
    "\n",
    "When you use MIN() or MAX(), the returned column will not have a descriptive name. To give the column a descriptive name, use the AS keyword:"
   ]
  },
  {
   "cell_type": "markdown",
   "id": "444e485a",
   "metadata": {},
   "source": []
  }
 ],
 "metadata": {
  "kernelspec": {
   "display_name": "Python 3",
   "language": "python",
   "name": "python3"
  },
  "language_info": {
   "name": "python",
   "version": "3.12.7"
  }
 },
 "nbformat": 4,
 "nbformat_minor": 5
}
