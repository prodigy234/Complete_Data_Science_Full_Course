{
 "cells": [
  {
   "cell_type": "markdown",
   "id": "1b75f6c9",
   "metadata": {},
   "source": [
    "SQL is a standard language for storing, manipulating and retrieving data in databases.\n",
    "\n",
    "Our SQL tutorial will teach you how to use SQL in: MySQL, SQL Server, MS Access, Oracle, Sybase, Informix, Postgres, and other database systems."
   ]
  },
  {
   "cell_type": "markdown",
   "id": "14deecd2",
   "metadata": {},
   "source": [
    "SQL is a standard language for accessing and manipulating databases.\n",
    "\n",
    "What is SQL?\n",
    "\n",
    "SQL stands for Structured Query Language\n",
    "\n",
    "SQL lets you access and manipulate databases\n",
    "SQL became a standard of the American National Standards Institute (ANSI) in 1986, and of the International Organization for Standardization (ISO) in 1987"
   ]
  },
  {
   "cell_type": "markdown",
   "id": "857230f7",
   "metadata": {},
   "source": [
    "What Can SQL do?\n",
    "\n",
    "SQL can execute queries against a database\n",
    "SQL can retrieve data from a database\n",
    "SQL can insert records in a database\n",
    "SQL can update records in a database\n",
    "SQL can delete records from a database\n",
    "SQL can create new databases\n",
    "SQL can create new tables in a database\n",
    "SQL can create stored procedures in a database\n",
    "SQL can create views in a database\n",
    "SQL can set permissions on tables, procedures, and views"
   ]
  },
  {
   "cell_type": "markdown",
   "id": "20484f26",
   "metadata": {},
   "source": [
    "RDBMS\n",
    "\n",
    "RDBMS stands for Relational Database Management System.\n",
    "\n",
    "RDBMS is the basis for SQL, and for all modern database systems such as MS SQL Server, IBM DB2, Oracle, MySQL, and Microsoft Access.\n",
    "\n",
    "The data in RDBMS is stored in database objects called tables. A table is a collection of related data entries and it consists of columns and rows."
   ]
  },
  {
   "cell_type": "markdown",
   "id": "aeb66670",
   "metadata": {},
   "source": [
    "Every table is broken up into smaller entities called fields.\n",
    "\n",
    "A field is a column in a table that is designed to maintain specific information about every record in the table.\n",
    "\n",
    "A record, also called a row, is each individual entry that exists in a table.\n",
    "\n",
    "A record is a horizontal entity in a table.\n",
    "\n",
    "A column is a vertical entity in a table that contains all information associated with a specific field in a table."
   ]
  },
  {
   "cell_type": "markdown",
   "id": "890717a3",
   "metadata": {},
   "source": [
    "Database Tables\n",
    "\n",
    "A database most often contains one or more tables. Each table is identified by a name (e.g. \"Customers\" or \"Orders\"), and contain records (rows) with data."
   ]
  },
  {
   "cell_type": "markdown",
   "id": "81f7acac",
   "metadata": {},
   "source": [
    "Keep in Mind That...\n",
    "\n",
    "SQL keywords are NOT case sensitive: select is the same as SELECT"
   ]
  },
  {
   "cell_type": "markdown",
   "id": "aeef703f",
   "metadata": {},
   "source": [
    "Semicolon after SQL Statements?\n",
    "\n",
    "Some database systems require a semicolon at the end of each SQL statement.\n",
    "\n",
    "Semicolon is the standard way to separate each SQL statement in database systems that allow more than one SQL statement to be executed in the same call to the server."
   ]
  },
  {
   "cell_type": "markdown",
   "id": "2af4955d",
   "metadata": {},
   "source": [
    "Some of The Most Important SQL Commands\n",
    "SELECT - extracts data from a database\n",
    "UPDATE - updates data in a database\n",
    "DELETE - deletes data from a database\n",
    "INSERT INTO - inserts new data into a database\n",
    "CREATE DATABASE - creates a new database\n",
    "ALTER DATABASE - modifies a database\n",
    "CREATE TABLE - creates a new table\n",
    "ALTER TABLE - modifies a table\n",
    "DROP TABLE - deletes a table\n",
    "CREATE INDEX - creates an index (search key)\n",
    "DROP INDEX - deletes an index"
   ]
  },
  {
   "cell_type": "markdown",
   "id": "ba5e8c64",
   "metadata": {},
   "source": [
    "SQL SELECT Statement\n",
    "\n",
    "The SQL SELECT Statement\n",
    "\n",
    "The SELECT statement is used to select data from a database."
   ]
  },
  {
   "cell_type": "markdown",
   "id": "5dc5e8ce",
   "metadata": {},
   "source": [
    "Syntax\n",
    "SELECT column1, column2, ...\n",
    "FROM table_name;\n",
    "\n",
    "Here, column1, column2, ... are the field names of the table you want to select data from.\n",
    "\n",
    "The table_name represents the name of the table you want to select data from.\n",
    "\n",
    "\n",
    "Return data from the Customers table:\n",
    "\n",
    "SELECT CustomerName, City\n",
    "FROM Customers;"
   ]
  },
  {
   "cell_type": "markdown",
   "id": "f8f88a5b",
   "metadata": {},
   "source": [
    "Select ALL columns\n",
    "If you want to return all columns, without specifying every column name, you can use the SELECT * syntax:\n",
    "\n",
    "Example\n",
    "Return all the columns from the Sales table:\n",
    "\n",
    "SELECT * FROM Sales;"
   ]
  },
  {
   "cell_type": "markdown",
   "id": "bc49fa06",
   "metadata": {},
   "source": [
    "The SQL SELECT DISTINCT Statement\n",
    "\n",
    "The SELECT DISTINCT statement is used to return only distinct (different) values."
   ]
  },
  {
   "cell_type": "markdown",
   "id": "5dd13a8f",
   "metadata": {},
   "source": [
    "Syntax\n",
    "\n",
    "SELECT DISTINCT column1, column2, ...\n",
    "FROM table_name;"
   ]
  },
  {
   "cell_type": "markdown",
   "id": "3c3665af",
   "metadata": {},
   "source": [
    "Select all the different countries from the \"Customers\" table:\n",
    "\n",
    "SELECT DISTINCT Country FROM Customers;\n",
    "\n",
    "\n",
    "Inside a table, a column often contains many duplicate values; and sometimes you only want to list the different (distinct) values."
   ]
  },
  {
   "cell_type": "markdown",
   "id": "dae039cd",
   "metadata": {},
   "source": [
    "Count Distinct\n",
    "\n",
    "By using the DISTINCT keyword in a function called COUNT, we can return the number of different countries."
   ]
  },
  {
   "cell_type": "markdown",
   "id": "f799bb0e",
   "metadata": {},
   "source": [
    "SELECT COUNT(DISTINCT Country)\n",
    "FROM Customers;"
   ]
  },
  {
   "cell_type": "markdown",
   "id": "4e855510",
   "metadata": {},
   "source": [
    "The SQL WHERE Clause\n",
    "\n",
    "The WHERE clause is used to filter records.\n",
    "\n",
    "It is used to extract only those records that fulfill a specified condition."
   ]
  },
  {
   "cell_type": "markdown",
   "id": "04e19512",
   "metadata": {},
   "source": [
    "Text Fields vs. Numeric Fields\n",
    "\n",
    "SQL requires single quotes around text values (most database systems will also allow double quotes).\n",
    "\n",
    "However, numeric fields should not be enclosed in quotes:"
   ]
  },
  {
   "cell_type": "markdown",
   "id": "87f29253",
   "metadata": {},
   "source": [
    "The following operators can be used in the WHERE clause:\n",
    "\n",
    "Operator\tDescription\tExample\n",
    "=\t        Equal\t\n",
    ">\t        Greater than\t\n",
    "<\t        Less than\t\n",
    ">=\t        Greater than or equal\t\n",
    "<=\t        Less than or equal\t\n",
    "<>\t        Not equal. Note: In some versions of SQL this operator may be written as !=\t\n",
    "BETWEEN\t    Between a certain range\t\n",
    "LIKE\t    Search for a pattern\t\n",
    "IN\t        To specify multiple possible values for a column"
   ]
  },
  {
   "cell_type": "markdown",
   "id": "143f8624",
   "metadata": {},
   "source": [
    "The SQL ORDER BY\n",
    "\n",
    "The ORDER BY keyword is used to sort the result-set in ascending or descending order."
   ]
  },
  {
   "cell_type": "markdown",
   "id": "7d76d3df",
   "metadata": {},
   "source": [
    "Sort the products by price:\n",
    "\n",
    "SELECT *\n",
    "FROM customers\n",
    "ORDER BY customer_id;"
   ]
  },
  {
   "cell_type": "markdown",
   "id": "f8bc46ee",
   "metadata": {},
   "source": [
    "Syntax\n",
    "\n",
    "SELECT column1, column2, ...\n",
    "FROM table_name\n",
    "ORDER BY column1, column2, ... ASC|DESC;"
   ]
  },
  {
   "cell_type": "markdown",
   "id": "3c859dcb",
   "metadata": {},
   "source": [
    "DESC\n",
    "\n",
    "The ORDER BY keyword sorts the records in ascending order by default. To sort the records in descending order, use the DESC keyword."
   ]
  },
  {
   "cell_type": "markdown",
   "id": "2a02ece3",
   "metadata": {},
   "source": [
    "Sort the products from highest to lowest price:\n",
    "\n",
    "SELECT * \n",
    "FROM Products\n",
    "ORDER BY Price DESC;"
   ]
  },
  {
   "cell_type": "markdown",
   "id": "655c8be7",
   "metadata": {},
   "source": [
    "The SQL AND Operator\n",
    "\n",
    "The WHERE clause can contain one or many AND operators.\n",
    "\n",
    "The AND operator is used to filter records based on more than one condition, like if you want to return all customers from Spain that starts with the letter 'G':"
   ]
  },
  {
   "cell_type": "markdown",
   "id": "64a1c18c",
   "metadata": {},
   "source": [
    "Select all customers from Spain that starts with the letter 'G':\n",
    "\n",
    "SELECT *\n",
    "FROM Customers\n",
    "WHERE Country = 'Spain' AND CustomerName LIKE 'G%';"
   ]
  },
  {
   "cell_type": "markdown",
   "id": "2c3ee5b1",
   "metadata": {},
   "source": [
    "Syntax\n",
    "\n",
    "SELECT column1, column2, ...\n",
    "FROM table_name\n",
    "WHERE condition1 AND condition2 AND condition3 ...;"
   ]
  },
  {
   "cell_type": "markdown",
   "id": "3a2eb763",
   "metadata": {},
   "source": [
    "AND vs OR\n",
    "\n",
    "The AND operator displays a record if all the conditions are TRUE.\n",
    "\n",
    "The OR operator displays a record if any of the conditions are TRUE."
   ]
  },
  {
   "cell_type": "markdown",
   "id": "c2951d7a",
   "metadata": {},
   "source": [
    "The SQL OR Operator\n",
    "\n",
    "The WHERE clause can contain one or more OR operators.\n",
    "\n",
    "The OR operator is used to filter records based on more than one condition, like if you want to return all customers from Germany but also those from Spain:"
   ]
  },
  {
   "cell_type": "markdown",
   "id": "3bc8bd86",
   "metadata": {},
   "source": [
    "Syntax\n",
    "\n",
    "SELECT column1, column2, ...\n",
    "FROM table_name\n",
    "WHERE condition1 OR condition2 OR condition3 ...;"
   ]
  },
  {
   "cell_type": "markdown",
   "id": "fae8ad5b",
   "metadata": {},
   "source": [
    "At Least One Condition Must Be True\n",
    "\n",
    "The following SQL statement selects all fields from Customers where either City is \"Berlin\", CustomerName starts with the letter \"G\" or Country is \"Norway\":"
   ]
  },
  {
   "cell_type": "markdown",
   "id": "ebf55738",
   "metadata": {},
   "source": [
    "SELECT * \n",
    "FROM Customers\n",
    "WHERE City = 'Berlin' OR CustomerName LIKE 'G%' OR Country = 'Norway';"
   ]
  },
  {
   "cell_type": "markdown",
   "id": "cf7581e8",
   "metadata": {},
   "source": [
    "Combining AND and OR\n",
    "\n",
    "You can combine the AND and OR operators.\n",
    "\n",
    "The following SQL statement selects all customers from Spain that starts with a \"G\" or an \"R\".\n",
    "\n",
    "Make sure you use parenthesis to get the correct result."
   ]
  },
  {
   "cell_type": "markdown",
   "id": "7a8378e9",
   "metadata": {},
   "source": [
    "Select all Spanish customers that starts with either \"G\" or \"R\":\n",
    "\n",
    "SELECT * \n",
    "FROM Customers\n",
    "WHERE Country = 'Spain' AND (CustomerName LIKE 'G%' OR CustomerName LIKE 'R%');"
   ]
  },
  {
   "cell_type": "markdown",
   "id": "80a42df5",
   "metadata": {},
   "source": [
    "The NOT Operator\n",
    "\n",
    "The NOT operator is used in combination with other operators to give the opposite result, also called the negative result.\n",
    "\n",
    "In the select statement below we want to return all customers that are NOT from Spain:"
   ]
  },
  {
   "cell_type": "markdown",
   "id": "87b12101",
   "metadata": {},
   "source": [
    "Select only the customers that are NOT from Spain:\n",
    "\n",
    "SELECT * \n",
    "FROM Customers\n",
    "WHERE NOT Country = 'Spain';"
   ]
  },
  {
   "cell_type": "markdown",
   "id": "b2b3b8cf",
   "metadata": {},
   "source": [
    "Syntax\n",
    "\n",
    "SELECT column1, column2, ...\n",
    "FROM table_name\n",
    "WHERE NOT condition;"
   ]
  },
  {
   "cell_type": "markdown",
   "id": "115a567b",
   "metadata": {},
   "source": [
    "Select customers that does not start with the letter 'A':\n",
    "\n",
    "SELECT * \n",
    "FROM Customers\n",
    "WHERE CustomerName NOT LIKE 'A%';"
   ]
  }
 ],
 "metadata": {
  "language_info": {
   "name": "python"
  }
 },
 "nbformat": 4,
 "nbformat_minor": 5
}
