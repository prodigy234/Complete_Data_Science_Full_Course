{
 "cells": [
  {
   "cell_type": "markdown",
   "metadata": {},
   "source": [
    "# SQL for Data Analytics\n",
    "This comprehensive guide is designed to teach students the foundational and advanced concepts of SQL for data analytics. It includes detailed explanations of SQL data types, keys, terminologies, and practical use cases.\n"
   ]
  },
  {
   "cell_type": "markdown",
   "metadata": {},
   "source": [
    "## 📘 SQL Data Types\n",
    "SQL data types define the kind of value a column can hold. Here's a breakdown of the most commonly used SQL data types:\n"
   ]
  },
  {
   "cell_type": "markdown",
   "metadata": {},
   "source": [
    "### 1. Numeric Data Types\n",
    "- `INT`, `INTEGER`: Whole numbers (e.g., 1, 100). Used when you don’t need decimal places.\n",
    "- `SMALLINT`, `TINYINT`, `BIGINT`: Variations for smaller or larger ranges of integers.\n",
    "- `DECIMAL(p, s)`, `NUMERIC(p, s)`: Fixed-point numbers with precision `p` and scale `s`. Great for financial data.\n",
    "- `FLOAT`, `REAL`, `DOUBLE`: Approximate floating-point values. Used for scientific calculations.\n"
   ]
  },
  {
   "cell_type": "markdown",
   "metadata": {},
   "source": [
    "### 2. String Data Types\n",
    "- `CHAR(n)`: Fixed-length string. Efficient when all entries are the same length.\n",
    "- `VARCHAR(n)`: Variable-length string. Ideal for text fields like names, emails.\n",
    "- `TEXT`: Large blocks of text. Use when length is unpredictable.\n"
   ]
  },
  {
   "cell_type": "markdown",
   "metadata": {},
   "source": [
    "### 3. Date and Time Data Types\n",
    "- `DATE`: Stores date (YYYY-MM-DD).\n",
    "- `TIME`: Stores time (HH:MM:SS).\n",
    "- `DATETIME`, `TIMESTAMP`: Combination of date and time.\n",
    "- `YEAR`: Stores a year (e.g., 2025).\n",
    "Use these types for logging activities, scheduling, etc.\n"
   ]
  },
  {
   "cell_type": "markdown",
   "metadata": {},
   "source": [
    "### 4. Boolean Type\n",
    "- `BOOLEAN`: Stores TRUE or FALSE values. Useful for binary states like is_active, is_deleted.\n"
   ]
  },
  {
   "cell_type": "markdown",
   "metadata": {},
   "source": [
    "## 🔑 SQL Keys & Constraints\n",
    "Keys ensure data integrity and enable relationships between tables.\n"
   ]
  },
  {
   "cell_type": "markdown",
   "metadata": {},
   "source": [
    "- **Primary Key**: Uniquely identifies each row. Must be unique and not null.\n",
    "- **Foreign Key**: Creates a link between tables. Must match a primary key in the referenced table.\n",
    "- **Unique Key**: Ensures all values in a column are different.\n",
    "- **Composite Key**: Combines multiple columns to create a unique key.\n",
    "- **Not Null**: Ensures a column cannot have NULL values.\n",
    "- **Check**: Enforces a condition on column values.\n",
    "- **Default**: Assigns a default value if none is provided.\n"
   ]
  },
  {
   "cell_type": "markdown",
   "metadata": {},
   "source": [
    "## 📌 Common SQL Terminologies\n",
    "- **DDL (Data Definition Language)**: CREATE, ALTER, DROP\n",
    "- **DML (Data Manipulation Language)**: SELECT, INSERT, UPDATE, DELETE\n",
    "- **DCL (Data Control Language)**: GRANT, REVOKE\n",
    "- **TCL (Transaction Control Language)**: COMMIT, ROLLBACK, SAVEPOINT\n",
    "- **Index**: Used to speed up retrieval. Acts like a book index.\n",
    "- **View**: A virtual table based on the result of a query.\n",
    "- **Stored Procedure**: SQL code that can be saved and reused.\n",
    "- **Trigger**: SQL code executed automatically in response to events.\n"
   ]
  },
  {
   "cell_type": "markdown",
   "metadata": {},
   "source": [
    "## 💡 Use Cases & Examples\n",
    "### Example: Creating a table for a sales database\n",
    "```sql\n",
    "CREATE TABLE Sales (\n",
    "    SaleID INT PRIMARY KEY,\n",
    "    ProductName VARCHAR(100),\n",
    "    SaleDate DATE,\n",
    "    Quantity INT,\n",
    "    Price DECIMAL(10,2),\n",
    "    CustomerID INT,\n",
    "    FOREIGN KEY (CustomerID) REFERENCES Customers(CustomerID)\n",
    ");\n",
    "```\n",
    "### Example: Querying with conditions\n",
    "```sql\n",
    "SELECT ProductName, Price FROM Sales\n",
    "WHERE Quantity > 2 AND SaleDate > '2024-01-01';\n",
    "```\n",
    "### Example: Joining tables\n",
    "```sql\n",
    "SELECT Customers.Name, Sales.ProductName\n",
    "FROM Customers\n",
    "JOIN Sales ON Customers.CustomerID = Sales.CustomerID;\n",
    "```\n"
   ]
  }
 ],
 "metadata": {
  "kernelspec": {
   "display_name": "Python 3",
   "language": "python",
   "name": "python3"
  },
  "language_info": {
   "name": "python",
   "version": "3.12.7"
  }
 },
 "nbformat": 4,
 "nbformat_minor": 5
}
