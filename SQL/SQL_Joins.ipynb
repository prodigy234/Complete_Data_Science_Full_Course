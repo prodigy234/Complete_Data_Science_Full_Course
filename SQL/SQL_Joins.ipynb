{
 "cells": [
  {
   "cell_type": "markdown",
   "id": "b1cffed2",
   "metadata": {},
   "source": [
    "# SQL Joins"
   ]
  },
  {
   "cell_type": "markdown",
   "id": "49dd4b87",
   "metadata": {},
   "source": [
    "A JOIN clause is used to combine rows from two or more tables, based on a related column between them."
   ]
  },
  {
   "cell_type": "markdown",
   "id": "210d4578",
   "metadata": {},
   "source": [
    "## Different Types of SQL JOINs\n",
    "Here are the different types of the JOINs in SQL:\n",
    "\n",
    "- (INNER) JOIN: Returns records that have matching values in both tables\n",
    "- LEFT (OUTER) JOIN: Returns all records from the left table, and the matched records from the right table\n",
    "- RIGHT (OUTER) JOIN: Returns all records from the right table, and the matched records from the left table\n",
    "- FULL (OUTER) JOIN: Returns all records when there is a match in either left or right table"
   ]
  },
  {
   "cell_type": "markdown",
   "id": "4edea0cc",
   "metadata": {},
   "source": [
    "# SQL INNER JOIN"
   ]
  },
  {
   "cell_type": "markdown",
   "id": "18035976",
   "metadata": {},
   "source": [
    "## INNER JOIN\n",
    "The INNER JOIN keyword selects records that have matching values in both tables."
   ]
  },
  {
   "cell_type": "markdown",
   "id": "e57f9596",
   "metadata": {},
   "source": [
    "**Note: The INNER JOIN keyword returns only rows with a match in both tables.**"
   ]
  },
  {
   "cell_type": "markdown",
   "id": "4135bfbc",
   "metadata": {},
   "source": [
    "Syntax\n",
    "```\n",
    "SELECT column_name(s)\n",
    "\n",
    "FROM table1\n",
    "\n",
    "INNER JOIN table2\n",
    "\n",
    "ON table1.column_name = table2.column_name;\n",
    "```"
   ]
  },
  {
   "cell_type": "markdown",
   "id": "3a8c67e4",
   "metadata": {},
   "source": [
    "### Naming the Columns\n",
    "It is a good practice to include the table name when specifying columns in the SQL statement.\n",
    "\n",
    "Example\n",
    "\n",
    "**Specify the table names:**\n",
    "\n",
    "SELECT Products.ProductID, Products.ProductName, Categories.CategoryName\n",
    "\n",
    "FROM Products\n",
    "\n",
    "INNER JOIN Categories ON Products.CategoryID = Categories.CategoryID;"
   ]
  },
  {
   "cell_type": "markdown",
   "id": "f22913af",
   "metadata": {},
   "source": [
    "- The example above works without specifying table names, because none of the specified column names are present in both tables. \n",
    "- If you try to include CategoryID in the SELECT statement, you will get an error if you do not specify the table name (because CategoryID is present in both tables)."
   ]
  },
  {
   "cell_type": "markdown",
   "id": "5f57a1c8",
   "metadata": {},
   "source": [
    "# JOIN or INNER JOIN\n",
    "JOIN and INNER JOIN will return the same result.\n",
    "\n",
    "INNER is the default join type for JOIN, so when you write JOIN the parser actually writes INNER JOIN."
   ]
  },
  {
   "cell_type": "markdown",
   "id": "7090c656",
   "metadata": {},
   "source": [
    "Example\n",
    "\n",
    "**JOIN is the same as INNER JOIN:**\n",
    "```\n",
    "SELECT Products.ProductID, Products.ProductName, Categories.CategoryName\n",
    "\n",
    "FROM Products\n",
    "\n",
    "JOIN Categories \n",
    "\n",
    "ON Products.CategoryID = Categories.CategoryID;\n",
    "```"
   ]
  },
  {
   "cell_type": "markdown",
   "id": "80fdb9d3",
   "metadata": {},
   "source": [
    "### JOIN Three Tables"
   ]
  },
  {
   "cell_type": "markdown",
   "id": "ffdb3b77",
   "metadata": {},
   "source": [
    "- Example\n",
    "```\n",
    "SELECT Orders.OrderID, Customers.CustomerName, Shippers.ShipperName\n",
    "\n",
    "FROM ((Orders\n",
    "\n",
    "INNER JOIN Customers ON Orders.CustomerID = Customers.CustomerID)\n",
    "\n",
    "INNER JOIN Shippers ON Orders.ShipperID = Shippers.ShipperID);\n",
    "```"
   ]
  },
  {
   "cell_type": "markdown",
   "id": "80704fcd",
   "metadata": {},
   "source": [
    "# SQL LEFT JOIN"
   ]
  },
  {
   "cell_type": "markdown",
   "id": "7970243b",
   "metadata": {},
   "source": [
    "The LEFT JOIN keyword returns all records from the left table (table1), and the matching records from the right table (table2). The result is 0 records from the right side, if there is no match."
   ]
  },
  {
   "cell_type": "markdown",
   "id": "d8434344",
   "metadata": {},
   "source": [
    "LEFT JOIN Syntax\n",
    "```\n",
    "SELECT column_name(s)\n",
    "\n",
    "FROM table1\n",
    "\n",
    "LEFT JOIN table2\n",
    "\n",
    "ON table1.column_name = table2.column_name;\n",
    "```"
   ]
  },
  {
   "cell_type": "markdown",
   "id": "dd8e08be",
   "metadata": {},
   "source": [
    "**Note: In some databases LEFT JOIN is called LEFT OUTER JOIN.**"
   ]
  },
  {
   "cell_type": "markdown",
   "id": "1e3490d0",
   "metadata": {},
   "source": [
    "SQL LEFT JOIN Example\n",
    "\n",
    "**The following SQL statement will select all customers, and any orders they might have:**\n",
    "\n",
    "Example\n",
    "\n",
    "```\n",
    "SELECT Customers.CustomerName, Orders.OrderID\n",
    "\n",
    "FROM Customers\n",
    "\n",
    "LEFT JOIN Orders ON Customers.CustomerID = Orders.CustomerID\n",
    "\n",
    "ORDER BY Customers.CustomerName;\n",
    "```\n",
    "\n",
    "**Note: The LEFT JOIN keyword returns all records from the left table (Customers), even if there are no matches in the right table (Orders).**\n"
   ]
  },
  {
   "cell_type": "markdown",
   "id": "22ce7d62",
   "metadata": {},
   "source": [
    "# SQL RIGHT JOIN\n",
    "\n",
    "The RIGHT JOIN keyword returns all records from the right table (table2), and the matching records from the left table (table1). The result is 0 records from the left side, if there is no match."
   ]
  },
  {
   "cell_type": "markdown",
   "id": "f70ef02a",
   "metadata": {},
   "source": [
    "RIGHT JOIN Syntax\n",
    "\n",
    "```\n",
    "SELECT column_name(s)\n",
    "\n",
    "FROM table1\n",
    "\n",
    "RIGHT JOIN table2\n",
    "\n",
    "ON table1.column_name = table2.column_name;\n",
    "```"
   ]
  },
  {
   "cell_type": "markdown",
   "id": "ae622fd1",
   "metadata": {},
   "source": [
    "**Note: In some databases RIGHT JOIN is called RIGHT OUTER JOIN.**"
   ]
  },
  {
   "cell_type": "markdown",
   "id": "1202f7fb",
   "metadata": {},
   "source": [
    "SQL RIGHT JOIN Example\n",
    "\n",
    "**The following SQL statement will return all employees, and any orders they might have placed:**\n",
    "\n",
    "Example\n",
    "\n",
    "```\n",
    "SELECT Orders.OrderID, Employees.LastName, Employees.FirstName\n",
    "\n",
    "FROM Orders\n",
    "\n",
    "RIGHT JOIN Employees ON Orders.EmployeeID = Employees.EmployeeID\n",
    "\n",
    "ORDER BY Orders.OrderID;\n",
    "```"
   ]
  },
  {
   "cell_type": "markdown",
   "id": "4c8a828b",
   "metadata": {},
   "source": [
    "**Note: The RIGHT JOIN keyword returns all records from the right table (Employees), even if there are no matches in the left table (Orders).**"
   ]
  },
  {
   "cell_type": "markdown",
   "id": "d71ef105",
   "metadata": {},
   "source": [
    "# SQL FULL OUTER JOIN\n",
    "\n",
    "The FULL OUTER JOIN keyword returns all records when there is a match in left (table1) or right (table2) table records.\n",
    "\n",
    "**Tip: FULL OUTER JOIN and FULL JOIN are the same.**"
   ]
  },
  {
   "cell_type": "markdown",
   "id": "a9c61c80",
   "metadata": {},
   "source": [
    "FULL OUTER JOIN Syntax\n",
    "```\n",
    "SELECT column_name(s)\n",
    "\n",
    "FROM table1\n",
    "\n",
    "FULL OUTER JOIN table2\n",
    "\n",
    "ON table1.column_name = table2.column_name\n",
    "\n",
    "WHERE condition;\n",
    "```\n",
    "\n",
    "**Note: FULL OUTER JOIN can potentially return very large result-sets!**"
   ]
  },
  {
   "cell_type": "markdown",
   "id": "a1cd69ba",
   "metadata": {},
   "source": [
    "SQL FULL OUTER JOIN Example\n",
    "\n",
    "**The following SQL statement selects all customers, and all orders:**\n",
    "\n",
    "```\n",
    "SELECT Customers.CustomerName, Orders.OrderID\n",
    "\n",
    "FROM Customers\n",
    "\n",
    "FULL OUTER JOIN Orders ON Customers.CustomerID=Orders.CustomerID\n",
    "\n",
    "ORDER BY Customers.CustomerName;\n",
    "```"
   ]
  },
  {
   "cell_type": "markdown",
   "id": "23bbc5c8",
   "metadata": {},
   "source": [
    "**Note: The FULL OUTER JOIN keyword returns all matching records from both tables whether the other table matches or not.**\n",
    " \n",
    "**So, if there are rows in \"Customers\" that do not have matches in \"Orders\", or if there are rows in \"Orders\" that do not have matches in \"Customers\", those rows will be listed as well.**"
   ]
  },
  {
   "cell_type": "markdown",
   "id": "6dd563c5",
   "metadata": {},
   "source": [
    "# SQL Self Join\n",
    "\n",
    "A self join is a regular join, but the table is joined with itself."
   ]
  },
  {
   "cell_type": "markdown",
   "id": "d5cf7a12",
   "metadata": {},
   "source": [
    "Self Join Syntax\n",
    "\n",
    "```\n",
    "SELECT column_name(s)\n",
    "\n",
    "FROM table1 T1, table1 T2\n",
    "\n",
    "WHERE condition;\n",
    "```\n",
    "\n",
    "**T1 and T2 are different table aliases for the same table.**"
   ]
  },
  {
   "cell_type": "markdown",
   "id": "5c67ec1b",
   "metadata": {},
   "source": [
    "SQL Self Join Example\n",
    "\n",
    "**The following SQL statement matches customers that are from the same city:**\n",
    "\n",
    "Example\n",
    "```\n",
    "SELECT A.CustomerName AS CustomerName1, B.CustomerName AS CustomerName2, A.City\n",
    "\n",
    "FROM Customers A, Customers B\n",
    "\n",
    "WHERE A.CustomerID <> B.CustomerID\n",
    "\n",
    "AND A.City = B.City\n",
    "\n",
    "ORDER BY A.City;\n",
    "```"
   ]
  }
 ],
 "metadata": {
  "language_info": {
   "name": "python"
  }
 },
 "nbformat": 4,
 "nbformat_minor": 5
}
