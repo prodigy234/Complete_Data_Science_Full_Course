{
 "cells": [
  {
   "cell_type": "markdown",
   "id": "1b75f6c9",
   "metadata": {},
   "source": [
    "SQL is a standard language for storing, manipulating and retrieving data in databases.\n",
    "\n",
    "Our SQL tutorial will teach you how to use SQL in: MySQL, SQL Server, MS Access, Oracle, Sybase, Informix, Postgres, and other database systems."
   ]
  },
  {
   "cell_type": "markdown",
   "id": "14deecd2",
   "metadata": {},
   "source": [
    "SQL is a standard language for accessing and manipulating databases.\n",
    "\n",
    "What is SQL?\n",
    "\n",
    "SQL stands for Structured Query Language\n",
    "\n",
    "SQL lets you access and manipulate databases\n",
    "SQL became a standard of the American National Standards Institute (ANSI) in 1986, and of the International Organization for Standardization (ISO) in 1987"
   ]
  },
  {
   "cell_type": "markdown",
   "id": "857230f7",
   "metadata": {},
   "source": [
    "What Can SQL do?\n",
    "\n",
    "SQL can execute queries against a database\n",
    "SQL can retrieve data from a database\n",
    "SQL can insert records in a database\n",
    "SQL can update records in a database\n",
    "SQL can delete records from a database\n",
    "SQL can create new databases\n",
    "SQL can create new tables in a database\n",
    "SQL can create stored procedures in a database\n",
    "SQL can create views in a database\n",
    "SQL can set permissions on tables, procedures, and views"
   ]
  },
  {
   "cell_type": "markdown",
   "id": "20484f26",
   "metadata": {},
   "source": [
    "RDBMS\n",
    "\n",
    "RDBMS stands for Relational Database Management System.\n",
    "\n",
    "RDBMS is the basis for SQL, and for all modern database systems such as MS SQL Server, IBM DB2, Oracle, MySQL, and Microsoft Access.\n",
    "\n",
    "The data in RDBMS is stored in database objects called tables. A table is a collection of related data entries and it consists of columns and rows."
   ]
  },
  {
   "cell_type": "markdown",
   "id": "aeb66670",
   "metadata": {},
   "source": [
    "Every table is broken up into smaller entities called fields.\n",
    "\n",
    "A field is a column in a table that is designed to maintain specific information about every record in the table.\n",
    "\n",
    "A record, also called a row, is each individual entry that exists in a table.\n",
    "\n",
    "A record is a horizontal entity in a table.\n",
    "\n",
    "A column is a vertical entity in a table that contains all information associated with a specific field in a table."
   ]
  },
  {
   "cell_type": "markdown",
   "id": "890717a3",
   "metadata": {},
   "source": [
    "Database Tables\n",
    "\n",
    "A database most often contains one or more tables. Each table is identified by a name (e.g. \"Customers\" or \"Orders\"), and contain records (rows) with data."
   ]
  },
  {
   "cell_type": "markdown",
   "id": "81f7acac",
   "metadata": {},
   "source": [
    "Keep in Mind That...\n",
    "\n",
    "SQL keywords are NOT case sensitive: select is the same as SELECT"
   ]
  },
  {
   "cell_type": "markdown",
   "id": "aeef703f",
   "metadata": {},
   "source": [
    "Semicolon after SQL Statements?\n",
    "\n",
    "Some database systems require a semicolon at the end of each SQL statement.\n",
    "\n",
    "Semicolon is the standard way to separate each SQL statement in database systems that allow more than one SQL statement to be executed in the same call to the server."
   ]
  },
  {
   "cell_type": "markdown",
   "id": "2af4955d",
   "metadata": {},
   "source": [
    "Some of The Most Important SQL Commands\n",
    "SELECT - extracts data from a database\n",
    "UPDATE - updates data in a database\n",
    "DELETE - deletes data from a database\n",
    "INSERT INTO - inserts new data into a database\n",
    "CREATE DATABASE - creates a new database\n",
    "ALTER DATABASE - modifies a database\n",
    "CREATE TABLE - creates a new table\n",
    "ALTER TABLE - modifies a table\n",
    "DROP TABLE - deletes a table\n",
    "CREATE INDEX - creates an index (search key)\n",
    "DROP INDEX - deletes an index"
   ]
  },
  {
   "cell_type": "markdown",
   "id": "ba5e8c64",
   "metadata": {},
   "source": [
    "SQL SELECT Statement\n",
    "\n",
    "The SQL SELECT Statement\n",
    "\n",
    "The SELECT statement is used to select data from a database."
   ]
  },
  {
   "cell_type": "markdown",
   "id": "5dc5e8ce",
   "metadata": {},
   "source": [
    "Syntax\n",
    "SELECT column1, column2, ...\n",
    "FROM table_name;\n",
    "\n",
    "Here, column1, column2, ... are the field names of the table you want to select data from.\n",
    "\n",
    "The table_name represents the name of the table you want to select data from.\n",
    "\n",
    "\n",
    "Return data from the Customers table:\n",
    "\n",
    "SELECT CustomerName, City\n",
    "FROM Customers;"
   ]
  },
  {
   "cell_type": "markdown",
   "id": "f8f88a5b",
   "metadata": {},
   "source": [
    "Select ALL columns\n",
    "If you want to return all columns, without specifying every column name, you can use the SELECT * syntax:\n",
    "\n",
    "Example\n",
    "Return all the columns from the Sales table:\n",
    "\n",
    "SELECT * \n",
    "FROM Sales;"
   ]
  },
  {
   "cell_type": "markdown",
   "id": "bc49fa06",
   "metadata": {},
   "source": [
    "The SQL SELECT DISTINCT Statement\n",
    "\n",
    "The SELECT DISTINCT statement is used to return only distinct (different) values."
   ]
  },
  {
   "cell_type": "markdown",
   "id": "5dd13a8f",
   "metadata": {},
   "source": [
    "Syntax\n",
    "\n",
    "SELECT DISTINCT column1, column2, ...\n",
    "FROM table_name;"
   ]
  },
  {
   "cell_type": "markdown",
   "id": "3c3665af",
   "metadata": {},
   "source": [
    "Select all the different countries from the \"Customers\" table:\n",
    "\n",
    "SELECT DISTINCT Country \n",
    "FROM Customers;\n",
    "\n",
    "\n",
    "Inside a table, a column often contains many duplicate values; and sometimes you only want to list the different (distinct) values."
   ]
  },
  {
   "cell_type": "markdown",
   "id": "dae039cd",
   "metadata": {},
   "source": [
    "Count Distinct\n",
    "\n",
    "By using the DISTINCT keyword in a function called COUNT, we can return the number of different countries."
   ]
  },
  {
   "cell_type": "markdown",
   "id": "f799bb0e",
   "metadata": {},
   "source": [
    "SELECT COUNT(DISTINCT Country)\n",
    "FROM Customers;"
   ]
  },
  {
   "cell_type": "markdown",
   "id": "4e855510",
   "metadata": {},
   "source": [
    "The SQL WHERE Clause\n",
    "\n",
    "The WHERE clause is used to filter records.\n",
    "\n",
    "It is used to extract only those records that fulfill a specified condition."
   ]
  },
  {
   "cell_type": "markdown",
   "id": "04e19512",
   "metadata": {},
   "source": [
    "Text Fields vs. Numeric Fields\n",
    "\n",
    "SQL requires single quotes around text values (most database systems will also allow double quotes).\n",
    "\n",
    "However, numeric fields should not be enclosed in quotes:"
   ]
  },
  {
   "cell_type": "markdown",
   "id": "87f29253",
   "metadata": {},
   "source": [
    "The following operators can be used in the WHERE clause:\n",
    "\n",
    "Operator\tDescription\tExample\n",
    "=\t        Equal\t\n",
    ">\t        Greater than\t\n",
    "<\t        Less than\t\n",
    ">=\t        Greater than or equal\t\n",
    "<=\t        Less than or equal\t\n",
    "<>\t        Not equal. Note: In some versions of SQL this operator may be written as !=\t\n",
    "BETWEEN\t    Between a certain range\t\n",
    "LIKE\t    Search for a pattern\t\n",
    "IN\t        To specify multiple possible values for a column"
   ]
  },
  {
   "cell_type": "markdown",
   "id": "143f8624",
   "metadata": {},
   "source": [
    "The SQL ORDER BY\n",
    "\n",
    "The ORDER BY keyword is used to sort the result-set in ascending or descending order."
   ]
  },
  {
   "cell_type": "markdown",
   "id": "7d76d3df",
   "metadata": {},
   "source": [
    "Sort the products by price:\n",
    "\n",
    "SELECT *\n",
    "FROM customers\n",
    "ORDER BY customer_id;"
   ]
  },
  {
   "cell_type": "markdown",
   "id": "f8bc46ee",
   "metadata": {},
   "source": [
    "Syntax\n",
    "\n",
    "SELECT column1, column2, ...\n",
    "FROM table_name\n",
    "ORDER BY column1, column2, ... ASC|DESC;"
   ]
  },
  {
   "cell_type": "markdown",
   "id": "3c859dcb",
   "metadata": {},
   "source": [
    "DESC\n",
    "\n",
    "The ORDER BY keyword sorts the records in ascending order by default. To sort the records in descending order, use the DESC keyword."
   ]
  },
  {
   "cell_type": "markdown",
   "id": "2a02ece3",
   "metadata": {},
   "source": [
    "Sort the products from highest to lowest price:\n",
    "\n",
    "SELECT * \n",
    "FROM Products\n",
    "ORDER BY Price DESC;"
   ]
  },
  {
   "cell_type": "markdown",
   "id": "655c8be7",
   "metadata": {},
   "source": [
    "The SQL AND Operator\n",
    "\n",
    "The WHERE clause can contain one or many AND operators.\n",
    "\n",
    "The AND operator is used to filter records based on more than one condition, like if you want to return all customers from Spain that starts with the letter 'G':"
   ]
  },
  {
   "cell_type": "markdown",
   "id": "64a1c18c",
   "metadata": {},
   "source": [
    "Select all customers from Spain that starts with the letter 'G':\n",
    "\n",
    "SELECT *\n",
    "FROM Customers\n",
    "WHERE Country = 'Spain' AND CustomerName LIKE 'G%';"
   ]
  },
  {
   "cell_type": "markdown",
   "id": "2c3ee5b1",
   "metadata": {},
   "source": [
    "Syntax\n",
    "\n",
    "SELECT column1, column2, ...\n",
    "FROM table_name\n",
    "WHERE condition1 AND condition2 AND condition3 ...;"
   ]
  },
  {
   "cell_type": "markdown",
   "id": "3a2eb763",
   "metadata": {},
   "source": [
    "AND vs OR\n",
    "\n",
    "The AND operator displays a record if all the conditions are TRUE.\n",
    "\n",
    "The OR operator displays a record if any of the conditions are TRUE."
   ]
  },
  {
   "cell_type": "markdown",
   "id": "c2951d7a",
   "metadata": {},
   "source": [
    "The SQL OR Operator\n",
    "\n",
    "The WHERE clause can contain one or more OR operators.\n",
    "\n",
    "The OR operator is used to filter records based on more than one condition, like if you want to return all customers from Germany but also those from Spain:"
   ]
  },
  {
   "cell_type": "markdown",
   "id": "3bc8bd86",
   "metadata": {},
   "source": [
    "Syntax\n",
    "\n",
    "SELECT column1, column2, ...\n",
    "FROM table_name\n",
    "WHERE condition1 OR condition2 OR condition3 ...;"
   ]
  },
  {
   "cell_type": "markdown",
   "id": "fae8ad5b",
   "metadata": {},
   "source": [
    "At Least One Condition Must Be True\n",
    "\n",
    "The following SQL statement selects all fields from Customers where either City is \"Berlin\", CustomerName starts with the letter \"G\" or Country is \"Norway\":"
   ]
  },
  {
   "cell_type": "markdown",
   "id": "ebf55738",
   "metadata": {},
   "source": [
    "SELECT * \n",
    "FROM Customers\n",
    "WHERE City = 'Berlin' OR CustomerName LIKE 'G%' OR Country = 'Norway';"
   ]
  },
  {
   "cell_type": "markdown",
   "id": "cf7581e8",
   "metadata": {},
   "source": [
    "Combining AND and OR\n",
    "\n",
    "You can combine the AND and OR operators.\n",
    "\n",
    "The following SQL statement selects all customers from Spain that starts with a \"G\" or an \"R\".\n",
    "\n",
    "Make sure you use parenthesis to get the correct result."
   ]
  },
  {
   "cell_type": "markdown",
   "id": "7a8378e9",
   "metadata": {},
   "source": [
    "* Select all Spanish customers that starts with either \"G\" or \"R\":\n",
    "\n",
    "SELECT * \n",
    "FROM Customers\n",
    "WHERE Country = 'Spain' AND (CustomerName LIKE 'G%' OR CustomerName LIKE 'R%');"
   ]
  },
  {
   "cell_type": "markdown",
   "id": "80a42df5",
   "metadata": {},
   "source": [
    "The NOT Operator\n",
    "\n",
    "The NOT operator is used in combination with other operators to give the opposite result, also called the negative result.\n",
    "\n",
    "In the select statement below we want to return all customers that are NOT from Spain:"
   ]
  },
  {
   "cell_type": "markdown",
   "id": "87b12101",
   "metadata": {},
   "source": [
    "* Select only the customers that are NOT from Spain:\n",
    "\n",
    "SELECT * \n",
    "FROM Customers\n",
    "WHERE NOT Country = 'Spain';"
   ]
  },
  {
   "cell_type": "markdown",
   "id": "b2b3b8cf",
   "metadata": {},
   "source": [
    "Syntax\n",
    "\n",
    "SELECT column1, column2, ...\n",
    "FROM table_name\n",
    "WHERE NOT condition;"
   ]
  },
  {
   "cell_type": "markdown",
   "id": "ed2eafbe",
   "metadata": {},
   "source": [
    "NOT LIKE"
   ]
  },
  {
   "cell_type": "markdown",
   "id": "bb88727e",
   "metadata": {},
   "source": [
    "# Select customers that does not start with the letter 'A':\n",
    "\n",
    "SELECT * FROM Customers\n",
    "WHERE CustomerName NOT LIKE 'A%';"
   ]
  },
  {
   "cell_type": "markdown",
   "id": "7726ca9b",
   "metadata": {},
   "source": [
    "NOT BETWEEN"
   ]
  },
  {
   "cell_type": "markdown",
   "id": "7f59b6fc",
   "metadata": {},
   "source": [
    "# Select customers with a customerID not between 10 and 60:\n",
    "\n",
    "SELECT * FROM Customers\n",
    "WHERE CustomerID NOT BETWEEN 10 AND 60;"
   ]
  },
  {
   "cell_type": "markdown",
   "id": "4af67e92",
   "metadata": {},
   "source": [
    "NOT IN"
   ]
  },
  {
   "cell_type": "markdown",
   "id": "4989d291",
   "metadata": {},
   "source": [
    "# Select customers that are not from Paris or London:\n",
    "\n",
    "SELECT * FROM Customers\n",
    "WHERE City NOT IN ('Paris', 'London');"
   ]
  },
  {
   "cell_type": "markdown",
   "id": "ba37f3b6",
   "metadata": {},
   "source": [
    "NOT Greater Than"
   ]
  },
  {
   "cell_type": "markdown",
   "id": "326f1dfb",
   "metadata": {},
   "source": [
    "# Select customers with a CustomerId not greater than 50:\n",
    "\n",
    "SELECT * \n",
    "FROM Customers\n",
    "WHERE NOT CustomerID > 50;"
   ]
  },
  {
   "cell_type": "markdown",
   "id": "80dfe0eb",
   "metadata": {},
   "source": [
    "NOT Less Than"
   ]
  },
  {
   "cell_type": "markdown",
   "id": "a4556a1a",
   "metadata": {},
   "source": [
    "# Select customers with a CustomerID not less than 50:\n",
    "\n",
    "SELECT * FROM Customers\n",
    "WHERE NOT CustomerId < 50;"
   ]
  },
  {
   "cell_type": "markdown",
   "id": "73413f6a",
   "metadata": {},
   "source": [
    "SQL INSERT INTO Statement"
   ]
  },
  {
   "cell_type": "markdown",
   "id": "7244737f",
   "metadata": {},
   "source": [
    "The SQL INSERT INTO Statement\n",
    "\n",
    "The INSERT INTO statement is used to insert new records in a table."
   ]
  },
  {
   "cell_type": "markdown",
   "id": "4e363a77",
   "metadata": {},
   "source": [
    "INSERT INTO Syntax\n",
    "\n",
    "It is possible to write the INSERT INTO statement in two ways:"
   ]
  },
  {
   "cell_type": "markdown",
   "id": "1e32d20b",
   "metadata": {},
   "source": [
    "1. Specify both the column names and the values to be inserted:\n",
    "\n",
    "INSERT INTO table_name (column1, column2, column3, ...)\n",
    "VALUES (value1, value2, value3, ...);"
   ]
  },
  {
   "cell_type": "markdown",
   "id": "92dba15a",
   "metadata": {},
   "source": [
    "2. If you are adding values for all the columns of the table, you do not need to specify the column names in the SQL query. However, make sure the order of the values is in the same order as the columns in the table. Here, the INSERT INTO syntax would be as follows:\n",
    "\n",
    "INSERT INTO table_name\n",
    "VALUES (value1, value2, value3, ...);"
   ]
  },
  {
   "cell_type": "markdown",
   "id": "53b14b26",
   "metadata": {},
   "source": [
    "INSERT INTO Example"
   ]
  },
  {
   "cell_type": "markdown",
   "id": "a08d6124",
   "metadata": {},
   "source": [
    "The following SQL statement inserts a new record in the \"Customers\" table:\n",
    "\n",
    "INSERT INTO Customers (CustomerName, ContactName, Address, City, PostalCode, Country)\n",
    "VALUES ('Cardinal', 'Tom B. Erichsen', 'Skagen 21', 'Stavanger', '4006', 'Norway');"
   ]
  },
  {
   "cell_type": "markdown",
   "id": "87eada70",
   "metadata": {},
   "source": [
    "Insert Data Only in Specified Columns\n",
    "\n",
    "It is also possible to only insert data in specific columns."
   ]
  },
  {
   "cell_type": "markdown",
   "id": "13de76ec",
   "metadata": {},
   "source": [
    "# The following SQL statement will insert a new record, but only insert data in the \"CustomerName\", \"City\", and \"Country\" columns (CustomerID will be updated automatically):\n",
    "\n",
    "INSERT INTO Customers (CustomerName, City, Country)\n",
    "VALUES ('Cardinal', 'Stavanger', 'Norway');"
   ]
  },
  {
   "cell_type": "markdown",
   "id": "ecfe5ab1",
   "metadata": {},
   "source": [
    "Insert Multiple Rows\n",
    "\n",
    "It is also possible to insert multiple rows in one statement.\n",
    "\n",
    "To insert multiple rows of data, we use the same INSERT INTO statement, but with multiple values:"
   ]
  },
  {
   "cell_type": "markdown",
   "id": "6a9ee3c0",
   "metadata": {},
   "source": [
    "# Example\n",
    "\n",
    "INSERT INTO Customers (CustomerName, ContactName, Address, City, PostalCode, Country)\n",
    "VALUES\n",
    "('Cardinal', 'Tom B. Erichsen', 'Skagen 21', 'Stavanger', '4006', 'Norway'),\n",
    "('Greasy Burger', 'Per Olsen', 'Gateveien 15', 'Sandnes', '4306', 'Norway'),\n",
    "('Tasty Tee', 'Finn Egan', 'Streetroad 19B', 'Liverpool', 'L1 0AA', 'UK');"
   ]
  },
  {
   "cell_type": "markdown",
   "id": "0daf42ff",
   "metadata": {},
   "source": [
    "SQL NULL Values"
   ]
  },
  {
   "cell_type": "markdown",
   "id": "f829f167",
   "metadata": {},
   "source": [
    "What is a NULL Value?\n",
    "\n",
    "A field with a NULL value is a field with no value.\n",
    "\n",
    "If a field in a table is optional, it is possible to insert a new record or update a record without adding a value to this field. Then, the field will be saved with a NULL value.\n",
    "\n",
    "Note: A NULL value is different from a zero value or a field that contains spaces. A field with a NULL value is one that has been left blank during record creation!"
   ]
  },
  {
   "cell_type": "markdown",
   "id": "e5b9ac93",
   "metadata": {},
   "source": [
    "How to Test for NULL Values?\n",
    "\n",
    "It is not possible to test for NULL values with comparison operators, such as =, <, or <>.\n",
    "\n",
    "We will have to use the IS NULL and IS NOT NULL operators instead."
   ]
  },
  {
   "cell_type": "markdown",
   "id": "e2ffe487",
   "metadata": {},
   "source": [
    "IS NULL Syntax\n",
    "\n",
    "SELECT column_names\n",
    "FROM table_name\n",
    "WHERE column_name IS NULL;"
   ]
  },
  {
   "cell_type": "markdown",
   "id": "e437483b",
   "metadata": {},
   "source": [
    "IS NOT NULL Syntax\n",
    "\n",
    "SELECT column_names\n",
    "FROM table_name\n",
    "WHERE column_name IS NOT NULL;"
   ]
  },
  {
   "cell_type": "markdown",
   "id": "4332e2a4",
   "metadata": {},
   "source": [
    "The IS NULL Operator\n",
    "\n",
    "The IS NULL operator is used to test for empty values (NULL values)."
   ]
  },
  {
   "cell_type": "markdown",
   "id": "2f57c7e6",
   "metadata": {},
   "source": [
    "# The following SQL lists all customers with a NULL value in the \"Address\" field:\n",
    "\n",
    "SELECT CustomerName, ContactName, Address\n",
    "FROM Customers\n",
    "WHERE Address IS NULL;"
   ]
  },
  {
   "cell_type": "markdown",
   "id": "a8df12ae",
   "metadata": {},
   "source": [
    "NOTE: Always use IS NULL to look for NULL values."
   ]
  },
  {
   "cell_type": "markdown",
   "id": "a29c221d",
   "metadata": {},
   "source": [
    "The IS NOT NULL Operator\n",
    "\n",
    "The IS NOT NULL operator is used to test for non-empty values (NOT NULL values)."
   ]
  },
  {
   "cell_type": "markdown",
   "id": "56e0ab66",
   "metadata": {},
   "source": [
    "# The following SQL lists all customers with a value in the \"Address\" field:\n",
    "\n",
    "SELECT CustomerName, ContactName, Address\n",
    "FROM Customers\n",
    "WHERE Address IS NOT NULL;"
   ]
  },
  {
   "cell_type": "markdown",
   "id": "30e059b4",
   "metadata": {},
   "source": [
    "SQL UPDATE Statement"
   ]
  },
  {
   "cell_type": "markdown",
   "id": "0e0eb5d5",
   "metadata": {},
   "source": [
    "The SQL UPDATE Statement\n",
    "\n",
    "The UPDATE statement is used to modify the existing records in a table."
   ]
  },
  {
   "cell_type": "markdown",
   "id": "eb15cd39",
   "metadata": {},
   "source": [
    "UPDATE Syntax\n",
    "\n",
    "UPDATE table_name\n",
    "SET column1 = value1, column2 = value2, ...\n",
    "WHERE condition;"
   ]
  },
  {
   "cell_type": "markdown",
   "id": "1093b662",
   "metadata": {},
   "source": [
    "Note: Be careful when updating records in a table! Notice the WHERE clause in the UPDATE statement. The WHERE clause specifies which record(s) that should be updated. If you omit the WHERE clause, all records in the table will be updated!"
   ]
  },
  {
   "cell_type": "markdown",
   "id": "eb61bd5f",
   "metadata": {},
   "source": [
    "UPDATE Table"
   ]
  },
  {
   "cell_type": "markdown",
   "id": "98c8376e",
   "metadata": {},
   "source": [
    "# The following SQL statement updates the first customer (CustomerID = 1) with a new contact person and a new city.\n",
    "\n",
    "UPDATE Customers\n",
    "SET ContactName = 'Alfred Schmidt', City= 'Frankfurt'\n",
    "WHERE CustomerID = 1;"
   ]
  },
  {
   "cell_type": "markdown",
   "id": "ca3486ab",
   "metadata": {},
   "source": [
    "UPDATE Multiple Records\n",
    "It is the WHERE clause that determines how many records will be updated."
   ]
  },
  {
   "cell_type": "markdown",
   "id": "c322d22d",
   "metadata": {},
   "source": [
    "# The following SQL statement will update the ContactName to \"Juan\" for all records where country is \"Mexico\":\n",
    "\n",
    "UPDATE Customers\n",
    "SET ContactName='Juan'\n",
    "WHERE Country='Mexico';"
   ]
  },
  {
   "cell_type": "markdown",
   "id": "82cfb667",
   "metadata": {},
   "source": [
    "Update Warning!\n",
    "\n",
    "Be careful when updating records. If you omit the WHERE clause, ALL records will be updated!\n",
    "\n",
    "\n",
    "# e.g \n",
    "\n",
    "UPDATE Customers\n",
    "SET ContactName='Juan';"
   ]
  },
  {
   "cell_type": "markdown",
   "id": "74647dcc",
   "metadata": {},
   "source": [
    "SQL DELETE Statement"
   ]
  },
  {
   "cell_type": "markdown",
   "id": "6af3a621",
   "metadata": {},
   "source": [
    "The SQL DELETE Statement\n",
    "\n",
    "The DELETE statement is used to delete existing records in a table.\n",
    "\n",
    "DELETE Syntax\n",
    "\n",
    "DELETE FROM table_name\n",
    "WHERE condition;"
   ]
  },
  {
   "cell_type": "markdown",
   "id": "7928e2f0",
   "metadata": {},
   "source": [
    "Note: Be careful when deleting records in a table! Notice the WHERE clause in the DELETE statement. The WHERE clause specifies which record(s) should be deleted. If you omit the WHERE clause, all records in the table will be deleted!"
   ]
  },
  {
   "cell_type": "markdown",
   "id": "a5e4db96",
   "metadata": {},
   "source": [
    "SQL DELETE Example\n",
    "\n",
    "# The following SQL statement deletes the customer \"Alfreds Futterkiste\" from the \"Customers\" table:\n",
    "DELETE FROM Customers \n",
    "WHERE CustomerName='Alfreds Futterkiste';"
   ]
  },
  {
   "cell_type": "markdown",
   "id": "aa7da128",
   "metadata": {},
   "source": [
    "Delete All Records\n",
    "\n",
    "It is possible to delete all rows in a table without deleting the table. This means that the table structure, attributes, and indexes will be intact:\n",
    "\n",
    "DELETE FROM table_name;"
   ]
  },
  {
   "cell_type": "markdown",
   "id": "39247327",
   "metadata": {},
   "source": [
    "# The following SQL statement deletes all rows in the \"Customers\" table, without deleting the table:\n",
    "\n",
    "DELETE FROM Customers;"
   ]
  },
  {
   "cell_type": "markdown",
   "id": "58cb4d47",
   "metadata": {},
   "source": [
    "Delete a Table\n",
    "\n",
    "To delete the table completely, use the DROP TABLE statement:"
   ]
  },
  {
   "cell_type": "markdown",
   "id": "8fe8536d",
   "metadata": {},
   "source": [
    "# Remove the Customers table:\n",
    "\n",
    "DROP TABLE Customers;"
   ]
  },
  {
   "cell_type": "markdown",
   "id": "e959e40a",
   "metadata": {},
   "source": [
    "SQL TOP, LIMIT, FETCH FIRST or ROWNUM Clause"
   ]
  },
  {
   "cell_type": "markdown",
   "id": "855a8d9a",
   "metadata": {},
   "source": [
    "The SQL SELECT TOP Clause\n",
    "\n",
    "The SELECT TOP clause is used to specify the number of records to return.\n",
    "\n",
    "The SELECT TOP clause is useful on large tables with thousands of records. Returning a large number of records can impact performance."
   ]
  },
  {
   "cell_type": "markdown",
   "id": "04bfea3d",
   "metadata": {},
   "source": [
    "Note: Not all database systems support the SELECT TOP clause. \n",
    "\n",
    "MySQL supports the LIMIT clause to select a limited number of records, while Oracle uses FETCH FIRST n ROWS ONLY and ROWNUM."
   ]
  },
  {
   "cell_type": "markdown",
   "id": "042f15ca",
   "metadata": {},
   "source": [
    "SQL Server / MS Access Syntax:\n",
    "\n",
    "SELECT TOP number|percent column_name(s)\n",
    "FROM table_name\n",
    "WHERE condition;"
   ]
  },
  {
   "cell_type": "markdown",
   "id": "d62813d1",
   "metadata": {},
   "source": [
    "MySQL Syntax:\n",
    "\n",
    "SELECT column_name(s)\n",
    "FROM table_name\n",
    "WHERE condition\n",
    "LIMIT number;"
   ]
  },
  {
   "cell_type": "markdown",
   "id": "1d1ba3ac",
   "metadata": {},
   "source": [
    "Oracle 12 Syntax:\n",
    "\n",
    "SELECT column_name(s)\n",
    "FROM table_name\n",
    "ORDER BY column_name(s)\n",
    "FETCH FIRST number ROWS ONLY;"
   ]
  },
  {
   "cell_type": "markdown",
   "id": "7cc4e445",
   "metadata": {},
   "source": [
    "Older Oracle Syntax:\n",
    "\n",
    "SELECT column_name(s)\n",
    "FROM table_name\n",
    "WHERE ROWNUM <= number;"
   ]
  },
  {
   "cell_type": "markdown",
   "id": "5cfe4bf5",
   "metadata": {},
   "source": [
    "Older Oracle Syntax (with ORDER BY):\n",
    "\n",
    "SELECT *\n",
    "FROM (SELECT column_name(s) FROM table_name ORDER BY column_name(s))\n",
    "WHERE ROWNUM <= number;"
   ]
  },
  {
   "cell_type": "markdown",
   "id": "4a385d3f",
   "metadata": {},
   "source": [
    "LIMIT\n",
    "The following SQL statement shows the equivalent example for MySQL:"
   ]
  },
  {
   "cell_type": "markdown",
   "id": "03de6821",
   "metadata": {},
   "source": [
    "# Select the first 3 records of the Customers table:\n",
    "\n",
    "SELECT * \n",
    "FROM Customers\n",
    "LIMIT 3;"
   ]
  },
  {
   "cell_type": "markdown",
   "id": "27c6eb73",
   "metadata": {},
   "source": [
    "FETCH FIRST\n",
    "\n",
    "The following SQL statement shows the equivalent example for Oracle:\n",
    "\n",
    "# Example\n",
    "Select the first 3 records of the Customers table:\n",
    "\n",
    "SELECT * \n",
    "FROM Customers\n",
    "FETCH FIRST 3 ROWS ONLY;"
   ]
  },
  {
   "cell_type": "markdown",
   "id": "dbf9ba13",
   "metadata": {},
   "source": [
    "SQL TOP PERCENT Example\n",
    "\n",
    "The following SQL statement selects the first 50% of the records from the \"Customers\" table (for SQL Server/MS Access):\n",
    "\n",
    "# Example\n",
    "SELECT TOP 50 PERCENT * \n",
    "FROM Customers;"
   ]
  },
  {
   "cell_type": "markdown",
   "id": "b4094b9d",
   "metadata": {},
   "source": [
    "The following SQL statement shows the equivalent example for Oracle:\n",
    "\n",
    "# Example\n",
    "SELECT * \n",
    "FROM Customers\n",
    "FETCH FIRST 50 PERCENT ROWS ONLY;"
   ]
  },
  {
   "cell_type": "markdown",
   "id": "2e180f64",
   "metadata": {},
   "source": [
    "ADD a WHERE CLAUSE\n",
    "The following SQL statement selects the first three records from the \"Customers\" table, where the country is \"Germany\" (for SQL Server/MS Access):\n",
    "\n",
    "# Example\n",
    "SELECT TOP 3 * \n",
    "FROM Customers\n",
    "WHERE Country = 'Germany';"
   ]
  },
  {
   "cell_type": "markdown",
   "id": "d74f553e",
   "metadata": {},
   "source": [
    "The following SQL statement shows the equivalent example for MySQL:\n",
    "\n",
    "# Example\n",
    "\n",
    "SELECT * \n",
    "FROM Customers\n",
    "WHERE Country='Germany'\n",
    "LIMIT 3;"
   ]
  },
  {
   "cell_type": "markdown",
   "id": "23cef545",
   "metadata": {},
   "source": [
    "The following SQL statement shows the equivalent example for Oracle:\n",
    "\n",
    "# Example\n",
    "SELECT * \n",
    "FROM Customers\n",
    "WHERE Country='Germany'\n",
    "FETCH FIRST 3 ROWS ONLY;"
   ]
  },
  {
   "cell_type": "markdown",
   "id": "4120d5fa",
   "metadata": {},
   "source": [
    "ADD the ORDER BY Keyword\n",
    "\n",
    "Add the ORDER BY keyword when you want to sort the result, and return the first 3 records of the sorted result."
   ]
  },
  {
   "cell_type": "markdown",
   "id": "7a9ee81f",
   "metadata": {},
   "source": [
    "For SQL Server and MS Access:\n",
    "\n",
    "# Example\n",
    "Sort the result reverse alphabetically by CustomerName, and return the first 3 records:\n",
    "\n",
    "SELECT TOP 3 * \n",
    "FROM Customers\n",
    "ORDER BY CustomerName DESC;"
   ]
  },
  {
   "cell_type": "markdown",
   "id": "a9f4052f",
   "metadata": {},
   "source": [
    "The following SQL statement shows the equivalent example for MySQL:\n",
    "\n",
    "# Example\n",
    "\n",
    "SELECT * \n",
    "FROM Customers\n",
    "ORDER BY CustomerName DESC\n",
    "LIMIT 3;"
   ]
  },
  {
   "cell_type": "markdown",
   "id": "0fcf5c7c",
   "metadata": {},
   "source": [
    "The following SQL statement shows the equivalent example for Oracle:\n",
    "\n",
    "# Example\n",
    "\n",
    "SELECT * \n",
    "FROM Customers\n",
    "ORDER BY CustomerName DESC\n",
    "FETCH FIRST 3 ROWS ONLY;"
   ]
  },
  {
   "cell_type": "markdown",
   "id": "e4225bf0",
   "metadata": {},
   "source": [
    "SQL Aggregate Functions"
   ]
  },
  {
   "cell_type": "markdown",
   "id": "00743292",
   "metadata": {},
   "source": [
    "SQL Aggregate Functions\n",
    "An aggregate function is a function that performs a calculation on a set of values, and returns a single value.\n",
    "\n",
    "Aggregate functions are often used with the GROUP BY clause of the SELECT statement. The GROUP BY clause splits the result-set into groups of values and the aggregate function can be used to return a single value for each group.\n",
    "\n",
    "The most commonly used SQL aggregate functions are:\n",
    "\n",
    "MIN() - returns the smallest value within the selected column\n",
    "MAX() - returns the largest value within the selected column\n",
    "COUNT() - returns the number of rows in a set\n",
    "SUM() - returns the total sum of a numerical column\n",
    "AVG() - returns the average value of a numerical column\n",
    "Aggregate functions ignore null values (except for COUNT())."
   ]
  },
  {
   "cell_type": "markdown",
   "id": "64611ba3",
   "metadata": {},
   "source": [
    "SQL MIN() and MAX() Functions"
   ]
  },
  {
   "cell_type": "markdown",
   "id": "ce8e6e87",
   "metadata": {},
   "source": [
    "The SQL MIN() and MAX() Functions\n",
    "The MIN() function returns the smallest value of the selected column.\n",
    "\n",
    "The MAX() function returns the largest value of the selected column."
   ]
  },
  {
   "cell_type": "markdown",
   "id": "8ef4cc36",
   "metadata": {},
   "source": [
    "Syntax\n",
    "\n",
    "SELECT MIN(column_name)\n",
    "FROM table_name\n",
    "WHERE condition;"
   ]
  },
  {
   "cell_type": "markdown",
   "id": "ac340532",
   "metadata": {},
   "source": [
    "Syntax\n",
    "\n",
    "SELECT MAX(column_name)\n",
    "FROM table_name\n",
    "WHERE condition;"
   ]
  },
  {
   "cell_type": "markdown",
   "id": "47bebc4c",
   "metadata": {},
   "source": [
    "MIN Example\n",
    "\n",
    "# Find the lowest price in the Price column:\n",
    "\n",
    "SELECT MIN(Price)\n",
    "FROM Products;"
   ]
  },
  {
   "cell_type": "markdown",
   "id": "4dedf777",
   "metadata": {},
   "source": [
    "MAX Example\n",
    "\n",
    "# Find the highest price in the Price column:\n",
    "\n",
    "SELECT MAX(Price)\n",
    "FROM Products;"
   ]
  },
  {
   "cell_type": "markdown",
   "id": "076aef7e",
   "metadata": {},
   "source": [
    "Set Column Name (Alias)\n",
    "\n",
    "When you use MIN() or MAX(), the returned column will not have a descriptive name. To give the column a descriptive name, use the AS keyword:"
   ]
  },
  {
   "cell_type": "markdown",
   "id": "444e485a",
   "metadata": {},
   "source": [
    "# e.g \n",
    "\n",
    "SELECT MIN(Price) AS SmallestPrice\n",
    "FROM Products; "
   ]
  },
  {
   "cell_type": "markdown",
   "id": "ba0bba2a",
   "metadata": {},
   "source": [
    "Use MIN() with GROUP BY\n",
    "\n",
    "Here we use the MIN() function and the GROUP BY clause, to return the smallest price for each category in the Products table:"
   ]
  },
  {
   "cell_type": "markdown",
   "id": "39e488cb",
   "metadata": {},
   "source": [
    "# e.g\n",
    "\n",
    "SELECT MIN(Price) AS SmallestPrice, CategoryID\n",
    "FROM Products\n",
    "GROUP BY CategoryID; "
   ]
  },
  {
   "cell_type": "markdown",
   "id": "ad3d788a",
   "metadata": {},
   "source": [
    "SQL COUNT() Function\n",
    "\n",
    "The COUNT() function returns the number of rows that matches a specified criterion."
   ]
  },
  {
   "cell_type": "markdown",
   "id": "f8aedab1",
   "metadata": {},
   "source": [
    "# Find the total number of rows in the Products table:\n",
    "\n",
    "SELECT COUNT(*)\n",
    "FROM Products;"
   ]
  },
  {
   "cell_type": "markdown",
   "id": "53382c1b",
   "metadata": {},
   "source": [
    "Syntax\n",
    "\n",
    "SELECT COUNT(column_name)\n",
    "FROM table_name\n",
    "WHERE condition;"
   ]
  },
  {
   "cell_type": "markdown",
   "id": "0752115f",
   "metadata": {},
   "source": [
    "Specify Column\n",
    "\n",
    "You can specify a column name instead of the asterix symbol (*).\n",
    "\n",
    "If you specify a column name instead of (*), NULL values will not be counted."
   ]
  },
  {
   "cell_type": "markdown",
   "id": "1591c72d",
   "metadata": {},
   "source": [
    "# e.g Find the number of products where the ProductName is not null:\n",
    "\n",
    "SELECT COUNT(ProductName)\n",
    "FROM Products;"
   ]
  },
  {
   "cell_type": "markdown",
   "id": "b2b6164f",
   "metadata": {},
   "source": [
    "Add a WHERE Clause\n",
    "\n",
    "You can add a WHERE clause to specify conditions:"
   ]
  },
  {
   "cell_type": "markdown",
   "id": "23a9f30f",
   "metadata": {},
   "source": [
    "# e.g Find the number of products where Price is higher than 20:\n",
    "\n",
    "SELECT COUNT(ProductID)\n",
    "FROM Products\n",
    "WHERE Price > 20;"
   ]
  },
  {
   "cell_type": "markdown",
   "id": "d3ce20b6",
   "metadata": {},
   "source": [
    "Ignore Duplicates\n",
    "\n",
    "You can ignore duplicates by using the DISTINCT keyword in the COUNT() function.\n",
    "\n",
    "If DISTINCT is specified, rows with the same value for the specified column will be counted as one."
   ]
  },
  {
   "cell_type": "markdown",
   "id": "e4bc2abc",
   "metadata": {},
   "source": [
    "# e.g How many different prices are there in the Products table:\n",
    "\n",
    "SELECT COUNT(DISTINCT Price)\n",
    "FROM Products;"
   ]
  },
  {
   "cell_type": "markdown",
   "id": "40b31205",
   "metadata": {},
   "source": [
    "Use an Alias\n",
    "\n",
    "Give the counted column a name by using the AS keyword."
   ]
  },
  {
   "cell_type": "markdown",
   "id": "32f946c2",
   "metadata": {},
   "source": [
    "# e.g Name the column \"Number of records\":\n",
    "\n",
    "SELECT COUNT(*) AS [Number of records]\n",
    "FROM Products;"
   ]
  },
  {
   "cell_type": "markdown",
   "id": "bff7a9f9",
   "metadata": {},
   "source": [
    "Use COUNT() with GROUP BY\n",
    "\n",
    "Here we use the COUNT() function and the GROUP BY clause, to return the number of records for each category in the Products table:"
   ]
  },
  {
   "cell_type": "markdown",
   "id": "cfba9298",
   "metadata": {},
   "source": [
    "# Example\n",
    "\n",
    "SELECT COUNT(*) AS [Number of records], CategoryID\n",
    "FROM Products\n",
    "GROUP BY CategoryID;"
   ]
  },
  {
   "cell_type": "markdown",
   "id": "dcd6068f",
   "metadata": {},
   "source": [
    "The SQL SUM() Function\n",
    "\n",
    "The SUM() function returns the total sum of a numeric column."
   ]
  },
  {
   "cell_type": "markdown",
   "id": "5aedb017",
   "metadata": {},
   "source": [
    "# e.g Return the sum of all Quantity fields in the OrderDetails table:\n",
    "\n",
    "SELECT SUM(Quantity)\n",
    "FROM OrderDetails;"
   ]
  },
  {
   "cell_type": "markdown",
   "id": "8c880271",
   "metadata": {},
   "source": [
    "Syntax\n",
    "\n",
    "SELECT SUM(column_name)\n",
    "FROM table_name\n",
    "WHERE condition;"
   ]
  },
  {
   "cell_type": "markdown",
   "id": "5272efe2",
   "metadata": {},
   "source": [
    "Add a WHERE Clause\n",
    "\n",
    "You can add a WHERE clause to specify conditions:"
   ]
  },
  {
   "cell_type": "markdown",
   "id": "efa1cf92",
   "metadata": {},
   "source": [
    "# e.g Return the sum of the Quantity field for the product with ProductID 11:\n",
    "\n",
    "SELECT SUM(Quantity)\n",
    "FROM OrderDetails\n",
    "WHERE ProductId = 11;"
   ]
  },
  {
   "cell_type": "markdown",
   "id": "7eb15758",
   "metadata": {},
   "source": [
    "Use an Alias\n",
    "\n",
    "Give the summarized column a name by using the AS keyword."
   ]
  },
  {
   "cell_type": "markdown",
   "id": "2c2bed30",
   "metadata": {},
   "source": [
    "# e.g Name the column \"total\":\n",
    "\n",
    "SELECT SUM(Quantity) AS total\n",
    "FROM OrderDetails;"
   ]
  },
  {
   "cell_type": "markdown",
   "id": "c813a2f2",
   "metadata": {},
   "source": [
    "Use SUM() with GROUP BY\n",
    "\n",
    "Here we use the SUM() function and the GROUP BY clause, to return the Quantity for each OrderID in the OrderDetails table:\n",
    "\n",
    "# e.g\n",
    "\n",
    "SELECT OrderID, SUM(Quantity) AS [Total Quantity]\n",
    "FROM OrderDetails\n",
    "GROUP BY OrderID;"
   ]
  },
  {
   "cell_type": "markdown",
   "id": "0d9ff702",
   "metadata": {},
   "source": [
    "SUM() With an Expression\n",
    "\n",
    "The parameter inside the SUM() function can also be an expression.\n",
    "\n",
    "If we assume that each product in the OrderDetails column costs 10 dollars, we can find the total earnings in dollars by multiply each quantity with 10:"
   ]
  },
  {
   "cell_type": "markdown",
   "id": "38525591",
   "metadata": {},
   "source": [
    "# e.g Use an expression inside the SUM() function:\n",
    "\n",
    "SELECT SUM(Quantity * 10)\n",
    "FROM OrderDetails;"
   ]
  },
  {
   "cell_type": "markdown",
   "id": "204b29c3",
   "metadata": {},
   "source": [
    "We can also join the OrderDetails table to the Products table to find the actual amount, instead of assuming it is 10 dollars:"
   ]
  },
  {
   "cell_type": "markdown",
   "id": "18ef6f7e",
   "metadata": {},
   "source": [
    "# e.g Join OrderDetails with Products, and use SUM() to find the total amount:\n",
    "\n",
    "SELECT SUM(Price * Quantity)\n",
    "FROM OrderDetails\n",
    "LEFT JOIN Products \n",
    "ON OrderDetails.ProductID = Products.ProductID;"
   ]
  },
  {
   "cell_type": "markdown",
   "id": "0229413c",
   "metadata": {},
   "source": [
    "The SQL AVG() Function\n",
    "\n",
    "The AVG() function returns the average value of a numeric column."
   ]
  },
  {
   "cell_type": "markdown",
   "id": "2be71a5b",
   "metadata": {},
   "source": [
    "# Find the average price of all products:\n",
    "\n",
    "SELECT AVG(Price)\n",
    "FROM Products;"
   ]
  },
  {
   "cell_type": "markdown",
   "id": "857c9a1a",
   "metadata": {},
   "source": [
    "Note: NULL values are ignored."
   ]
  },
  {
   "cell_type": "markdown",
   "id": "c242c7db",
   "metadata": {},
   "source": [
    "# Syntax\n",
    "\n",
    "SELECT AVG(column_name)\n",
    "FROM table_name\n",
    "WHERE condition;"
   ]
  },
  {
   "cell_type": "markdown",
   "id": "41a4a607",
   "metadata": {},
   "source": [
    "Add a WHERE Clause\n",
    "\n",
    "You can add a WHERE clause to specify conditions:"
   ]
  },
  {
   "cell_type": "markdown",
   "id": "25e8c276",
   "metadata": {},
   "source": [
    "# e.g Return the average price of products in category 1:\n",
    "\n",
    "SELECT AVG(Price)\n",
    "FROM Products\n",
    "WHERE CategoryID = 1;"
   ]
  },
  {
   "cell_type": "markdown",
   "id": "7c785556",
   "metadata": {},
   "source": [
    "Use an Alias\n",
    "\n",
    "Give the AVG column a name by using the AS keyword."
   ]
  },
  {
   "cell_type": "markdown",
   "id": "9f63cf62",
   "metadata": {},
   "source": [
    "# e.g Name the column \"average price\":\n",
    "\n",
    "SELECT AVG(Price) AS [average price]\n",
    "FROM Products;"
   ]
  },
  {
   "cell_type": "markdown",
   "id": "c4ccbfda",
   "metadata": {},
   "source": [
    "Higher Than Average\n",
    "\n",
    "To list all records with a higher price than average, we can use the AVG() function in a sub query:"
   ]
  },
  {
   "cell_type": "markdown",
   "id": "00858138",
   "metadata": {},
   "source": [
    "# e.g Return all products with a higher price than the average price:\n",
    "\n",
    "SELECT * \n",
    "FROM Products\n",
    "WHERE price > (SELECT AVG(price) FROM Products);"
   ]
  },
  {
   "cell_type": "markdown",
   "id": "02bfdd92",
   "metadata": {},
   "source": [
    "Use AVG() with GROUP BY\n",
    "\n",
    "Here we use the AVG() function and the GROUP BY clause, to return the average price for each category in the Products table:"
   ]
  },
  {
   "cell_type": "markdown",
   "id": "27fee39b",
   "metadata": {},
   "source": [
    "# e.g\n",
    "\n",
    "SELECT AVG(Price) AS AveragePrice, CategoryID\n",
    "FROM Products\n",
    "GROUP BY CategoryID;"
   ]
  },
  {
   "cell_type": "markdown",
   "id": "1416d468",
   "metadata": {},
   "source": [
    "SQL LIKE Operator"
   ]
  },
  {
   "cell_type": "markdown",
   "id": "4db23fb1",
   "metadata": {},
   "source": [
    "The SQL LIKE Operator\n",
    "\n",
    "The LIKE operator is used in a WHERE clause to search for a specified pattern in a column."
   ]
  },
  {
   "cell_type": "markdown",
   "id": "47caea3a",
   "metadata": {},
   "source": [
    "There are two wildcards often used in conjunction with the LIKE operator:\n",
    "\n",
    " * The percent sign % represents zero, one, or multiple characters\n",
    " * The underscore sign _ represents one, single character"
   ]
  },
  {
   "cell_type": "markdown",
   "id": "a5e7db7e",
   "metadata": {},
   "source": [
    "# e.g Select all customers that starts with the letter \"a\":\n",
    "\n",
    "SELECT * \n",
    "FROM Customers\n",
    "WHERE CustomerName LIKE 'a%';"
   ]
  },
  {
   "cell_type": "markdown",
   "id": "3e781eef",
   "metadata": {},
   "source": [
    "Syntax\n",
    "\n",
    "SELECT column1, column2, ...\n",
    "FROM table_name\n",
    "WHERE columnN LIKE pattern;"
   ]
  },
  {
   "cell_type": "markdown",
   "id": "48abc491",
   "metadata": {},
   "source": [
    "The _ Wildcard\n",
    "\n",
    "The _ wildcard represents a single character.\n",
    "\n",
    "It can be any character or number, but each _ represents one, and only one, character."
   ]
  },
  {
   "cell_type": "markdown",
   "id": "6f57fde4",
   "metadata": {},
   "source": [
    "# Return all customers from a city that starts with 'L' followed by one wildcard character, then 'nd' and then two wildcard characters:\n",
    "\n",
    "SELECT * \n",
    "FROM Customers\n",
    "WHERE city LIKE 'L_nd__';"
   ]
  },
  {
   "cell_type": "markdown",
   "id": "0d53e9c2",
   "metadata": {},
   "source": [
    "The % Wildcard\n",
    "\n",
    "The % wildcard represents any number of characters, even zero characters."
   ]
  },
  {
   "cell_type": "markdown",
   "id": "53f0b347",
   "metadata": {},
   "source": [
    "# e.g Return all customers from a city that contains the letter 'L':\n",
    "\n",
    "SELECT * \n",
    "FROM Customers\n",
    "WHERE city LIKE '%L%';"
   ]
  },
  {
   "cell_type": "markdown",
   "id": "80102a7e",
   "metadata": {},
   "source": [
    "Starts With\n",
    "\n",
    "To return records that starts with a specific letter or phrase, add the % at the end of the letter or phrase."
   ]
  },
  {
   "cell_type": "markdown",
   "id": "19c3f604",
   "metadata": {},
   "source": [
    "# e.g Return all customers that starts with 'La':\n",
    "\n",
    "SELECT * \n",
    "FROM Customers\n",
    "WHERE CustomerName LIKE 'La%';"
   ]
  },
  {
   "cell_type": "markdown",
   "id": "c13a9c60",
   "metadata": {},
   "source": [
    "* Tip: You can also combine any number of conditions using AND or OR operators."
   ]
  },
  {
   "cell_type": "markdown",
   "id": "035d7f31",
   "metadata": {},
   "source": [
    "# e.g Return all customers that starts with 'a' or starts with 'b':\n",
    "\n",
    "SELECT * \n",
    "FROM Customers\n",
    "WHERE CustomerName LIKE 'a%' OR CustomerName LIKE 'b%';"
   ]
  },
  {
   "cell_type": "markdown",
   "id": "2302fb8a",
   "metadata": {},
   "source": [
    "Ends With\n",
    "\n",
    "To return records that ends with a specific letter or phrase, add the % at the beginning of the letter or phrase."
   ]
  },
  {
   "cell_type": "markdown",
   "id": "5afad17e",
   "metadata": {},
   "source": [
    "# e.g Return all customers that ends with 'a':\n",
    "\n",
    "SELECT * \n",
    "FROM Customers\n",
    "WHERE CustomerName LIKE '%a';"
   ]
  },
  {
   "cell_type": "markdown",
   "id": "ad197f95",
   "metadata": {},
   "source": [
    "You can also combine \"starts with\" and \"ends with\":"
   ]
  },
  {
   "cell_type": "markdown",
   "id": "5c2b6ab7",
   "metadata": {},
   "source": [
    "# Return all customers that starts with \"b\" and ends with \"s\":\n",
    "\n",
    "SELECT * \n",
    "FROM Customers\n",
    "WHERE CustomerName LIKE 'b%s';"
   ]
  },
  {
   "cell_type": "markdown",
   "id": "538c88d6",
   "metadata": {},
   "source": [
    "Contains\n",
    "\n",
    "To return records that contains a specific letter or phrase, add the % both before and after the letter or phrase."
   ]
  },
  {
   "cell_type": "markdown",
   "id": "c04849a6",
   "metadata": {},
   "source": [
    "# e.g Return all customers that contains the phrase 'or'\n",
    "\n",
    "SELECT * \n",
    "FROM Customers\n",
    "WHERE CustomerName LIKE '%or%';"
   ]
  },
  {
   "cell_type": "markdown",
   "id": "e0dba9f7",
   "metadata": {},
   "source": [
    "Combine Wildcards\n",
    "\n",
    "Any wildcard, like % and _ , can be used in combination with other wildcards."
   ]
  },
  {
   "cell_type": "markdown",
   "id": "5aa621f8",
   "metadata": {},
   "source": [
    "# e.g Return all customers that starts with \"a\" and are at least 3 characters in length:\n",
    "\n",
    "SELECT * \n",
    "FROM Customers\n",
    "WHERE CustomerName LIKE 'a__%';"
   ]
  },
  {
   "cell_type": "markdown",
   "id": "d2bd9b5e",
   "metadata": {},
   "source": [
    "# e.g Return all customers that have \"r\" in the second position:\n",
    "\n",
    "SELECT * \n",
    "FROM Customers\n",
    "WHERE CustomerName LIKE '_r%';"
   ]
  },
  {
   "cell_type": "markdown",
   "id": "846a31aa",
   "metadata": {},
   "source": [
    "Without Wildcard\n",
    "\n",
    "If no wildcard is specified, the phrase has to have an exact match to return a result."
   ]
  },
  {
   "cell_type": "markdown",
   "id": "92251642",
   "metadata": {},
   "source": [
    "# e.g Return all customers from Spain:\n",
    "\n",
    "SELECT * \n",
    "FROM Customers\n",
    "WHERE Country LIKE 'Spain';"
   ]
  },
  {
   "cell_type": "markdown",
   "id": "3f75b9d9",
   "metadata": {},
   "source": [
    "SQL Wildcards"
   ]
  },
  {
   "cell_type": "markdown",
   "id": "a1756621",
   "metadata": {},
   "source": [
    "SQL Wildcard Characters\n",
    "\n",
    "A wildcard character is used to substitute one or more characters in a string.\n",
    "\n",
    "Wildcard characters are used with the LIKE operator. The LIKE operator is used in a WHERE clause to search for a specified pattern in a column."
   ]
  },
  {
   "cell_type": "markdown",
   "id": "4427870d",
   "metadata": {},
   "source": [
    "# e.g Return all customers that starts with the letter 'a':\n",
    "\n",
    "SELECT * \n",
    "FROM Customers\n",
    "WHERE CustomerName LIKE 'a%';"
   ]
  },
  {
   "cell_type": "markdown",
   "id": "e84311bb",
   "metadata": {},
   "source": [
    "Wildcard    Characters\n",
    "\n",
    "Symbol\t    Description\n",
    "%\t        Represents zero or more characters\n",
    "_\t        Represents a single character\n",
    "[]\t        Represents any single character within the brackets\n",
    "^\t        Represents any character not in the brackets\n",
    "-\t        Represents any single character within the specified range\n",
    "{}\t        Represents any escaped character "
   ]
  },
  {
   "cell_type": "markdown",
   "id": "6f3fe167",
   "metadata": {},
   "source": [
    "NOTE =>\n",
    "\n",
    "* [] ^ and - Not supported in PostgreSQL and MySQL databases.\n",
    "\n",
    "* {} Supported only in Oracle databases."
   ]
  },
  {
   "cell_type": "markdown",
   "id": "367a42f7",
   "metadata": {},
   "source": [
    " [] – Matches any one character within the brackets\n",
    "\n",
    "\n",
    "SELECT * \n",
    "FROM Employees \n",
    "WHERE Gender LIKE '[MF]';\n",
    "\n",
    "* Meaning: Match either 'M' or 'F'."
   ]
  },
  {
   "cell_type": "markdown",
   "id": "2ba3d30c",
   "metadata": {},
   "source": [
    "^ – Matches any one character not in the brackets (used inside [])\n",
    "\n",
    "SELECT * \n",
    "FROM Students \n",
    "WHERE Grade LIKE '[^A]';\n",
    "\n",
    "* Meaning: Match grades not starting with 'A'."
   ]
  },
  {
   "cell_type": "markdown",
   "id": "8ca98dde",
   "metadata": {},
   "source": [
    "- => Specifies a range within brackets\n",
    "\n",
    "SELECT * \n",
    "FROM Files \n",
    "WHERE FileName LIKE '[a-z]%';\n",
    "\n",
    "* Meaning: Match filenames starting with any lowercase letter."
   ]
  },
  {
   "cell_type": "markdown",
   "id": "656bb5e9",
   "metadata": {},
   "source": [
    "} => Escapes special characters (usually DBMS-specific, e.g., SQL Server)\n",
    "\n",
    "SELECT * \n",
    "FROM Notes \n",
    "WHERE Text LIKE '%{_%}%' ESCAPE '{';\n",
    "\n",
    "* Meaning: Find texts that include the underscore character _ literally.\n",
    "\n",
    "⚠️ Note: {} is specific to SQL Server, and not standard in all SQL databases."
   ]
  },
  {
   "cell_type": "markdown",
   "id": "f9039e46",
   "metadata": {},
   "source": [
    "Using the % Wildcard\n",
    "\n",
    "The % wildcard represents any number of characters, even zero characters."
   ]
  },
  {
   "cell_type": "markdown",
   "id": "eed81c33",
   "metadata": {},
   "source": [
    "# e.g Return all customers that ends with the pattern 'es':\n",
    "\n",
    "SELECT * \n",
    "FROM Customers\n",
    "WHERE CustomerName LIKE '%es';"
   ]
  },
  {
   "cell_type": "markdown",
   "id": "9c6e8e99",
   "metadata": {},
   "source": [
    "# Return all customers that contains the pattern 'mer':\n",
    "\n",
    "SELECT * \n",
    "FROM Customers\n",
    "WHERE CustomerName LIKE '%mer%';"
   ]
  },
  {
   "cell_type": "markdown",
   "id": "e113206b",
   "metadata": {},
   "source": [
    "Using the _ Wildcard\n",
    "\n",
    "The _ wildcard represents a single character.\n",
    "\n",
    "It can be any character or number, but each _ represents one, and only one, character."
   ]
  },
  {
   "cell_type": "markdown",
   "id": "c4c266eb",
   "metadata": {},
   "source": [
    "# e.g Return all customers with a City starting with any character, followed by \"ondon\":\n",
    "\n",
    "SELECT * \n",
    "FROM Customers\n",
    "WHERE City LIKE '_ondon';"
   ]
  },
  {
   "cell_type": "markdown",
   "id": "efe75779",
   "metadata": {},
   "source": [
    "# Return all customers with a City starting with \"L\", followed by any 3 characters, ending with \"on\":\n",
    "\n",
    "SELECT * \n",
    "FROM Customers\n",
    "WHERE City LIKE 'L___on';"
   ]
  },
  {
   "cell_type": "markdown",
   "id": "0cbed8bc",
   "metadata": {},
   "source": [
    "Using the [] Wildcard\n",
    "\n",
    "The [] wildcard returns a result if any of the characters inside gets a match."
   ]
  },
  {
   "cell_type": "markdown",
   "id": "7456e8a2",
   "metadata": {},
   "source": [
    "# e.g Return all customers starting with either \"b\", \"s\", or \"p\":\n",
    "\n",
    "SELECT * \n",
    "FROM Customers\n",
    "WHERE CustomerName LIKE '[bsp]%';"
   ]
  },
  {
   "cell_type": "markdown",
   "id": "52503659",
   "metadata": {},
   "source": [
    "Using the - Wildcard\n",
    "\n",
    "The - wildcard allows you to specify a range of characters inside the [] wildcard."
   ]
  },
  {
   "cell_type": "markdown",
   "id": "bab9adb2",
   "metadata": {},
   "source": [
    "# e.g Return all customers starting with \"a\", \"b\", \"c\", \"d\", \"e\" or \"f\":\n",
    "\n",
    "SELECT * \n",
    "FROM Customers\n",
    "WHERE CustomerName LIKE '[a-f]%';"
   ]
  },
  {
   "cell_type": "markdown",
   "id": "b3225d89",
   "metadata": {},
   "source": [
    "Combine Wildcards\n",
    "\n",
    "Any wildcard, like % and _ , can be used in combination with other wildcards."
   ]
  },
  {
   "cell_type": "markdown",
   "id": "85313b5e",
   "metadata": {},
   "source": [
    "# e.g Return all customers that starts with \"a\" and are at least 3 characters in length:\n",
    "\n",
    "SELECT * \n",
    "FROM Customers\n",
    "WHERE CustomerName LIKE 'a__%';"
   ]
  },
  {
   "cell_type": "markdown",
   "id": "d1fd28b7",
   "metadata": {},
   "source": [
    "# Return all customers that have \"r\" in the second position:\n",
    "\n",
    "SELECT * \n",
    "FROM Customers\n",
    "WHERE CustomerName LIKE '_r%';"
   ]
  },
  {
   "cell_type": "markdown",
   "id": "ad98e717",
   "metadata": {},
   "source": [
    "Without Wildcard\n",
    "\n",
    "If no wildcard is specified, the phrase has to have an exact match to return a result."
   ]
  },
  {
   "cell_type": "markdown",
   "id": "355aba0c",
   "metadata": {},
   "source": [
    "# e.g Return all customers from Spain:\n",
    "\n",
    "SELECT * \n",
    "FROM Customers\n",
    "WHERE Country LIKE 'Spain';"
   ]
  },
  {
   "cell_type": "markdown",
   "id": "e9027736",
   "metadata": {},
   "source": [
    "Microsoft Access Wildcards\n",
    "The Microsoft Access Database has some other wildcards:\n",
    "\n",
    "Symbol\t    Description\t                                                Example\n",
    "*\t        Represents zero or more characters\t                        bl* finds bl, black, blue, and blob\n",
    "?\t        Represents a single character\t                            h?t finds hot, hat, and hit\n",
    "[]\t        Represents any single character within the brackets\t        h[oa]t finds hot and hat, but not hit\n",
    "!\t        Represents any character not in the brackets\t            h[!oa]t finds hit, but not hot and hat\n",
    "-\t        Represents any single character within the specified range\tc[a-b]t finds cat and cbt\n",
    "#\t        Represents any single numeric character\t                    2#5 finds 205, 215, 225, 235, 245, 255, 265, 275, 285, and 295"
   ]
  },
  {
   "cell_type": "markdown",
   "id": "726be91c",
   "metadata": {},
   "source": [
    "Here's a table showing PostgreSQL wildcards along with their symbols and functions:\n",
    "\n",
    "Wildcard\n",
    " \n",
    "Symbol\t    Function\n",
    "%\t        Matches any sequence of zero or more characters.\n",
    "_\t        Matches exactly one character.\n",
    "[]\t        Matches any one character within the brackets (e.g., [aeiou]).\n",
    "[^]\t        Matches any one character NOT within the brackets (e.g., [^aeiou]).\n",
    "\\\t        Escape character used to treat a wildcard symbol as a literal character.\n",
    "\n",
    "🔹 These wildcards are mostly used with the LIKE and ILIKE (case-insensitive LIKE) operators."
   ]
  },
  {
   "cell_type": "markdown",
   "id": "6f5ee2c3",
   "metadata": {},
   "source": [
    "# e.g\n",
    "\n",
    "-- Match any name starting with 'A'\n",
    "SELECT * \n",
    "FROM users \n",
    "WHERE name LIKE 'A%';\n",
    "\n",
    "-- Match any 3-letter word starting with 'b' and ending with 't'\n",
    "SELECT * \n",
    "FROM words \n",
    "WHERE word LIKE 'b_t';\n",
    "\n",
    "-- Match words starting with a vowel\n",
    "SELECT * \n",
    "FROM words \n",
    "WHERE word LIKE '[aeiou]%';\n",
    "\n",
    "-- Match words that do NOT start with a vowel\n",
    "SELECT * \n",
    "FROM words \n",
    "WHERE word LIKE '[^aeiou]%';\n"
   ]
  },
  {
   "cell_type": "markdown",
   "id": "077b9ee3",
   "metadata": {},
   "source": [
    "ILIKE in PostgreSQL is a case-insensitive version of the LIKE operator. \n",
    "While LIKE matches patterns case-sensitively, ILIKE allows you to match patterns without regard to case."
   ]
  },
  {
   "cell_type": "markdown",
   "id": "c4b393cf",
   "metadata": {},
   "source": [
    "The ILIKE operator is not part of the SQL standard, and it is specific to PostgreSQL. \n",
    "Most other relational database management systems (RDBMS) do not support ILIKE natively.\n",
    "\n",
    "In MySQL, LIKE is case-insensitive by default on case-insensitive collation"
   ]
  },
  {
   "cell_type": "markdown",
   "id": "27bb6f55",
   "metadata": {},
   "source": [
    "SELECT * \n",
    "FROM table_name \n",
    "WHERE column_name ILIKE 'pattern';"
   ]
  },
  {
   "cell_type": "markdown",
   "id": "5bd84aed",
   "metadata": {},
   "source": [
    "Example Comparison:\n",
    "\n",
    "Assume a table users with a name column.\n",
    "\n",
    "name\n",
    "Alice\n",
    "ALICE\n",
    "alice\n",
    "Bob"
   ]
  },
  {
   "cell_type": "markdown",
   "id": "fa67b3af",
   "metadata": {},
   "source": [
    "Using LIKE (case-sensitive):\n",
    "\n",
    "SELECT * \n",
    "FROM users \n",
    "WHERE name LIKE 'alice';"
   ]
  },
  {
   "cell_type": "markdown",
   "id": "d71a2bd8",
   "metadata": {},
   "source": [
    "✅ Result: alice only."
   ]
  },
  {
   "cell_type": "markdown",
   "id": "4d949820",
   "metadata": {},
   "source": [
    "Using ILIKE (case-insensitive):\n",
    "\n",
    "SELECT * \n",
    "FROM users \n",
    "WHERE name ILIKE 'alice';"
   ]
  },
  {
   "cell_type": "markdown",
   "id": "671ca30b",
   "metadata": {},
   "source": [
    "✅ Result: Alice, ALICE, and alice."
   ]
  },
  {
   "cell_type": "markdown",
   "id": "d87c7390",
   "metadata": {},
   "source": [
    "Pattern Matching with Wildcards:\n",
    "\n",
    "You can use wildcards like % and _ with ILIKE, just like with LIKE:\n",
    "\n",
    "SELECT * \n",
    "FROM users \n",
    "WHERE name ILIKE 'a%';"
   ]
  },
  {
   "cell_type": "markdown",
   "id": "ad1542a7",
   "metadata": {},
   "source": [
    "✅ Matches names starting with any variation of \"A\" (e.g., Alice, ALICE, adam)."
   ]
  },
  {
   "cell_type": "markdown",
   "id": "dc4a2fa5",
   "metadata": {},
   "source": [
    "🔹 Alternatives to ILIKE in other RDBMS:\n",
    "\n",
    "-- MySQL / MariaDB (default collation is case-insensitive)\n",
    "SELECT * \n",
    "FROM users \n",
    "WHERE name LIKE 'alice';\n",
    "\n",
    "-- SQL Server\n",
    "SELECT * \n",
    "FROM users \n",
    "WHERE LOWER(name) = LOWER('alice');\n",
    "\n",
    "-- Oracle\n",
    "SELECT * \n",
    "FROM users \n",
    "WHERE UPPER(name) = UPPER('alice');\n",
    "\n",
    "-- SQLite (can be case-insensitive depending on configuration)\n",
    "SELECT * \n",
    "FROM users \n",
    "WHERE name LIKE 'alice';"
   ]
  },
  {
   "cell_type": "markdown",
   "id": "4d5565cb",
   "metadata": {},
   "source": [
    "MySQL REGEXP Wildcards (Regular Expressions)"
   ]
  },
  {
   "cell_type": "markdown",
   "id": "abfa20a9",
   "metadata": {},
   "source": [
    "🔰 What is REGEXP?\n",
    "REGEXP (short for Regular Expression) is a powerful pattern-matching operator in MySQL. It allows you to search for complex string patterns far beyond what LIKE can do.\n",
    "\n",
    "You can think of it as a smart search tool that understands rules like:\n",
    "\n",
    "Starts with...\n",
    "\n",
    "Ends with...\n",
    "\n",
    "Contains only numbers...\n",
    "\n",
    "Has exactly 5 characters...\n",
    "\n",
    "Matches “this OR that”..."
   ]
  },
  {
   "cell_type": "markdown",
   "id": "665b8ef2",
   "metadata": {},
   "source": [
    "Syntax\n",
    "\n",
    "SELECT * \n",
    "\n",
    "FROM table_name \n",
    "\n",
    "WHERE column_name REGEXP 'pattern';\n",
    "\n",
    "* 'pattern' is the regular expression that contains the wildcards or rules.\n",
    "\n",
    "* REGEXP is case-sensitive by default. Use LOWER(column) if needed."
   ]
  },
  {
   "cell_type": "markdown",
   "id": "7738aced",
   "metadata": {},
   "source": [
    "Core REGEXP Wildcards and Symbols (With Examples)"
   ]
  },
  {
   "cell_type": "markdown",
   "id": "fa1bc8c1",
   "metadata": {},
   "source": [
    "Symbol / Pattern\t    Meaning\t                                Example Query\t                                        Matches\tExplanation\n",
    ".\t                    Any single character\t                SELECT * FROM users WHERE name REGEXP '^A'.c';\t        Alice, Alec\tMatches names that start with A, followed by any character, then 'c'\n",
    "\n",
    "*\t                    0 or more of the previous character\t    SELECT * FROM users WHERE name REGEXP 'Bo*b';\t        Bb, Bob, Boob\tMatches \"B\", optionally followed by many 'o', then 'b'\n",
    "\n",
    "+\t                    1 or more of the previous character\t    SELECT * FROM users WHERE name REGEXP 'Bo+b';\t        Bob, Boob\tSame as above, but requires at least one 'o'\n",
    "\n",
    "?\t                    0 or 1 of the previous character\t    SELECT * FROM users WHERE name REGEXP 'Ali?ce';\t        Alice, Alce\tThe 'i' is optional\n",
    "\n",
    "^\t                    Start of string\t                        SELECT * FROM users WHERE name REGEXP '^A';\t            Alice, Alan\tNames starting with A\n",
    "\n",
    "$\t                    End of string\t                        SELECT * FROM users WHERE name REGEXP 'a$';\t            Diana, Carla\tNames ending in 'a'\n",
    "\n",
    "[abc]\t                Any one of a, b, or c\t                SELECT * FROM users WHERE name REGEXP '^[abc]';\t        Alice, Bob, Carla\tNames starting with a, b, or c\n",
    "\n",
    "[^abc]\t                Not a, b, or c\t                        SELECT * FROM users WHERE name REGEXP '^[^abc]';\t    Diana, 123\tNames not starting with a, b, or c\n",
    "\n",
    "[a-z]\t                Any lowercase letter\t                SELECT * FROM users WHERE name REGEXP '^[a-z]';\t        alex, dog\tLowercase-starting names\n",
    "\n",
    "[A-Z]\t                Any uppercase letter\t                SELECT * FROM users WHERE name REGEXP '^[A-Z]';\t        Alice, Bob\tUppercase-starting names\n",
    "\n",
    "[0-9]\t                Any digit\t                            SELECT * FROM users WHERE name REGEXP '^[0-9]';\t        123, 4567\tNames that start with a number\n",
    "\n",
    "`\t`\t                OR between patterns\t                    `SELECT * FROM users WHERE name REGEXP 'cat\tdog';`\n",
    "\n",
    "()                  \tGrouping expressions\t                `SELECT * FROM users WHERE name REGEXP '^(A\tB).*';`\t    Alice, Bob\n",
    "\n",
    "{n}\t                    Exactly n repetitions\t                SELECT * FROM users WHERE name REGEXP '^.{5}$';\t        Alice, Diana\tNames with exactly 5 characters\n",
    "\n",
    "{n,}\t                n or more repetitions\t                SELECT * FROM users WHERE name REGEXP '^[0-9]{3,}$';\t123, 4567\tNumbers with 3 or more digits\n",
    "\n",
    "{n,m}\t                Between n and m repetitions\t            SELECT * FROM users WHERE name REGEXP '^[0-9]{2,4}$';\t123, 4567\tNumbers with 2–4 digits"
   ]
  },
  {
   "cell_type": "markdown",
   "id": "d86a9de2",
   "metadata": {},
   "source": [
    "🔸 Scenario 1: Filtering Names that Start with “A”\n",
    "\n",
    "SELECT * \n",
    "FROM users \n",
    "WHERE name REGEXP '^A';\n",
    "\n",
    "* Result: Alice, Alan, Amanda\n",
    "\n",
    "* Why: The ^ ensures the name starts with “A”."
   ]
  },
  {
   "cell_type": "markdown",
   "id": "ac796524",
   "metadata": {},
   "source": [
    "🔸 Scenario 2: Names That End with “a”\n",
    "\n",
    "SELECT * \n",
    "FROM users \n",
    "WHERE name REGEXP 'a$';\n",
    "\n",
    "* Result: Amanda, Carla, Diana\n",
    "\n",
    "* Why: The $ ensures it ends with “a”."
   ]
  },
  {
   "cell_type": "markdown",
   "id": "ce9ddc2e",
   "metadata": {},
   "source": [
    "🔸 Scenario 3: Names Containing Either “cat” or “dog”\n",
    "\n",
    "SELECT * \n",
    "FROM users \n",
    "WHERE name REGEXP 'cat|dog';\n",
    "\n",
    "* Result: cat, dog, catalog\n",
    "\n",
    "* Why: The pipe | acts as an OR condition."
   ]
  },
  {
   "cell_type": "markdown",
   "id": "a6fed58e",
   "metadata": {},
   "source": [
    "🔸 Scenario 4: Names of Exactly 4 Characters\n",
    "\n",
    "SELECT * \n",
    "FROM users \n",
    "WHERE name REGEXP '^.{4}$';\n",
    "\n",
    "* Result: Alan, John\n",
    "\n",
    "* Why: . means any character, {4} means exactly 4 times."
   ]
  },
  {
   "cell_type": "markdown",
   "id": "3a932a6a",
   "metadata": {},
   "source": [
    "🔸 Scenario 5: Names with Only Digits (e.g., '123')\n",
    "\n",
    "SELECT * \n",
    "FROM users \n",
    "WHERE name REGEXP '^[0-9]+$';\n",
    "\n",
    "* Result: 123, 4567\n",
    "\n",
    "* Why: The range [0-9] checks digits, + allows 1 or more."
   ]
  },
  {
   "cell_type": "markdown",
   "id": "ca2973ab",
   "metadata": {},
   "source": [
    "🔹 Scenario 6: Names with Double Letters (e.g., 'oo', 'll')\n",
    "\n",
    "SELECT * \n",
    "FROM users \n",
    "WHERE name REGEXP '(.)\\\\1';\n",
    "\n",
    "* Matches: Bobby, Aaron, Ella\n",
    "\n",
    "* Explanation: (.)\\\\1 captures a character and matches it again. It finds any repeated character."
   ]
  },
  {
   "cell_type": "markdown",
   "id": "b24b67d2",
   "metadata": {},
   "source": [
    "🔹 Scenario 7: Names Starting with a Vowel\n",
    "\n",
    "SELECT * \n",
    "FROM users \n",
    "WHERE name REGEXP '^[aeiouAEIOU]';\n",
    "\n",
    "* Matches: Alice, Aaron, Amanda, Ella\n",
    "\n",
    "* Explanation: ^[aeiouAEIOU] checks if the first character is a vowel (case-insensitive)."
   ]
  },
  {
   "cell_type": "markdown",
   "id": "0b024ca0",
   "metadata": {},
   "source": [
    "🔹 Scenario 8: Names Containing Only Letters\n",
    "\n",
    "SELECT * \n",
    "FROM users \n",
    "WHERE name REGEXP '^[A-Za-z]+$';\n",
    "\n",
    "* Matches: Alice, Bob, Carla, Diana\n",
    "\n",
    "* Explanation: Ensures the name has only letters and no numbers/symbols."
   ]
  },
  {
   "cell_type": "markdown",
   "id": "af9b78b7",
   "metadata": {},
   "source": [
    "🔹 Scenario 9: Names That Contain Numbers\n",
    "\n",
    "SELECT * \n",
    "FROM users \n",
    "WHERE name REGEXP '[0-9]';\n",
    "\n",
    "* Matches: user1, john23, Alex007\n",
    "\n",
    "* Explanation: Matches any name that contains at least one digit."
   ]
  },
  {
   "cell_type": "markdown",
   "id": "531bc501",
   "metadata": {},
   "source": [
    "🔹 Scenario 10: Names Ending with 'y' or 'e'\n",
    "\n",
    "SELECT * \n",
    "FROM users \n",
    "WHERE name REGEXP '[ye]$';\n",
    "\n",
    "* Matches: Bobby, Alice\n",
    "\n",
    "* Explanation: The pattern looks for names ending in either y or e."
   ]
  },
  {
   "cell_type": "markdown",
   "id": "f456aefa",
   "metadata": {},
   "source": [
    "🔹 Scenario 11: Names with At Least One Uppercase Letter\n",
    "\n",
    "SELECT * \n",
    "FROM users \n",
    "WHERE name REGEXP '[A-Z]';\n",
    "\n",
    "* Matches: Alice, Bob, Amanda\n",
    "\n",
    "* Explanation: Checks if any character in the name is an uppercase letter."
   ]
  },
  {
   "cell_type": "markdown",
   "id": "6eade193",
   "metadata": {},
   "source": [
    "🔹 Scenario 12: Names Containing Exactly 3 Letters\n",
    "\n",
    "SELECT * \n",
    "FROM users \n",
    "WHERE name REGEXP '^.{3}$';\n",
    "\n",
    "* Matches: Bob, Sam, Max\n",
    "\n",
    "* Explanation: ^.{3}$ ensures the name has exactly 3 characters."
   ]
  },
  {
   "cell_type": "markdown",
   "id": "c51d768b",
   "metadata": {},
   "source": [
    "🔹 Scenario 13: Names That Start and End with the Same Letter\n",
    "\n",
    "SELECT * \n",
    "FROM users \n",
    "WHERE name REGEXP '^(.).*\\1$';\n",
    "\n",
    "* Matches: Anna, Aaron (if ends in 'A'), Otto\n",
    "\n",
    "* Explanation: Captures the first character and matches it at the end."
   ]
  },
  {
   "cell_type": "markdown",
   "id": "15f85531",
   "metadata": {},
   "source": [
    "🔹 Scenario 14: Names with 2 to 5 Characters Only\n",
    "\n",
    "SELECT * \n",
    "FROM users \n",
    "WHERE name REGEXP '^.{2,5}$';\n",
    "\n",
    "* Matches: Bob, Alan, Carla\n",
    "\n",
    "* Explanation: Matches names with a length of 2 to 5 characters."
   ]
  },
  {
   "cell_type": "markdown",
   "id": "f3a403d2",
   "metadata": {},
   "source": [
    "🔹 Scenario 15: Names That Contain the Word “man”\n",
    "\n",
    "SELECT * \n",
    "FROM users \n",
    "WHERE name REGEXP 'man';\n",
    "\n",
    "* Matches: Amanda, Emmanuel, Manfred\n",
    "\n",
    "* Explanation: Finds any name that includes the sequence “man”."
   ]
  },
  {
   "cell_type": "markdown",
   "id": "190b3a89",
   "metadata": {},
   "source": [
    "Common Mistakes to Watch For\n",
    "\n",
    "Mistake\t                                    What Happens\t                                Fix\n",
    "\n",
    "Forgetting ^ or $\t                        Matches anywhere instead of start/end\t        Add anchors\n",
    "\n",
    "Using * without context\t                    Unexpected matches\t                            Use * after a defined character\n",
    "\n",
    "Confusing [abc] with (abc)\t                Wrong match range\t                            Use brackets for character sets\n",
    "\n",
    "Assuming case-insensitive by default\t    Doesn’t match lowercase/uppercase variants\t    Use LOWER(column) or BINARY comparison"
   ]
  },
  {
   "cell_type": "markdown",
   "id": "98f73dec",
   "metadata": {},
   "source": [
    "SQL JOIN\n",
    "\n",
    "A JOIN clause is used to combine rows from two or more tables, based on a related column between them."
   ]
  },
  {
   "cell_type": "markdown",
   "id": "42f31fc3",
   "metadata": {},
   "source": [
    "Different Types of SQL JOINs\n",
    "\n",
    "Here are the different types of the JOINs in SQL:\n",
    "\n",
    "* (INNER) JOIN: Returns records that have matching values in both tables\n",
    "\n",
    "* LEFT (OUTER) JOIN: Returns all records from the left table, and the matched records from the right table\n",
    "\n",
    "* RIGHT (OUTER) JOIN: Returns all records from the right table, and the matched records from the left table\n",
    "\n",
    "* FULL (OUTER) JOIN: Returns all records when there is a match in either left or right table"
   ]
  },
  {
   "cell_type": "markdown",
   "id": "05b563f5",
   "metadata": {},
   "source": [
    "SQL INNER JOIN\n",
    "\n",
    "INNER JOIN\n",
    "\n",
    "The INNER JOIN keyword selects records that have matching values in both tables."
   ]
  },
  {
   "cell_type": "markdown",
   "id": "4738dffd",
   "metadata": {},
   "source": [
    "# ExampleGet your own SQL Server\n",
    "\n",
    "# Join Products and Categories with the INNER JOIN keyword:\n",
    "\n",
    "SELECT ProductID, ProductName, CategoryName\n",
    "FROM Products\n",
    "INNER JOIN Categories\n",
    " ON Products.CategoryID = Categories.CategoryID;"
   ]
  },
  {
   "cell_type": "markdown",
   "id": "35176b30",
   "metadata": {},
   "source": [
    "Note: The INNER JOIN keyword returns only rows with a match in both tables. \n",
    "\n",
    "Which means that if you have a product with no CategoryID, or with a CategoryID that is not present in the Categories table, that record would not be returned in the result."
   ]
  },
  {
   "cell_type": "markdown",
   "id": "946bb3f6",
   "metadata": {},
   "source": [
    "Syntax\n",
    "\n",
    "SELECT column_name(s)\n",
    "\n",
    "FROM table1\n",
    "\n",
    "INNER JOIN table2\n",
    "\n",
    "ON table1.column_name = table2.column_name;"
   ]
  },
  {
   "cell_type": "markdown",
   "id": "d9e2a719",
   "metadata": {},
   "source": [
    "Naming the Columns\n",
    "\n",
    "It is a good practice to include the table name when specifying columns in the SQL statement."
   ]
  },
  {
   "cell_type": "markdown",
   "id": "eb15e001",
   "metadata": {},
   "source": [
    "<!-- Example\n",
    "\n",
    "Specify the table names: -->\n",
    "\n",
    "SELECT Products.ProductID, Products.ProductName, Categories.CategoryName\n",
    "\n",
    "FROM Products\n",
    "\n",
    "INNER JOIN Categories ON Products.CategoryID = Categories.CategoryID;"
   ]
  }
 ],
 "metadata": {
  "kernelspec": {
   "display_name": "Python 3",
   "language": "python",
   "name": "python3"
  },
  "language_info": {
   "name": "python",
   "version": "3.12.7"
  }
 },
 "nbformat": 4,
 "nbformat_minor": 5
}
