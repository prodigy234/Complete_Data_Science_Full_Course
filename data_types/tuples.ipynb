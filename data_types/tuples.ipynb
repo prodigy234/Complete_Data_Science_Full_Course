{
 "cells": [
  {
   "cell_type": "markdown",
   "id": "ba910747",
   "metadata": {},
   "source": [
    "PYTHON COLLECTIONS (ARRAYS)\n",
    "There are four collection data types in the Python programming language:\n",
    "\n",
    "(1) List is a collection which is ordered and changeable. Allows duplicate members.\n",
    "\n",
    "(2) Tuple is a collection which is ordered and unchangeable. Allows duplicate members.\n",
    "\n",
    "(3) Set is a collection which is unordered, unchangeable, but you can remove and/or add items whenever you like and unindexed. No duplicate members.\n",
    "\n",
    "(4) Dictionary is a collection which is ordered and changeable. No duplicate members.\n",
    "\n",
    "NOTE ==> As of Python version 3.7, dictionaries are ordered. In Python 3.6 and earlier, dictionaries are unordered.\n",
    "\n",
    "When choosing a collection type, it is useful to understand the properties of that type. Choosing the right type for a particular data set could mean retention of meaning, and, it could mean an increase in efficiency or security."
   ]
  },
  {
   "cell_type": "markdown",
   "id": "25233d71",
   "metadata": {},
   "source": [
    "TUPLE\n",
    "Tuples are used to store multiple items in a single variable.\n",
    "\n",
    "Tuple is one of 4 built-in data types in Python used to store collections of data, the other three(3) are List, Set, and Dictionary, all with different qualities and usage.\n",
    "\n",
    "A tuple is a collection which is ordered and unchangeable.\n",
    "\n",
    "Tuples are written with round brackets."
   ]
  },
  {
   "cell_type": "code",
   "execution_count": null,
   "id": "0c293ac2",
   "metadata": {},
   "outputs": [
    {
     "name": "stdout",
     "output_type": "stream",
     "text": [
      "('apple', 'banana', 'cherry')\n"
     ]
    }
   ],
   "source": [
    "# To create a Tuple\n",
    "this_tuple = (\"apple\", \"banana\", \"cherry\")\n",
    "print(this_tuple)"
   ]
  },
  {
   "cell_type": "code",
   "execution_count": null,
   "id": "924802d2",
   "metadata": {},
   "outputs": [
    {
     "name": "stdout",
     "output_type": "stream",
     "text": [
      "<class 'tuple'>\n"
     ]
    }
   ],
   "source": [
    "# To verify if the data type has been correctly created\n",
    "print(type(this_tuple))"
   ]
  },
  {
   "cell_type": "markdown",
   "id": "785b7621",
   "metadata": {},
   "source": [
    "TUPLE ITEMS\n",
    "Tuple items are ordered, unchangeable, and allow duplicate values.\n",
    "\n",
    "Tuple items are indexed, the first item has index [0], the second item has index [1] etc.\n",
    "\n",
    "Ordered\n",
    "When we say that tuples are ordered, it means that the items have a defined order, and that order will not change.\n",
    "\n",
    "Unchangeable\n",
    "Tuples are unchangeable, meaning that we cannot change, add or remove items after the tuple has been created.\n",
    "\n",
    "Allow Duplicates\n",
    "Since tuples are indexed, they can have items with the same value"
   ]
  },
  {
   "cell_type": "code",
   "execution_count": null,
   "id": "e8b719a5",
   "metadata": {},
   "outputs": [
    {
     "name": "stdout",
     "output_type": "stream",
     "text": [
      "('apple', 'banana', 'cherry', 'apple', 'cherry')\n"
     ]
    }
   ],
   "source": [
    "# How Tuples allow duplicate values\n",
    "\n",
    "this_tuple = (\"apple\", \"banana\", \"cherry\", \"apple\", \"cherry\")\n",
    "print(this_tuple)"
   ]
  },
  {
   "cell_type": "markdown",
   "id": "c254470b",
   "metadata": {},
   "source": [
    "TUPLE LENGTH\n",
    "To determine how many items a tuple has, use the len() function:"
   ]
  },
  {
   "cell_type": "code",
   "execution_count": null,
   "id": "6d8ad5e4",
   "metadata": {},
   "outputs": [
    {
     "name": "stdout",
     "output_type": "stream",
     "text": [
      "3\n"
     ]
    }
   ],
   "source": [
    "# Print the number of items in the tuple:\n",
    "\n",
    "this_tuple = (\"apple\", \"banana\", \"cherry\")\n",
    "print(len(this_tuple))"
   ]
  },
  {
   "cell_type": "markdown",
   "id": "db91fe78",
   "metadata": {},
   "source": [
    "CREATE TUPLE WITH ONE ITEM\n",
    "To create a tuple with only one item, you have to add a comma after the item, otherwise Python will not recognize it as a tuple."
   ]
  },
  {
   "cell_type": "code",
   "execution_count": null,
   "id": "07080ec2",
   "metadata": {},
   "outputs": [
    {
     "name": "stdout",
     "output_type": "stream",
     "text": [
      "<class 'tuple'>\n",
      "<class 'str'>\n"
     ]
    }
   ],
   "source": [
    "# Always remember the comma when creating one item tuple\n",
    "\n",
    "thistuple = (\"apple\",)\n",
    "print(type(this_tuple))\n",
    "\n",
    "#NOT a tuple\n",
    "thistuple = (\"apple\")\n",
    "print(type(this_tuple))"
   ]
  },
  {
   "cell_type": "markdown",
   "id": "ce6bf63d",
   "metadata": {},
   "source": [
    "Tuple Items - Data Types\n",
    "Tuple items can be of any data type"
   ]
  },
  {
   "cell_type": "code",
   "execution_count": 30,
   "id": "8d57194a",
   "metadata": {},
   "outputs": [
    {
     "name": "stdout",
     "output_type": "stream",
     "text": [
      "('apple', 'banana', 'cherry')\n",
      "(1, 5, 7, 9, 3)\n",
      "(True, False, False)\n"
     ]
    }
   ],
   "source": [
    "# String, int and boolean data types:\n",
    "\n",
    "first_tuple = (\"apple\", \"banana\", \"cherry\")\n",
    "second_tuple = (1, 5, 7, 9, 3)\n",
    "third_tuple = (True, False, False)\n",
    "\n",
    "print(first_tuple)\n",
    "print(second_tuple)\n",
    "print(third_tuple)"
   ]
  },
  {
   "cell_type": "markdown",
   "id": "5181557d",
   "metadata": {},
   "source": [
    "A tuple can contain different data types:"
   ]
  },
  {
   "cell_type": "code",
   "execution_count": 31,
   "id": "bfd2ca33",
   "metadata": {},
   "outputs": [
    {
     "name": "stdout",
     "output_type": "stream",
     "text": [
      "('abc', 34, True, 40, 'male')\n"
     ]
    }
   ],
   "source": [
    "# A tuple with strings, integers and boolean values:\n",
    "\n",
    "tuple_new = (\"abc\", 34, True, 40, \"male\")\n",
    "print(tuple_new)"
   ]
  },
  {
   "cell_type": "markdown",
   "id": "5af374eb",
   "metadata": {},
   "source": [
    "The tuple() Constructor\n",
    "It is also possible to use the tuple() constructor to make a tuple."
   ]
  },
  {
   "cell_type": "code",
   "execution_count": 32,
   "id": "c8e98e03",
   "metadata": {},
   "outputs": [
    {
     "name": "stdout",
     "output_type": "stream",
     "text": [
      "('apple', 'banana', 'cherry')\n"
     ]
    }
   ],
   "source": [
    "# Using the tuple() method to make a tuple\n",
    "\n",
    "this_tuple = tuple((\"apple\", \"banana\", \"cherry\")) # note the double round-brackets\n",
    "print(this_tuple)"
   ]
  },
  {
   "cell_type": "code",
   "execution_count": 33,
   "id": "5e39b54f",
   "metadata": {},
   "outputs": [
    {
     "name": "stdout",
     "output_type": "stream",
     "text": [
      "['apple', 'banana', 'cherry']\n",
      "<class 'tuple'>\n"
     ]
    }
   ],
   "source": [
    "my_list = [\"apple\", \"banana\", \"cherry\"]\n",
    "\n",
    "my_tuple_list = tuple(list)\n",
    "print(my_list)\n",
    "print(type(my_tuple_list))"
   ]
  },
  {
   "cell_type": "markdown",
   "id": "24c1ac21",
   "metadata": {},
   "source": [
    "Python - Access Tuple Items\n",
    "\n",
    "Access Tuple Items\n",
    "You can access tuple items by referring to the index number, inside square brackets"
   ]
  },
  {
   "cell_type": "code",
   "execution_count": null,
   "id": "e60c6dcd",
   "metadata": {},
   "outputs": [
    {
     "name": "stdout",
     "output_type": "stream",
     "text": [
      "banana\n"
     ]
    }
   ],
   "source": [
    "# Print the second item in the tuple\n",
    "\n",
    "this_tuple = (\"apple\", \"banana\", \"cherry\")\n",
    "print(this_tuple[1])"
   ]
  },
  {
   "cell_type": "markdown",
   "id": "86bbb670",
   "metadata": {},
   "source": [
    "Negative Indexing\n",
    "Negative indexing means start from the end.\n",
    "\n",
    "-1 refers to the last item, -2 refers to the second last item etc."
   ]
  },
  {
   "cell_type": "code",
   "execution_count": null,
   "id": "925dafc7",
   "metadata": {},
   "outputs": [
    {
     "name": "stdout",
     "output_type": "stream",
     "text": [
      "cherry\n"
     ]
    }
   ],
   "source": [
    "# Print the last item of the tuple:\n",
    "\n",
    "this_tuple = (\"apple\", \"banana\", \"cherry\")\n",
    "print(this_tuple[-1])"
   ]
  },
  {
   "cell_type": "markdown",
   "id": "d0412501",
   "metadata": {},
   "source": [
    "Range of Indexes\n",
    "You can specify a range of indexes by specifying where to start and where to end the range.\n",
    "\n",
    "When specifying a range, the return value will be a new tuple with the specified items."
   ]
  },
  {
   "cell_type": "code",
   "execution_count": null,
   "id": "220b8be6",
   "metadata": {},
   "outputs": [
    {
     "name": "stdout",
     "output_type": "stream",
     "text": [
      "('cherry', 'orange', 'kiwi')\n"
     ]
    }
   ],
   "source": [
    "# Return the third, fourth, and fifth item:\n",
    "\n",
    "this_tuple = (\"apple\", \"banana\", \"cherry\", \"orange\", \"kiwi\", \"melon\", \"mango\")\n",
    "print(this_tuple[2:5])\n",
    "\n",
    "# NOTE \n",
    "#This will return the items from position 2 to 5.\n",
    "# The search will start at index 2 (included) and end at index 5 (not included).\n",
    "\n",
    "#Remember that the first item is position 0,\n",
    "#and note that the item in position 5 is NOT included"
   ]
  },
  {
   "cell_type": "markdown",
   "id": "b766077f",
   "metadata": {},
   "source": [
    "By leaving out the start value, the range will start at the first item"
   ]
  },
  {
   "cell_type": "code",
   "execution_count": null,
   "id": "4fb8eea7",
   "metadata": {},
   "outputs": [
    {
     "name": "stdout",
     "output_type": "stream",
     "text": [
      "('apple', 'banana', 'cherry', 'orange')\n"
     ]
    }
   ],
   "source": [
    "# This example returns the items from the beginning to, but NOT included, \"kiwi\"\n",
    "\n",
    "this_tuple = (\"apple\", \"banana\", \"cherry\", \"orange\", \"kiwi\", \"melon\", \"mango\")\n",
    "print(this_tuple[:4])"
   ]
  },
  {
   "cell_type": "markdown",
   "id": "0c08c24c",
   "metadata": {},
   "source": [
    "By leaving out the end value, the range will go on to the end of the tuple"
   ]
  },
  {
   "cell_type": "code",
   "execution_count": null,
   "id": "c5b758d1",
   "metadata": {},
   "outputs": [
    {
     "name": "stdout",
     "output_type": "stream",
     "text": [
      "('cherry', 'orange', 'kiwi', 'melon', 'mango')\n"
     ]
    }
   ],
   "source": [
    "# This example returns the items from \"cherry\" and to the end\n",
    "\n",
    "this_tuple = (\"apple\", \"banana\", \"cherry\", \"orange\", \"kiwi\", \"melon\", \"mango\")\n",
    "print(this_tuple[2:])"
   ]
  },
  {
   "cell_type": "markdown",
   "id": "5e48b028",
   "metadata": {},
   "source": [
    "Range of Negative Indexes\n",
    "Specify negative indexes if you want to start the search from the end of the tuple"
   ]
  },
  {
   "cell_type": "code",
   "execution_count": null,
   "id": "0c7ba720",
   "metadata": {},
   "outputs": [
    {
     "name": "stdout",
     "output_type": "stream",
     "text": [
      "('orange', 'kiwi', 'melon')\n"
     ]
    }
   ],
   "source": [
    "# This example returns the items from index -4 (included) to index -1 (excluded)\n",
    "\n",
    "this_tuple = (\"apple\", \"banana\", \"cherry\", \"orange\", \"kiwi\", \"melon\", \"mango\")\n",
    "print(this_tuple[-4:-1])"
   ]
  },
  {
   "cell_type": "markdown",
   "id": "55c469a1",
   "metadata": {},
   "source": [
    "Check if Item Exists\n",
    "To determine if a specified item is present in a tuple use the in keyword"
   ]
  },
  {
   "cell_type": "code",
   "execution_count": 2,
   "id": "2e361f5a",
   "metadata": {},
   "outputs": [
    {
     "name": "stdout",
     "output_type": "stream",
     "text": [
      "Yes, 'apple' is in the fruits tuple\n"
     ]
    }
   ],
   "source": [
    "# Check if \"apple\" is present in the tuple:\n",
    "\n",
    "thistuple = (\"apple\", \"banana\", \"cherry\")\n",
    "if \"apple\" in thistuple:\n",
    "  print(\"Yes, 'apple' is in the fruits tuple\")"
   ]
  }
 ],
 "metadata": {
  "kernelspec": {
   "display_name": "Python 3",
   "language": "python",
   "name": "python3"
  },
  "language_info": {
   "codemirror_mode": {
    "name": "ipython",
    "version": 3
   },
   "file_extension": ".py",
   "mimetype": "text/x-python",
   "name": "python",
   "nbconvert_exporter": "python",
   "pygments_lexer": "ipython3",
   "version": "3.8.0"
  }
 },
 "nbformat": 4,
 "nbformat_minor": 5
}
